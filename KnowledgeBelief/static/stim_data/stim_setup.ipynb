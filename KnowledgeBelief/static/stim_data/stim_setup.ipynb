{
 "cells": [
  {
   "cell_type": "markdown",
   "source": [
    "# Start here"
   ],
   "metadata": {
    "collapsed": false
   }
  },
  {
   "cell_type": "code",
   "execution_count": 1,
   "outputs": [],
   "source": [
    "import pandas as pd\n",
    "import numpy as np\n",
    "import random\n",
    "\n",
    "\n",
    "exp_dat = pd.read_csv('trial_file_626708_20220524_092356_UTC.csv', header=0)\n",
    "exp_dat.loc[exp_dat.condition1 == 'Distractor', 'type'] = 'distractor'\n",
    "for dtarget, vnum in zip(exp_dat.loc[exp_dat.type == 'distractor'].target.unique(), range(1,13)):\n",
    "    exp_dat.loc[exp_dat.target == dtarget, 'condition3'] = str(vnum)"
   ],
   "metadata": {
    "collapsed": false,
    "pycharm": {
     "name": "#%%\n"
    }
   }
  },
  {
   "cell_type": "code",
   "execution_count": 2,
   "outputs": [],
   "source": [
    "trial_types = ['test', 'distractor']\n",
    "vig_numbers = list(range(1, 13))\n",
    "bel_types =  ['TB', 'FB', 'IG']\n",
    "ascrip_types = ['Knows','Thinks']\n",
    "\n",
    "stimuli = {trial_type:{vnum:{\n",
    "                             'belief_manip':{b:None for b in bel_types},\n",
    "                             'ascription':{a:None for a in ascrip_types}\n",
    "                             }\n",
    "                       for vnum in vig_numbers}\n",
    "           for trial_type in trial_types }"
   ],
   "metadata": {
    "collapsed": false,
    "pycharm": {
     "name": "#%%\n"
    }
   }
  },
  {
   "cell_type": "code",
   "execution_count": 3,
   "outputs": [],
   "source": [
    "\n",
    "for trial_type in trial_types:\n",
    "    for vnum in vig_numbers:\n",
    "        for bel in bel_types:\n",
    "            for ascrip in ascrip_types:\n",
    "                if trial_type == 'distractor':\n",
    "                    condition = exp_dat.loc[(exp_dat.type == trial_type) &\n",
    "                                            (exp_dat.condition3 == str(vnum)) &\n",
    "                                            (exp_dat.subjectGroup == str(1))]\n",
    "                else:\n",
    "                    condition = exp_dat.loc[(exp_dat.type == trial_type) &\n",
    "                                            (exp_dat.condition1 == ascrip) &\n",
    "                                            (exp_dat.condition2 == bel) &\n",
    "                                            (exp_dat.condition3 == str(vnum))]\n",
    "\n",
    "                stimuli[trial_type][vnum]['belief_manip'][bel] = exp_dat.loc[condition.index.values[0] - 5: condition.index.values[0] - 2, 'title'].values.tolist()\n",
    "                stimuli[trial_type][vnum]['ascription'][ascrip] = {'target':condition.target.values[0], 'crrct_answr':condition.key.values[0]}"
   ],
   "metadata": {
    "collapsed": false,
    "pycharm": {
     "name": "#%%\n"
    }
   }
  },
  {
   "cell_type": "markdown",
   "source": [
    "# Add practice"
   ],
   "metadata": {
    "collapsed": false
   }
  },
  {
   "cell_type": "code",
   "execution_count": 4,
   "outputs": [],
   "source": [
    "# Adding Practice\n",
    "p1 = [\"Kevin is out grocery shopping at the local market. His wife told him to get sourdough bread and pasta for dinner that evening.\",\n",
    "      \"At the market, Kevin picks up some pasta, but he cannot find any sourdough bread anywhere. He looks up and down every aisle and then finally asks someone who works at the market.\",\n",
    "      \"It turns out that the bakery at the market no longer makes sourdough bread because it was never very popular. \",\n",
    "      \"Kevin goes home without bread of any kind. His wife is slightly annoyed.\"\n",
    "      ]\n",
    "p1_target = \"Kevin asked someone at the store if they sold bread.\"\n",
    "p2 = [\"Sara's younger sister is late for dance class. Sara has a scooter that she could lend her sister for the afternoon.\",\n",
    "      \"The scooter is brand-new and will get Sara's sister to her dance class right on time. But Sara wants to use her scooter to get to her friend's house for dinner later on.\",\n",
    "      \"Sara doesn't think that her sister's dance class will be over in time for her to also be able to use the scooter to get to dinner.\",\n",
    "      \"Sara doesn't lend the scooter to her sister. Her sister walks to dance class and is late.\"\n",
    "      ]\n",
    "p2_target = \"Sara wanted to take her scooter to the park.\"\n",
    "stimuli['practice'] = {1:{'belief_manip':{bel:p1 for bel in bel_types},\n",
    "                       'ascription':{a:{'target':p1_target, 'crrct_answer': 'j'} for a in ascrip_types}\n",
    "                    },\n",
    "                       2:{'belief_manip':{bel:p2 for bel in bel_types},\n",
    "                       'ascription':{a:{'target':p2_target, 'crrct_answer': 'f'} for a in ascrip_types}\n",
    "                    }}\n",
    "\n"
   ],
   "metadata": {
    "collapsed": false,
    "pycharm": {
     "name": "#%%\n"
    }
   }
  },
  {
   "cell_type": "markdown",
   "source": [
    "# save stim json"
   ],
   "metadata": {
    "collapsed": false
   }
  },
  {
   "cell_type": "code",
   "execution_count": 5,
   "outputs": [],
   "source": [
    "import json\n",
    "\n",
    "with open('KB_stim.json', 'w') as outfile:\n",
    "    outfile.write(json.dumps(stimuli))\n",
    "#stimuli.to_json('KbeforeB_stim.js', orient='records')\n"
   ],
   "metadata": {
    "collapsed": false,
    "pycharm": {
     "name": "#%%\n"
    }
   }
  },
  {
   "cell_type": "markdown",
   "source": [
    "# Randomizing Trials for a Single Participant"
   ],
   "metadata": {
    "collapsed": false
   }
  },
  {
   "cell_type": "code",
   "execution_count": 17,
   "outputs": [],
   "source": [
    "import json\n",
    "import pandas as pd\n",
    "import numpy as np\n",
    "import random\n",
    "\n",
    "trial_types = ['test', 'distractor']\n",
    "vig_numbers = list(range(1, 13))\n",
    "bel_types =  ['TB', 'FB', 'IG']\n",
    "ascrip_types = ['Knows','Thinks']\n",
    "# Opening JSON file\n",
    "with open('KB_stim.json') as json_file:\n",
    "    data = json.load(json_file)\n",
    "'''\n",
    "trial_num = db.Column(db.Integer, unique=False, index=True)\n",
    "    practice_prompt = db.Column(db.VARCHAR(6))\n",
    "    practice_correct = db.Column(db.Boolean)\n",
    "    trial_type = db.Column(db.VARCHAR(10))\n",
    "    scenario = db.Column(db.Integer)\n",
    "    belief_type = db.Column(db.VARCHAR(2))  # True Belief (TB), False Belief (FB), No Belief/ignorance (IG)\n",
    "    ascription_factive = db.Column(db.VARCHAR(10))  # \"knows\" or \"thinks\"\n",
    "    target = db.Column(db.VARCHAR(400))\n",
    "    target_onset = db.Column(db.DateTime)\n",
    "    response_onset = db.Column(db.DateTime)\n",
    "    response_key = db.Column(db.VARCHAR(1))\n",
    "    sound_weird = db.Column(db.Integer)\n",
    "    sound_normal = db.Column(db.Integer)\n",
    "'''\n",
    "s1 = pd.DataFrame({\n",
    "    'trial_num': None,\n",
    "    'prompt':None,\n",
    "    'practice_correct': None,\n",
    "    'trial_type':'test',\n",
    "    'scenario':vig_numbers,\n",
    "    'belief':None,\n",
    "    'ascription':None,\n",
    "    'target':None,\n",
    "    'crrct_answer':None,\n",
    "    'target_onset':None,\n",
    "    'response_onset':None,\n",
    "    'response_key':None,\n",
    "    'sound weird':None,\n",
    "    'sound_normal':None,\n",
    "}).sample(frac=1)"
   ],
   "metadata": {
    "collapsed": false,
    "pycharm": {
     "name": "#%%\n"
    }
   }
  },
  {
   "cell_type": "code",
   "execution_count": 18,
   "outputs": [],
   "source": [
    "\n",
    "s1['ascription'] = np.repeat(ascrip_types, len(vig_numbers)/len(ascrip_types))\n",
    "s1 = s1.sample(frac=1)\n",
    "s1['belief'] = np.repeat(bel_types, len(vig_numbers)/len(bel_types))\n",
    "s2 = s1.copy()\n",
    "s2['trial_type'] = 'distractor'\n",
    "s3 = pd.concat([s1, s2], ignore_index=True).sample(frac=1).reset_index(drop=True)\n",
    "s3['trial_num']= range(1, len(s3)+1)\n"
   ],
   "metadata": {
    "collapsed": false,
    "pycharm": {
     "name": "#%%\n"
    }
   }
  },
  {
   "cell_type": "code",
   "execution_count": 19,
   "outputs": [],
   "source": [
    "\n",
    "n_practice = 8\n",
    "s3a = pd.DataFrame({x:None for x in s3.columns.tolist()}, index=range(n_practice))\n",
    "s3a.trial_type=['tf_practice','tf_practice','tf_practice','tf_practice','tf_practice','tf_practice', 'practice', 'practice']\n",
    "s3a.trial_num = [999]* n_practice\n",
    "\n",
    "tf_prac = [\"False\"] * 3 + [\"True\"] * 3\n",
    "random.shuffle(tf_prac)\n",
    "ca = ['f' if tf_p == 'False' else 'j' for tf_p in tf_prac]\n",
    "\n",
    "for prac in ['1', '2']:\n",
    "    tf_prac.append(data['practice'][prac]['belief_manip']['TB'])\n",
    "s3a.prompt = tf_prac\n",
    "\n",
    "pr_targ = [None] * 6 #data['practice'][prac]['ascription']['Knows']['target']\n",
    "[pr_targ.append(data['practice'][prac]['ascription']['Knows']['target']) for prac in ['1', '2']]\n",
    "s3a['target'] = pr_targ\n",
    "\n",
    "[ca.append(data['practice'][prac]['ascription']['Knows']['crrct_answer']) for prac in ['1','2']]\n",
    "\n",
    "s3a['crrct_answer'] = ca"
   ],
   "metadata": {
    "collapsed": false,
    "pycharm": {
     "name": "#%%\n"
    }
   }
  },
  {
   "cell_type": "code",
   "execution_count": 20,
   "outputs": [],
   "source": [
    "s4 = s3a.append(s3, ignore_index=True)\n"
   ],
   "metadata": {
    "collapsed": false,
    "pycharm": {
     "name": "#%%\n"
    }
   }
  },
  {
   "cell_type": "code",
   "execution_count": 21,
   "outputs": [],
   "source": [
    "for i, trl in s4.iterrows():\n",
    "    break"
   ],
   "metadata": {
    "collapsed": false,
    "pycharm": {
     "name": "#%%\n"
    }
   }
  },
  {
   "cell_type": "code",
   "execution_count": 22,
   "outputs": [
    {
     "data": {
      "text/plain": "trial_num                   999\nprompt                     True\npractice_correct           None\ntrial_type          tf_practice\nscenario                   None\nbelief                     None\nascription                 None\ntarget                     None\ncrrct_answer                  j\ntarget_onset               None\nresponse_onset             None\nresponse_key               None\nsound weird                None\nsound_normal               None\nName: 0, dtype: object"
     },
     "execution_count": 22,
     "metadata": {},
     "output_type": "execute_result"
    }
   ],
   "source": [
    "trl"
   ],
   "metadata": {
    "collapsed": false,
    "pycharm": {
     "name": "#%%\n"
    }
   }
  },
  {
   "cell_type": "code",
   "execution_count": 16,
   "outputs": [
    {
     "data": {
      "text/plain": "trial_num                   999\npractice_prompt           False\npractice_correct           None\ntrial_type          tf_practice\nscenario                   None\nbelief                     None\nascription                 None\ntarget                     None\ncrrct_answer                  f\ntarget_onset               None\nresponse_onset             None\nresponse_key               None\nsound weird                None\nsound_normal               None\nName: 0, dtype: object"
     },
     "execution_count": 16,
     "metadata": {},
     "output_type": "execute_result"
    }
   ],
   "source": [
    "from KnowledgeBelief.models import Trial\n",
    "\n",
    "#if trl.trial_type == 'tf_practice':\n",
    "tt = Trial(trial_num=trl.trial_num,\n",
    "           prompt=trl.prompt,\n",
    "           trial_type=trl.trial_type,\n",
    "           scenario=trl.scenario,\n",
    "           belief_type=trl.belief,\n",
    "           ascription_type=trl.ascription,\n",
    "           target=trl.target,\n",
    "           correct_answer=trl.crrct_answer\n",
    "    )"
   ],
   "metadata": {
    "collapsed": false,
    "pycharm": {
     "name": "#%%\n"
    }
   }
  },
  {
   "cell_type": "code",
   "execution_count": 35,
   "outputs": [
    {
     "data": {
      "text/plain": "True"
     },
     "execution_count": 35,
     "metadata": {},
     "output_type": "execute_result"
    }
   ],
   "source": [
    "from KnowledgeBelief.models import Trial\n",
    "\n",
    "tt = Trial.query.filter_by(prolific_id='0.221752s485926526', trial_type='tf_practice', response_key=None ).first()\n",
    "tt is None"
   ],
   "metadata": {
    "collapsed": false,
    "pycharm": {
     "name": "#%%\n"
    }
   }
  },
  {
   "cell_type": "code",
   "execution_count": 22,
   "outputs": [
    {
     "ename": "TypeError",
     "evalue": "sample() missing 1 required positional argument: 'population'",
     "output_type": "error",
     "traceback": [
      "\u001B[0;31m---------------------------------------------------------------------------\u001B[0m",
      "\u001B[0;31mTypeError\u001B[0m                                 Traceback (most recent call last)",
      "\u001B[0;32m<ipython-input-22-d53b47ce223c>\u001B[0m in \u001B[0;36m<module>\u001B[0;34m\u001B[0m\n\u001B[0;32m----> 1\u001B[0;31m \u001B[0mrandom\u001B[0m\u001B[0;34m.\u001B[0m\u001B[0msample\u001B[0m\u001B[0;34m(\u001B[0m\u001B[0mk\u001B[0m\u001B[0;34m=\u001B[0m\u001B[0;34m[\u001B[0m\u001B[0;34m[\u001B[0m\u001B[0;34m'False'\u001B[0m\u001B[0;34m]\u001B[0m \u001B[0;34m*\u001B[0m \u001B[0;36m5\u001B[0m  \u001B[0;34m+\u001B[0m \u001B[0;34m[\u001B[0m\u001B[0;34m'True'\u001B[0m\u001B[0;34m]\u001B[0m\u001B[0;34m*\u001B[0m \u001B[0;36m5\u001B[0m\u001B[0;34m]\u001B[0m\u001B[0;34m,\u001B[0m\u001B[0;34m)\u001B[0m\u001B[0;34m\u001B[0m\u001B[0;34m\u001B[0m\u001B[0m\n\u001B[0m",
      "\u001B[0;31mTypeError\u001B[0m: sample() missing 1 required positional argument: 'population'"
     ]
    }
   ],
   "source": [
    "random.sample(k=[['False'] * 5  + ['True']* 5],)"
   ],
   "metadata": {
    "collapsed": false,
    "pycharm": {
     "name": "#%%\n"
    }
   }
  },
  {
   "cell_type": "code",
   "execution_count": 32,
   "outputs": [],
   "source": [
    "\n",
    "# Opening JSON file\n",
    "with open('KB_stim.json') as json_file:\n",
    "    data = json.load(json_file)"
   ],
   "metadata": {
    "collapsed": false,
    "pycharm": {
     "name": "#%%\n"
    }
   }
  },
  {
   "cell_type": "code",
   "execution_count": 33,
   "outputs": [
    {
     "data": {
      "text/plain": "[\"Brent is five years old and colorblind. Like the majority of colorblind people, he can't tell the difference between red and green.\",\n 'Forgetting that Brent is colorblind, his aunt sends him to the grocery store to buy some red apples.',\n 'Brent runs to the grocery store and asks the grocer for red apples. The grocer accidentally hands Brent green apples and Brent pays for them.',\n 'When Brent gives his aunt the green apples, she remembers that he is colorblind and thanks him for going all the way to the store.']"
     },
     "execution_count": 33,
     "metadata": {},
     "output_type": "execute_result"
    }
   ],
   "source": [
    "stimuli['test'][6]['belief_manip']['FB']"
   ],
   "metadata": {
    "collapsed": false,
    "pycharm": {
     "name": "#%%\n"
    }
   }
  },
  {
   "cell_type": "code",
   "execution_count": 35,
   "outputs": [
    {
     "data": {
      "text/plain": "[\"Brent is five years old and colorblind. Like the majority of colorblind people, he can't tell the difference between red and green.\",\n 'Forgetting that Brent is colorblind, his aunt sends him to the grocery store to buy some red apples.',\n 'Brent runs to the grocery store and asks the grocer for red apples. The grocer accidentally hands Brent green apples and Brent pays for them.',\n 'When Brent gives his aunt the green apples, she remembers that he is colorblind and thanks him for going all the way to the store.']"
     },
     "execution_count": 35,
     "metadata": {},
     "output_type": "execute_result"
    }
   ],
   "source": [
    "data['test']['6']['belief_manip']['FB']"
   ],
   "metadata": {
    "collapsed": false,
    "pycharm": {
     "name": "#%%\n"
    }
   }
  },
  {
   "cell_type": "code",
   "execution_count": null,
   "outputs": [],
   "source": [],
   "metadata": {
    "collapsed": false,
    "pycharm": {
     "name": "#%%\n"
    }
   }
  }
 ],
 "metadata": {
  "kernelspec": {
   "display_name": "Python 3",
   "language": "python",
   "name": "python3"
  },
  "language_info": {
   "codemirror_mode": {
    "name": "ipython",
    "version": 2
   },
   "file_extension": ".py",
   "mimetype": "text/x-python",
   "name": "python",
   "nbconvert_exporter": "python",
   "pygments_lexer": "ipython2",
   "version": "2.7.6"
  }
 },
 "nbformat": 4,
 "nbformat_minor": 0
}