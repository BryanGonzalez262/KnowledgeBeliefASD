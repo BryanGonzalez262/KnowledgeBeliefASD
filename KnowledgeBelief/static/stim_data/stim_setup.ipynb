{
 "cells": [
  {
   "cell_type": "markdown",
   "source": [
    "# Start here"
   ],
   "metadata": {
    "collapsed": false
   }
  },
  {
   "cell_type": "code",
   "execution_count": 1,
   "outputs": [],
   "source": [
    "import pandas as pd\n",
    "import numpy as np\n",
    "import random\n",
    "\n",
    "\n",
    "exp_dat = pd.read_csv('trial_file_626708_20220524_092356_UTC.csv', header=0)\n",
    "exp_dat.loc[exp_dat.condition1 == 'Distractor', 'type'] = 'distractor'\n",
    "for dtarget, vnum in zip(exp_dat.loc[exp_dat.type == 'distractor'].target.unique(), range(1,13)):\n",
    "    exp_dat.loc[exp_dat.target == dtarget, 'condition3'] = str(vnum)"
   ],
   "metadata": {
    "collapsed": false,
    "pycharm": {
     "name": "#%%\n"
    }
   }
  },
  {
   "cell_type": "code",
   "execution_count": 2,
   "outputs": [],
   "source": [
    "trial_types = ['test', 'distractor']\n",
    "vig_numbers = list(range(1, 13))\n",
    "bel_types =  ['TB', 'FB', 'IG']\n",
    "ascrip_types = ['Knows','Thinks']\n",
    "\n",
    "stimuli = {trial_type:{vnum:{\n",
    "                             'belief_manip':{b:None for b in bel_types},\n",
    "                             'ascription':{a:None for a in ascrip_types}\n",
    "                             }\n",
    "                       for vnum in vig_numbers}\n",
    "           for trial_type in trial_types }"
   ],
   "metadata": {
    "collapsed": false,
    "pycharm": {
     "name": "#%%\n"
    }
   }
  },
  {
   "cell_type": "code",
   "execution_count": 3,
   "outputs": [],
   "source": [
    "\n",
    "for trial_type in trial_types:\n",
    "    for vnum in vig_numbers:\n",
    "        for bel in bel_types:\n",
    "            for ascrip in ascrip_types:\n",
    "                if trial_type == 'distractor':\n",
    "                    condition = exp_dat.loc[(exp_dat.type == trial_type) &\n",
    "                                            (exp_dat.condition3 == str(vnum)) &\n",
    "                                            (exp_dat.subjectGroup == str(1))]\n",
    "                else:\n",
    "                    condition = exp_dat.loc[(exp_dat.type == trial_type) &\n",
    "                                            (exp_dat.condition1 == ascrip) &\n",
    "                                            (exp_dat.condition2 == bel) &\n",
    "                                            (exp_dat.condition3 == str(vnum))]\n",
    "\n",
    "                stimuli[trial_type][vnum]['belief_manip'][bel] = exp_dat.loc[condition.index.values[0] - 5: condition.index.values[0] - 2, 'title'].values.tolist()\n",
    "                stimuli[trial_type][vnum]['ascription'][ascrip] = {'target':condition.target.values[0], 'crrct_answr':condition.key.values[0]}"
   ],
   "metadata": {
    "collapsed": false,
    "pycharm": {
     "name": "#%%\n"
    }
   }
  },
  {
   "cell_type": "markdown",
   "source": [
    "# Add practice"
   ],
   "metadata": {
    "collapsed": false
   }
  },
  {
   "cell_type": "code",
   "execution_count": 4,
   "outputs": [],
   "source": [
    "# Adding Practice\n",
    "p1 = [\"Kevin is out grocery shopping at the local market. His wife told him to get sourdough bread and pasta for dinner that evening.\",\n",
    "      \"At the market, Kevin picks up some pasta, but he cannot find any sourdough bread anywhere. He looks up and down every aisle and then finally asks someone who works at the market.\",\n",
    "      \"It turns out that the bakery at the market no longer makes sourdough bread because it was never very popular. \",\n",
    "      \"Kevin goes home without bread of any kind. His wife is slightly annoyed.\"\n",
    "      ]\n",
    "p1_target = \"Kevin asked someone at the store if they sold bread.\"\n",
    "p2 = [\"Sara's younger sister is late for dance class. Sara has a scooter that she could lend her sister for the afternoon.\",\n",
    "      \"The scooter is brand-new and will get Sara's sister to her dance class right on time. But Sara wants to use her scooter to get to her friend's house for dinner later on.\",\n",
    "      \"Sara doesn't think that her sister's dance class will be over in time for her to also be able to use the scooter to get to dinner.\",\n",
    "      \"Sara doesn't lend the scooter to her sister. Her sister walks to dance class and is late.\"\n",
    "      ]\n",
    "p2_target = \"Sara wanted to take her scooter to the park.\"\n",
    "stimuli['practice'] = {1:{'belief_manip':{bel:p1 for bel in bel_types},\n",
    "                       'ascription':{a:{'target':p1_target, 'crrct_answer': 'j'} for a in ascrip_types}\n",
    "                    },\n",
    "                       2:{'belief_manip':{bel:p2 for bel in bel_types},\n",
    "                       'ascription':{a:{'target':p2_target, 'crrct_answer': 'f'} for a in ascrip_types}\n",
    "                    }}\n",
    "\n"
   ],
   "metadata": {
    "collapsed": false,
    "pycharm": {
     "name": "#%%\n"
    }
   }
  },
  {
   "cell_type": "markdown",
   "source": [
    "# save stim json"
   ],
   "metadata": {
    "collapsed": false
   }
  },
  {
   "cell_type": "code",
   "execution_count": 5,
   "outputs": [],
   "source": [
    "import json\n",
    "\n",
    "with open('KB_stim.json', 'w') as outfile:\n",
    "    outfile.write(json.dumps(stimuli))\n",
    "#stimuli.to_json('KbeforeB_stim.js', orient='records')\n"
   ],
   "metadata": {
    "collapsed": false,
    "pycharm": {
     "name": "#%%\n"
    }
   }
  },
  {
   "cell_type": "markdown",
   "source": [
    "# Randomizing Trials for a Single Participant"
   ],
   "metadata": {
    "collapsed": false
   }
  },
  {
   "cell_type": "code",
   "execution_count": 1,
   "outputs": [
    {
     "data": {
      "text/plain": "'\\ndef randomize_trials():\\n    trial_types = [\\'test\\', \\'distractor\\']\\n    vig_numbers = list(range(1, 13))\\n    bel_types = [\\'TB\\', \\'FB\\', \\'IG\\']\\n    ascrip_types = [\\'Knows\\', \\'Thinks\\']\\n    # assign scenarios and shuffle\\n    s1 = pd.DataFrame({\\n        \\'trial_num\\': None,\\n        \\'prompt\\': None,\\n        \\'correct\\': None,\\n        \\'trial_type\\': \\'test\\',\\n        \\'scenario\\': vig_numbers,\\n        \\'belief\\': None,\\n        \\'ascription\\': None,\\n        \\'target\\': None,\\n        \\'crrct_answer\\': None,\\n        \\'target_onset\\': None,\\n        \\'response_onset\\': None,\\n        \\'response_key\\': None,\\n    }).sample(frac=1)\\n    # balance balance acription types and shuffly\\n    s1[\\'ascription\\'] = np.repeat(ascrip_types, len(vig_numbers) / len(ascrip_types))\\n    s1 = s1.sample(frac=1)\\n    # balance belief types and shuffl\\n    s1[\\'belief\\'] = np.repeat(bel_types, len(vig_numbers) / len(bel_types))\\n    s2 = s1.copy()\\n    s2[\\'trial_type\\'] = \\'distractor\\'\\n    s3 = pd.concat([s1, s2], ignore_index=True).sample(frac=1).reset_index(drop=True)\\n    s3[\\'trial_num\\'] = range(1, len(s3) + 1)\\n    # add practice\\n    # Adding Practice\\n    p1 = [\\n        \"Kevin is out grocery shopping at the local market. His wife told him to get sourdough bread and pasta for dinner that evening.\",\\n        \"At the market, Kevin picks up some pasta, but he cannot find any sourdough bread anywhere. He looks up and down every aisle and then finally asks someone who works at the market.\",\\n        \"It turns out that the bakery at the market no longer makes sourdough bread because it was never very popular. \",\\n        \"Kevin goes home without bread of any kind. His wife is slightly annoyed.\"\\n        ]\\n    p1_target = \"Kevin asked someone at the store if they sold bread.\"\\n    p2 = [\\n        \"Sara\\'s younger sister is late for dance class. Sara has a scooter that she could lend her sister for the afternoon.\",\\n        \"The scooter is brand-new and will get Sara\\'s sister to her dance class right on time. But Sara wants to use her scooter to get to her friend\\'s house for dinner later on.\",\\n        \"Sara doesn\\'t think that her sister\\'s dance class will be over in time for her to also be able to use the scooter to get to dinner.\",\\n        \"Sara doesn\\'t lend the scooter to her sister. Her sister walks to dance class and is late.\"\\n        ]\\n    p2_target = \"Sara wanted to take her scooter to the park.\"\\n    n_practice = 8\\n    s3a = pd.DataFrame({x: None for x in s3.columns.tolist()}, index=range(n_practice))\\n    s3a.trial_type = [\\'tf_practice\\', \\'tf_practice\\', \\'tf_practice\\', \\'tf_practice\\', \\'tf_practice\\', \\'tf_practice\\',\\n                      \\'practice\\', \\'practice\\']\\n    s3a.trial_num = [999] * n_practice\\n\\n    tf_prac = [\"False\"] * 3 + [\"True\"] * 3\\n    random.shuffle(tf_prac)\\n    ca = [\\'f\\' if tf_p == \\'False\\' else \\'j\\' for tf_p in tf_prac]\\n    [ca.append(x) for x in [\\'j\\', \\'f\\']]\\n    [tf_prac.append(prac_prompt) for prac_prompt in [p1, p2]]\\n    pr_targ = [None] * 6\\n    [pr_targ.append(p_target) for p_target in [p1_target, p2_target]]\\n\\n    s3a.prompt = tf_prac\\n    s3a.target = pr_targ\\n    s3a.crrct_answer = ca\\n    s4 = s3a.append(s3, ignore_index=True)\\n    xx = s4.loc[s4.trial_type == \\'test\\'].sample(frac=1)\\n    fel = pd.DataFrame({\\'b2_trial_num\\': list(range(1, 13)),\\n                        \\'b1_trial_num\\': xx.trial_num.values,\\n                        \\'fel_scenario\\': xx.scenario.values,\\n                        \\'fel_belief_type\\': xx.belief.values,\\n                        \\'fel_ascription_type\\': xx.ascription.values,  # \"knows\" or \"thinks\"\\n                        \\'felicity_rating\\': None})\\n\\n    return s4, fel\\n'"
     },
     "execution_count": 1,
     "metadata": {},
     "output_type": "execute_result"
    }
   ],
   "source": [
    "import json\n",
    "import pandas as pd\n",
    "import numpy as np\n",
    "import random\n",
    "\n",
    "\n",
    "'''\n",
    "def randomize_trials():\n",
    "    trial_types = ['test', 'distractor']\n",
    "    vig_numbers = list(range(1, 13))\n",
    "    bel_types = ['TB', 'FB', 'IG']\n",
    "    ascrip_types = ['Knows', 'Thinks']\n",
    "    # assign scenarios and shuffle\n",
    "    s1 = pd.DataFrame({\n",
    "        'trial_num': None,\n",
    "        'prompt': None,\n",
    "        'correct': None,\n",
    "        'trial_type': 'test',\n",
    "        'scenario': vig_numbers,\n",
    "        'belief': None,\n",
    "        'ascription': None,\n",
    "        'target': None,\n",
    "        'crrct_answer': None,\n",
    "        'target_onset': None,\n",
    "        'response_onset': None,\n",
    "        'response_key': None,\n",
    "    }).sample(frac=1)\n",
    "    # balance balance acription types and shuffly\n",
    "    s1['ascription'] = np.repeat(ascrip_types, len(vig_numbers) / len(ascrip_types))\n",
    "    s1 = s1.sample(frac=1)\n",
    "    # balance belief types and shuffl\n",
    "    s1['belief'] = np.repeat(bel_types, len(vig_numbers) / len(bel_types))\n",
    "    s2 = s1.copy()\n",
    "    s2['trial_type'] = 'distractor'\n",
    "    s3 = pd.concat([s1, s2], ignore_index=True).sample(frac=1).reset_index(drop=True)\n",
    "    s3['trial_num'] = range(1, len(s3) + 1)\n",
    "    # add practice\n",
    "    # Adding Practice\n",
    "    p1 = [\n",
    "        \"Kevin is out grocery shopping at the local market. His wife told him to get sourdough bread and pasta for dinner that evening.\",\n",
    "        \"At the market, Kevin picks up some pasta, but he cannot find any sourdough bread anywhere. He looks up and down every aisle and then finally asks someone who works at the market.\",\n",
    "        \"It turns out that the bakery at the market no longer makes sourdough bread because it was never very popular. \",\n",
    "        \"Kevin goes home without bread of any kind. His wife is slightly annoyed.\"\n",
    "        ]\n",
    "    p1_target = \"Kevin asked someone at the store if they sold bread.\"\n",
    "    p2 = [\n",
    "        \"Sara's younger sister is late for dance class. Sara has a scooter that she could lend her sister for the afternoon.\",\n",
    "        \"The scooter is brand-new and will get Sara's sister to her dance class right on time. But Sara wants to use her scooter to get to her friend's house for dinner later on.\",\n",
    "        \"Sara doesn't think that her sister's dance class will be over in time for her to also be able to use the scooter to get to dinner.\",\n",
    "        \"Sara doesn't lend the scooter to her sister. Her sister walks to dance class and is late.\"\n",
    "        ]\n",
    "    p2_target = \"Sara wanted to take her scooter to the park.\"\n",
    "    n_practice = 8\n",
    "    s3a = pd.DataFrame({x: None for x in s3.columns.tolist()}, index=range(n_practice))\n",
    "    s3a.trial_type = ['tf_practice', 'tf_practice', 'tf_practice', 'tf_practice', 'tf_practice', 'tf_practice',\n",
    "                      'practice', 'practice']\n",
    "    s3a.trial_num = [999] * n_practice\n",
    "\n",
    "    tf_prac = [\"False\"] * 3 + [\"True\"] * 3\n",
    "    random.shuffle(tf_prac)\n",
    "    ca = ['f' if tf_p == 'False' else 'j' for tf_p in tf_prac]\n",
    "    [ca.append(x) for x in ['j', 'f']]\n",
    "    [tf_prac.append(prac_prompt) for prac_prompt in [p1, p2]]\n",
    "    pr_targ = [None] * 6\n",
    "    [pr_targ.append(p_target) for p_target in [p1_target, p2_target]]\n",
    "\n",
    "    s3a.prompt = tf_prac\n",
    "    s3a.target = pr_targ\n",
    "    s3a.crrct_answer = ca\n",
    "    s4 = s3a.append(s3, ignore_index=True)\n",
    "    xx = s4.loc[s4.trial_type == 'test'].sample(frac=1)\n",
    "    fel = pd.DataFrame({'b2_trial_num': list(range(1, 13)),\n",
    "                        'b1_trial_num': xx.trial_num.values,\n",
    "                        'fel_scenario': xx.scenario.values,\n",
    "                        'fel_belief_type': xx.belief.values,\n",
    "                        'fel_ascription_type': xx.ascription.values,  # \"knows\" or \"thinks\"\n",
    "                        'felicity_rating': None})\n",
    "\n",
    "    return s4, fel\n",
    "'''"
   ],
   "metadata": {
    "collapsed": false,
    "pycharm": {
     "name": "#%%\n"
    }
   }
  },
  {
   "cell_type": "code",
   "execution_count": 2,
   "outputs": [],
   "source": [
    "sub_trials, felicity = randomize_trials()\n"
   ],
   "metadata": {
    "collapsed": false,
    "pycharm": {
     "name": "#%%\n"
    }
   }
  },
  {
   "cell_type": "code",
   "execution_count": 3,
   "outputs": [],
   "source": [
    "practice  = sub_trials.loc[sub_trials.trial_num == 999]\n",
    "sub_trials = sub_trials.loc[~sub_trials.trial_num == 999].reset_index(drop=True)"
   ],
   "metadata": {
    "collapsed": false,
    "pycharm": {
     "name": "#%%\n"
    }
   }
  },
  {
   "cell_type": "markdown",
   "source": [
    "Re-do it idiot"
   ],
   "metadata": {
    "collapsed": false
   }
  },
  {
   "cell_type": "code",
   "execution_count": 2,
   "outputs": [],
   "source": [
    "# practice\n",
    "def make_practice():\n",
    "    n_tf_pract = 8\n",
    "    n_story_pract = 2\n",
    "    p1 = [\n",
    "        \"Kevin is out grocery shopping at the local market. His wife told him to get sourdough bread and pasta for dinner that evening.\",\n",
    "        \"At the market, Kevin picks up some pasta, but he cannot find any sourdough bread anywhere. He looks up and down every aisle and then finally asks someone who works at the market.\",\n",
    "        \"It turns out that the bakery at the market no longer makes sourdough bread because it was never very popular. \",\n",
    "        \"Kevin goes home without bread of any kind. His wife is slightly annoyed.\"\n",
    "        ]\n",
    "    p1_target = \"Kevin asked someone at the store if they sold bread.\"\n",
    "    p2 = [\n",
    "        \"Sara's younger sister is late for dance class. Sara has a scooter that she could lend her sister for the afternoon.\",\n",
    "        \"The scooter is brand-new and will get Sara's sister to her dance class right on time. But Sara wants to use her scooter to get to her friend's house for dinner later on.\",\n",
    "        \"Sara doesn't think that her sister's dance class will be over in time for her to also be able to use the scooter to get to dinner.\",\n",
    "        \"Sara doesn't lend the scooter to her sister. Her sister walks to dance class and is late.\"\n",
    "        ]\n",
    "    p2_target = \"Sara wanted to take her scooter to the park.\"\n",
    "    tf_prac = [\"False\"] * int(n_tf_pract/2) + [\"True\"] * int(n_tf_pract/2)\n",
    "    random.shuffle(tf_prac)\n",
    "    ca = ['f' if tf_p == 'False' else 'j' for tf_p in tf_prac]\n",
    "    [ca.append(x) for x in ['j', 'f']]\n",
    "    pract = {'trial_num': list(range(1, sum([n_tf_pract,n_story_pract])+1)),\n",
    "             'trial_type':['tf_practic'] * n_tf_pract + ['story_practice']* n_story_pract,\n",
    "             'prompt': tf_prac + [p1, p2],\n",
    "             'correct': None,\n",
    "             'target': [None]*n_tf_pract + [p1_target, p2_target],\n",
    "             'correct_answer': ca,\n",
    "             'response_key':None,\n",
    "             'target_onset': None,\n",
    "             'response_onset': None,\n",
    "             }\n",
    "    return pd.DataFrame(pract)"
   ],
   "metadata": {
    "collapsed": false,
    "pycharm": {
     "name": "#%%\n"
    }
   }
  },
  {
   "cell_type": "code",
   "execution_count": 3,
   "outputs": [],
   "source": [
    "# Trials\n",
    "def make_trials():\n",
    "    vig_numbers = list(range(1, 13))\n",
    "    bel_types = ['TB', 'FB', 'IG']\n",
    "    ascrip_types = ['Knows', 'Thinks']\n",
    "    # assign scenarios and shuffle\n",
    "    s1 = pd.DataFrame({\n",
    "        'trial_num': None,\n",
    "        'correct': None,\n",
    "        'trial_type': 'test',\n",
    "        'scenario': vig_numbers,\n",
    "        'belief': None,\n",
    "        'ascription': None,\n",
    "        'crrct_answer': None,\n",
    "        'target_onset': None,\n",
    "        'response_onset': None,\n",
    "        'response_key': None,\n",
    "    }).sample(frac=1)\n",
    "    # balance ascription types and shuffle\n",
    "    s1['ascription'] = np.repeat(ascrip_types, len(vig_numbers) / len(ascrip_types))\n",
    "    s1 = s1.sample(frac=1)\n",
    "    # balance belief types and shuffle\n",
    "    s1['belief'] = np.repeat(bel_types, len(vig_numbers) / len(bel_types))\n",
    "    # add distractors\n",
    "    s2 = s1.copy()\n",
    "    s2['trial_type'] = 'distractor'\n",
    "    s3 = pd.concat([s1, s2], ignore_index=True).sample(frac=1).reset_index(drop=True)\n",
    "    s3['trial_num'] = range(1, len(s3) + 1)\n",
    "    # add correct answers\n",
    "    #json_fp = 'KnowledgeBelief/static/stim_data/KB_stim.json'\n",
    "    json_fp = 'KB_stim.json'\n",
    "    with open(json_fp, 'r') as j:\n",
    "        stim = json.loads(j.read())\n",
    "    for i, trl in s3.iterrows():\n",
    "        s3.loc[s3.trial_num == trl.trial_num, 'crrct_answer'] = stim[trl.trial_type][str(trl.scenario)]['ascription'][trl.ascription]['crrct_answr']\n",
    "    return s3"
   ],
   "metadata": {
    "collapsed": false,
    "pycharm": {
     "name": "#%%\n"
    }
   }
  },
  {
   "cell_type": "code",
   "execution_count": 4,
   "outputs": [],
   "source": [
    "# Felicity\n",
    "def make_felicity(trls):\n",
    "    xx = trls.loc[trls.trial_type == 'test'].sample(frac=1)\n",
    "    fel = pd.DataFrame({'b2_trial_num': list(range(1, 13)),\n",
    "                        'b1_trial_num': xx.trial_num.values,\n",
    "                        'fel_scenario': xx.scenario.values,\n",
    "                        'fel_belief_type': xx.belief.values,\n",
    "                        'fel_ascription_type': xx.ascription.values,  # \"knows\" or \"thinks\"\n",
    "                        'felicity_rating': None})\n",
    "    return fel\n"
   ],
   "metadata": {
    "collapsed": false,
    "pycharm": {
     "name": "#%%\n"
    }
   }
  },
  {
   "cell_type": "code",
   "execution_count": 5,
   "outputs": [],
   "source": [
    "def randomize_trials():\n",
    "    prac = make_practice()\n",
    "    trls = make_trials()\n",
    "    fels = make_felicity(trls)\n",
    "    return prac, trls, fels"
   ],
   "metadata": {
    "collapsed": false,
    "pycharm": {
     "name": "#%%\n"
    }
   }
  },
  {
   "cell_type": "code",
   "execution_count": 6,
   "outputs": [],
   "source": [
    "s_practice, s_trials, s_fels = randomize_trials()"
   ],
   "metadata": {
    "collapsed": false,
    "pycharm": {
     "name": "#%%\n"
    }
   }
  },
  {
   "cell_type": "markdown",
   "source": [
    "# Messages"
   ],
   "metadata": {
    "collapsed": false
   }
  },
  {
   "cell_type": "code",
   "execution_count": null,
   "outputs": [],
   "source": [
    "exp_states  = ['TRIAL_PRACTICE', 'TF_TRIAL', 'FELICITY_PRACTICE']\n",
    "m = [1, 2, 'next']\n",
    "msgs = {e_state:{var:None for var in m} for e_state in exp_states}\n",
    "\n",
    "msgs[exp_states[0]][1] = \"Okay, one more practice example\"\n",
    "msgs[exp_states[0]][2] = \"Press the space bar to continue, then place your fingers on the [f] and [j] keys.... \"\n",
    "msgs[exp_states[0]]['next'] = \"/story\"\n",
    "msgs[exp_states[1]][1] = \"Okay, get ready for story #\" + request.args.get('trial') + \".\"\n",
    "msgs[exp_states[1]][2] = \"Press the space bar to continue, then place your fingers on the [f] and [j] keys.... \"\n",
    "msgs[exp_states[1]]['next'] = \"/story\"\n",
    "msgs[exp_states[1]][1] = \"Great Job!\"\n",
    "msgs[exp_states[1]][2] = \"Press the space bar to continue.... \"\n",
    "msgs[exp_states[1]]['next'] = \"/felicity_instr\""
   ],
   "metadata": {
    "collapsed": false,
    "pycharm": {
     "name": "#%%\n"
    }
   }
  }
 ],
 "metadata": {
  "kernelspec": {
   "display_name": "Python 3",
   "language": "python",
   "name": "python3"
  },
  "language_info": {
   "codemirror_mode": {
    "name": "ipython",
    "version": 2
   },
   "file_extension": ".py",
   "mimetype": "text/x-python",
   "name": "python",
   "nbconvert_exporter": "python",
   "pygments_lexer": "ipython2",
   "version": "2.7.6"
  }
 },
 "nbformat": 4,
 "nbformat_minor": 0
}