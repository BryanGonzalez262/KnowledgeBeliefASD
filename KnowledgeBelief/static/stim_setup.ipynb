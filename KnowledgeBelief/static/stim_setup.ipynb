{
 "cells": [
  {
   "cell_type": "code",
   "execution_count": null,
   "metadata": {
    "collapsed": true
   },
   "outputs": [],
   "source": [
    "\n",
    "n_scenarios = 24\n",
    "n_distractors = n_scenarios/2\n",
    "n_belief_type = 3\n",
    "n_ascription_type = 2"
   ]
  },
  {
   "cell_type": "code",
   "execution_count": null,
   "outputs": [],
   "source": [
    "scenarios = {\n",
    "    1: {'vignette':[\n",
    "        'John is a New Yorker who is on his lunch break at his favorite restaurant. He eats there every day.',\n",
    "        'After finishing his meal he decides to go to the bathroom, just like he does every day at the end of lunch.',\n",
    "        'He pays his bill, gives a generous tip, and walks to the building next door to find the bathroom.'\n",
    "        ],\n",
    "        'belief_condition':{\n",
    "            'TB':'The bathroom is in the building next door. John walks in and heads to his favorite stall.',\n",
    "            'FB': '',\n",
    "            'IG': ''\n",
    "        },\n",
    "        'ascription_target': {\n",
    "            'know': 'John knows the bathroom is in the building next door.',\n",
    "            'think': 'John thinks the bathroom is in the building next door.'\n",
    "        }\n",
    "    },\n",
    "    2: {'vignette': [\n",
    "        'Simon cannot wait to find out what his parents are giving him for his birthday tomorrow. He looks all over the house for his present.',\n",
    "        'In the back of his parents\\' closet, Simon finds the pair of shoes that he told his parents that he wanted earlier that month.',\n",
    "        'He is so excited to find the pair of shoes. It\\'s just what he wanted, and he can\\'t wait to wear them.'\n",
    "        ],\n",
    "        'belief_condition':{\n",
    "            'TB': '',\n",
    "            'FB': 'Simon\\'s uncle actually had just left his new pair of shoes in the closet. Simon\\'s parents actually bought him a video game for his birthday.',\n",
    "            'IG': ''\n",
    "        },\n",
    "        'ascription_target': {\n",
    "            'know':'Simon knows he is getting a video game for his birthday.',\n",
    "            'think': 'Simon thinks he is getting a video game for his birthday.'\n",
    "        }\n",
    "    },\n",
    "    3: {'vignette': [],\n",
    "        'ascription_target': []},\n",
    "    4: {'vignette': [],\n",
    "        'ascription_target': []},\n",
    "    5: {'vignette': [],\n",
    "        'ascription_target': []},\n",
    "    6: {'vignette': [],\n",
    "        'ascription_target': []},\n",
    "    7: {'vignette': [],\n",
    "        'ascription_target': []},\n",
    "    8: {'vignette': [],\n",
    "        'ascription_target': []},\n",
    "    9: {'vignette': [],\n",
    "        'ascription_target': []},\n",
    "    10: {'vignette': [],\n",
    "        'ascription_target': []},\n",
    "    11: {'vignette': [],\n",
    "        'ascription_target': []},\n",
    "    12: {'vignette': [],\n",
    "        'ascription_target': []},\n",
    "    13: {'vignette': [],\n",
    "        'ascription_target': []},\n",
    "    14: {'vignette': [],\n",
    "        'ascription_target': []},\n",
    "    15: {'vignette': [],\n",
    "        'ascription_target': []},\n",
    "    16: {'vignette': [],\n",
    "        'ascription_target': []},\n",
    "    17: {'vignette': [],\n",
    "        'ascription_target': []},\n",
    "    18: {'vignette': [],\n",
    "        'ascription_target': []},\n",
    "    19: {'vignette': [],\n",
    "        'ascription_target': []},\n",
    "    20: {'vignette': [],\n",
    "        'ascription_target': []},\n",
    "    21: {'vignette': [],\n",
    "        'ascription_target': []},\n",
    "    22: {'vignette': [],\n",
    "        'ascription_target': []},\n",
    "    23: {'vignette': [],\n",
    "        'ascription_target': []},\n",
    "    24: {'vignette': [],\n",
    "        'ascription_target': []},\n",
    "}"
   ],
   "metadata": {
    "collapsed": false,
    "pycharm": {
     "name": "#%%\n"
    }
   }
  },
  {
   "cell_type": "code",
   "execution_count": 6,
   "outputs": [
    {
     "data": {
      "text/plain": "              type condition1 condition2 condition3 trialNo target stim1  \\\n13    instructions         na         na         na      na     na    na   \n14    instructions         na         na         na      na     na    na   \n15    instructions         na         na         na      na     na    na   \n16    instructions         na         na         na      na     na    na   \n20    instructions         na         na         na      na     na    na   \n...            ...        ...        ...        ...     ...    ...   ...   \n1025  instructions         na         na         na      na     na    na   \n1029  instructions         na         na         na      na     na    na   \n1030  instructions         na         na         na      na     na    na   \n1031  instructions         na         na         na      na     na    na   \n1032  instructions         na         na         na      na     na    na   \n\n     stim2 key  ITI  ... content trialText button1 feedbackIncorrect  \\\n13      na      600  ...      na        na      na                na   \n14      na      600  ...      na        na      na                na   \n15      na      600  ...      na        na      na                na   \n16      na      600  ...      na        na      na                na   \n20      na      600  ...      na        na      na                na   \n...    ...  ..  ...  ...     ...       ...     ...               ...   \n1025    na      600  ...      na        na      na                na   \n1029    na      600  ...      na        na      na                na   \n1030    na      600  ...      na        na      na                na   \n1031    na      600  ...      na        na      na                na   \n1032    na      600  ...      na        na      na                na   \n\n     feedbackTime random keyboard subjectGroup responseWindow randomBlock  \n13             na     na       na           na             na          na  \n14             na     na       na           na             na          na  \n15             na     na       na           na             na          na  \n16             na     na       na           na             na          na  \n20             na     na       na           na             na          na  \n...           ...    ...      ...          ...            ...         ...  \n1025           na     na       na            6             na          23  \n1029           na     na       na            6             na          24  \n1030           na     na       na            6             na          24  \n1031           na     na       na            6             na          24  \n1032           na     na       na            6             na          24  \n\n[584 rows x 25 columns]",
      "text/html": "<div>\n<style scoped>\n    .dataframe tbody tr th:only-of-type {\n        vertical-align: middle;\n    }\n\n    .dataframe tbody tr th {\n        vertical-align: top;\n    }\n\n    .dataframe thead th {\n        text-align: right;\n    }\n</style>\n<table border=\"1\" class=\"dataframe\">\n  <thead>\n    <tr style=\"text-align: right;\">\n      <th></th>\n      <th>type</th>\n      <th>condition1</th>\n      <th>condition2</th>\n      <th>condition3</th>\n      <th>trialNo</th>\n      <th>target</th>\n      <th>stim1</th>\n      <th>stim2</th>\n      <th>key</th>\n      <th>ITI</th>\n      <th>...</th>\n      <th>content</th>\n      <th>trialText</th>\n      <th>button1</th>\n      <th>feedbackIncorrect</th>\n      <th>feedbackTime</th>\n      <th>random</th>\n      <th>keyboard</th>\n      <th>subjectGroup</th>\n      <th>responseWindow</th>\n      <th>randomBlock</th>\n    </tr>\n  </thead>\n  <tbody>\n    <tr>\n      <th>13</th>\n      <td>instructions</td>\n      <td>na</td>\n      <td>na</td>\n      <td>na</td>\n      <td>na</td>\n      <td>na</td>\n      <td>na</td>\n      <td>na</td>\n      <td></td>\n      <td>600</td>\n      <td>...</td>\n      <td>na</td>\n      <td>na</td>\n      <td>na</td>\n      <td>na</td>\n      <td>na</td>\n      <td>na</td>\n      <td>na</td>\n      <td>na</td>\n      <td>na</td>\n      <td>na</td>\n    </tr>\n    <tr>\n      <th>14</th>\n      <td>instructions</td>\n      <td>na</td>\n      <td>na</td>\n      <td>na</td>\n      <td>na</td>\n      <td>na</td>\n      <td>na</td>\n      <td>na</td>\n      <td></td>\n      <td>600</td>\n      <td>...</td>\n      <td>na</td>\n      <td>na</td>\n      <td>na</td>\n      <td>na</td>\n      <td>na</td>\n      <td>na</td>\n      <td>na</td>\n      <td>na</td>\n      <td>na</td>\n      <td>na</td>\n    </tr>\n    <tr>\n      <th>15</th>\n      <td>instructions</td>\n      <td>na</td>\n      <td>na</td>\n      <td>na</td>\n      <td>na</td>\n      <td>na</td>\n      <td>na</td>\n      <td>na</td>\n      <td></td>\n      <td>600</td>\n      <td>...</td>\n      <td>na</td>\n      <td>na</td>\n      <td>na</td>\n      <td>na</td>\n      <td>na</td>\n      <td>na</td>\n      <td>na</td>\n      <td>na</td>\n      <td>na</td>\n      <td>na</td>\n    </tr>\n    <tr>\n      <th>16</th>\n      <td>instructions</td>\n      <td>na</td>\n      <td>na</td>\n      <td>na</td>\n      <td>na</td>\n      <td>na</td>\n      <td>na</td>\n      <td>na</td>\n      <td></td>\n      <td>600</td>\n      <td>...</td>\n      <td>na</td>\n      <td>na</td>\n      <td>na</td>\n      <td>na</td>\n      <td>na</td>\n      <td>na</td>\n      <td>na</td>\n      <td>na</td>\n      <td>na</td>\n      <td>na</td>\n    </tr>\n    <tr>\n      <th>20</th>\n      <td>instructions</td>\n      <td>na</td>\n      <td>na</td>\n      <td>na</td>\n      <td>na</td>\n      <td>na</td>\n      <td>na</td>\n      <td>na</td>\n      <td></td>\n      <td>600</td>\n      <td>...</td>\n      <td>na</td>\n      <td>na</td>\n      <td>na</td>\n      <td>na</td>\n      <td>na</td>\n      <td>na</td>\n      <td>na</td>\n      <td>na</td>\n      <td>na</td>\n      <td>na</td>\n    </tr>\n    <tr>\n      <th>...</th>\n      <td>...</td>\n      <td>...</td>\n      <td>...</td>\n      <td>...</td>\n      <td>...</td>\n      <td>...</td>\n      <td>...</td>\n      <td>...</td>\n      <td>...</td>\n      <td>...</td>\n      <td>...</td>\n      <td>...</td>\n      <td>...</td>\n      <td>...</td>\n      <td>...</td>\n      <td>...</td>\n      <td>...</td>\n      <td>...</td>\n      <td>...</td>\n      <td>...</td>\n      <td>...</td>\n    </tr>\n    <tr>\n      <th>1025</th>\n      <td>instructions</td>\n      <td>na</td>\n      <td>na</td>\n      <td>na</td>\n      <td>na</td>\n      <td>na</td>\n      <td>na</td>\n      <td>na</td>\n      <td></td>\n      <td>600</td>\n      <td>...</td>\n      <td>na</td>\n      <td>na</td>\n      <td>na</td>\n      <td>na</td>\n      <td>na</td>\n      <td>na</td>\n      <td>na</td>\n      <td>6</td>\n      <td>na</td>\n      <td>23</td>\n    </tr>\n    <tr>\n      <th>1029</th>\n      <td>instructions</td>\n      <td>na</td>\n      <td>na</td>\n      <td>na</td>\n      <td>na</td>\n      <td>na</td>\n      <td>na</td>\n      <td>na</td>\n      <td></td>\n      <td>600</td>\n      <td>...</td>\n      <td>na</td>\n      <td>na</td>\n      <td>na</td>\n      <td>na</td>\n      <td>na</td>\n      <td>na</td>\n      <td>na</td>\n      <td>6</td>\n      <td>na</td>\n      <td>24</td>\n    </tr>\n    <tr>\n      <th>1030</th>\n      <td>instructions</td>\n      <td>na</td>\n      <td>na</td>\n      <td>na</td>\n      <td>na</td>\n      <td>na</td>\n      <td>na</td>\n      <td>na</td>\n      <td></td>\n      <td>600</td>\n      <td>...</td>\n      <td>na</td>\n      <td>na</td>\n      <td>na</td>\n      <td>na</td>\n      <td>na</td>\n      <td>na</td>\n      <td>na</td>\n      <td>6</td>\n      <td>na</td>\n      <td>24</td>\n    </tr>\n    <tr>\n      <th>1031</th>\n      <td>instructions</td>\n      <td>na</td>\n      <td>na</td>\n      <td>na</td>\n      <td>na</td>\n      <td>na</td>\n      <td>na</td>\n      <td>na</td>\n      <td></td>\n      <td>600</td>\n      <td>...</td>\n      <td>na</td>\n      <td>na</td>\n      <td>na</td>\n      <td>na</td>\n      <td>na</td>\n      <td>na</td>\n      <td>na</td>\n      <td>6</td>\n      <td>na</td>\n      <td>24</td>\n    </tr>\n    <tr>\n      <th>1032</th>\n      <td>instructions</td>\n      <td>na</td>\n      <td>na</td>\n      <td>na</td>\n      <td>na</td>\n      <td>na</td>\n      <td>na</td>\n      <td>na</td>\n      <td></td>\n      <td>600</td>\n      <td>...</td>\n      <td>na</td>\n      <td>na</td>\n      <td>na</td>\n      <td>na</td>\n      <td>na</td>\n      <td>na</td>\n      <td>na</td>\n      <td>6</td>\n      <td>na</td>\n      <td>24</td>\n    </tr>\n  </tbody>\n</table>\n<p>584 rows × 25 columns</p>\n</div>"
     },
     "execution_count": 6,
     "metadata": {},
     "output_type": "execute_result"
    }
   ],
   "source": [
    "import pandas as pd\n",
    "\n",
    "exp_dat = pd.read_csv('trial_file_626708_20220524_092356_UTC.csv', header=0)\n",
    "exp_dat.loc[exp_dat.presTime == '4500']"
   ],
   "metadata": {
    "collapsed": false,
    "pycharm": {
     "name": "#%%\n"
    }
   }
  },
  {
   "cell_type": "code",
   "execution_count": null,
   "outputs": [],
   "source": [
    "scenarios = {s_num:\n",
    "                 {'vignette':[],\n",
    "                  'belief_type':{'TB':None, 'FB':None, 'IG':None},\n",
    "                  'ascription_target':{'know':None, 'think':None}\n",
    "                  }\n",
    "             for s_num in range(1, 25)}"
   ],
   "metadata": {
    "collapsed": false,
    "pycharm": {
     "name": "#%%\n"
    }
   }
  }
 ],
 "metadata": {
  "kernelspec": {
   "display_name": "Python 3",
   "language": "python",
   "name": "python3"
  },
  "language_info": {
   "codemirror_mode": {
    "name": "ipython",
    "version": 2
   },
   "file_extension": ".py",
   "mimetype": "text/x-python",
   "name": "python",
   "nbconvert_exporter": "python",
   "pygments_lexer": "ipython2",
   "version": "2.7.6"
  }
 },
 "nbformat": 4,
 "nbformat_minor": 0
}