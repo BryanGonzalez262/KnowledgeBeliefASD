{
 "cells": [
  {
   "cell_type": "markdown",
   "source": [
    "Imports"
   ],
   "metadata": {
    "collapsed": false,
    "pycharm": {
     "name": "#%% md\n"
    }
   }
  },
  {
   "cell_type": "code",
   "execution_count": 2,
   "metadata": {
    "collapsed": true,
    "pycharm": {
     "name": "#%%\n"
    }
   },
   "outputs": [
    {
     "name": "stderr",
     "output_type": "stream",
     "text": [
      "/Library/Frameworks/Python.framework/Versions/3.8/lib/python3.8/site-packages/rpy2/robjects/vectors.py:980: UserWarning: R object inheriting from \"POSIXct\" but without attribute \"tzone\".\n",
      "  warnings.warn('R object inheriting from \"POSIXct\" but without '\n"
     ]
    }
   ],
   "source": [
    "import pandas as pd\n",
    "from pymer4 import Lmer\n",
    "import warnings\n",
    "dat = pd.read_csv('./Data/full_sample_clean.csv', index_col=0)"
   ]
  },
  {
   "cell_type": "markdown",
   "source": [
    "# Inclusion criteria\n",
    "- accuracy > 67%\n",
    "- 1000ms >mean response time > 4000ms\n"
   ],
   "metadata": {
    "collapsed": false,
    "pycharm": {
     "name": "#%% md\n"
    }
   }
  },
  {
   "cell_type": "markdown",
   "source": [
    "#  Descriptives\n",
    "(Participants who met inclusion criteria)"
   ],
   "metadata": {
    "collapsed": false,
    "pycharm": {
     "name": "#%% md\n"
    }
   }
  },
  {
   "cell_type": "markdown",
   "source": [
    "# N."
   ],
   "metadata": {
    "collapsed": false,
    "pycharm": {
     "name": "#%% md\n"
    }
   }
  },
  {
   "cell_type": "code",
   "execution_count": 3,
   "outputs": [
    {
     "name": "stdout",
     "output_type": "stream",
     "text": [
      "N= 611\n",
      "group\n",
      "autism          222\n",
      "neurotypical    389\n",
      "Name: unique, dtype: object\n"
     ]
    }
   ],
   "source": [
    "df = dat.loc[dat.in_sample == True].reset_index(drop=True)\n",
    "print(f'N= {len(df.subject.unique())}')\n",
    "print(df.groupby('group').subject.describe().unique)"
   ],
   "metadata": {
    "collapsed": false,
    "pycharm": {
     "name": "#%%\n"
    }
   }
  },
  {
   "cell_type": "markdown",
   "source": [
    "# Age"
   ],
   "metadata": {
    "collapsed": false,
    "pycharm": {
     "name": "#%% md\n"
    }
   }
  },
  {
   "cell_type": "code",
   "execution_count": 4,
   "outputs": [
    {
     "name": "stdout",
     "output_type": "stream",
     "text": [
      "                   mean        std   min   25%   50%   75%   max\n",
      "group                                                           \n",
      "autism        28.435572   6.281974  18.0  25.0  28.0  31.0  70.0\n",
      "neurotypical  37.290787  13.178970  19.0  27.0  34.0  46.0  78.0\n"
     ]
    }
   ],
   "source": [
    "print(df.groupby(['group']).age.describe()[['mean', 'std', 'min','25%','50%','75%','max']])"
   ],
   "metadata": {
    "collapsed": false,
    "pycharm": {
     "name": "#%%\n"
    }
   }
  },
  {
   "cell_type": "markdown",
   "source": [
    "# Gender (% of group)"
   ],
   "metadata": {
    "collapsed": false,
    "pycharm": {
     "name": "#%% md\n"
    }
   }
  },
  {
   "cell_type": "code",
   "execution_count": 5,
   "outputs": [
    {
     "name": "stdout",
     "output_type": "stream",
     "text": [
      "Autism %\n",
      "gender\n",
      "female                    0.432432\n",
      "male                      0.513514\n",
      "other                      0.04955\n",
      "prefer not to disclose    0.004505\n",
      "Name: unique, dtype: object\n",
      "________\n",
      "Neurotypical %\n",
      "gender\n",
      "female                    0.508997\n",
      "male                      0.449871\n",
      "other                     0.033419\n",
      "prefer not to disclose    0.007712\n",
      "Name: unique, dtype: object\n"
     ]
    }
   ],
   "source": [
    "xx = df.groupby(['group','gender']).subject.describe().unique\n",
    "print('Autism %')\n",
    "print(xx['autism']/len(df.loc[df.group=='autism'].subject.unique()))\n",
    "print('________')\n",
    "print('Neurotypical %')\n",
    "print(xx['neurotypical']/len(df.loc[df.group=='neurotypical'].subject.unique()))"
   ],
   "metadata": {
    "collapsed": false,
    "pycharm": {
     "name": "#%%\n"
    }
   }
  },
  {
   "cell_type": "markdown",
   "source": [
    "# Autism Quotient"
   ],
   "metadata": {
    "collapsed": false,
    "pycharm": {
     "name": "#%% md\n"
    }
   }
  },
  {
   "cell_type": "code",
   "execution_count": 6,
   "outputs": [
    {
     "data": {
      "text/plain": "                  mean       std  min  25%  50%  75%   max\ngroup                                                     \nautism        5.746937  2.738027  1.0  4.0  6.0  8.0  10.0\nneurotypical  3.706067  2.260787  0.0  2.0  3.0  5.0  10.0",
      "text/html": "<div>\n<style scoped>\n    .dataframe tbody tr th:only-of-type {\n        vertical-align: middle;\n    }\n\n    .dataframe tbody tr th {\n        vertical-align: top;\n    }\n\n    .dataframe thead th {\n        text-align: right;\n    }\n</style>\n<table border=\"1\" class=\"dataframe\">\n  <thead>\n    <tr style=\"text-align: right;\">\n      <th></th>\n      <th>mean</th>\n      <th>std</th>\n      <th>min</th>\n      <th>25%</th>\n      <th>50%</th>\n      <th>75%</th>\n      <th>max</th>\n    </tr>\n    <tr>\n      <th>group</th>\n      <th></th>\n      <th></th>\n      <th></th>\n      <th></th>\n      <th></th>\n      <th></th>\n      <th></th>\n    </tr>\n  </thead>\n  <tbody>\n    <tr>\n      <th>autism</th>\n      <td>5.746937</td>\n      <td>2.738027</td>\n      <td>1.0</td>\n      <td>4.0</td>\n      <td>6.0</td>\n      <td>8.0</td>\n      <td>10.0</td>\n    </tr>\n    <tr>\n      <th>neurotypical</th>\n      <td>3.706067</td>\n      <td>2.260787</td>\n      <td>0.0</td>\n      <td>2.0</td>\n      <td>3.0</td>\n      <td>5.0</td>\n      <td>10.0</td>\n    </tr>\n  </tbody>\n</table>\n</div>"
     },
     "execution_count": 6,
     "metadata": {},
     "output_type": "execute_result"
    }
   ],
   "source": [
    "df.groupby('group').AQ_score.describe()[['mean', 'std', 'min','25%','50%','75%','max']]"
   ],
   "metadata": {
    "collapsed": false,
    "pycharm": {
     "name": "#%%\n"
    }
   }
  },
  {
   "cell_type": "markdown",
   "source": [
    "# Autism Diagnosis (% of ASD group)"
   ],
   "metadata": {
    "collapsed": false,
    "pycharm": {
     "name": "#%% md\n"
    }
   }
  },
  {
   "cell_type": "code",
   "execution_count": 7,
   "outputs": [
    {
     "data": {
      "text/plain": "group   diag                  \nautism  no                        0.004505\n        prefer not to disclose    0.004505\n        yes                       0.990991\nName: unique, dtype: object"
     },
     "execution_count": 7,
     "metadata": {},
     "output_type": "execute_result"
    }
   ],
   "source": [
    "df.groupby(['group', 'diag']).subject.describe().unique / len(df.loc[df.group=='autism'].subject.unique())"
   ],
   "metadata": {
    "collapsed": false,
    "pycharm": {
     "name": "#%%\n"
    }
   }
  },
  {
   "cell_type": "markdown",
   "source": [
    "## Trial exclusions (% of group)\n",
    "- Response Time < 1000ms\n",
    "- Response Time  > 4500ms"
   ],
   "metadata": {
    "collapsed": false,
    "pycharm": {
     "name": "#%% md\n"
    }
   }
  },
  {
   "cell_type": "code",
   "execution_count": 8,
   "outputs": [
    {
     "data": {
      "text/plain": "Empty DataFrame\nColumns: [GMT_timestamp, age, ascription, agent_state, correct, correct_answer, diag, education, ethnicity, felicity_rating, gender, group, participation_date, subject, response_key, rt, item, trial_num, infelicity, timeout, accurate, too_fast, too_slow, in_sample, AQ_score]\nIndex: []\n\n[0 rows x 25 columns]",
      "text/html": "<div>\n<style scoped>\n    .dataframe tbody tr th:only-of-type {\n        vertical-align: middle;\n    }\n\n    .dataframe tbody tr th {\n        vertical-align: top;\n    }\n\n    .dataframe thead th {\n        text-align: right;\n    }\n</style>\n<table border=\"1\" class=\"dataframe\">\n  <thead>\n    <tr style=\"text-align: right;\">\n      <th></th>\n      <th>GMT_timestamp</th>\n      <th>age</th>\n      <th>ascription</th>\n      <th>agent_state</th>\n      <th>correct</th>\n      <th>correct_answer</th>\n      <th>diag</th>\n      <th>education</th>\n      <th>ethnicity</th>\n      <th>felicity_rating</th>\n      <th>...</th>\n      <th>rt</th>\n      <th>item</th>\n      <th>trial_num</th>\n      <th>infelicity</th>\n      <th>timeout</th>\n      <th>accurate</th>\n      <th>too_fast</th>\n      <th>too_slow</th>\n      <th>in_sample</th>\n      <th>AQ_score</th>\n    </tr>\n  </thead>\n  <tbody>\n  </tbody>\n</table>\n<p>0 rows × 25 columns</p>\n</div>"
     },
     "execution_count": 8,
     "metadata": {},
     "output_type": "execute_result"
    }
   ],
   "source": [
    "df.loc[(df.too_fast == True) | (df.too_slow == True)]"
   ],
   "metadata": {
    "collapsed": false,
    "pycharm": {
     "name": "#%%\n"
    }
   }
  },
  {
   "cell_type": "code",
   "execution_count": null,
   "outputs": [],
   "source": [],
   "metadata": {
    "collapsed": false,
    "pycharm": {
     "name": "#%%\n"
    }
   }
  }
 ],
 "metadata": {
  "kernelspec": {
   "display_name": "Python 3",
   "language": "python",
   "name": "python3"
  },
  "language_info": {
   "codemirror_mode": {
    "name": "ipython",
    "version": 2
   },
   "file_extension": ".py",
   "mimetype": "text/x-python",
   "name": "python",
   "nbconvert_exporter": "python",
   "pygments_lexer": "ipython2",
   "version": "2.7.6"
  }
 },
 "nbformat": 4,
 "nbformat_minor": 0
}