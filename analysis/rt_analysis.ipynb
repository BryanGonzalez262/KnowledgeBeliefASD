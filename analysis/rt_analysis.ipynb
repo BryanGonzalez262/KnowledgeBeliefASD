{
 "cells": [
  {
   "cell_type": "markdown",
   "metadata": {
    "pycharm": {
     "name": "#%% md\n"
    }
   },
   "source": [
    "# Imports"
   ]
  },
  {
   "cell_type": "code",
   "execution_count": 1,
   "metadata": {
    "collapsed": true,
    "pycharm": {
     "name": "#%%\n"
    }
   },
   "outputs": [],
   "source": [
    "import pandas as pd\n",
    "from pymer4 import Lmer\n",
    "import warnings\n",
    "warnings.filterwarnings('ignore')\n",
    "\n",
    "dat = pd.read_csv('./Data/full_sample_clean.csv', index_col=0)\n",
    "df = dat.loc[(dat.in_sample == True)&(dat.correct ==True)].reset_index(drop=True).drop('diag', axis=1)"
   ]
  },
  {
   "cell_type": "markdown",
   "metadata": {
    "pycharm": {
     "name": "#%% md\n"
    }
   },
   "source": [
    "# Response Time"
   ]
  },
  {
   "cell_type": "markdown",
   "metadata": {
    "pycharm": {
     "name": "#%% md\n"
    }
   },
   "source": [
    "## Between Groups"
   ]
  },
  {
   "cell_type": "markdown",
   "source": [
    "### RT and Infelicity"
   ],
   "metadata": {
    "collapsed": false,
    "pycharm": {
     "name": "#%% md\n"
    }
   }
  },
  {
   "cell_type": "code",
   "execution_count": 3,
   "outputs": [
    {
     "name": "stdout",
     "output_type": "stream",
     "text": [
      "            n         r         CI95%    p-val   BF10     power\n",
      "pearson  4049  0.055712  [0.02, 0.09]  0.00039  10.59  0.943841\n",
      "            n         r          CI95%     p-val   BF10     power\n",
      "pearson  2071 -0.035446  [-0.08, 0.01]  0.106829  0.101  0.364451\n"
     ]
    }
   ],
   "source": [
    "import pingouin as pg\n",
    "ddf =df.loc[(df.in_sample == True) &(df.correct==True)]\n",
    "print(pg.corr(x=ddf.loc[ddf.group == 'neurotypical'].infelicity.values, y=ddf.loc[ddf.group == 'neurotypical'].rt.values))\n",
    "print(pg.corr(x=ddf.loc[ddf.group == 'autism'].infelicity.values, y=ddf.loc[ddf.group == 'autism'].rt.values))"
   ],
   "metadata": {
    "collapsed": false,
    "pycharm": {
     "name": "#%%\n"
    }
   }
  },
  {
   "cell_type": "code",
   "execution_count": 4,
   "outputs": [],
   "source": [
    "mod_factors = {'group':df.group.unique().tolist(), 'agent_state':df.agent_state.unique().tolist(),\n",
    "               'ascription': df.ascription.unique().tolist(), 'item':[str(x) for x in range(1,13)]}\n",
    "rand_fx = ' + (agent_state + ascription|item) + (agent_state|subject)'"
   ],
   "metadata": {
    "collapsed": false,
    "pycharm": {
     "name": "#%%\n"
    }
   }
  },
  {
   "cell_type": "markdown",
   "metadata": {
    "pycharm": {
     "name": "#%% md\n"
    }
   },
   "source": [
    "### 3-way interaction effect of Group x Agent State x Ascription\n",
    "![](Figures/groupxascrip_rt.png)\n"
   ]
  },
  {
   "cell_type": "code",
   "execution_count": 5,
   "metadata": {
    "pycharm": {
     "name": "#%%\n"
    }
   },
   "outputs": [
    {
     "name": "stdout",
     "output_type": "stream",
     "text": [
      "boundary (singular) fit: see help('isSingular') \n",
      "\n",
      "boundary (singular) fit: see help('isSingular') \n",
      "\n",
      "boundary (singular) fit: see help('isSingular') \n",
      "\n",
      "boundary (singular) fit: see help('isSingular') \n",
      "\n",
      "SS Type III Analysis of Variance Table with Satterthwaite approximated degrees of freedom:\n",
      "(NOTE: Model refit with orthogonal polynomial contrasts)\n"
     ]
    },
    {
     "data": {
      "text/plain": "             SS            MS  NumDF      DenomDF     F-stat     P-val  Sig\n0  3.253778e+06  3.253778e+06      1   650.833130   9.586787  0.002044   **\n1  4.645477e+05  2.322738e+05      2    14.321286   0.684361  0.520168     \n2  1.258738e+07  1.258738e+07      1    14.547306  37.086907  0.000024  ***\n3  3.765343e+04  3.765343e+04      1  3773.721993   0.110940  0.739095     \n4  3.264785e+06  1.632392e+06      2   679.822463   4.809609  0.008430   **\n5  7.034607e+04  7.034607e+04      1  4702.301164   0.207265  0.648941     \n6  3.559662e+06  1.779831e+06      2  4695.027631   5.244016  0.005310   **\n7  2.236641e+06  1.118321e+06      2  4681.989253   3.294970  0.037155    *",
      "text/html": "<div>\n<style scoped>\n    .dataframe tbody tr th:only-of-type {\n        vertical-align: middle;\n    }\n\n    .dataframe tbody tr th {\n        vertical-align: top;\n    }\n\n    .dataframe thead th {\n        text-align: right;\n    }\n</style>\n<table border=\"1\" class=\"dataframe\">\n  <thead>\n    <tr style=\"text-align: right;\">\n      <th></th>\n      <th>SS</th>\n      <th>MS</th>\n      <th>NumDF</th>\n      <th>DenomDF</th>\n      <th>F-stat</th>\n      <th>P-val</th>\n      <th>Sig</th>\n    </tr>\n  </thead>\n  <tbody>\n    <tr>\n      <th>0</th>\n      <td>3.253778e+06</td>\n      <td>3.253778e+06</td>\n      <td>1</td>\n      <td>650.833130</td>\n      <td>9.586787</td>\n      <td>0.002044</td>\n      <td>**</td>\n    </tr>\n    <tr>\n      <th>1</th>\n      <td>4.645477e+05</td>\n      <td>2.322738e+05</td>\n      <td>2</td>\n      <td>14.321286</td>\n      <td>0.684361</td>\n      <td>0.520168</td>\n      <td></td>\n    </tr>\n    <tr>\n      <th>2</th>\n      <td>1.258738e+07</td>\n      <td>1.258738e+07</td>\n      <td>1</td>\n      <td>14.547306</td>\n      <td>37.086907</td>\n      <td>0.000024</td>\n      <td>***</td>\n    </tr>\n    <tr>\n      <th>3</th>\n      <td>3.765343e+04</td>\n      <td>3.765343e+04</td>\n      <td>1</td>\n      <td>3773.721993</td>\n      <td>0.110940</td>\n      <td>0.739095</td>\n      <td></td>\n    </tr>\n    <tr>\n      <th>4</th>\n      <td>3.264785e+06</td>\n      <td>1.632392e+06</td>\n      <td>2</td>\n      <td>679.822463</td>\n      <td>4.809609</td>\n      <td>0.008430</td>\n      <td>**</td>\n    </tr>\n    <tr>\n      <th>5</th>\n      <td>7.034607e+04</td>\n      <td>7.034607e+04</td>\n      <td>1</td>\n      <td>4702.301164</td>\n      <td>0.207265</td>\n      <td>0.648941</td>\n      <td></td>\n    </tr>\n    <tr>\n      <th>6</th>\n      <td>3.559662e+06</td>\n      <td>1.779831e+06</td>\n      <td>2</td>\n      <td>4695.027631</td>\n      <td>5.244016</td>\n      <td>0.005310</td>\n      <td>**</td>\n    </tr>\n    <tr>\n      <th>7</th>\n      <td>2.236641e+06</td>\n      <td>1.118321e+06</td>\n      <td>2</td>\n      <td>4681.989253</td>\n      <td>3.294970</td>\n      <td>0.037155</td>\n      <td>*</td>\n    </tr>\n  </tbody>\n</table>\n</div>"
     },
     "execution_count": 5,
     "metadata": {},
     "output_type": "execute_result"
    }
   ],
   "source": [
    "mb0 = Lmer('rt ~ group*agent_state*ascription + infelicity'+rand_fx, data=df)\n",
    "mb0.fit(factors=mod_factors, summarize=False, REML=False)\n",
    "mb1 = Lmer('rt ~ group:agent_state + group:ascription + agent_state:ascription + infelicity'+rand_fx, data=df)\n",
    "mb1.fit(factors=mod_factors, summarize=False, REML=False)\n",
    "three_way = Lmer.anova(mb0, mb1)\n",
    "three_way.iloc[:]"
   ]
  },
  {
   "cell_type": "markdown",
   "source": [
    "#### Result:\n",
    "Controlling for their isolated effects and all pairwise 2-way interactions, there is a significant 3-way interaction of group, agent state, and ascription, p=.007. Suggesting that:\n",
    " - The effect of group on agent state('s effect on RT) is different depending on the ascription type.\n",
    "OR\n",
    " - The effect of group on ascription('s effect on RT) is different depending on the agent state (not likely since group-x-ascription n.s.)\n",
    "OR\n",
    " - The effect of agent state on ascription('s effect on RT), i.e. the agent state x ascription interaction, is different per group.\n",
    "    - likely driving the overall group x agent state interaction, p=.006\n",
    "\n",
    "Controlling for their isolated effects & the 3-way interaction above, there's a significant agent state x ascription interaction across groups, p=.00003, suggesting that:\n",
    "- The effect of agent state on RT differs depending on the kind of ascription for both groups OR\n",
    "- The effect of ascription type on RT differs depending on the agent state for both groups (more likely)\n",
    "\n",
    "There is a group difference in over all response time. (p=.002)\n",
    "\n",
    "Controlling for 2-way interactions with group & agent state, there is a significant effect of ascription type on RT (p=.00001)\n"
   ],
   "metadata": {
    "collapsed": false,
    "pycharm": {
     "name": "#%% md\n"
    }
   }
  },
  {
   "cell_type": "markdown",
   "metadata": {
    "pycharm": {
     "name": "#%% md\n"
    }
   },
   "source": [
    "### Interaction of Agent State x Ascription\n",
    "![](Figures/agentxascript.png)"
   ]
  },
  {
   "cell_type": "code",
   "execution_count": 6,
   "metadata": {
    "pycharm": {
     "name": "#%%\n"
    }
   },
   "outputs": [
    {
     "name": "stdout",
     "output_type": "stream",
     "text": [
      "boundary (singular) fit: see help('isSingular') \n",
      "\n",
      "boundary (singular) fit: see help('isSingular') \n",
      "\n",
      "boundary (singular) fit: see help('isSingular') \n",
      "\n",
      "SS Type III Analysis of Variance Table with Satterthwaite approximated degrees of freedom:\n",
      "(NOTE: Model refit with orthogonal polynomial contrasts)\n"
     ]
    },
    {
     "data": {
      "text/plain": "             SS            MS  NumDF      DenomDF     F-stat     P-val  Sig\n0  3.199344e+04  3.199344e+04      1  3765.940533   0.094092  0.759055     \n1  7.093205e+06  1.418641e+06      5    44.777923   4.172206  0.003384   **\n2  1.400592e+07  7.002960e+06      2    33.506419  20.595622  0.000001  ***\n3  6.075622e+06  3.037811e+06      2  4638.907938   8.934166  0.000134  ***",
      "text/html": "<div>\n<style scoped>\n    .dataframe tbody tr th:only-of-type {\n        vertical-align: middle;\n    }\n\n    .dataframe tbody tr th {\n        vertical-align: top;\n    }\n\n    .dataframe thead th {\n        text-align: right;\n    }\n</style>\n<table border=\"1\" class=\"dataframe\">\n  <thead>\n    <tr style=\"text-align: right;\">\n      <th></th>\n      <th>SS</th>\n      <th>MS</th>\n      <th>NumDF</th>\n      <th>DenomDF</th>\n      <th>F-stat</th>\n      <th>P-val</th>\n      <th>Sig</th>\n    </tr>\n  </thead>\n  <tbody>\n    <tr>\n      <th>0</th>\n      <td>3.199344e+04</td>\n      <td>3.199344e+04</td>\n      <td>1</td>\n      <td>3765.940533</td>\n      <td>0.094092</td>\n      <td>0.759055</td>\n      <td></td>\n    </tr>\n    <tr>\n      <th>1</th>\n      <td>7.093205e+06</td>\n      <td>1.418641e+06</td>\n      <td>5</td>\n      <td>44.777923</td>\n      <td>4.172206</td>\n      <td>0.003384</td>\n      <td>**</td>\n    </tr>\n    <tr>\n      <th>2</th>\n      <td>1.400592e+07</td>\n      <td>7.002960e+06</td>\n      <td>2</td>\n      <td>33.506419</td>\n      <td>20.595622</td>\n      <td>0.000001</td>\n      <td>***</td>\n    </tr>\n    <tr>\n      <th>3</th>\n      <td>6.075622e+06</td>\n      <td>3.037811e+06</td>\n      <td>2</td>\n      <td>4638.907938</td>\n      <td>8.934166</td>\n      <td>0.000134</td>\n      <td>***</td>\n    </tr>\n  </tbody>\n</table>\n</div>"
     },
     "execution_count": 6,
     "metadata": {},
     "output_type": "execute_result"
    }
   ],
   "source": [
    "mb2 = Lmer('rt ~ group:agent_state + group:ascription + infelicity'+rand_fx, data=df)\n",
    "mb2.fit(factors=mod_factors, summarize=False)\n",
    "agentxascrip = Lmer.anova(mb1, mb2)\n",
    "agentxascrip.iloc[:]"
   ]
  },
  {
   "cell_type": "markdown",
   "source": [
    "#### Result:\n",
    " Controlling for infelicity and the interaction of group x agent state and group x ascription type, the interaction of agent state and ascription reduces to marginal significance, p=.05.\n"
   ],
   "metadata": {
    "collapsed": false,
    "pycharm": {
     "name": "#%% md\n"
    }
   }
  },
  {
   "cell_type": "markdown",
   "metadata": {
    "pycharm": {
     "name": "#%% md\n"
    }
   },
   "source": [
    "### Interaction of Group x Ascription\n",
    "![](Figures/groupxascript.png)\n"
   ]
  },
  {
   "cell_type": "code",
   "execution_count": 7,
   "metadata": {
    "pycharm": {
     "name": "#%%\n"
    }
   },
   "outputs": [
    {
     "name": "stdout",
     "output_type": "stream",
     "text": [
      "boundary (singular) fit: see help('isSingular') \n",
      "\n",
      "boundary (singular) fit: see help('isSingular') \n",
      "\n",
      "boundary (singular) fit: see help('isSingular') \n",
      "\n",
      "boundary (singular) fit: see help('isSingular') \n",
      "\n",
      "SS Type III Analysis of Variance Table with Satterthwaite approximated degrees of freedom:\n",
      "(NOTE: Model refit with orthogonal polynomial contrasts)\n"
     ]
    },
    {
     "data": {
      "text/plain": "             SS            MS  NumDF      DenomDF     F-stat     P-val  Sig\n0  3.199344e+04  3.199344e+04      1  3765.940533   0.094092  0.759055     \n1  7.093205e+06  1.418641e+06      5    44.777923   4.172206  0.003384   **\n2  1.400592e+07  7.002960e+06      2    33.506419  20.595622  0.000001  ***\n3  6.075622e+06  3.037811e+06      2  4638.907938   8.934166  0.000134  ***",
      "text/html": "<div>\n<style scoped>\n    .dataframe tbody tr th:only-of-type {\n        vertical-align: middle;\n    }\n\n    .dataframe tbody tr th {\n        vertical-align: top;\n    }\n\n    .dataframe thead th {\n        text-align: right;\n    }\n</style>\n<table border=\"1\" class=\"dataframe\">\n  <thead>\n    <tr style=\"text-align: right;\">\n      <th></th>\n      <th>SS</th>\n      <th>MS</th>\n      <th>NumDF</th>\n      <th>DenomDF</th>\n      <th>F-stat</th>\n      <th>P-val</th>\n      <th>Sig</th>\n    </tr>\n  </thead>\n  <tbody>\n    <tr>\n      <th>0</th>\n      <td>3.199344e+04</td>\n      <td>3.199344e+04</td>\n      <td>1</td>\n      <td>3765.940533</td>\n      <td>0.094092</td>\n      <td>0.759055</td>\n      <td></td>\n    </tr>\n    <tr>\n      <th>1</th>\n      <td>7.093205e+06</td>\n      <td>1.418641e+06</td>\n      <td>5</td>\n      <td>44.777923</td>\n      <td>4.172206</td>\n      <td>0.003384</td>\n      <td>**</td>\n    </tr>\n    <tr>\n      <th>2</th>\n      <td>1.400592e+07</td>\n      <td>7.002960e+06</td>\n      <td>2</td>\n      <td>33.506419</td>\n      <td>20.595622</td>\n      <td>0.000001</td>\n      <td>***</td>\n    </tr>\n    <tr>\n      <th>3</th>\n      <td>6.075622e+06</td>\n      <td>3.037811e+06</td>\n      <td>2</td>\n      <td>4638.907938</td>\n      <td>8.934166</td>\n      <td>0.000134</td>\n      <td>***</td>\n    </tr>\n  </tbody>\n</table>\n</div>"
     },
     "execution_count": 7,
     "metadata": {},
     "output_type": "execute_result"
    }
   ],
   "source": [
    "#mb1 = Lmer('rt ~ group:agent_state + group:ascription + agent_state:ascription + infelicity'+rand_fx, data=df)\n",
    "mb3 = Lmer('rt ~ group:agent_state + agent_state:ascription + infelicity'+rand_fx, data=df)\n",
    "mb3.fit(factors=mod_factors, summarize=False)\n",
    "groupxascrip = Lmer.anova(mb1, mb3)\n",
    "groupxascrip.iloc[:]"
   ]
  },
  {
   "cell_type": "markdown",
   "source": [
    "#### Result:\n",
    "Controlling for infelicity, the interaction of agent state x group, and the interaction of agent state x ascription, there is a significant interaction between group and ascription. Suggesting that:\n",
    "- The effect of ascription on RT differs between groups\n",
    "OR\n",
    "- The effect of group on RT differs between ascription types"
   ],
   "metadata": {
    "collapsed": false,
    "pycharm": {
     "name": "#%% md\n"
    }
   }
  },
  {
   "cell_type": "markdown",
   "metadata": {
    "pycharm": {
     "name": "#%% md\n"
    }
   },
   "source": [
    "### Interaction of Group x Agent State\n",
    "![](Figures/agentxgroup.png)\n"
   ]
  },
  {
   "cell_type": "code",
   "execution_count": 8,
   "metadata": {
    "pycharm": {
     "name": "#%%\n"
    }
   },
   "outputs": [
    {
     "name": "stdout",
     "output_type": "stream",
     "text": [
      "Model failed to converge with max|grad| = 0.0085698 (tol = 0.002, component 1) \n",
      "\n",
      "boundary (singular) fit: see help('isSingular') \n",
      "\n",
      "boundary (singular) fit: see help('isSingular') \n",
      "\n",
      "boundary (singular) fit: see help('isSingular') \n",
      "\n",
      "boundary (singular) fit: see help('isSingular') \n",
      "\n",
      "SS Type III Analysis of Variance Table with Satterthwaite approximated degrees of freedom:\n",
      "(NOTE: Model refit with orthogonal polynomial contrasts)\n"
     ]
    },
    {
     "data": {
      "text/plain": "             SS            MS  NumDF      DenomDF     F-stat     P-val  Sig\n0  3.199344e+04  3.199344e+04      1  3765.940533   0.094092  0.759055     \n1  7.093205e+06  1.418641e+06      5    44.777923   4.172206  0.003384   **\n2  1.400592e+07  7.002960e+06      2    33.506419  20.595622  0.000001  ***\n3  6.075622e+06  3.037811e+06      2  4638.907938   8.934166  0.000134  ***",
      "text/html": "<div>\n<style scoped>\n    .dataframe tbody tr th:only-of-type {\n        vertical-align: middle;\n    }\n\n    .dataframe tbody tr th {\n        vertical-align: top;\n    }\n\n    .dataframe thead th {\n        text-align: right;\n    }\n</style>\n<table border=\"1\" class=\"dataframe\">\n  <thead>\n    <tr style=\"text-align: right;\">\n      <th></th>\n      <th>SS</th>\n      <th>MS</th>\n      <th>NumDF</th>\n      <th>DenomDF</th>\n      <th>F-stat</th>\n      <th>P-val</th>\n      <th>Sig</th>\n    </tr>\n  </thead>\n  <tbody>\n    <tr>\n      <th>0</th>\n      <td>3.199344e+04</td>\n      <td>3.199344e+04</td>\n      <td>1</td>\n      <td>3765.940533</td>\n      <td>0.094092</td>\n      <td>0.759055</td>\n      <td></td>\n    </tr>\n    <tr>\n      <th>1</th>\n      <td>7.093205e+06</td>\n      <td>1.418641e+06</td>\n      <td>5</td>\n      <td>44.777923</td>\n      <td>4.172206</td>\n      <td>0.003384</td>\n      <td>**</td>\n    </tr>\n    <tr>\n      <th>2</th>\n      <td>1.400592e+07</td>\n      <td>7.002960e+06</td>\n      <td>2</td>\n      <td>33.506419</td>\n      <td>20.595622</td>\n      <td>0.000001</td>\n      <td>***</td>\n    </tr>\n    <tr>\n      <th>3</th>\n      <td>6.075622e+06</td>\n      <td>3.037811e+06</td>\n      <td>2</td>\n      <td>4638.907938</td>\n      <td>8.934166</td>\n      <td>0.000134</td>\n      <td>***</td>\n    </tr>\n  </tbody>\n</table>\n</div>"
     },
     "execution_count": 8,
     "metadata": {},
     "output_type": "execute_result"
    }
   ],
   "source": [
    "mb4 = Lmer('rt ~ group:ascription + agent_state:ascription + infelicity'+rand_fx, data=df)\n",
    "mb4.fit(factors=mod_factors, summarize=False)\n",
    "grpxagent = Lmer.anova(mb1, mb4)\n",
    "grpxagent.iloc[:]"
   ]
  },
  {
   "cell_type": "markdown",
   "source": [
    "#### Result:\n",
    "Controlling for infelicity, the interaction of ascription x group, and the interaction of ascription x agent state, there is a significant interaction of group x agent state. Suggest that:\n",
    "- The effect of group on RT differs between agent states\n",
    "OR\n",
    "- The effect of agent state on RT differs between group"
   ],
   "metadata": {
    "collapsed": false,
    "pycharm": {
     "name": "#%% md\n"
    }
   }
  },
  {
   "cell_type": "markdown",
   "metadata": {
    "pycharm": {
     "name": "#%% md\n"
    }
   },
   "source": [
    "## Within Group - Neurotypical"
   ]
  },
  {
   "cell_type": "code",
   "execution_count": 9,
   "metadata": {
    "pycharm": {
     "name": "#%%\n"
    }
   },
   "outputs": [],
   "source": [
    "NT = df.loc[df.group == 'neurotypical']\n",
    "rand_fx = ' + (agent_state*ascription|item) + (agent_state|subject)'\n",
    "mod_factors = {'agent_state':NT.agent_state.unique().tolist(), 'ascription': NT.ascription.unique().tolist(), 'item':[str(x) for x in range(1,13)]}"
   ]
  },
  {
   "cell_type": "markdown",
   "metadata": {
    "pycharm": {
     "name": "#%% md\n"
    }
   },
   "source": [
    "### Agent State x Ascription Interaction - Neurotypical\n",
    "![](Figures/agentxascript_nt.png)"
   ]
  },
  {
   "cell_type": "code",
   "execution_count": 10,
   "metadata": {
    "pycharm": {
     "name": "#%%\n"
    }
   },
   "outputs": [
    {
     "name": "stdout",
     "output_type": "stream",
     "text": [
      "Model failed to converge with max|grad| = 0.00881185 (tol = 0.002, component 1) \n",
      "\n",
      "boundary (singular) fit: see help('isSingular') \n",
      "\n",
      "Model failed to converge with max|grad| = 0.00881185 (tol = 0.002, component 1) \n",
      "\n",
      "boundary (singular) fit: see help('isSingular') \n",
      "\n",
      "SS Type III Analysis of Variance Table with Satterthwaite approximated degrees of freedom:\n",
      "(NOTE: Model refit with orthogonal polynomial contrasts)\n"
     ]
    },
    {
     "data": {
      "text/plain": "             SS            MS  NumDF      DenomDF     F-stat     P-val  Sig\n0  5.097716e+05  2.548858e+05      2    11.941731   0.961018  0.410208     \n1  8.530022e+06  8.530022e+06      1    11.113858  32.161496  0.000139  ***\n2  9.466365e+04  9.466365e+04      1  3281.390631   0.356919  0.550264     \n3  1.555735e+06  7.778677e+05      2    10.448258   2.932863  0.097509    .",
      "text/html": "<div>\n<style scoped>\n    .dataframe tbody tr th:only-of-type {\n        vertical-align: middle;\n    }\n\n    .dataframe tbody tr th {\n        vertical-align: top;\n    }\n\n    .dataframe thead th {\n        text-align: right;\n    }\n</style>\n<table border=\"1\" class=\"dataframe\">\n  <thead>\n    <tr style=\"text-align: right;\">\n      <th></th>\n      <th>SS</th>\n      <th>MS</th>\n      <th>NumDF</th>\n      <th>DenomDF</th>\n      <th>F-stat</th>\n      <th>P-val</th>\n      <th>Sig</th>\n    </tr>\n  </thead>\n  <tbody>\n    <tr>\n      <th>0</th>\n      <td>5.097716e+05</td>\n      <td>2.548858e+05</td>\n      <td>2</td>\n      <td>11.941731</td>\n      <td>0.961018</td>\n      <td>0.410208</td>\n      <td></td>\n    </tr>\n    <tr>\n      <th>1</th>\n      <td>8.530022e+06</td>\n      <td>8.530022e+06</td>\n      <td>1</td>\n      <td>11.113858</td>\n      <td>32.161496</td>\n      <td>0.000139</td>\n      <td>***</td>\n    </tr>\n    <tr>\n      <th>2</th>\n      <td>9.466365e+04</td>\n      <td>9.466365e+04</td>\n      <td>1</td>\n      <td>3281.390631</td>\n      <td>0.356919</td>\n      <td>0.550264</td>\n      <td></td>\n    </tr>\n    <tr>\n      <th>3</th>\n      <td>1.555735e+06</td>\n      <td>7.778677e+05</td>\n      <td>2</td>\n      <td>10.448258</td>\n      <td>2.932863</td>\n      <td>0.097509</td>\n      <td>.</td>\n    </tr>\n  </tbody>\n</table>\n</div>"
     },
     "execution_count": 10,
     "metadata": {},
     "output_type": "execute_result"
    }
   ],
   "source": [
    "m0 = Lmer('rt ~ agent_state*ascription + infelicity'+rand_fx, data=NT)\n",
    "m0.fit(factors=mod_factors, summarize=False)\n",
    "m1 = Lmer('rt ~ agent_state + ascription + infelicity'+rand_fx, data=NT)\n",
    "m1.fit(factors=mod_factors, summarize=False)\n",
    "interaction_effct = Lmer.anova(m0, m1)\n",
    "interaction_effct.iloc[:]"
   ]
  },
  {
   "cell_type": "markdown",
   "source": [
    "#### Result:\n",
    "Controlling for their isolated effects, the interaction of agent state x ascription is significant in neurotypicals,p=.03; suggesting that:\n",
    "- The effect of agent state on RT is different between ascription types.\n",
    "OR\n",
    "- The effect of ascription on RT is different between agent states"
   ],
   "metadata": {
    "collapsed": false,
    "pycharm": {
     "name": "#%% md\n"
    }
   }
  },
  {
   "cell_type": "markdown",
   "metadata": {
    "pycharm": {
     "name": "#%% md\n"
    }
   },
   "source": [
    "### Main Effect of Agent State - Neurotypical\n",
    "![](Figures/agent_nt.png)"
   ]
  },
  {
   "cell_type": "code",
   "execution_count": 11,
   "metadata": {
    "pycharm": {
     "name": "#%%\n"
    }
   },
   "outputs": [
    {
     "name": "stdout",
     "output_type": "stream",
     "text": [
      "Model failed to converge with max|grad| = 0.0048822 (tol = 0.002, component 1) \n",
      "\n",
      "boundary (singular) fit: see help('isSingular') \n",
      "\n",
      "Model failed to converge with max|grad| = 0.00239575 (tol = 0.002, component 1) \n",
      "\n",
      "SS Type III Analysis of Variance Table with Satterthwaite approximated degrees of freedom:\n",
      "(NOTE: Model refit with orthogonal polynomial contrasts)\n"
     ]
    },
    {
     "data": {
      "text/plain": "             SS            MS  NumDF      DenomDF     F-stat     P-val  Sig\n0  1.937798e+06  9.688989e+05      2    11.631839   3.660970  0.058445    .\n1  1.035652e+07  1.035652e+07      1    10.859509  39.131944  0.000066  ***\n2  8.366882e+04  8.366882e+04      1  3278.245631   0.316141  0.573974     ",
      "text/html": "<div>\n<style scoped>\n    .dataframe tbody tr th:only-of-type {\n        vertical-align: middle;\n    }\n\n    .dataframe tbody tr th {\n        vertical-align: top;\n    }\n\n    .dataframe thead th {\n        text-align: right;\n    }\n</style>\n<table border=\"1\" class=\"dataframe\">\n  <thead>\n    <tr style=\"text-align: right;\">\n      <th></th>\n      <th>SS</th>\n      <th>MS</th>\n      <th>NumDF</th>\n      <th>DenomDF</th>\n      <th>F-stat</th>\n      <th>P-val</th>\n      <th>Sig</th>\n    </tr>\n  </thead>\n  <tbody>\n    <tr>\n      <th>0</th>\n      <td>1.937798e+06</td>\n      <td>9.688989e+05</td>\n      <td>2</td>\n      <td>11.631839</td>\n      <td>3.660970</td>\n      <td>0.058445</td>\n      <td>.</td>\n    </tr>\n    <tr>\n      <th>1</th>\n      <td>1.035652e+07</td>\n      <td>1.035652e+07</td>\n      <td>1</td>\n      <td>10.859509</td>\n      <td>39.131944</td>\n      <td>0.000066</td>\n      <td>***</td>\n    </tr>\n    <tr>\n      <th>2</th>\n      <td>8.366882e+04</td>\n      <td>8.366882e+04</td>\n      <td>1</td>\n      <td>3278.245631</td>\n      <td>0.316141</td>\n      <td>0.573974</td>\n      <td></td>\n    </tr>\n  </tbody>\n</table>\n</div>"
     },
     "execution_count": 11,
     "metadata": {},
     "output_type": "execute_result"
    }
   ],
   "source": [
    "m2 = Lmer('rt ~ ascription + infelicity'+rand_fx, data=NT)\n",
    "m2.fit(factors=mod_factors, summarize=False)\n",
    "agent_state_effect= Lmer.anova(m1,m2 )\n",
    "agent_state_effect.iloc[:]"
   ]
  },
  {
   "cell_type": "markdown",
   "source": [
    "#### Result:\n",
    "There is only a marginally significant effect of agent state in the neurotypical group when controlling for ascription, p=.05."
   ],
   "metadata": {
    "collapsed": false,
    "pycharm": {
     "name": "#%% md\n"
    }
   }
  },
  {
   "cell_type": "markdown",
   "metadata": {
    "pycharm": {
     "name": "#%% md\n"
    }
   },
   "source": [
    "### Main Effect of Ascription - Neurotypical\n",
    "![](Figures/ascript_nt.png)"
   ]
  },
  {
   "cell_type": "code",
   "execution_count": 12,
   "metadata": {
    "pycharm": {
     "name": "#%%\n"
    }
   },
   "outputs": [
    {
     "name": "stdout",
     "output_type": "stream",
     "text": [
      "boundary (singular) fit: see help('isSingular') \n",
      "\n",
      "boundary (singular) fit: see help('isSingular') \n",
      "\n",
      "Model failed to converge with max|grad| = 0.00239575 (tol = 0.002, component 1) \n",
      "\n",
      "Model failed to converge with max|grad| = 0.00239575 (tol = 0.002, component 1) \n",
      "\n",
      "SS Type III Analysis of Variance Table with Satterthwaite approximated degrees of freedom:\n",
      "(NOTE: Model refit with orthogonal polynomial contrasts)\n"
     ]
    },
    {
     "data": {
      "text/plain": "             SS            MS  NumDF      DenomDF     F-stat     P-val  Sig\n0  1.937798e+06  9.688989e+05      2    11.631839   3.660970  0.058445    .\n1  1.035652e+07  1.035652e+07      1    10.859509  39.131944  0.000066  ***\n2  8.366882e+04  8.366882e+04      1  3278.245631   0.316141  0.573974     ",
      "text/html": "<div>\n<style scoped>\n    .dataframe tbody tr th:only-of-type {\n        vertical-align: middle;\n    }\n\n    .dataframe tbody tr th {\n        vertical-align: top;\n    }\n\n    .dataframe thead th {\n        text-align: right;\n    }\n</style>\n<table border=\"1\" class=\"dataframe\">\n  <thead>\n    <tr style=\"text-align: right;\">\n      <th></th>\n      <th>SS</th>\n      <th>MS</th>\n      <th>NumDF</th>\n      <th>DenomDF</th>\n      <th>F-stat</th>\n      <th>P-val</th>\n      <th>Sig</th>\n    </tr>\n  </thead>\n  <tbody>\n    <tr>\n      <th>0</th>\n      <td>1.937798e+06</td>\n      <td>9.688989e+05</td>\n      <td>2</td>\n      <td>11.631839</td>\n      <td>3.660970</td>\n      <td>0.058445</td>\n      <td>.</td>\n    </tr>\n    <tr>\n      <th>1</th>\n      <td>1.035652e+07</td>\n      <td>1.035652e+07</td>\n      <td>1</td>\n      <td>10.859509</td>\n      <td>39.131944</td>\n      <td>0.000066</td>\n      <td>***</td>\n    </tr>\n    <tr>\n      <th>2</th>\n      <td>8.366882e+04</td>\n      <td>8.366882e+04</td>\n      <td>1</td>\n      <td>3278.245631</td>\n      <td>0.316141</td>\n      <td>0.573974</td>\n      <td></td>\n    </tr>\n  </tbody>\n</table>\n</div>"
     },
     "execution_count": 12,
     "metadata": {},
     "output_type": "execute_result"
    }
   ],
   "source": [
    "m3 = Lmer('rt ~ agent_state + infelicity'+rand_fx, data=NT)\n",
    "m3.fit(factors=mod_factors, summarize=False)\n",
    "ascription_effect = Lmer.anova(m1, m3)\n",
    "ascription_effect.iloc[:]"
   ]
  },
  {
   "cell_type": "markdown",
   "source": [
    "#### Result:\n",
    "Controlling for the effect of agent state, ascription type has a significant effect on RT in the neurotypical group, p=00009."
   ],
   "metadata": {
    "collapsed": false,
    "pycharm": {
     "name": "#%% md\n"
    }
   }
  },
  {
   "cell_type": "markdown",
   "source": [
    "## Post-hoc tests of Agent State x Ascription Interaction in Neurotypical group"
   ],
   "metadata": {
    "collapsed": false,
    "pycharm": {
     "name": "#%% md\n"
    }
   }
  },
  {
   "cell_type": "code",
   "execution_count": 13,
   "outputs": [
    {
     "ename": "RRuntimeError",
     "evalue": "Error in emmeans(model, pairwise ~ ascription | group + agent_state, adjust = \"tukey\",  : \n  No variable named group in the reference grid\n",
     "output_type": "error",
     "traceback": [
      "\u001B[0;31m---------------------------------------------------------------------------\u001B[0m",
      "\u001B[0;31mRRuntimeError\u001B[0m                             Traceback (most recent call last)",
      "\u001B[0;32m<ipython-input-13-348777dc27dc>\u001B[0m in \u001B[0;36m<module>\u001B[0;34m\u001B[0m\n\u001B[0;32m----> 1\u001B[0;31m \u001B[0mmarginal_estimates\u001B[0m\u001B[0;34m,\u001B[0m \u001B[0mcomparisons\u001B[0m \u001B[0;34m=\u001B[0m \u001B[0mm0\u001B[0m\u001B[0;34m.\u001B[0m\u001B[0mpost_hoc\u001B[0m\u001B[0;34m(\u001B[0m\u001B[0mmarginal_vars\u001B[0m\u001B[0;34m=\u001B[0m\u001B[0;34m'ascription'\u001B[0m\u001B[0;34m,\u001B[0m \u001B[0mgrouping_vars\u001B[0m\u001B[0;34m=\u001B[0m\u001B[0;34m[\u001B[0m\u001B[0;34m'group'\u001B[0m\u001B[0;34m,\u001B[0m\u001B[0;34m'agent_state'\u001B[0m\u001B[0;34m]\u001B[0m\u001B[0;34m)\u001B[0m\u001B[0;34m\u001B[0m\u001B[0;34m\u001B[0m\u001B[0m\n\u001B[0m\u001B[1;32m      2\u001B[0m \u001B[0mcomparisons\u001B[0m\u001B[0;34m\u001B[0m\u001B[0;34m\u001B[0m\u001B[0m\n\u001B[1;32m      3\u001B[0m \u001B[0;31m#m0.marginal_contrasts\u001B[0m\u001B[0;34m\u001B[0m\u001B[0;34m\u001B[0m\u001B[0;34m\u001B[0m\u001B[0m\n",
      "\u001B[0;32m/Library/Frameworks/Python.framework/Versions/3.8/lib/python3.8/site-packages/pymer4/models/Lmer.py\u001B[0m in \u001B[0;36mpost_hoc\u001B[0;34m(self, marginal_vars, grouping_vars, p_adjust, summarize, dof_asymptotic_at, verbose)\u001B[0m\n\u001B[1;32m   1224\u001B[0m \u001B[0;34m\u001B[0m\u001B[0m\n\u001B[1;32m   1225\u001B[0m         \u001B[0mfunc\u001B[0m \u001B[0;34m=\u001B[0m \u001B[0mrobjects\u001B[0m\u001B[0;34m.\u001B[0m\u001B[0mr\u001B[0m\u001B[0;34m(\u001B[0m\u001B[0mrstring\u001B[0m\u001B[0;34m)\u001B[0m\u001B[0;34m\u001B[0m\u001B[0;34m\u001B[0m\u001B[0m\n\u001B[0;32m-> 1226\u001B[0;31m         \u001B[0mres\u001B[0m \u001B[0;34m=\u001B[0m \u001B[0mfunc\u001B[0m\u001B[0;34m(\u001B[0m\u001B[0mself\u001B[0m\u001B[0;34m.\u001B[0m\u001B[0mmodel_obj\u001B[0m\u001B[0;34m)\u001B[0m\u001B[0;34m\u001B[0m\u001B[0;34m\u001B[0m\u001B[0m\n\u001B[0m\u001B[1;32m   1227\u001B[0m         \u001B[0memmeans\u001B[0m \u001B[0;34m=\u001B[0m \u001B[0mimportr\u001B[0m\u001B[0;34m(\u001B[0m\u001B[0;34m\"emmeans\"\u001B[0m\u001B[0;34m)\u001B[0m\u001B[0;34m\u001B[0m\u001B[0;34m\u001B[0m\u001B[0m\n\u001B[1;32m   1228\u001B[0m \u001B[0;34m\u001B[0m\u001B[0m\n",
      "\u001B[0;32m/Library/Frameworks/Python.framework/Versions/3.8/lib/python3.8/site-packages/rpy2/robjects/functions.py\u001B[0m in \u001B[0;36m__call__\u001B[0;34m(self, *args, **kwargs)\u001B[0m\n\u001B[1;32m    196\u001B[0m                 \u001B[0mv\u001B[0m \u001B[0;34m=\u001B[0m \u001B[0mkwargs\u001B[0m\u001B[0;34m.\u001B[0m\u001B[0mpop\u001B[0m\u001B[0;34m(\u001B[0m\u001B[0mk\u001B[0m\u001B[0;34m)\u001B[0m\u001B[0;34m\u001B[0m\u001B[0;34m\u001B[0m\u001B[0m\n\u001B[1;32m    197\u001B[0m                 \u001B[0mkwargs\u001B[0m\u001B[0;34m[\u001B[0m\u001B[0mr_k\u001B[0m\u001B[0;34m]\u001B[0m \u001B[0;34m=\u001B[0m \u001B[0mv\u001B[0m\u001B[0;34m\u001B[0m\u001B[0;34m\u001B[0m\u001B[0m\n\u001B[0;32m--> 198\u001B[0;31m         return (super(SignatureTranslatedFunction, self)\n\u001B[0m\u001B[1;32m    199\u001B[0m                 .__call__(*args, **kwargs))\n\u001B[1;32m    200\u001B[0m \u001B[0;34m\u001B[0m\u001B[0m\n",
      "\u001B[0;32m/Library/Frameworks/Python.framework/Versions/3.8/lib/python3.8/site-packages/rpy2/robjects/functions.py\u001B[0m in \u001B[0;36m__call__\u001B[0;34m(self, *args, **kwargs)\u001B[0m\n\u001B[1;32m    123\u001B[0m             \u001B[0;32melse\u001B[0m\u001B[0;34m:\u001B[0m\u001B[0;34m\u001B[0m\u001B[0;34m\u001B[0m\u001B[0m\n\u001B[1;32m    124\u001B[0m                 \u001B[0mnew_kwargs\u001B[0m\u001B[0;34m[\u001B[0m\u001B[0mk\u001B[0m\u001B[0;34m]\u001B[0m \u001B[0;34m=\u001B[0m \u001B[0mconversion\u001B[0m\u001B[0;34m.\u001B[0m\u001B[0mpy2rpy\u001B[0m\u001B[0;34m(\u001B[0m\u001B[0mv\u001B[0m\u001B[0;34m)\u001B[0m\u001B[0;34m\u001B[0m\u001B[0;34m\u001B[0m\u001B[0m\n\u001B[0;32m--> 125\u001B[0;31m         \u001B[0mres\u001B[0m \u001B[0;34m=\u001B[0m \u001B[0msuper\u001B[0m\u001B[0;34m(\u001B[0m\u001B[0mFunction\u001B[0m\u001B[0;34m,\u001B[0m \u001B[0mself\u001B[0m\u001B[0;34m)\u001B[0m\u001B[0;34m.\u001B[0m\u001B[0m__call__\u001B[0m\u001B[0;34m(\u001B[0m\u001B[0;34m*\u001B[0m\u001B[0mnew_args\u001B[0m\u001B[0;34m,\u001B[0m \u001B[0;34m**\u001B[0m\u001B[0mnew_kwargs\u001B[0m\u001B[0;34m)\u001B[0m\u001B[0;34m\u001B[0m\u001B[0;34m\u001B[0m\u001B[0m\n\u001B[0m\u001B[1;32m    126\u001B[0m         \u001B[0mres\u001B[0m \u001B[0;34m=\u001B[0m \u001B[0mconversion\u001B[0m\u001B[0;34m.\u001B[0m\u001B[0mrpy2py\u001B[0m\u001B[0;34m(\u001B[0m\u001B[0mres\u001B[0m\u001B[0;34m)\u001B[0m\u001B[0;34m\u001B[0m\u001B[0;34m\u001B[0m\u001B[0m\n\u001B[1;32m    127\u001B[0m         \u001B[0;32mreturn\u001B[0m \u001B[0mres\u001B[0m\u001B[0;34m\u001B[0m\u001B[0;34m\u001B[0m\u001B[0m\n",
      "\u001B[0;32m/Library/Frameworks/Python.framework/Versions/3.8/lib/python3.8/site-packages/rpy2/rinterface_lib/conversion.py\u001B[0m in \u001B[0;36m_\u001B[0;34m(*args, **kwargs)\u001B[0m\n\u001B[1;32m     43\u001B[0m \u001B[0;32mdef\u001B[0m \u001B[0m_cdata_res_to_rinterface\u001B[0m\u001B[0;34m(\u001B[0m\u001B[0mfunction\u001B[0m\u001B[0;34m)\u001B[0m\u001B[0;34m:\u001B[0m\u001B[0;34m\u001B[0m\u001B[0;34m\u001B[0m\u001B[0m\n\u001B[1;32m     44\u001B[0m     \u001B[0;32mdef\u001B[0m \u001B[0m_\u001B[0m\u001B[0;34m(\u001B[0m\u001B[0;34m*\u001B[0m\u001B[0margs\u001B[0m\u001B[0;34m,\u001B[0m \u001B[0;34m**\u001B[0m\u001B[0mkwargs\u001B[0m\u001B[0;34m)\u001B[0m\u001B[0;34m:\u001B[0m\u001B[0;34m\u001B[0m\u001B[0;34m\u001B[0m\u001B[0m\n\u001B[0;32m---> 45\u001B[0;31m         \u001B[0mcdata\u001B[0m \u001B[0;34m=\u001B[0m \u001B[0mfunction\u001B[0m\u001B[0;34m(\u001B[0m\u001B[0;34m*\u001B[0m\u001B[0margs\u001B[0m\u001B[0;34m,\u001B[0m \u001B[0;34m**\u001B[0m\u001B[0mkwargs\u001B[0m\u001B[0;34m)\u001B[0m\u001B[0;34m\u001B[0m\u001B[0;34m\u001B[0m\u001B[0m\n\u001B[0m\u001B[1;32m     46\u001B[0m         \u001B[0;31m# TODO: test cdata is of the expected CType\u001B[0m\u001B[0;34m\u001B[0m\u001B[0;34m\u001B[0m\u001B[0;34m\u001B[0m\u001B[0m\n\u001B[1;32m     47\u001B[0m         \u001B[0;32mreturn\u001B[0m \u001B[0m_cdata_to_rinterface\u001B[0m\u001B[0;34m(\u001B[0m\u001B[0mcdata\u001B[0m\u001B[0;34m)\u001B[0m\u001B[0;34m\u001B[0m\u001B[0;34m\u001B[0m\u001B[0m\n",
      "\u001B[0;32m/Library/Frameworks/Python.framework/Versions/3.8/lib/python3.8/site-packages/rpy2/rinterface.py\u001B[0m in \u001B[0;36m__call__\u001B[0;34m(self, *args, **kwargs)\u001B[0m\n\u001B[1;32m    678\u001B[0m             )\n\u001B[1;32m    679\u001B[0m             \u001B[0;32mif\u001B[0m \u001B[0merror_occured\u001B[0m\u001B[0;34m[\u001B[0m\u001B[0;36m0\u001B[0m\u001B[0;34m]\u001B[0m\u001B[0;34m:\u001B[0m\u001B[0;34m\u001B[0m\u001B[0;34m\u001B[0m\u001B[0m\n\u001B[0;32m--> 680\u001B[0;31m                 \u001B[0;32mraise\u001B[0m \u001B[0membedded\u001B[0m\u001B[0;34m.\u001B[0m\u001B[0mRRuntimeError\u001B[0m\u001B[0;34m(\u001B[0m\u001B[0m_rinterface\u001B[0m\u001B[0;34m.\u001B[0m\u001B[0m_geterrmessage\u001B[0m\u001B[0;34m(\u001B[0m\u001B[0;34m)\u001B[0m\u001B[0;34m)\u001B[0m\u001B[0;34m\u001B[0m\u001B[0;34m\u001B[0m\u001B[0m\n\u001B[0m\u001B[1;32m    681\u001B[0m         \u001B[0;32mreturn\u001B[0m \u001B[0mres\u001B[0m\u001B[0;34m\u001B[0m\u001B[0;34m\u001B[0m\u001B[0m\n\u001B[1;32m    682\u001B[0m \u001B[0;34m\u001B[0m\u001B[0m\n",
      "\u001B[0;31mRRuntimeError\u001B[0m: Error in emmeans(model, pairwise ~ ascription | group + agent_state, adjust = \"tukey\",  : \n  No variable named group in the reference grid\n"
     ]
    }
   ],
   "source": [
    "marginal_estimates, comparisons = m0.post_hoc(marginal_vars='ascription', grouping_vars=['group','agent_state'])\n",
    "comparisons\n",
    "#m0.marginal_contrasts"
   ],
   "metadata": {
    "collapsed": false,
    "pycharm": {
     "name": "#%%\n"
    }
   }
  },
  {
   "cell_type": "markdown",
   "metadata": {
    "pycharm": {
     "name": "#%% md\n"
    }
   },
   "source": [
    "## Within Group - Autism"
   ]
  },
  {
   "cell_type": "code",
   "execution_count": null,
   "metadata": {
    "pycharm": {
     "name": "#%%\n"
    }
   },
   "outputs": [],
   "source": [
    "ASD =  df.loc[df.group == 'autism']"
   ]
  },
  {
   "cell_type": "markdown",
   "metadata": {
    "pycharm": {
     "name": "#%% md\n"
    }
   },
   "source": [
    "### Agent State x Ascription Interaction - Autism\n",
    "![](Figures/agentxascript_asd.png)"
   ]
  },
  {
   "cell_type": "code",
   "execution_count": null,
   "metadata": {
    "pycharm": {
     "name": "#%%\n"
    }
   },
   "outputs": [],
   "source": [
    "m0a = Lmer('rt ~ agent_state*ascription + infelicity'+rand_fx, data=ASD)\n",
    "m0a.fit(factors=mod_factors, summarize=False)\n",
    "m1a = Lmer('rt ~ agent_state + ascription + infelicity'+rand_fx, data=ASD)\n",
    "m1a.fit(factors=mod_factors, summarize=False)\n",
    "interaction_effct_a = Lmer.anova(m0a, m1a)#.iloc[:]\n",
    "interaction_effct_a.iloc[:]"
   ]
  },
  {
   "cell_type": "markdown",
   "source": [
    "#### Result:\n",
    "Controlling for their isolated effects, there is not a significant interaction between Agent state and ascription type in the autism group."
   ],
   "metadata": {
    "collapsed": false,
    "pycharm": {
     "name": "#%% md\n"
    }
   }
  },
  {
   "cell_type": "markdown",
   "metadata": {
    "pycharm": {
     "name": "#%% md\n"
    }
   },
   "source": [
    "### Main Effect of Agent State - Autism\n",
    "![](Figures/agent_asd.png)"
   ]
  },
  {
   "cell_type": "code",
   "execution_count": null,
   "metadata": {
    "pycharm": {
     "name": "#%%\n"
    }
   },
   "outputs": [],
   "source": [
    "m2a = Lmer('rt ~ ascription + infelicity'+rand_fx, data=ASD)\n",
    "m2a.fit(factors=mod_factors, summarize=False)\n",
    "agent_state_effect_a= Lmer.anova(m1a,m2a )\n",
    "agent_state_effect_a.iloc[:]"
   ]
  },
  {
   "cell_type": "markdown",
   "source": [
    "#### Result:\n",
    "Controlling for the effect of ascription, there is a significant effect of agent state on RT in the autism group, p=.04"
   ],
   "metadata": {
    "collapsed": false,
    "pycharm": {
     "name": "#%% md\n"
    }
   }
  },
  {
   "cell_type": "markdown",
   "metadata": {
    "pycharm": {
     "name": "#%% md\n"
    }
   },
   "source": [
    "### Main Effect of Ascription - Autism\n",
    "![](Figures/ascript_asd.png)"
   ]
  },
  {
   "cell_type": "code",
   "execution_count": null,
   "metadata": {
    "pycharm": {
     "name": "#%%\n"
    }
   },
   "outputs": [],
   "source": [
    "m3a = Lmer('rt ~ agent_state + infelicity'+rand_fx, data=ASD)\n",
    "m3a.fit(factors=mod_factors, summarize=False)\n",
    "ascription_effect_a = Lmer.anova(m1a, m3a)\n",
    "ascription_effect_a.iloc[:]"
   ]
  },
  {
   "cell_type": "markdown",
   "source": [
    "#### Result:\n",
    "Controlling for agent state, there is a significant effect of ascription type on RT in the autism group, p=.00005"
   ],
   "metadata": {
    "collapsed": false,
    "pycharm": {
     "name": "#%% md\n"
    }
   }
  },
  {
   "cell_type": "code",
   "execution_count": null,
   "outputs": [],
   "source": [],
   "metadata": {
    "collapsed": false,
    "pycharm": {
     "name": "#%%\n"
    }
   }
  }
 ],
 "metadata": {
  "kernelspec": {
   "display_name": "Python 3",
   "language": "python",
   "name": "python3"
  },
  "language_info": {
   "codemirror_mode": {
    "name": "ipython",
    "version": 3
   },
   "file_extension": ".py",
   "mimetype": "text/x-python",
   "name": "python",
   "nbconvert_exporter": "python",
   "pygments_lexer": "ipython3",
   "version": "3.8.1"
  },
  "toc": {
   "base_numbering": 1,
   "nav_menu": {},
   "number_sections": true,
   "sideBar": true,
   "skip_h1_title": true,
   "title_cell": "Table of Contents",
   "title_sidebar": "Contents",
   "toc_cell": true,
   "toc_position": {},
   "toc_section_display": true,
   "toc_window_display": true
  },
  "varInspector": {
   "cols": {
    "lenName": 16,
    "lenType": 16,
    "lenVar": 40
   },
   "kernels_config": {
    "python": {
     "delete_cmd_postfix": "",
     "delete_cmd_prefix": "del ",
     "library": "var_list.py",
     "varRefreshCmd": "print(var_dic_list())"
    },
    "r": {
     "delete_cmd_postfix": ") ",
     "delete_cmd_prefix": "rm(",
     "library": "var_list.r",
     "varRefreshCmd": "cat(var_dic_list()) "
    }
   },
   "types_to_exclude": [
    "module",
    "function",
    "builtin_function_or_method",
    "instance",
    "_Feature"
   ],
   "window_display": false
  }
 },
 "nbformat": 4,
 "nbformat_minor": 1
}