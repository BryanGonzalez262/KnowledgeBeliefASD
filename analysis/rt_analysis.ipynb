{
 "cells": [
  {
   "cell_type": "markdown",
   "source": [
    "<h1>Table of Contents<span class=\"tocSkip\"></span></h1>\n",
    "<div class=\"toc\"><ul class=\"toc-item\"><li><span><a href=\"#Between-Groups\" data-toc-modified-id=\"Between-Groups-1\"><span class=\"toc-item-num\">1&nbsp;&nbsp;</span>Between Groups</a></span><ul class=\"toc-item\"><li><span><a href=\"#3-way-interaction-effect-of-Group-x-Agent-State-x-Ascription\" data-toc-modified-id=\"3-way-interaction-effect-of-Group-x-Agent-State-x-Ascription-1.1\"><span class=\"toc-item-num\">1.1&nbsp;&nbsp;</span>3-way interaction effect of Group x Agent State x Ascription</a></span></li><li><span><a href=\"#Interaction-of-Agent-State-x-Ascription\" data-toc-modified-id=\"Interaction-of-Agent-State-x-Ascription-1.2\"><span class=\"toc-item-num\">1.2&nbsp;&nbsp;</span>Interaction of Agent State x Ascription</a></span></li><li><span><a href=\"#Interaction-of-Group-x-Ascription\" data-toc-modified-id=\"Interaction-of-Group-x-Ascription-1.3\"><span class=\"toc-item-num\">1.3&nbsp;&nbsp;</span>Interaction of Group x Ascription</a></span></li><li><span><a href=\"#Interaction-of-Group-x-Agent-State\" data-toc-modified-id=\"Interaction-of-Group-x-Agent-State-1.4\"><span class=\"toc-item-num\">1.4&nbsp;&nbsp;</span>Interaction of Group x Agent State</a></span></li></ul></li><li><span><a href=\"#Within-Group---Neurotypical\" data-toc-modified-id=\"Within-Group---Neurotypical-2\"><span class=\"toc-item-num\">2&nbsp;&nbsp;</span>Within Group - Neurotypical</a></span><ul class=\"toc-item\"><li><span><a href=\"#Agent-State-x-Ascription-Interaction---Neurotypical\" data-toc-modified-id=\"Agent-State-x-Ascription-Interaction---Neurotypical-2.1\"><span class=\"toc-item-num\">2.1&nbsp;&nbsp;</span>Agent State x Ascription Interaction - Neurotypical</a></span></li><li><span><a href=\"#Main-Effect-of-Agent-State---Neurotypical\" data-toc-modified-id=\"Main-Effect-of-Agent-State---Neurotypical-2.2\"><span class=\"toc-item-num\">2.2&nbsp;&nbsp;</span>Main Effect of Agent State - Neurotypical</a></span></li><li><span><a href=\"#Main-Effect-of-Ascription---Neurotypical\" data-toc-modified-id=\"Main-Effect-of-Ascription---Neurotypical-2.3\"><span class=\"toc-item-num\">2.3&nbsp;&nbsp;</span>Main Effect of Ascription - Neurotypical</a></span></li></ul></li><li><span><a href=\"#Within-Group---Autism\" data-toc-modified-id=\"Within-Group---Autism-3\"><span class=\"toc-item-num\">3&nbsp;&nbsp;</span>Within Group - Autism</a></span><ul class=\"toc-item\"><li><span><a href=\"#Agent-State-x-Ascription-Interaction---Autism\" data-toc-modified-id=\"Agent-State-x-Ascription-Interaction---Autism-3.1\"><span class=\"toc-item-num\">3.1&nbsp;&nbsp;</span>Agent State x Ascription Interaction - Autism</a></span></li><li><span><a href=\"#Main-Effect-of-Agent-State---Autism\" data-toc-modified-id=\"Main-Effect-of-Agent-State---Autism-3.2\"><span class=\"toc-item-num\">3.2&nbsp;&nbsp;</span>Main Effect of Agent State - Autism</a></span></li><li><span><a href=\"#Main-Effect-of-Ascription---Autism\" data-toc-modified-id=\"Main-Effect-of-Ascription---Autism-3.3\"><span class=\"toc-item-num\">3.3&nbsp;&nbsp;</span>Main Effect of Ascription - Autism</a></span></li></ul></li></ul></div>"
   ],
   "metadata": {
    "collapsed": false,
    "pycharm": {
     "name": "#%% md\n"
    }
   }
  },
  {
   "cell_type": "markdown",
   "metadata": {
    "pycharm": {
     "name": "#%% md\n"
    }
   },
   "source": [
    "# Imports"
   ]
  },
  {
   "cell_type": "code",
   "execution_count": 2,
   "metadata": {
    "collapsed": true,
    "pycharm": {
     "name": "#%%\n"
    }
   },
   "outputs": [
    {
     "name": "stderr",
     "output_type": "stream",
     "text": [
      "/Library/Frameworks/Python.framework/Versions/3.8/lib/python3.8/site-packages/rpy2/robjects/vectors.py:980: UserWarning: R object inheriting from \"POSIXct\" but without attribute \"tzone\".\n",
      "  warnings.warn('R object inheriting from \"POSIXct\" but without '\n"
     ]
    }
   ],
   "source": [
    "import pandas as pd\n",
    "from pymer4 import Lmer\n",
    "import warnings\n",
    "warnings.filterwarnings('ignore')\n",
    "\n",
    "dat = pd.read_csv('./Data/full_sample_clean.csv', index_col=0)\n",
    "df = dat.loc[dat.in_sample == True].reset_index(drop=True).drop('diag', axis=1)"
   ]
  },
  {
   "cell_type": "markdown",
   "metadata": {
    "pycharm": {
     "name": "#%% md\n"
    }
   },
   "source": [
    "# Response Time"
   ]
  },
  {
   "cell_type": "markdown",
   "metadata": {
    "pycharm": {
     "name": "#%% md\n"
    }
   },
   "source": [
    "## Between Groups"
   ]
  },
  {
   "cell_type": "code",
   "execution_count": 3,
   "metadata": {
    "pycharm": {
     "name": "#%%\n"
    }
   },
   "outputs": [],
   "source": [
    "mod_factors = {'group':df.group.unique().tolist(), 'agent_state':df.agent_state.unique().tolist(),\n",
    "               'ascription': df.ascription.unique().tolist(), 'item':[str(x) for x in range(1,13)]}\n",
    "rand_fx = ' + (agent_state + ascription|item) + (agent_state|subject)'"
   ]
  },
  {
   "cell_type": "markdown",
   "metadata": {
    "pycharm": {
     "name": "#%% md\n"
    }
   },
   "source": [
    "### 3-way interaction effect of Group x Agent State x Ascription\n",
    "![](Figures/groupxascrip_rt.png)\n"
   ]
  },
  {
   "cell_type": "code",
   "execution_count": 4,
   "metadata": {
    "pycharm": {
     "name": "#%%\n"
    }
   },
   "outputs": [
    {
     "name": "stdout",
     "output_type": "stream",
     "text": [
      "boundary (singular) fit: see help('isSingular') \n",
      "\n",
      "boundary (singular) fit: see help('isSingular') \n",
      "\n",
      "boundary (singular) fit: see help('isSingular') \n",
      "\n",
      "boundary (singular) fit: see help('isSingular') \n",
      "\n",
      "SS Type III Analysis of Variance Table with Satterthwaite approximated degrees of freedom:\n",
      "(NOTE: Model refit with orthogonal polynomial contrasts)\n"
     ]
    },
    {
     "data": {
      "text/plain": "                                        SS            MS  NumDF      DenomDF  \\\ngroup                         3.342950e+06  3.342950e+06      1   636.049552   \nagent_state                   1.397101e+06  6.985505e+05      2    12.583455   \nascription                    1.680957e+07  1.680957e+07      1    13.267234   \ninfelicity                    9.107002e+04  9.107002e+04      1  4972.749559   \ngroup:agent_state             3.642011e+06  1.821005e+06      2   648.637855   \ngroup:ascription              2.744854e+03  2.744854e+03      1  5153.497801   \nagent_state:ascription        7.560688e+06  3.780344e+06      2  5145.485419   \ngroup:agent_state:ascription  3.511406e+06  1.755703e+06      2  5145.597084   \n\n                                 F-stat     P-val  Sig  \ngroup                          9.217173  0.002496   **  \nagent_state                    1.926042  0.186320       \nascription                    46.347289  0.000011  ***  \ninfelicity                     0.251098  0.616325       \ngroup:agent_state              5.020871  0.006858   **  \ngroup:ascription               0.007568  0.930679       \nagent_state:ascription        10.423154  0.000030  ***  \ngroup:agent_state:ascription   4.840820  0.007937   **  ",
      "text/html": "<div>\n<style scoped>\n    .dataframe tbody tr th:only-of-type {\n        vertical-align: middle;\n    }\n\n    .dataframe tbody tr th {\n        vertical-align: top;\n    }\n\n    .dataframe thead th {\n        text-align: right;\n    }\n</style>\n<table border=\"1\" class=\"dataframe\">\n  <thead>\n    <tr style=\"text-align: right;\">\n      <th></th>\n      <th>SS</th>\n      <th>MS</th>\n      <th>NumDF</th>\n      <th>DenomDF</th>\n      <th>F-stat</th>\n      <th>P-val</th>\n      <th>Sig</th>\n    </tr>\n  </thead>\n  <tbody>\n    <tr>\n      <th>group</th>\n      <td>3.342950e+06</td>\n      <td>3.342950e+06</td>\n      <td>1</td>\n      <td>636.049552</td>\n      <td>9.217173</td>\n      <td>0.002496</td>\n      <td>**</td>\n    </tr>\n    <tr>\n      <th>agent_state</th>\n      <td>1.397101e+06</td>\n      <td>6.985505e+05</td>\n      <td>2</td>\n      <td>12.583455</td>\n      <td>1.926042</td>\n      <td>0.186320</td>\n      <td></td>\n    </tr>\n    <tr>\n      <th>ascription</th>\n      <td>1.680957e+07</td>\n      <td>1.680957e+07</td>\n      <td>1</td>\n      <td>13.267234</td>\n      <td>46.347289</td>\n      <td>0.000011</td>\n      <td>***</td>\n    </tr>\n    <tr>\n      <th>infelicity</th>\n      <td>9.107002e+04</td>\n      <td>9.107002e+04</td>\n      <td>1</td>\n      <td>4972.749559</td>\n      <td>0.251098</td>\n      <td>0.616325</td>\n      <td></td>\n    </tr>\n    <tr>\n      <th>group:agent_state</th>\n      <td>3.642011e+06</td>\n      <td>1.821005e+06</td>\n      <td>2</td>\n      <td>648.637855</td>\n      <td>5.020871</td>\n      <td>0.006858</td>\n      <td>**</td>\n    </tr>\n    <tr>\n      <th>group:ascription</th>\n      <td>2.744854e+03</td>\n      <td>2.744854e+03</td>\n      <td>1</td>\n      <td>5153.497801</td>\n      <td>0.007568</td>\n      <td>0.930679</td>\n      <td></td>\n    </tr>\n    <tr>\n      <th>agent_state:ascription</th>\n      <td>7.560688e+06</td>\n      <td>3.780344e+06</td>\n      <td>2</td>\n      <td>5145.485419</td>\n      <td>10.423154</td>\n      <td>0.000030</td>\n      <td>***</td>\n    </tr>\n    <tr>\n      <th>group:agent_state:ascription</th>\n      <td>3.511406e+06</td>\n      <td>1.755703e+06</td>\n      <td>2</td>\n      <td>5145.597084</td>\n      <td>4.840820</td>\n      <td>0.007937</td>\n      <td>**</td>\n    </tr>\n  </tbody>\n</table>\n</div>"
     },
     "execution_count": 4,
     "metadata": {},
     "output_type": "execute_result"
    }
   ],
   "source": [
    "mb0 = Lmer('rt ~ group*agent_state*ascription + infelicity'+rand_fx, data=df)\n",
    "mb0.fit(factors=mod_factors, summarize=False)\n",
    "mb1 = Lmer('rt ~ group:agent_state + group:ascription + agent_state:ascription + infelicity'+rand_fx, data=df)\n",
    "mb1.fit(factors=mod_factors, summarize=False)\n",
    "three_way = Lmer.anova(mb0, mb1)\n",
    "three_way.iloc[:]"
   ]
  },
  {
   "cell_type": "markdown",
   "source": [
    "#### Result:\n",
    "Controlling for their isolated effects and all pairwise 2-way interactions, there is a significant 3-way interaction of group, agent state, and ascription, p=.007. Suggesting that:\n",
    " - The effect of group on agent state('s effect on RT) is different depending on the ascription type.\n",
    "   OR\n",
    " - The effect of group on ascription('s effect on RT) is different depending on the agent state (not likely since group-x-ascription n.s.)\n",
    "OR\n",
    " - The effect of agent state on ascription('s effect on RT), i.e. the agent state x ascription interaction, is different per group.\n",
    "    - likely driving the overall group x agent state interaction, p=.006\n",
    "\n",
    "Controlling for their isolated effects & the 3-way interaction above, there's a significant agent state x ascription interaction across groups, p=.00003, suggesting that:\n",
    "- The effect of agent state on RT differs depending on the kind of ascription for both groups OR\n",
    "- The effect of ascription type on RT differs depending on the agent state for both groups (more likely)\n",
    "\n",
    "There is a group difference in over all response time. (p=.002)\n",
    "\n",
    "Controlling for 2-way interactions with group & agent state, there is a significant effect of ascription type on RT (p=.00001)\n"
   ],
   "metadata": {
    "collapsed": false,
    "pycharm": {
     "name": "#%% md\n"
    }
   }
  },
  {
   "cell_type": "markdown",
   "metadata": {
    "pycharm": {
     "name": "#%% md\n"
    }
   },
   "source": [
    "### Interaction of Agent State x Ascription\n",
    "![](Figures/agentxascript.png)"
   ]
  },
  {
   "cell_type": "code",
   "execution_count": 5,
   "metadata": {
    "pycharm": {
     "name": "#%%\n"
    }
   },
   "outputs": [
    {
     "name": "stdout",
     "output_type": "stream",
     "text": [
      "boundary (singular) fit: see help('isSingular') \n",
      "\n",
      "boundary (singular) fit: see help('isSingular') \n",
      "\n",
      "boundary (singular) fit: see help('isSingular') \n",
      "\n",
      "SS Type III Analysis of Variance Table with Satterthwaite approximated degrees of freedom:\n",
      "(NOTE: Model refit with orthogonal polynomial contrasts)\n"
     ]
    },
    {
     "data": {
      "text/html": [
       "<div>\n",
       "<style scoped>\n",
       "    .dataframe tbody tr th:only-of-type {\n",
       "        vertical-align: middle;\n",
       "    }\n",
       "\n",
       "    .dataframe tbody tr th {\n",
       "        vertical-align: top;\n",
       "    }\n",
       "\n",
       "    .dataframe thead th {\n",
       "        text-align: right;\n",
       "    }\n",
       "</style>\n",
       "<table border=\"1\" class=\"dataframe\">\n",
       "  <thead>\n",
       "    <tr style=\"text-align: right;\">\n",
       "      <th></th>\n",
       "      <th>SS</th>\n",
       "      <th>MS</th>\n",
       "      <th>NumDF</th>\n",
       "      <th>DenomDF</th>\n",
       "      <th>F-stat</th>\n",
       "      <th>P-val</th>\n",
       "      <th>Sig</th>\n",
       "    </tr>\n",
       "  </thead>\n",
       "  <tbody>\n",
       "    <tr>\n",
       "      <th>infelicity</th>\n",
       "      <td>4.999735e+04</td>\n",
       "      <td>4.999735e+04</td>\n",
       "      <td>1</td>\n",
       "      <td>4983.240117</td>\n",
       "      <td>0.139107</td>\n",
       "      <td>7.091863e-01</td>\n",
       "      <td></td>\n",
       "    </tr>\n",
       "    <tr>\n",
       "      <th>group:agent_state</th>\n",
       "      <td>8.548090e+06</td>\n",
       "      <td>1.709618e+06</td>\n",
       "      <td>5</td>\n",
       "      <td>38.938014</td>\n",
       "      <td>4.756646</td>\n",
       "      <td>1.734456e-03</td>\n",
       "      <td>**</td>\n",
       "    </tr>\n",
       "    <tr>\n",
       "      <th>group:ascription</th>\n",
       "      <td>1.733076e+07</td>\n",
       "      <td>8.665380e+06</td>\n",
       "      <td>2</td>\n",
       "      <td>29.730493</td>\n",
       "      <td>24.109565</td>\n",
       "      <td>5.987298e-07</td>\n",
       "      <td>***</td>\n",
       "    </tr>\n",
       "    <tr>\n",
       "      <th>agent_state:ascription</th>\n",
       "      <td>2.899375e+06</td>\n",
       "      <td>1.449687e+06</td>\n",
       "      <td>2</td>\n",
       "      <td>10.519072</td>\n",
       "      <td>4.033444</td>\n",
       "      <td>5.009597e-02</td>\n",
       "      <td>.</td>\n",
       "    </tr>\n",
       "  </tbody>\n",
       "</table>\n",
       "</div>"
      ],
      "text/plain": [
       "                                  SS            MS  NumDF      DenomDF  \\\n",
       "infelicity              4.999735e+04  4.999735e+04      1  4983.240117   \n",
       "group:agent_state       8.548090e+06  1.709618e+06      5    38.938014   \n",
       "group:ascription        1.733076e+07  8.665380e+06      2    29.730493   \n",
       "agent_state:ascription  2.899375e+06  1.449687e+06      2    10.519072   \n",
       "\n",
       "                           F-stat         P-val  Sig  \n",
       "infelicity               0.139107  7.091863e-01       \n",
       "group:agent_state        4.756646  1.734456e-03   **  \n",
       "group:ascription        24.109565  5.987298e-07  ***  \n",
       "agent_state:ascription   4.033444  5.009597e-02    .  "
      ]
     },
     "execution_count": 5,
     "metadata": {},
     "output_type": "execute_result"
    }
   ],
   "source": [
    "mb2 = Lmer('rt ~ group:agent_state + group:ascription + infelicity'+rand_fx, data=df)\n",
    "mb2.fit(factors=mod_factors, summarize=False)\n",
    "agentxascrip = Lmer.anova(mb1, mb2)\n",
    "agentxascrip.iloc[:]"
   ]
  },
  {
   "cell_type": "markdown",
   "source": [
    "#### Result:\n",
    " Controlling for infelicity and the interaction of group x agent state and group x ascription type, the interaction of agent state and ascription reduces to marginal significance, p=.005.\n"
   ],
   "metadata": {
    "collapsed": false,
    "pycharm": {
     "name": "#%% md\n"
    }
   }
  },
  {
   "cell_type": "markdown",
   "metadata": {
    "pycharm": {
     "name": "#%% md\n"
    }
   },
   "source": [
    "### Interaction of Group x Ascription\n",
    "![](Figures/groupxascript.png)\n"
   ]
  },
  {
   "cell_type": "code",
   "execution_count": 6,
   "metadata": {
    "pycharm": {
     "name": "#%%\n"
    }
   },
   "outputs": [
    {
     "name": "stdout",
     "output_type": "stream",
     "text": [
      "boundary (singular) fit: see help('isSingular') \n",
      "\n",
      "boundary (singular) fit: see help('isSingular') \n",
      "\n",
      "boundary (singular) fit: see help('isSingular') \n",
      "\n",
      "boundary (singular) fit: see help('isSingular') \n",
      "\n",
      "SS Type III Analysis of Variance Table with Satterthwaite approximated degrees of freedom:\n",
      "(NOTE: Model refit with orthogonal polynomial contrasts)\n"
     ]
    },
    {
     "data": {
      "text/plain": "                                  SS            MS  NumDF      DenomDF  \\\ninfelicity              6.777263e+04  6.777263e+04      1  4972.306755   \ngroup:agent_state       8.025080e+06  1.605016e+06      5    38.422816   \ngroup:ascription        1.809219e+07  9.046095e+06      2    30.128527   \nagent_state:ascription  1.217930e+07  6.089650e+06      2  5105.382035   \n\n                           F-stat         P-val  Sig  \ninfelicity               0.186530  6.658392e-01       \ngroup:agent_state        4.417471  2.828854e-03   **  \ngroup:ascription        24.897483  4.143082e-07  ***  \nagent_state:ascription  16.760488  5.556543e-08  ***  ",
      "text/html": "<div>\n<style scoped>\n    .dataframe tbody tr th:only-of-type {\n        vertical-align: middle;\n    }\n\n    .dataframe tbody tr th {\n        vertical-align: top;\n    }\n\n    .dataframe thead th {\n        text-align: right;\n    }\n</style>\n<table border=\"1\" class=\"dataframe\">\n  <thead>\n    <tr style=\"text-align: right;\">\n      <th></th>\n      <th>SS</th>\n      <th>MS</th>\n      <th>NumDF</th>\n      <th>DenomDF</th>\n      <th>F-stat</th>\n      <th>P-val</th>\n      <th>Sig</th>\n    </tr>\n  </thead>\n  <tbody>\n    <tr>\n      <th>infelicity</th>\n      <td>6.777263e+04</td>\n      <td>6.777263e+04</td>\n      <td>1</td>\n      <td>4972.306755</td>\n      <td>0.186530</td>\n      <td>6.658392e-01</td>\n      <td></td>\n    </tr>\n    <tr>\n      <th>group:agent_state</th>\n      <td>8.025080e+06</td>\n      <td>1.605016e+06</td>\n      <td>5</td>\n      <td>38.422816</td>\n      <td>4.417471</td>\n      <td>2.828854e-03</td>\n      <td>**</td>\n    </tr>\n    <tr>\n      <th>group:ascription</th>\n      <td>1.809219e+07</td>\n      <td>9.046095e+06</td>\n      <td>2</td>\n      <td>30.128527</td>\n      <td>24.897483</td>\n      <td>4.143082e-07</td>\n      <td>***</td>\n    </tr>\n    <tr>\n      <th>agent_state:ascription</th>\n      <td>1.217930e+07</td>\n      <td>6.089650e+06</td>\n      <td>2</td>\n      <td>5105.382035</td>\n      <td>16.760488</td>\n      <td>5.556543e-08</td>\n      <td>***</td>\n    </tr>\n  </tbody>\n</table>\n</div>"
     },
     "execution_count": 6,
     "metadata": {},
     "output_type": "execute_result"
    }
   ],
   "source": [
    "mb3 = Lmer('rt ~ group:agent_state + agent_state:ascription + infelicity'+rand_fx, data=df)\n",
    "mb3.fit(factors=mod_factors, summarize=False)\n",
    "groupxascrip = Lmer.anova(mb1, mb3)\n",
    "groupxascrip.iloc[:]"
   ]
  },
  {
   "cell_type": "markdown",
   "source": [
    "#### Result:\n",
    "Controlling for infelicity, the interaction of agent state x group, and the interaction of agent state x ascription, there is a significant interaction between group and ascription. Suggesting that:\n",
    "- The effect of ascription on RT differs between groups\n",
    "OR\n",
    "- The effect of group on RT differs between ascription types"
   ],
   "metadata": {
    "collapsed": false,
    "pycharm": {
     "name": "#%% md\n"
    }
   }
  },
  {
   "cell_type": "markdown",
   "metadata": {
    "pycharm": {
     "name": "#%% md\n"
    }
   },
   "source": [
    "### Interaction of Group x Agent State\n",
    "![](Figures/agentxgroup.png)\n"
   ]
  },
  {
   "cell_type": "code",
   "execution_count": 7,
   "metadata": {
    "pycharm": {
     "name": "#%%\n"
    }
   },
   "outputs": [
    {
     "name": "stdout",
     "output_type": "stream",
     "text": [
      "boundary (singular) fit: see help('isSingular') \n",
      "\n",
      "boundary (singular) fit: see help('isSingular') \n",
      "\n",
      "boundary (singular) fit: see help('isSingular') \n",
      "\n",
      "boundary (singular) fit: see help('isSingular') \n",
      "\n",
      "boundary (singular) fit: see help('isSingular') \n",
      "\n",
      "SS Type III Analysis of Variance Table with Satterthwaite approximated degrees of freedom:\n",
      "(NOTE: Model refit with orthogonal polynomial contrasts)\n"
     ]
    },
    {
     "data": {
      "text/plain": "                                  SS            MS  NumDF      DenomDF  \\\ninfelicity              6.777263e+04  6.777263e+04      1  4972.306755   \ngroup:agent_state       8.025080e+06  1.605016e+06      5    38.422816   \ngroup:ascription        1.809219e+07  9.046095e+06      2    30.128527   \nagent_state:ascription  1.217930e+07  6.089650e+06      2  5105.382035   \n\n                           F-stat         P-val  Sig  \ninfelicity               0.186530  6.658392e-01       \ngroup:agent_state        4.417471  2.828854e-03   **  \ngroup:ascription        24.897483  4.143082e-07  ***  \nagent_state:ascription  16.760488  5.556543e-08  ***  ",
      "text/html": "<div>\n<style scoped>\n    .dataframe tbody tr th:only-of-type {\n        vertical-align: middle;\n    }\n\n    .dataframe tbody tr th {\n        vertical-align: top;\n    }\n\n    .dataframe thead th {\n        text-align: right;\n    }\n</style>\n<table border=\"1\" class=\"dataframe\">\n  <thead>\n    <tr style=\"text-align: right;\">\n      <th></th>\n      <th>SS</th>\n      <th>MS</th>\n      <th>NumDF</th>\n      <th>DenomDF</th>\n      <th>F-stat</th>\n      <th>P-val</th>\n      <th>Sig</th>\n    </tr>\n  </thead>\n  <tbody>\n    <tr>\n      <th>infelicity</th>\n      <td>6.777263e+04</td>\n      <td>6.777263e+04</td>\n      <td>1</td>\n      <td>4972.306755</td>\n      <td>0.186530</td>\n      <td>6.658392e-01</td>\n      <td></td>\n    </tr>\n    <tr>\n      <th>group:agent_state</th>\n      <td>8.025080e+06</td>\n      <td>1.605016e+06</td>\n      <td>5</td>\n      <td>38.422816</td>\n      <td>4.417471</td>\n      <td>2.828854e-03</td>\n      <td>**</td>\n    </tr>\n    <tr>\n      <th>group:ascription</th>\n      <td>1.809219e+07</td>\n      <td>9.046095e+06</td>\n      <td>2</td>\n      <td>30.128527</td>\n      <td>24.897483</td>\n      <td>4.143082e-07</td>\n      <td>***</td>\n    </tr>\n    <tr>\n      <th>agent_state:ascription</th>\n      <td>1.217930e+07</td>\n      <td>6.089650e+06</td>\n      <td>2</td>\n      <td>5105.382035</td>\n      <td>16.760488</td>\n      <td>5.556543e-08</td>\n      <td>***</td>\n    </tr>\n  </tbody>\n</table>\n</div>"
     },
     "execution_count": 7,
     "metadata": {},
     "output_type": "execute_result"
    }
   ],
   "source": [
    "mb4 = Lmer('rt ~ group:ascription + agent_state:ascription + infelicity'+rand_fx, data=df)\n",
    "mb4.fit(factors=mod_factors, summarize=False)\n",
    "grpxagent = Lmer.anova(mb1, mb4)\n",
    "grpxagent.iloc[:]"
   ]
  },
  {
   "cell_type": "markdown",
   "source": [
    "#### Result:\n",
    "Controlling for infelicity, the interaction of ascription x group, and the interaction of ascription x agent state, there is a significant interaction of group x agent state. Suggest that:\n",
    "- The effect of group on RT differs between agent states\n",
    "OR\n",
    "- The effect of agent state on RT differs between group"
   ],
   "metadata": {
    "collapsed": false,
    "pycharm": {
     "name": "#%% md\n"
    }
   }
  },
  {
   "cell_type": "markdown",
   "metadata": {
    "pycharm": {
     "name": "#%% md\n"
    }
   },
   "source": [
    "## Within Group - Neurotypical"
   ]
  },
  {
   "cell_type": "code",
   "execution_count": null,
   "metadata": {
    "pycharm": {
     "name": "#%%\n"
    }
   },
   "outputs": [],
   "source": [
    "NT = df.loc[df.group == 'neurotypical']\n",
    "rand_fx = ' + (agent_state*ascription|item) + (agent_state|subject)'\n",
    "mod_factors = {'agent_state':NT.agent_state.unique().tolist(), 'ascription': NT.ascription.unique().tolist(), 'item':[str(x) for x in range(1,13)]}"
   ]
  },
  {
   "cell_type": "markdown",
   "metadata": {
    "pycharm": {
     "name": "#%% md\n"
    }
   },
   "source": [
    "### Agent State x Ascription Interaction - Neurotypical"
   ]
  },
  {
   "cell_type": "code",
   "execution_count": null,
   "metadata": {
    "pycharm": {
     "name": "#%%\n"
    }
   },
   "outputs": [
    {
     "name": "stdout",
     "output_type": "stream",
     "text": [
      "boundary (singular) fit: see help('isSingular') \n",
      "\n",
      "Model failed to converge with max|grad| = 0.00379878 (tol = 0.002, component 1) \n",
      "\n",
      "boundary (singular) fit: see help('isSingular') \n",
      "\n",
      "boundary (singular) fit: see help('isSingular') \n",
      "\n",
      "SS Type III Analysis of Variance Table with Satterthwaite approximated degrees of freedom:\n",
      "(NOTE: Model refit with orthogonal polynomial contrasts)\n"
     ]
    },
    {
     "data": {
      "text/html": [
       "<div>\n",
       "<style scoped>\n",
       "    .dataframe tbody tr th:only-of-type {\n",
       "        vertical-align: middle;\n",
       "    }\n",
       "\n",
       "    .dataframe tbody tr th {\n",
       "        vertical-align: top;\n",
       "    }\n",
       "\n",
       "    .dataframe thead th {\n",
       "        text-align: right;\n",
       "    }\n",
       "</style>\n",
       "<table border=\"1\" class=\"dataframe\">\n",
       "  <thead>\n",
       "    <tr style=\"text-align: right;\">\n",
       "      <th></th>\n",
       "      <th>SS</th>\n",
       "      <th>MS</th>\n",
       "      <th>NumDF</th>\n",
       "      <th>DenomDF</th>\n",
       "      <th>F-stat</th>\n",
       "      <th>P-val</th>\n",
       "      <th>Sig</th>\n",
       "    </tr>\n",
       "  </thead>\n",
       "  <tbody>\n",
       "    <tr>\n",
       "      <th>agent_state</th>\n",
       "      <td>4.095990e+05</td>\n",
       "      <td>2.047995e+05</td>\n",
       "      <td>2</td>\n",
       "      <td>11.156377</td>\n",
       "      <td>0.730192</td>\n",
       "      <td>0.503485</td>\n",
       "      <td></td>\n",
       "    </tr>\n",
       "    <tr>\n",
       "      <th>ascription</th>\n",
       "      <td>7.885954e+06</td>\n",
       "      <td>7.885954e+06</td>\n",
       "      <td>1</td>\n",
       "      <td>10.886521</td>\n",
       "      <td>28.116580</td>\n",
       "      <td>0.000260</td>\n",
       "      <td>***</td>\n",
       "    </tr>\n",
       "    <tr>\n",
       "      <th>infelicity</th>\n",
       "      <td>9.806081e+04</td>\n",
       "      <td>9.806081e+04</td>\n",
       "      <td>1</td>\n",
       "      <td>3778.259928</td>\n",
       "      <td>0.349626</td>\n",
       "      <td>0.554360</td>\n",
       "      <td></td>\n",
       "    </tr>\n",
       "    <tr>\n",
       "      <th>agent_state:ascription</th>\n",
       "      <td>2.649395e+06</td>\n",
       "      <td>1.324697e+06</td>\n",
       "      <td>2</td>\n",
       "      <td>10.546231</td>\n",
       "      <td>4.723076</td>\n",
       "      <td>0.034301</td>\n",
       "      <td>*</td>\n",
       "    </tr>\n",
       "  </tbody>\n",
       "</table>\n",
       "</div>"
      ],
      "text/plain": [
       "                                  SS            MS  NumDF      DenomDF  \\\n",
       "agent_state             4.095990e+05  2.047995e+05      2    11.156377   \n",
       "ascription              7.885954e+06  7.885954e+06      1    10.886521   \n",
       "infelicity              9.806081e+04  9.806081e+04      1  3778.259928   \n",
       "agent_state:ascription  2.649395e+06  1.324697e+06      2    10.546231   \n",
       "\n",
       "                           F-stat     P-val  Sig  \n",
       "agent_state              0.730192  0.503485       \n",
       "ascription              28.116580  0.000260  ***  \n",
       "infelicity               0.349626  0.554360       \n",
       "agent_state:ascription   4.723076  0.034301    *  "
      ]
     },
     "execution_count": 9,
     "metadata": {},
     "output_type": "execute_result"
    }
   ],
   "source": [
    "m0 = Lmer('rt ~ agent_state*ascription + infelicity'+rand_fx, data=NT)\n",
    "m0.fit(factors=mod_factors, summarize=False)\n",
    "m1 = Lmer('rt ~ agent_state + ascription + infelicity'+rand_fx, data=NT)\n",
    "m1.fit(factors=mod_factors, summarize=False)\n",
    "interaction_effct = Lmer.anova(m0, m1)#.iloc[:]\n",
    "interaction_effct.iloc[:]"
   ]
  },
  {
   "cell_type": "markdown",
   "metadata": {
    "pycharm": {
     "name": "#%% md\n"
    }
   },
   "source": [
    "### Main Effect of Agent State - Neurotypical"
   ]
  },
  {
   "cell_type": "code",
   "execution_count": null,
   "metadata": {
    "pycharm": {
     "name": "#%%\n"
    }
   },
   "outputs": [
    {
     "name": "stdout",
     "output_type": "stream",
     "text": [
      "boundary (singular) fit: see help('isSingular') \n",
      "\n",
      "Model failed to converge with max|grad| = 0.00379878 (tol = 0.002, component 1) \n",
      "\n",
      "Model failed to converge with max|grad| = 0.00347019 (tol = 0.002, component 1) \n",
      "\n",
      "SS Type III Analysis of Variance Table with Satterthwaite approximated degrees of freedom:\n",
      "(NOTE: Model refit with orthogonal polynomial contrasts)\n"
     ]
    },
    {
     "data": {
      "text/html": [
       "<div>\n",
       "<style scoped>\n",
       "    .dataframe tbody tr th:only-of-type {\n",
       "        vertical-align: middle;\n",
       "    }\n",
       "\n",
       "    .dataframe tbody tr th {\n",
       "        vertical-align: top;\n",
       "    }\n",
       "\n",
       "    .dataframe thead th {\n",
       "        text-align: right;\n",
       "    }\n",
       "</style>\n",
       "<table border=\"1\" class=\"dataframe\">\n",
       "  <thead>\n",
       "    <tr style=\"text-align: right;\">\n",
       "      <th></th>\n",
       "      <th>SS</th>\n",
       "      <th>MS</th>\n",
       "      <th>NumDF</th>\n",
       "      <th>DenomDF</th>\n",
       "      <th>F-stat</th>\n",
       "      <th>P-val</th>\n",
       "      <th>Sig</th>\n",
       "    </tr>\n",
       "  </thead>\n",
       "  <tbody>\n",
       "    <tr>\n",
       "      <th>agent_state</th>\n",
       "      <td>2.145131e+06</td>\n",
       "      <td>1.072565e+06</td>\n",
       "      <td>2</td>\n",
       "      <td>11.415631</td>\n",
       "      <td>3.823588</td>\n",
       "      <td>0.053573</td>\n",
       "      <td>.</td>\n",
       "    </tr>\n",
       "    <tr>\n",
       "      <th>ascription</th>\n",
       "      <td>1.001176e+07</td>\n",
       "      <td>1.001176e+07</td>\n",
       "      <td>1</td>\n",
       "      <td>10.865408</td>\n",
       "      <td>35.690924</td>\n",
       "      <td>0.000097</td>\n",
       "      <td>***</td>\n",
       "    </tr>\n",
       "    <tr>\n",
       "      <th>infelicity</th>\n",
       "      <td>9.363184e+04</td>\n",
       "      <td>9.363184e+04</td>\n",
       "      <td>1</td>\n",
       "      <td>3780.217224</td>\n",
       "      <td>0.333788</td>\n",
       "      <td>0.563471</td>\n",
       "      <td></td>\n",
       "    </tr>\n",
       "  </tbody>\n",
       "</table>\n",
       "</div>"
      ],
      "text/plain": [
       "                       SS            MS  NumDF      DenomDF     F-stat  \\\n",
       "agent_state  2.145131e+06  1.072565e+06      2    11.415631   3.823588   \n",
       "ascription   1.001176e+07  1.001176e+07      1    10.865408  35.690924   \n",
       "infelicity   9.363184e+04  9.363184e+04      1  3780.217224   0.333788   \n",
       "\n",
       "                P-val  Sig  \n",
       "agent_state  0.053573    .  \n",
       "ascription   0.000097  ***  \n",
       "infelicity   0.563471       "
      ]
     },
     "execution_count": 10,
     "metadata": {},
     "output_type": "execute_result"
    }
   ],
   "source": [
    "m2 = Lmer('rt ~ ascription + infelicity'+rand_fx, data=NT)\n",
    "m2.fit(factors=mod_factors, summarize=False)\n",
    "agent_state_effect= Lmer.anova(m1,m2 )\n",
    "agent_state_effect.iloc[:]"
   ]
  },
  {
   "cell_type": "markdown",
   "metadata": {
    "pycharm": {
     "name": "#%% md\n"
    }
   },
   "source": [
    "### Main Effect of Ascription - Neurotypical"
   ]
  },
  {
   "cell_type": "code",
   "execution_count": null,
   "metadata": {
    "pycharm": {
     "name": "#%%\n"
    }
   },
   "outputs": [
    {
     "name": "stdout",
     "output_type": "stream",
     "text": [
      "boundary (singular) fit: see help('isSingular') \n",
      "\n",
      "boundary (singular) fit: see help('isSingular') \n",
      "\n",
      "SS Type III Analysis of Variance Table with Satterthwaite approximated degrees of freedom:\n",
      "(NOTE: Model refit with orthogonal polynomial contrasts)\n"
     ]
    },
    {
     "data": {
      "text/html": [
       "<div>\n",
       "<style scoped>\n",
       "    .dataframe tbody tr th:only-of-type {\n",
       "        vertical-align: middle;\n",
       "    }\n",
       "\n",
       "    .dataframe tbody tr th {\n",
       "        vertical-align: top;\n",
       "    }\n",
       "\n",
       "    .dataframe thead th {\n",
       "        text-align: right;\n",
       "    }\n",
       "</style>\n",
       "<table border=\"1\" class=\"dataframe\">\n",
       "  <thead>\n",
       "    <tr style=\"text-align: right;\">\n",
       "      <th></th>\n",
       "      <th>SS</th>\n",
       "      <th>MS</th>\n",
       "      <th>NumDF</th>\n",
       "      <th>DenomDF</th>\n",
       "      <th>F-stat</th>\n",
       "      <th>P-val</th>\n",
       "      <th>Sig</th>\n",
       "    </tr>\n",
       "  </thead>\n",
       "  <tbody>\n",
       "    <tr>\n",
       "      <th>ascription</th>\n",
       "      <td>1.194658e+07</td>\n",
       "      <td>1.194658e+07</td>\n",
       "      <td>1</td>\n",
       "      <td>53.464061</td>\n",
       "      <td>42.558953</td>\n",
       "      <td>2.540424e-08</td>\n",
       "      <td>***</td>\n",
       "    </tr>\n",
       "    <tr>\n",
       "      <th>infelicity</th>\n",
       "      <td>6.085509e+04</td>\n",
       "      <td>6.085509e+04</td>\n",
       "      <td>1</td>\n",
       "      <td>3680.417018</td>\n",
       "      <td>0.216793</td>\n",
       "      <td>6.415224e-01</td>\n",
       "      <td></td>\n",
       "    </tr>\n",
       "  </tbody>\n",
       "</table>\n",
       "</div>"
      ],
      "text/plain": [
       "                      SS            MS  NumDF      DenomDF     F-stat  \\\n",
       "ascription  1.194658e+07  1.194658e+07      1    53.464061  42.558953   \n",
       "infelicity  6.085509e+04  6.085509e+04      1  3680.417018   0.216793   \n",
       "\n",
       "                   P-val  Sig  \n",
       "ascription  2.540424e-08  ***  \n",
       "infelicity  6.415224e-01       "
      ]
     },
     "execution_count": 11,
     "metadata": {},
     "output_type": "execute_result"
    }
   ],
   "source": [
    "m3 = Lmer('rt ~ agent_state + infelicity'+rand_fx, data=NT)\n",
    "m3.fit(factors=mod_factors, summarize=False)\n",
    "ascription_effect = Lmer.anova(m2, m3)\n",
    "ascription_effect.iloc[:]"
   ]
  },
  {
   "cell_type": "markdown",
   "metadata": {
    "pycharm": {
     "name": "#%% md\n"
    }
   },
   "source": [
    "## Within Group - Autism"
   ]
  },
  {
   "cell_type": "code",
   "execution_count": 3,
   "metadata": {
    "pycharm": {
     "name": "#%%\n"
    }
   },
   "outputs": [],
   "source": [
    "ASD =  df.loc[df.group == 'autism']"
   ]
  },
  {
   "cell_type": "markdown",
   "metadata": {
    "pycharm": {
     "name": "#%% md\n"
    }
   },
   "source": [
    "### Agent State x Ascription Interaction - Autism"
   ]
  },
  {
   "cell_type": "code",
   "execution_count": 4,
   "metadata": {
    "pycharm": {
     "name": "#%%\n"
    }
   },
   "outputs": [
    {
     "name": "stdout",
     "output_type": "stream",
     "text": [
      "boundary (singular) fit: see help('isSingular') \n",
      "\n",
      "boundary (singular) fit: see help('isSingular') \n",
      "\n",
      "boundary (singular) fit: see help('isSingular') \n",
      "\n",
      "boundary (singular) fit: see help('isSingular') \n",
      "\n",
      "SS Type III Analysis of Variance Table with Satterthwaite approximated degrees of freedom:\n",
      "(NOTE: Model refit with orthogonal polynomial contrasts)\n"
     ]
    },
    {
     "data": {
      "text/html": [
       "<div>\n",
       "<style scoped>\n",
       "    .dataframe tbody tr th:only-of-type {\n",
       "        vertical-align: middle;\n",
       "    }\n",
       "\n",
       "    .dataframe tbody tr th {\n",
       "        vertical-align: top;\n",
       "    }\n",
       "\n",
       "    .dataframe thead th {\n",
       "        text-align: right;\n",
       "    }\n",
       "</style>\n",
       "<table border=\"1\" class=\"dataframe\">\n",
       "  <thead>\n",
       "    <tr style=\"text-align: right;\">\n",
       "      <th></th>\n",
       "      <th>SS</th>\n",
       "      <th>MS</th>\n",
       "      <th>NumDF</th>\n",
       "      <th>DenomDF</th>\n",
       "      <th>F-stat</th>\n",
       "      <th>P-val</th>\n",
       "      <th>Sig</th>\n",
       "    </tr>\n",
       "  </thead>\n",
       "  <tbody>\n",
       "    <tr>\n",
       "      <th>agent_state</th>\n",
       "      <td>3.223995e+06</td>\n",
       "      <td>1.611997e+06</td>\n",
       "      <td>2</td>\n",
       "      <td>27.908585</td>\n",
       "      <td>3.271072</td>\n",
       "      <td>0.052934</td>\n",
       "      <td>.</td>\n",
       "    </tr>\n",
       "    <tr>\n",
       "      <th>ascription</th>\n",
       "      <td>1.434001e+07</td>\n",
       "      <td>1.434001e+07</td>\n",
       "      <td>1</td>\n",
       "      <td>15.294372</td>\n",
       "      <td>29.098805</td>\n",
       "      <td>0.000070</td>\n",
       "      <td>***</td>\n",
       "    </tr>\n",
       "    <tr>\n",
       "      <th>infelicity</th>\n",
       "      <td>8.935937e+05</td>\n",
       "      <td>8.935937e+05</td>\n",
       "      <td>1</td>\n",
       "      <td>1371.330904</td>\n",
       "      <td>1.813284</td>\n",
       "      <td>0.178337</td>\n",
       "      <td></td>\n",
       "    </tr>\n",
       "    <tr>\n",
       "      <th>agent_state:ascription</th>\n",
       "      <td>1.281606e+05</td>\n",
       "      <td>6.408030e+04</td>\n",
       "      <td>2</td>\n",
       "      <td>17.927941</td>\n",
       "      <td>0.130032</td>\n",
       "      <td>0.878888</td>\n",
       "      <td></td>\n",
       "    </tr>\n",
       "  </tbody>\n",
       "</table>\n",
       "</div>"
      ],
      "text/plain": [
       "                                  SS            MS  NumDF      DenomDF  \\\n",
       "agent_state             3.223995e+06  1.611997e+06      2    27.908585   \n",
       "ascription              1.434001e+07  1.434001e+07      1    15.294372   \n",
       "infelicity              8.935937e+05  8.935937e+05      1  1371.330904   \n",
       "agent_state:ascription  1.281606e+05  6.408030e+04      2    17.927941   \n",
       "\n",
       "                           F-stat     P-val  Sig  \n",
       "agent_state              3.271072  0.052934    .  \n",
       "ascription              29.098805  0.000070  ***  \n",
       "infelicity               1.813284  0.178337       \n",
       "agent_state:ascription   0.130032  0.878888       "
      ]
     },
     "execution_count": 4,
     "metadata": {},
     "output_type": "execute_result"
    }
   ],
   "source": [
    "m0a = Lmer('rt ~ agent_state*ascription + infelicity'+rand_fx, data=ASD)\n",
    "m0a.fit(factors=mod_factors, summarize=False)\n",
    "m1a = Lmer('rt ~ agent_state + ascription + infelicity'+rand_fx, data=ASD)\n",
    "m1a.fit(factors=mod_factors, summarize=False)\n",
    "interaction_effct_a = Lmer.anova(m0a, m1a)#.iloc[:]\n",
    "interaction_effct_a.iloc[:]"
   ]
  },
  {
   "cell_type": "markdown",
   "metadata": {
    "pycharm": {
     "name": "#%% md\n"
    }
   },
   "source": [
    "### Main Effect of Agent State - Autism"
   ]
  },
  {
   "cell_type": "code",
   "execution_count": 6,
   "metadata": {
    "pycharm": {
     "name": "#%%\n"
    }
   },
   "outputs": [
    {
     "name": "stdout",
     "output_type": "stream",
     "text": [
      "boundary (singular) fit: see help('isSingular') \n",
      "\n",
      "boundary (singular) fit: see help('isSingular') \n",
      "\n",
      "boundary (singular) fit: see help('isSingular') \n",
      "\n",
      "SS Type III Analysis of Variance Table with Satterthwaite approximated degrees of freedom:\n",
      "(NOTE: Model refit with orthogonal polynomial contrasts)\n"
     ]
    },
    {
     "data": {
      "text/html": [
       "<div>\n",
       "<style scoped>\n",
       "    .dataframe tbody tr th:only-of-type {\n",
       "        vertical-align: middle;\n",
       "    }\n",
       "\n",
       "    .dataframe tbody tr th {\n",
       "        vertical-align: top;\n",
       "    }\n",
       "\n",
       "    .dataframe thead th {\n",
       "        text-align: right;\n",
       "    }\n",
       "</style>\n",
       "<table border=\"1\" class=\"dataframe\">\n",
       "  <thead>\n",
       "    <tr style=\"text-align: right;\">\n",
       "      <th></th>\n",
       "      <th>SS</th>\n",
       "      <th>MS</th>\n",
       "      <th>NumDF</th>\n",
       "      <th>DenomDF</th>\n",
       "      <th>F-stat</th>\n",
       "      <th>P-val</th>\n",
       "      <th>Sig</th>\n",
       "    </tr>\n",
       "  </thead>\n",
       "  <tbody>\n",
       "    <tr>\n",
       "      <th>agent_state</th>\n",
       "      <td>3.526464e+06</td>\n",
       "      <td>1.763232e+06</td>\n",
       "      <td>2</td>\n",
       "      <td>30.981234</td>\n",
       "      <td>3.523258</td>\n",
       "      <td>0.041812</td>\n",
       "      <td>*</td>\n",
       "    </tr>\n",
       "    <tr>\n",
       "      <th>ascription</th>\n",
       "      <td>1.495343e+07</td>\n",
       "      <td>1.495343e+07</td>\n",
       "      <td>1</td>\n",
       "      <td>16.121397</td>\n",
       "      <td>29.879668</td>\n",
       "      <td>0.000050</td>\n",
       "      <td>***</td>\n",
       "    </tr>\n",
       "    <tr>\n",
       "      <th>infelicity</th>\n",
       "      <td>8.140718e+05</td>\n",
       "      <td>8.140718e+05</td>\n",
       "      <td>1</td>\n",
       "      <td>1450.522040</td>\n",
       "      <td>1.626663</td>\n",
       "      <td>0.202369</td>\n",
       "      <td></td>\n",
       "    </tr>\n",
       "  </tbody>\n",
       "</table>\n",
       "</div>"
      ],
      "text/plain": [
       "                       SS            MS  NumDF      DenomDF     F-stat  \\\n",
       "agent_state  3.526464e+06  1.763232e+06      2    30.981234   3.523258   \n",
       "ascription   1.495343e+07  1.495343e+07      1    16.121397  29.879668   \n",
       "infelicity   8.140718e+05  8.140718e+05      1  1450.522040   1.626663   \n",
       "\n",
       "                P-val  Sig  \n",
       "agent_state  0.041812    *  \n",
       "ascription   0.000050  ***  \n",
       "infelicity   0.202369       "
      ]
     },
     "execution_count": 6,
     "metadata": {},
     "output_type": "execute_result"
    }
   ],
   "source": [
    "m2a = Lmer('rt ~ ascription + infelicity'+rand_fx, data=ASD)\n",
    "m2a.fit(factors=mod_factors, summarize=False)\n",
    "agent_state_effect_a= Lmer.anova(m1a,m2a )\n",
    "agent_state_effect_a.iloc[:]"
   ]
  },
  {
   "cell_type": "markdown",
   "metadata": {
    "pycharm": {
     "name": "#%% md\n"
    }
   },
   "source": [
    "### Main Effect of Ascription - Autism"
   ]
  },
  {
   "cell_type": "code",
   "execution_count": 7,
   "metadata": {
    "pycharm": {
     "name": "#%%\n"
    }
   },
   "outputs": [
    {
     "name": "stdout",
     "output_type": "stream",
     "text": [
      "boundary (singular) fit: see help('isSingular') \n",
      "\n",
      "boundary (singular) fit: see help('isSingular') \n",
      "\n",
      "boundary (singular) fit: see help('isSingular') \n",
      "\n",
      "SS Type III Analysis of Variance Table with Satterthwaite approximated degrees of freedom:\n",
      "(NOTE: Model refit with orthogonal polynomial contrasts)\n"
     ]
    },
    {
     "data": {
      "text/html": [
       "<div>\n",
       "<style scoped>\n",
       "    .dataframe tbody tr th:only-of-type {\n",
       "        vertical-align: middle;\n",
       "    }\n",
       "\n",
       "    .dataframe tbody tr th {\n",
       "        vertical-align: top;\n",
       "    }\n",
       "\n",
       "    .dataframe thead th {\n",
       "        text-align: right;\n",
       "    }\n",
       "</style>\n",
       "<table border=\"1\" class=\"dataframe\">\n",
       "  <thead>\n",
       "    <tr style=\"text-align: right;\">\n",
       "      <th></th>\n",
       "      <th>SS</th>\n",
       "      <th>MS</th>\n",
       "      <th>NumDF</th>\n",
       "      <th>DenomDF</th>\n",
       "      <th>F-stat</th>\n",
       "      <th>P-val</th>\n",
       "      <th>Sig</th>\n",
       "    </tr>\n",
       "  </thead>\n",
       "  <tbody>\n",
       "    <tr>\n",
       "      <th>ascription</th>\n",
       "      <td>1.366581e+07</td>\n",
       "      <td>1.366581e+07</td>\n",
       "      <td>1</td>\n",
       "      <td>18.854007</td>\n",
       "      <td>27.756481</td>\n",
       "      <td>0.000045</td>\n",
       "      <td>***</td>\n",
       "    </tr>\n",
       "    <tr>\n",
       "      <th>infelicity</th>\n",
       "      <td>1.979177e+05</td>\n",
       "      <td>1.979177e+05</td>\n",
       "      <td>1</td>\n",
       "      <td>516.326731</td>\n",
       "      <td>0.401989</td>\n",
       "      <td>0.526345</td>\n",
       "      <td></td>\n",
       "    </tr>\n",
       "  </tbody>\n",
       "</table>\n",
       "</div>"
      ],
      "text/plain": [
       "                      SS            MS  NumDF     DenomDF     F-stat  \\\n",
       "ascription  1.366581e+07  1.366581e+07      1   18.854007  27.756481   \n",
       "infelicity  1.979177e+05  1.979177e+05      1  516.326731   0.401989   \n",
       "\n",
       "               P-val  Sig  \n",
       "ascription  0.000045  ***  \n",
       "infelicity  0.526345       "
      ]
     },
     "execution_count": 7,
     "metadata": {},
     "output_type": "execute_result"
    }
   ],
   "source": [
    "m3a = Lmer('rt ~ agent_state + infelicity'+rand_fx, data=ASD)\n",
    "m3a.fit(factors=mod_factors, summarize=False)\n",
    "ascription_effect_a = Lmer.anova(m2a, m3a)\n",
    "ascription_effect_a.iloc[:]"
   ]
  }
 ],
 "metadata": {
  "kernelspec": {
   "display_name": "Python 3",
   "language": "python",
   "name": "python3"
  },
  "language_info": {
   "codemirror_mode": {
    "name": "ipython",
    "version": 3
   },
   "file_extension": ".py",
   "mimetype": "text/x-python",
   "name": "python",
   "nbconvert_exporter": "python",
   "pygments_lexer": "ipython3",
   "version": "3.8.1"
  },
  "toc": {
   "base_numbering": 1,
   "nav_menu": {},
   "number_sections": true,
   "sideBar": true,
   "skip_h1_title": true,
   "title_cell": "Table of Contents",
   "title_sidebar": "Contents",
   "toc_cell": true,
   "toc_position": {},
   "toc_section_display": true,
   "toc_window_display": true
  },
  "varInspector": {
   "cols": {
    "lenName": 16,
    "lenType": 16,
    "lenVar": 40
   },
   "kernels_config": {
    "python": {
     "delete_cmd_postfix": "",
     "delete_cmd_prefix": "del ",
     "library": "var_list.py",
     "varRefreshCmd": "print(var_dic_list())"
    },
    "r": {
     "delete_cmd_postfix": ") ",
     "delete_cmd_prefix": "rm(",
     "library": "var_list.r",
     "varRefreshCmd": "cat(var_dic_list()) "
    }
   },
   "types_to_exclude": [
    "module",
    "function",
    "builtin_function_or_method",
    "instance",
    "_Feature"
   ],
   "window_display": false
  }
 },
 "nbformat": 4,
 "nbformat_minor": 1
}