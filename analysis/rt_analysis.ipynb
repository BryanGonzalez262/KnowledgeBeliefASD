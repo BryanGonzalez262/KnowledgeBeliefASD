{
 "cells": [
  {
   "cell_type": "markdown",
   "source": [
    "# Imports"
   ],
   "metadata": {
    "collapsed": false,
    "pycharm": {
     "name": "#%% md\n"
    }
   }
  },
  {
   "cell_type": "code",
   "execution_count": 2,
   "metadata": {
    "collapsed": true,
    "pycharm": {
     "name": "#%%\n"
    }
   },
   "outputs": [],
   "source": [
    "import pandas as pd\n",
    "from pymer4 import Lmer\n",
    "import warnings\n",
    "warnings.filterwarnings('ignore')\n",
    "\n",
    "dat = pd.read_csv('./Data/full_sample_clean.csv', index_col=0)\n",
    "df = dat.loc[dat.in_sample == True].reset_index(drop=True).drop('diag', axis=1)"
   ]
  },
  {
   "cell_type": "markdown",
   "source": [
    "# Response Time"
   ],
   "metadata": {
    "collapsed": false,
    "pycharm": {
     "name": "#%% md\n"
    }
   }
  },
  {
   "cell_type": "markdown",
   "source": [
    "## Between Groups"
   ],
   "metadata": {
    "collapsed": false,
    "pycharm": {
     "name": "#%% md\n"
    }
   }
  },
  {
   "cell_type": "code",
   "execution_count": 3,
   "outputs": [],
   "source": [
    "mod_factors = {'group':df.group.unique().tolist(), 'agent_state':df.agent_state.unique().tolist(),\n",
    "               'ascription': df.ascription.unique().tolist(), 'item':[str(x) for x in range(1,13)]}\n",
    "rand_fx = ' + (agent_state*ascription|item) + (agent_state|subject)'\n",
    "#![](./Figures/groupxascrip_rt.png)"
   ],
   "metadata": {
    "collapsed": false,
    "pycharm": {
     "name": "#%%\n"
    }
   }
  },
  {
   "cell_type": "markdown",
   "source": [
    "### 3-way interaction effect of Group x Agent State x Ascription\n",
    "<img src=\"./Figures/groupxascrip_rt.png\" style=\"width:5px; scale:.5;\"/>\n",
    "\n"
   ],
   "metadata": {
    "collapsed": false,
    "pycharm": {
     "name": "#%% md\n"
    }
   }
  },
  {
   "cell_type": "code",
   "execution_count": 13,
   "outputs": [
    {
     "name": "stdout",
     "output_type": "stream",
     "text": [
      "boundary (singular) fit: see help('isSingular') \n",
      "\n",
      "boundary (singular) fit: see help('isSingular') \n",
      "\n",
      "boundary (singular) fit: see help('isSingular') \n",
      "\n",
      "boundary (singular) fit: see help('isSingular') \n",
      "\n",
      "SS Type III Analysis of Variance Table with Satterthwaite approximated degrees of freedom:\n",
      "(NOTE: Model refit with orthogonal polynomial contrasts)\n"
     ]
    },
    {
     "data": {
      "text/plain": "                                        SS            MS  NumDF      DenomDF  \\\ngroup                         3.420519e+06  3.420519e+06      1   635.874703   \nagent_state                   1.367456e+06  6.837279e+05      2    12.651851   \nascription                    1.630703e+07  1.630703e+07      1    13.251332   \ninfelicity                    6.907555e+04  6.907555e+04      1  4982.978450   \ngroup:agent_state             4.109794e+06  2.054897e+06      2   648.622826   \ngroup:ascription              4.744424e+02  4.744424e+02      1  5141.892969   \nagent_state:ascription        2.003790e+06  1.001895e+06      2    11.110703   \ngroup:agent_state:ascription  2.986288e+06  1.493144e+06      2  5137.372401   \n\n                                 F-stat     P-val  Sig  \ngroup                          9.530632  0.002109   **  \nagent_state                    1.905079  0.189132       \nascription                    45.436464  0.000013  ***  \ninfelicity                     0.192466  0.660891       \ngroup:agent_state              5.725584  0.003429   **  \ngroup:ascription               0.001322  0.970998       \nagent_state:ascription         2.791592  0.104166       \ngroup:agent_state:ascription   4.160366  0.015654    *  ",
      "text/html": "<div>\n<style scoped>\n    .dataframe tbody tr th:only-of-type {\n        vertical-align: middle;\n    }\n\n    .dataframe tbody tr th {\n        vertical-align: top;\n    }\n\n    .dataframe thead th {\n        text-align: right;\n    }\n</style>\n<table border=\"1\" class=\"dataframe\">\n  <thead>\n    <tr style=\"text-align: right;\">\n      <th></th>\n      <th>SS</th>\n      <th>MS</th>\n      <th>NumDF</th>\n      <th>DenomDF</th>\n      <th>F-stat</th>\n      <th>P-val</th>\n      <th>Sig</th>\n    </tr>\n  </thead>\n  <tbody>\n    <tr>\n      <th>group</th>\n      <td>3.420519e+06</td>\n      <td>3.420519e+06</td>\n      <td>1</td>\n      <td>635.874703</td>\n      <td>9.530632</td>\n      <td>0.002109</td>\n      <td>**</td>\n    </tr>\n    <tr>\n      <th>agent_state</th>\n      <td>1.367456e+06</td>\n      <td>6.837279e+05</td>\n      <td>2</td>\n      <td>12.651851</td>\n      <td>1.905079</td>\n      <td>0.189132</td>\n      <td></td>\n    </tr>\n    <tr>\n      <th>ascription</th>\n      <td>1.630703e+07</td>\n      <td>1.630703e+07</td>\n      <td>1</td>\n      <td>13.251332</td>\n      <td>45.436464</td>\n      <td>0.000013</td>\n      <td>***</td>\n    </tr>\n    <tr>\n      <th>infelicity</th>\n      <td>6.907555e+04</td>\n      <td>6.907555e+04</td>\n      <td>1</td>\n      <td>4982.978450</td>\n      <td>0.192466</td>\n      <td>0.660891</td>\n      <td></td>\n    </tr>\n    <tr>\n      <th>group:agent_state</th>\n      <td>4.109794e+06</td>\n      <td>2.054897e+06</td>\n      <td>2</td>\n      <td>648.622826</td>\n      <td>5.725584</td>\n      <td>0.003429</td>\n      <td>**</td>\n    </tr>\n    <tr>\n      <th>group:ascription</th>\n      <td>4.744424e+02</td>\n      <td>4.744424e+02</td>\n      <td>1</td>\n      <td>5141.892969</td>\n      <td>0.001322</td>\n      <td>0.970998</td>\n      <td></td>\n    </tr>\n    <tr>\n      <th>agent_state:ascription</th>\n      <td>2.003790e+06</td>\n      <td>1.001895e+06</td>\n      <td>2</td>\n      <td>11.110703</td>\n      <td>2.791592</td>\n      <td>0.104166</td>\n      <td></td>\n    </tr>\n    <tr>\n      <th>group:agent_state:ascription</th>\n      <td>2.986288e+06</td>\n      <td>1.493144e+06</td>\n      <td>2</td>\n      <td>5137.372401</td>\n      <td>4.160366</td>\n      <td>0.015654</td>\n      <td>*</td>\n    </tr>\n  </tbody>\n</table>\n</div>"
     },
     "execution_count": 13,
     "metadata": {},
     "output_type": "execute_result"
    }
   ],
   "source": [
    "mb0 = Lmer('rt ~ group*agent_state*ascription + infelicity'+rand_fx, data=df)\n",
    "mb0.fit(factors=mod_factors, summarize=False)\n",
    "mb1 = Lmer('rt ~ group:agent_state + group:ascription + agent_state:ascription + infelicity'+rand_fx, data=df)\n",
    "mb1.fit(factors=mod_factors, summarize=False)\n",
    "three_way = Lmer.anova(mb0, mb1)\n",
    "three_way.iloc[:]"
   ],
   "metadata": {
    "collapsed": false,
    "pycharm": {
     "name": "#%%\n"
    }
   }
  },
  {
   "cell_type": "markdown",
   "source": [
    "### Interaction of Agent State x Ascription"
   ],
   "metadata": {
    "collapsed": false,
    "pycharm": {
     "name": "#%% md\n"
    }
   }
  },
  {
   "cell_type": "code",
   "execution_count": 5,
   "outputs": [
    {
     "name": "stdout",
     "output_type": "stream",
     "text": [
      "boundary (singular) fit: see help('isSingular') \n",
      "\n",
      "boundary (singular) fit: see help('isSingular') \n",
      "\n",
      "boundary (singular) fit: see help('isSingular') \n",
      "\n",
      "SS Type III Analysis of Variance Table with Satterthwaite approximated degrees of freedom:\n",
      "(NOTE: Model refit with orthogonal polynomial contrasts)\n"
     ]
    },
    {
     "data": {
      "text/plain": "                                  SS            MS  NumDF      DenomDF  \\\ninfelicity              4.999735e+04  4.999735e+04      1  4983.240117   \ngroup:agent_state       8.548090e+06  1.709618e+06      5    38.938014   \ngroup:ascription        1.733076e+07  8.665380e+06      2    29.730493   \nagent_state:ascription  2.899375e+06  1.449687e+06      2    10.519072   \n\n                           F-stat         P-val  Sig  \ninfelicity               0.139107  7.091863e-01       \ngroup:agent_state        4.756646  1.734456e-03   **  \ngroup:ascription        24.109565  5.987298e-07  ***  \nagent_state:ascription   4.033444  5.009597e-02    .  ",
      "text/html": "<div>\n<style scoped>\n    .dataframe tbody tr th:only-of-type {\n        vertical-align: middle;\n    }\n\n    .dataframe tbody tr th {\n        vertical-align: top;\n    }\n\n    .dataframe thead th {\n        text-align: right;\n    }\n</style>\n<table border=\"1\" class=\"dataframe\">\n  <thead>\n    <tr style=\"text-align: right;\">\n      <th></th>\n      <th>SS</th>\n      <th>MS</th>\n      <th>NumDF</th>\n      <th>DenomDF</th>\n      <th>F-stat</th>\n      <th>P-val</th>\n      <th>Sig</th>\n    </tr>\n  </thead>\n  <tbody>\n    <tr>\n      <th>infelicity</th>\n      <td>4.999735e+04</td>\n      <td>4.999735e+04</td>\n      <td>1</td>\n      <td>4983.240117</td>\n      <td>0.139107</td>\n      <td>7.091863e-01</td>\n      <td></td>\n    </tr>\n    <tr>\n      <th>group:agent_state</th>\n      <td>8.548090e+06</td>\n      <td>1.709618e+06</td>\n      <td>5</td>\n      <td>38.938014</td>\n      <td>4.756646</td>\n      <td>1.734456e-03</td>\n      <td>**</td>\n    </tr>\n    <tr>\n      <th>group:ascription</th>\n      <td>1.733076e+07</td>\n      <td>8.665380e+06</td>\n      <td>2</td>\n      <td>29.730493</td>\n      <td>24.109565</td>\n      <td>5.987298e-07</td>\n      <td>***</td>\n    </tr>\n    <tr>\n      <th>agent_state:ascription</th>\n      <td>2.899375e+06</td>\n      <td>1.449687e+06</td>\n      <td>2</td>\n      <td>10.519072</td>\n      <td>4.033444</td>\n      <td>5.009597e-02</td>\n      <td>.</td>\n    </tr>\n  </tbody>\n</table>\n</div>"
     },
     "execution_count": 5,
     "metadata": {},
     "output_type": "execute_result"
    }
   ],
   "source": [
    "mb2 = Lmer('rt ~ group:agent_state + group:ascription + infelicity'+rand_fx, data=df)\n",
    "mb2.fit(factors=mod_factors, summarize=False)\n",
    "agentxascrip = Lmer.anova(mb1, mb2)\n",
    "agentxascrip.iloc[:]"
   ],
   "metadata": {
    "collapsed": false,
    "pycharm": {
     "name": "#%%\n"
    }
   }
  },
  {
   "cell_type": "markdown",
   "source": [
    "### Interaction of Group x Ascription"
   ],
   "metadata": {
    "collapsed": false,
    "pycharm": {
     "name": "#%% md\n"
    }
   }
  },
  {
   "cell_type": "code",
   "execution_count": 6,
   "outputs": [
    {
     "name": "stdout",
     "output_type": "stream",
     "text": [
      "boundary (singular) fit: see help('isSingular') \n",
      "\n",
      "boundary (singular) fit: see help('isSingular') \n",
      "\n",
      "boundary (singular) fit: see help('isSingular') \n",
      "\n",
      "boundary (singular) fit: see help('isSingular') \n",
      "\n",
      "SS Type III Analysis of Variance Table with Satterthwaite approximated degrees of freedom:\n",
      "(NOTE: Model refit with orthogonal polynomial contrasts)\n"
     ]
    },
    {
     "data": {
      "text/plain": "                                  SS            MS  NumDF      DenomDF  \\\ninfelicity              4.999735e+04  4.999735e+04      1  4983.240117   \ngroup:agent_state       8.548090e+06  1.709618e+06      5    38.938014   \ngroup:ascription        1.733076e+07  8.665380e+06      2    29.730493   \nagent_state:ascription  2.899375e+06  1.449687e+06      2    10.519072   \n\n                           F-stat         P-val  Sig  \ninfelicity               0.139107  7.091863e-01       \ngroup:agent_state        4.756646  1.734456e-03   **  \ngroup:ascription        24.109565  5.987298e-07  ***  \nagent_state:ascription   4.033444  5.009597e-02    .  ",
      "text/html": "<div>\n<style scoped>\n    .dataframe tbody tr th:only-of-type {\n        vertical-align: middle;\n    }\n\n    .dataframe tbody tr th {\n        vertical-align: top;\n    }\n\n    .dataframe thead th {\n        text-align: right;\n    }\n</style>\n<table border=\"1\" class=\"dataframe\">\n  <thead>\n    <tr style=\"text-align: right;\">\n      <th></th>\n      <th>SS</th>\n      <th>MS</th>\n      <th>NumDF</th>\n      <th>DenomDF</th>\n      <th>F-stat</th>\n      <th>P-val</th>\n      <th>Sig</th>\n    </tr>\n  </thead>\n  <tbody>\n    <tr>\n      <th>infelicity</th>\n      <td>4.999735e+04</td>\n      <td>4.999735e+04</td>\n      <td>1</td>\n      <td>4983.240117</td>\n      <td>0.139107</td>\n      <td>7.091863e-01</td>\n      <td></td>\n    </tr>\n    <tr>\n      <th>group:agent_state</th>\n      <td>8.548090e+06</td>\n      <td>1.709618e+06</td>\n      <td>5</td>\n      <td>38.938014</td>\n      <td>4.756646</td>\n      <td>1.734456e-03</td>\n      <td>**</td>\n    </tr>\n    <tr>\n      <th>group:ascription</th>\n      <td>1.733076e+07</td>\n      <td>8.665380e+06</td>\n      <td>2</td>\n      <td>29.730493</td>\n      <td>24.109565</td>\n      <td>5.987298e-07</td>\n      <td>***</td>\n    </tr>\n    <tr>\n      <th>agent_state:ascription</th>\n      <td>2.899375e+06</td>\n      <td>1.449687e+06</td>\n      <td>2</td>\n      <td>10.519072</td>\n      <td>4.033444</td>\n      <td>5.009597e-02</td>\n      <td>.</td>\n    </tr>\n  </tbody>\n</table>\n</div>"
     },
     "execution_count": 6,
     "metadata": {},
     "output_type": "execute_result"
    }
   ],
   "source": [
    "mb3 = Lmer('rt ~ group:agent_state + agent_state:ascription + infelicity'+rand_fx, data=df)\n",
    "mb3.fit(factors=mod_factors, summarize=False)\n",
    "groupxascrip = Lmer.anova(mb1, mb3)\n",
    "groupxascrip.iloc[:]"
   ],
   "metadata": {
    "collapsed": false,
    "pycharm": {
     "name": "#%%\n"
    }
   }
  },
  {
   "cell_type": "markdown",
   "source": [
    "### Interaction of Group x Agent State\n"
   ],
   "metadata": {
    "collapsed": false,
    "pycharm": {
     "name": "#%% md\n"
    }
   }
  },
  {
   "cell_type": "code",
   "execution_count": 7,
   "outputs": [
    {
     "name": "stdout",
     "output_type": "stream",
     "text": [
      "boundary (singular) fit: see help('isSingular') \n",
      "\n",
      "boundary (singular) fit: see help('isSingular') \n",
      "\n",
      "boundary (singular) fit: see help('isSingular') \n",
      "\n",
      "boundary (singular) fit: see help('isSingular') \n",
      "\n",
      "boundary (singular) fit: see help('isSingular') \n",
      "\n",
      "SS Type III Analysis of Variance Table with Satterthwaite approximated degrees of freedom:\n",
      "(NOTE: Model refit with orthogonal polynomial contrasts)\n"
     ]
    },
    {
     "data": {
      "text/plain": "                                  SS            MS  NumDF      DenomDF  \\\ninfelicity              4.999735e+04  4.999735e+04      1  4983.240117   \ngroup:agent_state       8.548090e+06  1.709618e+06      5    38.938014   \ngroup:ascription        1.733076e+07  8.665380e+06      2    29.730493   \nagent_state:ascription  2.899375e+06  1.449687e+06      2    10.519072   \n\n                           F-stat         P-val  Sig  \ninfelicity               0.139107  7.091863e-01       \ngroup:agent_state        4.756646  1.734456e-03   **  \ngroup:ascription        24.109565  5.987298e-07  ***  \nagent_state:ascription   4.033444  5.009597e-02    .  ",
      "text/html": "<div>\n<style scoped>\n    .dataframe tbody tr th:only-of-type {\n        vertical-align: middle;\n    }\n\n    .dataframe tbody tr th {\n        vertical-align: top;\n    }\n\n    .dataframe thead th {\n        text-align: right;\n    }\n</style>\n<table border=\"1\" class=\"dataframe\">\n  <thead>\n    <tr style=\"text-align: right;\">\n      <th></th>\n      <th>SS</th>\n      <th>MS</th>\n      <th>NumDF</th>\n      <th>DenomDF</th>\n      <th>F-stat</th>\n      <th>P-val</th>\n      <th>Sig</th>\n    </tr>\n  </thead>\n  <tbody>\n    <tr>\n      <th>infelicity</th>\n      <td>4.999735e+04</td>\n      <td>4.999735e+04</td>\n      <td>1</td>\n      <td>4983.240117</td>\n      <td>0.139107</td>\n      <td>7.091863e-01</td>\n      <td></td>\n    </tr>\n    <tr>\n      <th>group:agent_state</th>\n      <td>8.548090e+06</td>\n      <td>1.709618e+06</td>\n      <td>5</td>\n      <td>38.938014</td>\n      <td>4.756646</td>\n      <td>1.734456e-03</td>\n      <td>**</td>\n    </tr>\n    <tr>\n      <th>group:ascription</th>\n      <td>1.733076e+07</td>\n      <td>8.665380e+06</td>\n      <td>2</td>\n      <td>29.730493</td>\n      <td>24.109565</td>\n      <td>5.987298e-07</td>\n      <td>***</td>\n    </tr>\n    <tr>\n      <th>agent_state:ascription</th>\n      <td>2.899375e+06</td>\n      <td>1.449687e+06</td>\n      <td>2</td>\n      <td>10.519072</td>\n      <td>4.033444</td>\n      <td>5.009597e-02</td>\n      <td>.</td>\n    </tr>\n  </tbody>\n</table>\n</div>"
     },
     "execution_count": 7,
     "metadata": {},
     "output_type": "execute_result"
    }
   ],
   "source": [
    "mb4 = Lmer('rt ~ group:ascription + agent_state:ascription + infelicity'+rand_fx, data=df)\n",
    "mb4.fit(factors=mod_factors, summarize=False)\n",
    "grpxagent = Lmer.anova(mb1, mb4)\n",
    "grpxagent.iloc[:]"
   ],
   "metadata": {
    "collapsed": false,
    "pycharm": {
     "name": "#%%\n"
    }
   }
  },
  {
   "cell_type": "markdown",
   "source": [
    "### Main Effects (post-hoc main effects for group x agent interaction?)"
   ],
   "metadata": {
    "collapsed": false,
    "pycharm": {
     "name": "#%% md\n"
    }
   }
  },
  {
   "cell_type": "markdown",
   "source": [
    "# Within Group - Neurotypical"
   ],
   "metadata": {
    "collapsed": false,
    "pycharm": {
     "name": "#%% md\n"
    }
   }
  },
  {
   "cell_type": "code",
   "execution_count": null,
   "outputs": [],
   "source": [
    "NT = df.loc[df.group == 'neurotypical']\n",
    "rand_fx = ' + (agent_state*ascription|item) + (agent_state|subject)'\n",
    "mod_factors = {'agent_state':NT.agent_state.unique().tolist(), 'ascription': NT.ascription.unique().tolist(), 'item':[str(x) for x in range(1,13)]}"
   ],
   "metadata": {
    "collapsed": false,
    "pycharm": {
     "name": "#%%\n"
    }
   }
  },
  {
   "cell_type": "markdown",
   "source": [
    "## Agent State x Ascription Interaction - Neurotypical"
   ],
   "metadata": {
    "collapsed": false,
    "pycharm": {
     "name": "#%% md\n"
    }
   }
  },
  {
   "cell_type": "code",
   "execution_count": null,
   "outputs": [
    {
     "name": "stdout",
     "output_type": "stream",
     "text": [
      "boundary (singular) fit: see help('isSingular') \n",
      "\n",
      "Model failed to converge with max|grad| = 0.00379878 (tol = 0.002, component 1) \n",
      "\n",
      "boundary (singular) fit: see help('isSingular') \n",
      "\n",
      "boundary (singular) fit: see help('isSingular') \n",
      "\n",
      "SS Type III Analysis of Variance Table with Satterthwaite approximated degrees of freedom:\n",
      "(NOTE: Model refit with orthogonal polynomial contrasts)\n"
     ]
    },
    {
     "data": {
      "text/plain": "                                  SS            MS  NumDF      DenomDF  \\\nagent_state             4.095990e+05  2.047995e+05      2    11.156377   \nascription              7.885954e+06  7.885954e+06      1    10.886521   \ninfelicity              9.806081e+04  9.806081e+04      1  3778.259928   \nagent_state:ascription  2.649395e+06  1.324697e+06      2    10.546231   \n\n                           F-stat     P-val  Sig  \nagent_state              0.730192  0.503485       \nascription              28.116580  0.000260  ***  \ninfelicity               0.349626  0.554360       \nagent_state:ascription   4.723076  0.034301    *  ",
      "text/html": "<div>\n<style scoped>\n    .dataframe tbody tr th:only-of-type {\n        vertical-align: middle;\n    }\n\n    .dataframe tbody tr th {\n        vertical-align: top;\n    }\n\n    .dataframe thead th {\n        text-align: right;\n    }\n</style>\n<table border=\"1\" class=\"dataframe\">\n  <thead>\n    <tr style=\"text-align: right;\">\n      <th></th>\n      <th>SS</th>\n      <th>MS</th>\n      <th>NumDF</th>\n      <th>DenomDF</th>\n      <th>F-stat</th>\n      <th>P-val</th>\n      <th>Sig</th>\n    </tr>\n  </thead>\n  <tbody>\n    <tr>\n      <th>agent_state</th>\n      <td>4.095990e+05</td>\n      <td>2.047995e+05</td>\n      <td>2</td>\n      <td>11.156377</td>\n      <td>0.730192</td>\n      <td>0.503485</td>\n      <td></td>\n    </tr>\n    <tr>\n      <th>ascription</th>\n      <td>7.885954e+06</td>\n      <td>7.885954e+06</td>\n      <td>1</td>\n      <td>10.886521</td>\n      <td>28.116580</td>\n      <td>0.000260</td>\n      <td>***</td>\n    </tr>\n    <tr>\n      <th>infelicity</th>\n      <td>9.806081e+04</td>\n      <td>9.806081e+04</td>\n      <td>1</td>\n      <td>3778.259928</td>\n      <td>0.349626</td>\n      <td>0.554360</td>\n      <td></td>\n    </tr>\n    <tr>\n      <th>agent_state:ascription</th>\n      <td>2.649395e+06</td>\n      <td>1.324697e+06</td>\n      <td>2</td>\n      <td>10.546231</td>\n      <td>4.723076</td>\n      <td>0.034301</td>\n      <td>*</td>\n    </tr>\n  </tbody>\n</table>\n</div>"
     },
     "execution_count": 9,
     "metadata": {},
     "output_type": "execute_result"
    }
   ],
   "source": [
    "m0 = Lmer('rt ~ agent_state*ascription + infelicity'+rand_fx, data=NT)\n",
    "m0.fit(factors=mod_factors, summarize=False)\n",
    "m1 = Lmer('rt ~ agent_state + ascription + infelicity'+rand_fx, data=NT)\n",
    "m1.fit(factors=mod_factors, summarize=False)\n",
    "interaction_effct = Lmer.anova(m0, m1)#.iloc[:]\n",
    "interaction_effct.iloc[:]"
   ],
   "metadata": {
    "collapsed": false,
    "pycharm": {
     "name": "#%%\n"
    }
   }
  },
  {
   "cell_type": "markdown",
   "source": [
    "## Main Effect of Agent State - Neurotypical"
   ],
   "metadata": {
    "collapsed": false,
    "pycharm": {
     "name": "#%% md\n"
    }
   }
  },
  {
   "cell_type": "code",
   "execution_count": null,
   "outputs": [
    {
     "name": "stdout",
     "output_type": "stream",
     "text": [
      "boundary (singular) fit: see help('isSingular') \n",
      "\n",
      "Model failed to converge with max|grad| = 0.00379878 (tol = 0.002, component 1) \n",
      "\n",
      "Model failed to converge with max|grad| = 0.00347019 (tol = 0.002, component 1) \n",
      "\n",
      "SS Type III Analysis of Variance Table with Satterthwaite approximated degrees of freedom:\n",
      "(NOTE: Model refit with orthogonal polynomial contrasts)\n"
     ]
    },
    {
     "data": {
      "text/plain": "                       SS            MS  NumDF      DenomDF     F-stat  \\\nagent_state  2.145131e+06  1.072565e+06      2    11.415631   3.823588   \nascription   1.001176e+07  1.001176e+07      1    10.865408  35.690924   \ninfelicity   9.363184e+04  9.363184e+04      1  3780.217224   0.333788   \n\n                P-val  Sig  \nagent_state  0.053573    .  \nascription   0.000097  ***  \ninfelicity   0.563471       ",
      "text/html": "<div>\n<style scoped>\n    .dataframe tbody tr th:only-of-type {\n        vertical-align: middle;\n    }\n\n    .dataframe tbody tr th {\n        vertical-align: top;\n    }\n\n    .dataframe thead th {\n        text-align: right;\n    }\n</style>\n<table border=\"1\" class=\"dataframe\">\n  <thead>\n    <tr style=\"text-align: right;\">\n      <th></th>\n      <th>SS</th>\n      <th>MS</th>\n      <th>NumDF</th>\n      <th>DenomDF</th>\n      <th>F-stat</th>\n      <th>P-val</th>\n      <th>Sig</th>\n    </tr>\n  </thead>\n  <tbody>\n    <tr>\n      <th>agent_state</th>\n      <td>2.145131e+06</td>\n      <td>1.072565e+06</td>\n      <td>2</td>\n      <td>11.415631</td>\n      <td>3.823588</td>\n      <td>0.053573</td>\n      <td>.</td>\n    </tr>\n    <tr>\n      <th>ascription</th>\n      <td>1.001176e+07</td>\n      <td>1.001176e+07</td>\n      <td>1</td>\n      <td>10.865408</td>\n      <td>35.690924</td>\n      <td>0.000097</td>\n      <td>***</td>\n    </tr>\n    <tr>\n      <th>infelicity</th>\n      <td>9.363184e+04</td>\n      <td>9.363184e+04</td>\n      <td>1</td>\n      <td>3780.217224</td>\n      <td>0.333788</td>\n      <td>0.563471</td>\n      <td></td>\n    </tr>\n  </tbody>\n</table>\n</div>"
     },
     "execution_count": 10,
     "metadata": {},
     "output_type": "execute_result"
    }
   ],
   "source": [
    "m2 = Lmer('rt ~ ascription + infelicity'+rand_fx, data=NT)\n",
    "m2.fit(factors=mod_factors, summarize=False)\n",
    "agent_state_effect= Lmer.anova(m1,m2 )\n",
    "agent_state_effect.iloc[:]"
   ],
   "metadata": {
    "collapsed": false,
    "pycharm": {
     "name": "#%%\n"
    }
   }
  },
  {
   "cell_type": "markdown",
   "source": [
    "## Main Effect of Ascription - Neurotypical"
   ],
   "metadata": {
    "collapsed": false,
    "pycharm": {
     "name": "#%% md\n"
    }
   }
  },
  {
   "cell_type": "code",
   "execution_count": null,
   "outputs": [
    {
     "name": "stdout",
     "output_type": "stream",
     "text": [
      "boundary (singular) fit: see help('isSingular') \n",
      "\n",
      "boundary (singular) fit: see help('isSingular') \n",
      "\n",
      "SS Type III Analysis of Variance Table with Satterthwaite approximated degrees of freedom:\n",
      "(NOTE: Model refit with orthogonal polynomial contrasts)\n"
     ]
    },
    {
     "data": {
      "text/plain": "                      SS            MS  NumDF      DenomDF     F-stat  \\\nascription  1.194658e+07  1.194658e+07      1    53.464061  42.558953   \ninfelicity  6.085509e+04  6.085509e+04      1  3680.417018   0.216793   \n\n                   P-val  Sig  \nascription  2.540424e-08  ***  \ninfelicity  6.415224e-01       ",
      "text/html": "<div>\n<style scoped>\n    .dataframe tbody tr th:only-of-type {\n        vertical-align: middle;\n    }\n\n    .dataframe tbody tr th {\n        vertical-align: top;\n    }\n\n    .dataframe thead th {\n        text-align: right;\n    }\n</style>\n<table border=\"1\" class=\"dataframe\">\n  <thead>\n    <tr style=\"text-align: right;\">\n      <th></th>\n      <th>SS</th>\n      <th>MS</th>\n      <th>NumDF</th>\n      <th>DenomDF</th>\n      <th>F-stat</th>\n      <th>P-val</th>\n      <th>Sig</th>\n    </tr>\n  </thead>\n  <tbody>\n    <tr>\n      <th>ascription</th>\n      <td>1.194658e+07</td>\n      <td>1.194658e+07</td>\n      <td>1</td>\n      <td>53.464061</td>\n      <td>42.558953</td>\n      <td>2.540424e-08</td>\n      <td>***</td>\n    </tr>\n    <tr>\n      <th>infelicity</th>\n      <td>6.085509e+04</td>\n      <td>6.085509e+04</td>\n      <td>1</td>\n      <td>3680.417018</td>\n      <td>0.216793</td>\n      <td>6.415224e-01</td>\n      <td></td>\n    </tr>\n  </tbody>\n</table>\n</div>"
     },
     "execution_count": 11,
     "metadata": {},
     "output_type": "execute_result"
    }
   ],
   "source": [
    "m3 = Lmer('rt ~ agent_state + infelicity'+rand_fx, data=NT)\n",
    "m3.fit(factors=mod_factors, summarize=False)\n",
    "ascription_effect = Lmer.anova(m2, m3)\n",
    "ascription_effect.iloc[:]"
   ],
   "metadata": {
    "collapsed": false,
    "pycharm": {
     "name": "#%%\n"
    }
   }
  },
  {
   "cell_type": "markdown",
   "source": [
    "# Within Group - Autism"
   ],
   "metadata": {
    "collapsed": false,
    "pycharm": {
     "name": "#%% md\n"
    }
   }
  },
  {
   "cell_type": "code",
   "execution_count": null,
   "outputs": [
    {
     "ename": "KeyError",
     "evalue": "\"['diag'] not found in axis\"",
     "output_type": "error",
     "traceback": [
      "\u001B[0;31m---------------------------------------------------------------------------\u001B[0m",
      "\u001B[0;31mKeyError\u001B[0m                                  Traceback (most recent call last)",
      "\u001B[0;32m<ipython-input-12-1abb8a67438b>\u001B[0m in \u001B[0;36m<module>\u001B[0;34m\u001B[0m\n\u001B[0;32m----> 1\u001B[0;31m \u001B[0mASD\u001B[0m \u001B[0;34m=\u001B[0m  \u001B[0mdf\u001B[0m\u001B[0;34m.\u001B[0m\u001B[0mloc\u001B[0m\u001B[0;34m[\u001B[0m\u001B[0mdf\u001B[0m\u001B[0;34m.\u001B[0m\u001B[0mgroup\u001B[0m \u001B[0;34m==\u001B[0m \u001B[0;34m'autism'\u001B[0m\u001B[0;34m]\u001B[0m\u001B[0;34m.\u001B[0m\u001B[0mdrop\u001B[0m\u001B[0;34m(\u001B[0m\u001B[0;34m'diag'\u001B[0m\u001B[0;34m,\u001B[0m \u001B[0maxis\u001B[0m\u001B[0;34m=\u001B[0m\u001B[0;36m1\u001B[0m\u001B[0;34m)\u001B[0m\u001B[0;34m\u001B[0m\u001B[0;34m\u001B[0m\u001B[0m\n\u001B[0m",
      "\u001B[0;32m/Library/Frameworks/Python.framework/Versions/3.8/lib/python3.8/site-packages/pandas/util/_decorators.py\u001B[0m in \u001B[0;36mwrapper\u001B[0;34m(*args, **kwargs)\u001B[0m\n\u001B[1;32m    315\u001B[0m                     \u001B[0mstacklevel\u001B[0m\u001B[0;34m=\u001B[0m\u001B[0mfind_stack_level\u001B[0m\u001B[0;34m(\u001B[0m\u001B[0minspect\u001B[0m\u001B[0;34m.\u001B[0m\u001B[0mcurrentframe\u001B[0m\u001B[0;34m(\u001B[0m\u001B[0;34m)\u001B[0m\u001B[0;34m)\u001B[0m\u001B[0;34m,\u001B[0m\u001B[0;34m\u001B[0m\u001B[0;34m\u001B[0m\u001B[0m\n\u001B[1;32m    316\u001B[0m                 )\n\u001B[0;32m--> 317\u001B[0;31m             \u001B[0;32mreturn\u001B[0m \u001B[0mfunc\u001B[0m\u001B[0;34m(\u001B[0m\u001B[0;34m*\u001B[0m\u001B[0margs\u001B[0m\u001B[0;34m,\u001B[0m \u001B[0;34m**\u001B[0m\u001B[0mkwargs\u001B[0m\u001B[0;34m)\u001B[0m\u001B[0;34m\u001B[0m\u001B[0;34m\u001B[0m\u001B[0m\n\u001B[0m\u001B[1;32m    318\u001B[0m \u001B[0;34m\u001B[0m\u001B[0m\n\u001B[1;32m    319\u001B[0m         \u001B[0;32mreturn\u001B[0m \u001B[0mwrapper\u001B[0m\u001B[0;34m\u001B[0m\u001B[0;34m\u001B[0m\u001B[0m\n",
      "\u001B[0;32m/Library/Frameworks/Python.framework/Versions/3.8/lib/python3.8/site-packages/pandas/core/frame.py\u001B[0m in \u001B[0;36mdrop\u001B[0;34m(self, labels, axis, index, columns, level, inplace, errors)\u001B[0m\n\u001B[1;32m   5389\u001B[0m                 \u001B[0mweight\u001B[0m  \u001B[0;36m1.0\u001B[0m     \u001B[0;36m0.8\u001B[0m\u001B[0;34m\u001B[0m\u001B[0;34m\u001B[0m\u001B[0m\n\u001B[1;32m   5390\u001B[0m         \"\"\"\n\u001B[0;32m-> 5391\u001B[0;31m         return super().drop(\n\u001B[0m\u001B[1;32m   5392\u001B[0m             \u001B[0mlabels\u001B[0m\u001B[0;34m=\u001B[0m\u001B[0mlabels\u001B[0m\u001B[0;34m,\u001B[0m\u001B[0;34m\u001B[0m\u001B[0;34m\u001B[0m\u001B[0m\n\u001B[1;32m   5393\u001B[0m             \u001B[0maxis\u001B[0m\u001B[0;34m=\u001B[0m\u001B[0maxis\u001B[0m\u001B[0;34m,\u001B[0m\u001B[0;34m\u001B[0m\u001B[0;34m\u001B[0m\u001B[0m\n",
      "\u001B[0;32m/Library/Frameworks/Python.framework/Versions/3.8/lib/python3.8/site-packages/pandas/util/_decorators.py\u001B[0m in \u001B[0;36mwrapper\u001B[0;34m(*args, **kwargs)\u001B[0m\n\u001B[1;32m    315\u001B[0m                     \u001B[0mstacklevel\u001B[0m\u001B[0;34m=\u001B[0m\u001B[0mfind_stack_level\u001B[0m\u001B[0;34m(\u001B[0m\u001B[0minspect\u001B[0m\u001B[0;34m.\u001B[0m\u001B[0mcurrentframe\u001B[0m\u001B[0;34m(\u001B[0m\u001B[0;34m)\u001B[0m\u001B[0;34m)\u001B[0m\u001B[0;34m,\u001B[0m\u001B[0;34m\u001B[0m\u001B[0;34m\u001B[0m\u001B[0m\n\u001B[1;32m    316\u001B[0m                 )\n\u001B[0;32m--> 317\u001B[0;31m             \u001B[0;32mreturn\u001B[0m \u001B[0mfunc\u001B[0m\u001B[0;34m(\u001B[0m\u001B[0;34m*\u001B[0m\u001B[0margs\u001B[0m\u001B[0;34m,\u001B[0m \u001B[0;34m**\u001B[0m\u001B[0mkwargs\u001B[0m\u001B[0;34m)\u001B[0m\u001B[0;34m\u001B[0m\u001B[0;34m\u001B[0m\u001B[0m\n\u001B[0m\u001B[1;32m    318\u001B[0m \u001B[0;34m\u001B[0m\u001B[0m\n\u001B[1;32m    319\u001B[0m         \u001B[0;32mreturn\u001B[0m \u001B[0mwrapper\u001B[0m\u001B[0;34m\u001B[0m\u001B[0;34m\u001B[0m\u001B[0m\n",
      "\u001B[0;32m/Library/Frameworks/Python.framework/Versions/3.8/lib/python3.8/site-packages/pandas/core/generic.py\u001B[0m in \u001B[0;36mdrop\u001B[0;34m(self, labels, axis, index, columns, level, inplace, errors)\u001B[0m\n\u001B[1;32m   4508\u001B[0m         \u001B[0;32mfor\u001B[0m \u001B[0maxis\u001B[0m\u001B[0;34m,\u001B[0m \u001B[0mlabels\u001B[0m \u001B[0;32min\u001B[0m \u001B[0maxes\u001B[0m\u001B[0;34m.\u001B[0m\u001B[0mitems\u001B[0m\u001B[0;34m(\u001B[0m\u001B[0;34m)\u001B[0m\u001B[0;34m:\u001B[0m\u001B[0;34m\u001B[0m\u001B[0;34m\u001B[0m\u001B[0m\n\u001B[1;32m   4509\u001B[0m             \u001B[0;32mif\u001B[0m \u001B[0mlabels\u001B[0m \u001B[0;32mis\u001B[0m \u001B[0;32mnot\u001B[0m \u001B[0;32mNone\u001B[0m\u001B[0;34m:\u001B[0m\u001B[0;34m\u001B[0m\u001B[0;34m\u001B[0m\u001B[0m\n\u001B[0;32m-> 4510\u001B[0;31m                 \u001B[0mobj\u001B[0m \u001B[0;34m=\u001B[0m \u001B[0mobj\u001B[0m\u001B[0;34m.\u001B[0m\u001B[0m_drop_axis\u001B[0m\u001B[0;34m(\u001B[0m\u001B[0mlabels\u001B[0m\u001B[0;34m,\u001B[0m \u001B[0maxis\u001B[0m\u001B[0;34m,\u001B[0m \u001B[0mlevel\u001B[0m\u001B[0;34m=\u001B[0m\u001B[0mlevel\u001B[0m\u001B[0;34m,\u001B[0m \u001B[0merrors\u001B[0m\u001B[0;34m=\u001B[0m\u001B[0merrors\u001B[0m\u001B[0;34m)\u001B[0m\u001B[0;34m\u001B[0m\u001B[0;34m\u001B[0m\u001B[0m\n\u001B[0m\u001B[1;32m   4511\u001B[0m \u001B[0;34m\u001B[0m\u001B[0m\n\u001B[1;32m   4512\u001B[0m         \u001B[0;32mif\u001B[0m \u001B[0minplace\u001B[0m\u001B[0;34m:\u001B[0m\u001B[0;34m\u001B[0m\u001B[0;34m\u001B[0m\u001B[0m\n",
      "\u001B[0;32m/Library/Frameworks/Python.framework/Versions/3.8/lib/python3.8/site-packages/pandas/core/generic.py\u001B[0m in \u001B[0;36m_drop_axis\u001B[0;34m(self, labels, axis, level, errors, only_slice)\u001B[0m\n\u001B[1;32m   4549\u001B[0m                 \u001B[0mnew_axis\u001B[0m \u001B[0;34m=\u001B[0m \u001B[0maxis\u001B[0m\u001B[0;34m.\u001B[0m\u001B[0mdrop\u001B[0m\u001B[0;34m(\u001B[0m\u001B[0mlabels\u001B[0m\u001B[0;34m,\u001B[0m \u001B[0mlevel\u001B[0m\u001B[0;34m=\u001B[0m\u001B[0mlevel\u001B[0m\u001B[0;34m,\u001B[0m \u001B[0merrors\u001B[0m\u001B[0;34m=\u001B[0m\u001B[0merrors\u001B[0m\u001B[0;34m)\u001B[0m\u001B[0;34m\u001B[0m\u001B[0;34m\u001B[0m\u001B[0m\n\u001B[1;32m   4550\u001B[0m             \u001B[0;32melse\u001B[0m\u001B[0;34m:\u001B[0m\u001B[0;34m\u001B[0m\u001B[0;34m\u001B[0m\u001B[0m\n\u001B[0;32m-> 4551\u001B[0;31m                 \u001B[0mnew_axis\u001B[0m \u001B[0;34m=\u001B[0m \u001B[0maxis\u001B[0m\u001B[0;34m.\u001B[0m\u001B[0mdrop\u001B[0m\u001B[0;34m(\u001B[0m\u001B[0mlabels\u001B[0m\u001B[0;34m,\u001B[0m \u001B[0merrors\u001B[0m\u001B[0;34m=\u001B[0m\u001B[0merrors\u001B[0m\u001B[0;34m)\u001B[0m\u001B[0;34m\u001B[0m\u001B[0;34m\u001B[0m\u001B[0m\n\u001B[0m\u001B[1;32m   4552\u001B[0m             \u001B[0mindexer\u001B[0m \u001B[0;34m=\u001B[0m \u001B[0maxis\u001B[0m\u001B[0;34m.\u001B[0m\u001B[0mget_indexer\u001B[0m\u001B[0;34m(\u001B[0m\u001B[0mnew_axis\u001B[0m\u001B[0;34m)\u001B[0m\u001B[0;34m\u001B[0m\u001B[0;34m\u001B[0m\u001B[0m\n\u001B[1;32m   4553\u001B[0m \u001B[0;34m\u001B[0m\u001B[0m\n",
      "\u001B[0;32m/Library/Frameworks/Python.framework/Versions/3.8/lib/python3.8/site-packages/pandas/core/indexes/base.py\u001B[0m in \u001B[0;36mdrop\u001B[0;34m(self, labels, errors)\u001B[0m\n\u001B[1;32m   6970\u001B[0m         \u001B[0;32mif\u001B[0m \u001B[0mmask\u001B[0m\u001B[0;34m.\u001B[0m\u001B[0many\u001B[0m\u001B[0;34m(\u001B[0m\u001B[0;34m)\u001B[0m\u001B[0;34m:\u001B[0m\u001B[0;34m\u001B[0m\u001B[0;34m\u001B[0m\u001B[0m\n\u001B[1;32m   6971\u001B[0m             \u001B[0;32mif\u001B[0m \u001B[0merrors\u001B[0m \u001B[0;34m!=\u001B[0m \u001B[0;34m\"ignore\"\u001B[0m\u001B[0;34m:\u001B[0m\u001B[0;34m\u001B[0m\u001B[0;34m\u001B[0m\u001B[0m\n\u001B[0;32m-> 6972\u001B[0;31m                 \u001B[0;32mraise\u001B[0m \u001B[0mKeyError\u001B[0m\u001B[0;34m(\u001B[0m\u001B[0;34mf\"{list(labels[mask])} not found in axis\"\u001B[0m\u001B[0;34m)\u001B[0m\u001B[0;34m\u001B[0m\u001B[0;34m\u001B[0m\u001B[0m\n\u001B[0m\u001B[1;32m   6973\u001B[0m             \u001B[0mindexer\u001B[0m \u001B[0;34m=\u001B[0m \u001B[0mindexer\u001B[0m\u001B[0;34m[\u001B[0m\u001B[0;34m~\u001B[0m\u001B[0mmask\u001B[0m\u001B[0;34m]\u001B[0m\u001B[0;34m\u001B[0m\u001B[0;34m\u001B[0m\u001B[0m\n\u001B[1;32m   6974\u001B[0m         \u001B[0;32mreturn\u001B[0m \u001B[0mself\u001B[0m\u001B[0;34m.\u001B[0m\u001B[0mdelete\u001B[0m\u001B[0;34m(\u001B[0m\u001B[0mindexer\u001B[0m\u001B[0;34m)\u001B[0m\u001B[0;34m\u001B[0m\u001B[0;34m\u001B[0m\u001B[0m\n",
      "\u001B[0;31mKeyError\u001B[0m: \"['diag'] not found in axis\""
     ]
    }
   ],
   "source": [
    "ASD =  df.loc[df.group == 'autism']"
   ],
   "metadata": {
    "collapsed": false,
    "pycharm": {
     "name": "#%%\n"
    }
   }
  },
  {
   "cell_type": "markdown",
   "source": [
    "## Agent State x Ascription Interaction - Autism"
   ],
   "metadata": {
    "collapsed": false,
    "pycharm": {
     "name": "#%% md\n"
    }
   }
  },
  {
   "cell_type": "code",
   "execution_count": null,
   "outputs": [],
   "source": [
    "m0a = Lmer('rt ~ agent_state*ascription + infelicity'+rand_fx, data=ASD)\n",
    "m0a.fit(factors=mod_factors, summarize=False)\n",
    "m1a = Lmer('rt ~ agent_state + ascription + infelicity'+rand_fx, data=ASD)\n",
    "m1a.fit(factors=mod_factors, summarize=False)\n",
    "interaction_effct_a = Lmer.anova(m0a, m1a)#.iloc[:]\n",
    "interaction_effct_a.iloc[:]"
   ],
   "metadata": {
    "collapsed": false,
    "pycharm": {
     "name": "#%%\n"
    }
   }
  },
  {
   "cell_type": "markdown",
   "source": [
    "## Main Effect of Agent State - Autism"
   ],
   "metadata": {
    "collapsed": false,
    "pycharm": {
     "name": "#%% md\n"
    }
   }
  },
  {
   "cell_type": "code",
   "execution_count": null,
   "outputs": [],
   "source": [
    "m2a = Lmer('rt ~ ascription + infelicity'+rand_fx, data=NT)\n",
    "m2a.fit(factors=mod_factors, summarize=False)\n",
    "agent_state_effect_a= Lmer.anova(m1a,m2a )\n",
    "agent_state_effect_a.iloc[:]"
   ],
   "metadata": {
    "collapsed": false,
    "pycharm": {
     "name": "#%%\n"
    }
   }
  },
  {
   "cell_type": "markdown",
   "source": [
    "## Main Effect of Ascription - Autism"
   ],
   "metadata": {
    "collapsed": false,
    "pycharm": {
     "name": "#%% md\n"
    }
   }
  },
  {
   "cell_type": "code",
   "execution_count": null,
   "outputs": [],
   "source": [
    "m3a = Lmer('rt ~ agent_state + infelicity'+rand_fx, data=ASD)\n",
    "m3a.fit(factors=mod_factors, summarize=False)\n",
    "ascription_effect_a = Lmer.anova(m2a, m3a)\n",
    "ascription_effect_a.iloc[:]"
   ],
   "metadata": {
    "collapsed": false,
    "pycharm": {
     "name": "#%%\n"
    }
   }
  },
  {
   "cell_type": "code",
   "execution_count": null,
   "outputs": [],
   "source": [],
   "metadata": {
    "collapsed": false,
    "pycharm": {
     "name": "#%%\n"
    }
   }
  }
 ],
 "metadata": {
  "kernelspec": {
   "display_name": "Python 3",
   "language": "python",
   "name": "python3"
  },
  "language_info": {
   "codemirror_mode": {
    "name": "ipython",
    "version": 2
   },
   "file_extension": ".py",
   "mimetype": "text/x-python",
   "name": "python",
   "nbconvert_exporter": "python",
   "pygments_lexer": "ipython2",
   "version": "2.7.6"
  }
 },
 "nbformat": 4,
 "nbformat_minor": 0
}