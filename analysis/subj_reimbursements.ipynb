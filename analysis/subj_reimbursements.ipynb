{
 "cells": [
  {
   "cell_type": "code",
   "execution_count": 1,
   "metadata": {
    "collapsed": true,
    "pycharm": {
     "name": "#%%\n"
    }
   },
   "outputs": [],
   "source": [
    "import sqlite3\n",
    "import pandas as pd\n",
    "import numpy as np\n",
    "import datetime\n",
    "import matplotlib.pyplot as plt\n",
    "import seaborn as sns\n",
    "from ast import literal_eval\n",
    "from urllib.request import urlopen\n",
    "from json import load\n",
    "import os\n",
    "from glob import glob\n",
    "import PyPDF2\n",
    "sns.set_style('white')\n",
    "sns.set_context('notebook')"
   ]
  },
  {
   "cell_type": "markdown",
   "source": [
    "# 1. Imports"
   ],
   "metadata": {
    "collapsed": false,
    "pycharm": {
     "name": "#%% md\n"
    }
   }
  },
  {
   "cell_type": "code",
   "execution_count": 2,
   "outputs": [
    {
     "data": {
      "text/plain": "['cocoroddy94@gmail.com',\n 'ngood2600@gmail.com',\n 'stviloveyou@gmail.com',\n 'mattewgretchen@gmail.com',\n 'aiyanakaren657754@gmail.com',\n 'soonwow041@gmail.com']"
     },
     "execution_count": 2,
     "metadata": {},
     "output_type": "execute_result"
    }
   ],
   "source": [
    "pdf_file = open('../recruitment/payments/Amazon.com - Order 112-7833647-0376253.pdf', 'rb')\n",
    "pdf_reader = PyPDF2.PdfFileReader(pdf_file)\n",
    "page = pdf_reader.getPage(0)\n",
    "ptest = page.extractText()\n",
    "xx= ptest.split('E-mail gift card to: ')[1:]\n",
    "[x.split(\"\\n\")[0] for x in xx]"
   ],
   "metadata": {
    "collapsed": false,
    "pycharm": {
     "name": "#%%\n"
    }
   }
  },
  {
   "cell_type": "markdown",
   "source": [
    "# 2. Subjects who have been paid"
   ],
   "metadata": {
    "collapsed": false,
    "pycharm": {
     "name": "#%% md\n"
    }
   }
  },
  {
   "cell_type": "code",
   "execution_count": 2,
   "outputs": [],
   "source": [
    "paid_subjs = []\n",
    "receits = glob('../recruitment/payments/Amazon*')\n",
    "for filepath in receits:\n",
    "    pdf_reader = PyPDF2.PdfFileReader(open(filepath, 'rb'))\n",
    "    for page in range(pdf_reader.numPages):\n",
    "        pg = pdf_reader.getPage(page).extractText()\n",
    "        xx = pg.split('E-mail gift card to: ')[1:]\n",
    "        paid_subjs.append([x.split(\"\\n\")[0] for x in xx])\n",
    "\n",
    "paid_subs = [item.lower() for sublist in paid_subjs for item in sublist]\n",
    "#paid_subs"
   ],
   "metadata": {
    "collapsed": false,
    "pycharm": {
     "name": "#%%\n"
    }
   }
  },
  {
   "cell_type": "code",
   "execution_count": 3,
   "outputs": [
    {
     "data": {
      "text/plain": "                             email  date_paid\n0      victoria.gresbach@gmail.com 2022-09-12\n1          lunaoliver031@gmail.com 2022-09-12\n2          austinhill113@gmail.com 2022-09-12\n3            olamidegsax@gmail.com 2022-09-12\n4         clarkdaniel781@gmail.com 2022-09-12\n..                             ...        ...\n464             mleshc15@gmail.com 2022-09-12\n465  kenneththompkins860@gmail.com 2022-09-12\n466     scottwiliams1894@gmail.com 2022-09-12\n467        paigesummer44@yahoo.com 2022-09-12\n468             jimelkyy@gmail.com 2022-09-12\n\n[469 rows x 2 columns]",
      "text/html": "<div>\n<style scoped>\n    .dataframe tbody tr th:only-of-type {\n        vertical-align: middle;\n    }\n\n    .dataframe tbody tr th {\n        vertical-align: top;\n    }\n\n    .dataframe thead th {\n        text-align: right;\n    }\n</style>\n<table border=\"1\" class=\"dataframe\">\n  <thead>\n    <tr style=\"text-align: right;\">\n      <th></th>\n      <th>email</th>\n      <th>date_paid</th>\n    </tr>\n  </thead>\n  <tbody>\n    <tr>\n      <th>0</th>\n      <td>victoria.gresbach@gmail.com</td>\n      <td>2022-09-12</td>\n    </tr>\n    <tr>\n      <th>1</th>\n      <td>lunaoliver031@gmail.com</td>\n      <td>2022-09-12</td>\n    </tr>\n    <tr>\n      <th>2</th>\n      <td>austinhill113@gmail.com</td>\n      <td>2022-09-12</td>\n    </tr>\n    <tr>\n      <th>3</th>\n      <td>olamidegsax@gmail.com</td>\n      <td>2022-09-12</td>\n    </tr>\n    <tr>\n      <th>4</th>\n      <td>clarkdaniel781@gmail.com</td>\n      <td>2022-09-12</td>\n    </tr>\n    <tr>\n      <th>...</th>\n      <td>...</td>\n      <td>...</td>\n    </tr>\n    <tr>\n      <th>464</th>\n      <td>mleshc15@gmail.com</td>\n      <td>2022-09-12</td>\n    </tr>\n    <tr>\n      <th>465</th>\n      <td>kenneththompkins860@gmail.com</td>\n      <td>2022-09-12</td>\n    </tr>\n    <tr>\n      <th>466</th>\n      <td>scottwiliams1894@gmail.com</td>\n      <td>2022-09-12</td>\n    </tr>\n    <tr>\n      <th>467</th>\n      <td>paigesummer44@yahoo.com</td>\n      <td>2022-09-12</td>\n    </tr>\n    <tr>\n      <th>468</th>\n      <td>jimelkyy@gmail.com</td>\n      <td>2022-09-12</td>\n    </tr>\n  </tbody>\n</table>\n<p>469 rows × 2 columns</p>\n</div>"
     },
     "execution_count": 3,
     "metadata": {},
     "output_type": "execute_result"
    }
   ],
   "source": [
    "payments = pd.DataFrame({'email': paid_subs, \"date_paid\": datetime.datetime(2022, 9, 12)})\n",
    "#payments.to_csv('../recruitment/payments/paid_subs.csv', sep=',', header=True)\n",
    "payments"
   ],
   "metadata": {
    "collapsed": false,
    "pycharm": {
     "name": "#%%\n"
    }
   }
  },
  {
   "cell_type": "code",
   "execution_count": 6,
   "outputs": [
    {
     "data": {
      "text/plain": "['drewhartado@gmail.com',\n 'ethanbrandon.j@gmail.com',\n 'sellasmallen37@gmail.com',\n 'josehastings8@gmail.com',\n 'steffi.lietzke@gmail.com',\n 'lonniekacie125@yahoo.com',\n 'lamperdominic@gmail.com',\n 'michaeltaylor.v63@gmail.com',\n 'stevegutierrez305@gmail.com',\n 'beckyybanks@gmail.com',\n 'feroztino856@gmail.com',\n 'jamesjensen642@gmail.com',\n 'canndyvelyn@gmail.com',\n 'botspeterson@gmail.com',\n 'owensnancy600@gmail.com',\n 'mcharlescalderon@gmail.com',\n 'marystafford554@gmail.com',\n 'viviansmelley680@gmail.com',\n 'cathylee760@gmail.com',\n 'jeffreymonroe074@gmail.com',\n 'webbo9777@gmail.com',\n 'carissabhalliday@gmail.com',\n 'darnellhayes465@gmail.com',\n 'stella.sage56@gmail.com',\n 'terryjohnjtt767@gmail.com',\n 'ninaschmidhuan@gmail.com',\n 'debramcuire@gmail.com',\n 'catherinewilkerrson@gmail.com',\n 'johnyyavant@gmail.com',\n 'andersongillian930@gmail.com',\n 'daniebrown.d@gmail.com',\n 'shamnikeller@gmail.com',\n 'ryanronald251@gmail.com',\n 'jy2926@nyu.edu',\n 'musicmajor2016@gmail.com',\n 'c.g.plotner@gmail.com',\n 'vanessabayley2@gmail.com',\n 'natasharothschild4@gmail.com',\n 'soliae@gmail.com',\n 'danielfischer875@yahoo.com',\n 'ellennorris.31@gmail.com',\n 'benschwartz137@gmail.com',\n 'lauradern60@gmail.com',\n 'gedwright3@gmail.com',\n 'tysonhesse240@gmail.com',\n 'triciawood.j@gmail.com',\n 'tommielawson761@gmail.com',\n 'caseyrios831@gmail.com',\n 'lisaberoudd@gmail.com',\n 'tomhalkenborg@gmail.com',\n 'brucegallaway1@gmail.com',\n 'jimmymars52@gmail.com',\n 'celinebrxton@gmail.com',\n 'marcanthonie195@gmail.com',\n 'onwgzi638@gmail.com',\n 'whitneybanks340@gmail.com',\n 'jackiewest592@gmail.com',\n 'pricechritine@gmail.com',\n 'paulinew.garcia@gmail.com',\n 'johnsondale252@gmail.com',\n 'raquellynn746@gmail.com',\n 'kelvinpreddis@gmail.com',\n 'samogluxury@gmail.com',\n 'debrahamm00@gmail.com',\n 'roygonzallez@gmail.com',\n 'jacobcollins875@gmail.com',\n 'cheryljonness@gmail.com',\n 'angelawultrich@gmail.com',\n 'paulharrisz788@gmail.com',\n 'waltsimeon254@gmail.com',\n 'elizabethlee0577@gmail.com',\n 'leahshiflet669@yahoo.com',\n 'justinscotts.m@gmail.com',\n 'beckylynne202@gmail.com',\n 'xander3miller@gmail.com',\n 'natemichaelss@gmail.com',\n 'ulomobridget7@gmail.com',\n 'lashlyboby34@gmail.com',\n 'kelly44446666@gmail.com',\n 'clementuloma0@gmail.com',\n 'evanslacey899@gmail.com',\n 'hetalia4ev@gmail.com',\n 'williegeorge908@gmail.com',\n 'ariannadrew02@gmail.com',\n 'jayostyne@gmail.com',\n 'jayshreeriddhi@gmail.com',\n 'ninjaflowerchild@gmail.com',\n 'dianamatter053@gmail.com',\n 'anthemilagustro@gmail.com',\n 'marzsedgwick@gmail.com',\n 'ojobahclement78@gmail.com',\n 'spiritsam54@gmail.com',\n 'john.robert00143@gmail.com',\n 'oliverbeamont794@gmail.com',\n 'marchkelvin13@gmail.com',\n 'mosesmiles.m@gmail.com',\n 'johnriz509@gmail.com',\n 'theorice45@gmail.com',\n 'clairezoey.vi@gmail.com',\n 'nickfrost115@gmail.com',\n 'leorebic45@gmail.com',\n 'shondasmithv@gmail.com',\n 'pyronia146@gmail.com',\n 'kathiemiles760@gmail.com',\n 'kellywans3@gmail.com',\n 'greggmccoy32@gmail.com',\n 'edithfairbrook@gmail.com',\n 'sevynfallon112@gmail.com',\n 'ferranlee8@gmail.com',\n 'marikabarth@hotmail.com',\n 'loreneriley591@gmail.com',\n 'calvinwhealsfh@gmail.com',\n 'jaisaonsmith@gmail.com',\n 'emmiemelina528@gmail.com',\n 'aprilmariemai@gmail.com',\n 'spike1190@yahoo.com',\n 'jjjjsamueljjjj@gmail.com',\n 'lisabishop326@gmail.com',\n 'sonnyannagueyxxz@gmail.com',\n 'ryanyoung319@gmail.com',\n 'sharmainedattilopon85@gmail.com',\n 'gregmacintosh4@gmail.com',\n 'tolkienite25@hotmail.com',\n 'scottanderson.ev@gmail.com',\n 'victormills673@gmail.com',\n 'mattbradford29@gmail.com',\n 'miguelgraham3454@gmail.com',\n 'mosesblake45@gmail.com',\n 'hollyrfoshee@gmail.com',\n 'lenoramarottaugu30@gmail.com',\n 'johnbasnightywcy77',\n 'nerysgross@yahoo.co.uk',\n 'cucclavettekak88@gmail.com',\n 'heathermmcnamar@gmail.com',\n 'jackfoster.j1f@gmail.com',\n 'merilemarcelo35@gmail.com',\n 'xiaseed.vi@gmail.com',\n 'marthalawson149@gmail.com',\n 'lmmaier424@msn.com',\n 'aquilliabrensinger@gmail.com',\n 'coreylarge850@gmail.com',\n 'joycemaya.d@gmail.com',\n 'shelbyvalenciab@gmail.com',\n 'ashleymary1092@gmail.com',\n 'jordinjhuan@gmail.com',\n 'corbinschool@yahoo.com',\n 'jpaulson466@gmail.com',\n 'ebarlow6403@outlook.com',\n 'academicone15@gmail.com',\n 'kateellis00@gmail.com',\n 'markandrea.mk@gmail.com',\n 'billydrakem@gmail.com',\n 'bintetindal@gmail.com',\n 'willmercy96@gmail.com',\n 'lovethsamuel234@gmail.com',\n 'msola0438@gmail.com',\n 'robsonfred091@gmail.com',\n 'matthew.l.mull@gmail.com',\n 'samsurd4love@gmail.com',\n 'amandajonesx22@gmail.com',\n 'nifesimimary@gmail.com',\n 'joshkelvin570@gmail.com',\n 'amandaharrisx22@gmail.com',\n 'jerrysmith888x@gmail.com',\n 'whitfieldlaurel046@gmail.com',\n 'paulthomsonv22@gmail.com',\n 'johnwoody301@gmail.com',\n 'claudialuiz086@gmail.com',\n 'aidenaddison9@gmail.com',\n 'madisonlandon9@gmail.com',\n 'blakejason279@gmail.com',\n 'cynthiawilliams7c@gmail.com',\n 'nickann869@gmail.com',\n 'wava291@gmail.com',\n 'sophiaethan655@gmail.com',\n 'williamsberry.vi@gmail.com',\n 'mikewayne762@gmail.com',\n 'smithalex9349@gmail.com',\n 'emelieferguson4@gmail.com',\n 'kaylastormj@gmail.com',\n 'fatuasejoseph@gmail.com',\n 'rockrolldome@gmail.com',\n 'hollygreg8@gmail.com',\n 'jasonmine88@gmail.com',\n 'okeagbe101@gmail.com',\n 'tariqsaleemrana@yahoo.com',\n 'peytonferrell01@gmail.com',\n 'neveragainniewieder@gmail.com',\n 'melvinlawrence949@gmail.com',\n 'nicholasryan349@gmail.com',\n 'harveyben425@gmail.com',\n 'johnstonezz019@gmail.com',\n 'juliancreed39@gmail.com',\n 'tunnerhenry@gmail.com',\n 'gavinmd3@gmail.com',\n 'ecaline54@gmail.com',\n 'dispersedhonour@gmail.com',\n 'cmcscootalooawesome@gmail.com',\n 'rydzaj5d@aol.com',\n 'kristingrenier271@gmail.com',\n 'egbar13@hotmail.com',\n 'scfischer397@gmail.com',\n 'jasonkmbk@gmail.com',\n 'theodoreszpakowski@gmail.com',\n 'davisaly@grinnell.edu']"
     },
     "execution_count": 6,
     "metadata": {},
     "output_type": "execute_result"
    }
   ],
   "source": [
    "topay = pd.read_csv('./Data/subs2pay_10_10_2022.csv', index_col=0)\n",
    "topay = [x[0] for x in topay.values.tolist()]\n",
    "topay"
   ],
   "metadata": {
    "collapsed": false,
    "pycharm": {
     "name": "#%%\n"
    }
   }
  },
  {
   "cell_type": "code",
   "execution_count": 7,
   "outputs": [],
   "source": [
    "\n",
    "paythem = []\n",
    "for subject in topay:\n",
    "    if len(payments[payments.email.str.contains(subject)]) < 1:\n",
    "        paythem.append(subject)\n",
    "\n"
   ],
   "metadata": {
    "collapsed": false,
    "pycharm": {
     "name": "#%%\n"
    }
   }
  },
  {
   "cell_type": "code",
   "execution_count": 7,
   "outputs": [],
   "source": [
    "# add some subjects manually\n",
    "#[paythem.append(x) for x in ['acoustajavier@gmail.com', 'idencloak@gmail.com', 'loreyclaxtone@gmail.com']]\n",
    "newpayments = pd.DataFrame({'email': paythem, 'date_paid': datetime.datetime(2022, 10, 3)})"
   ],
   "metadata": {
    "collapsed": false,
    "pycharm": {
     "name": "#%%\n"
    }
   }
  },
  {
   "cell_type": "code",
   "execution_count": 12,
   "outputs": [
    {
     "data": {
      "text/plain": "                       email  date_paid\n29  loreneriley591@gmail.com 2022-10-03\n44  mattbradford29@gmail.com 2022-10-03\n50    nerysgross@yahoo.co.uk 2022-10-03\n57        lmmaier424@msn.com 2022-10-03\n66   ebarlow6403@outlook.com 2022-10-03\n68     kateellis00@gmail.com 2022-10-03",
      "text/html": "<div>\n<style scoped>\n    .dataframe tbody tr th:only-of-type {\n        vertical-align: middle;\n    }\n\n    .dataframe tbody tr th {\n        vertical-align: top;\n    }\n\n    .dataframe thead th {\n        text-align: right;\n    }\n</style>\n<table border=\"1\" class=\"dataframe\">\n  <thead>\n    <tr style=\"text-align: right;\">\n      <th></th>\n      <th>email</th>\n      <th>date_paid</th>\n    </tr>\n  </thead>\n  <tbody>\n    <tr>\n      <th>29</th>\n      <td>loreneriley591@gmail.com</td>\n      <td>2022-10-03</td>\n    </tr>\n    <tr>\n      <th>44</th>\n      <td>mattbradford29@gmail.com</td>\n      <td>2022-10-03</td>\n    </tr>\n    <tr>\n      <th>50</th>\n      <td>nerysgross@yahoo.co.uk</td>\n      <td>2022-10-03</td>\n    </tr>\n    <tr>\n      <th>57</th>\n      <td>lmmaier424@msn.com</td>\n      <td>2022-10-03</td>\n    </tr>\n    <tr>\n      <th>66</th>\n      <td>ebarlow6403@outlook.com</td>\n      <td>2022-10-03</td>\n    </tr>\n    <tr>\n      <th>68</th>\n      <td>kateellis00@gmail.com</td>\n      <td>2022-10-03</td>\n    </tr>\n  </tbody>\n</table>\n</div>"
     },
     "execution_count": 12,
     "metadata": {},
     "output_type": "execute_result"
    }
   ],
   "source": [
    "# wait to pay mailfence people.\n",
    "\n",
    "\n",
    "new = newpayments[['mailfence' not in x for x in  newpayments.email]]\n",
    "foreign = ['loreneriley591@gmail.com','ebarlow6403@outlook.com','lmmaier424@msn.com','mattbradford29@gmail.com','nerysgross@yahoo.co.uk', 'kateellis00@gmail.com']\n",
    "\n",
    "new[new.email.isin(foreign)]"
   ],
   "metadata": {
    "collapsed": false,
    "pycharm": {
     "name": "#%%\n"
    }
   }
  },
  {
   "cell_type": "code",
   "execution_count": 15,
   "outputs": [],
   "source": [
    "pd.concat([payments, newpayments], axis=0).to_csv('../recruitment/payments/paid_subs.csv', sep=',', header=True)"
   ],
   "metadata": {
    "collapsed": false,
    "pycharm": {
     "name": "#%%\n"
    }
   }
  },
  {
   "cell_type": "markdown",
   "source": [
    "# 3. Subjects who need to be paid"
   ],
   "metadata": {
    "collapsed": false,
    "pycharm": {
     "name": "#%% md\n"
    }
   }
  },
  {
   "cell_type": "code",
   "execution_count": 26,
   "outputs": [],
   "source": [
    "conn = sqlite3.connect('./Data/knwlg_blf.db')\n",
    "subjs = pd.read_sql(\"SELECT * FROM subjects WHERE participation_date > 8/24/2022 \"\n",
    "                   \"AND block1_complete=TRUE \"\n",
    "                   \"AND block2_complete=TRUE \"\n",
    "                   \"AND block3_complete=TRUE \"\n",
    "                   \"AND completion_code LIKE '%XXX%'\", con=conn)"
   ],
   "metadata": {
    "collapsed": false,
    "pycharm": {
     "name": "#%%\n"
    }
   }
  },
  {
   "cell_type": "markdown",
   "source": [
    "# 4. Updating record of paid subjects"
   ],
   "metadata": {
    "collapsed": false,
    "pycharm": {
     "name": "#%% md\n"
    }
   }
  },
  {
   "cell_type": "code",
   "execution_count": 5,
   "outputs": [],
   "source": [
    "payments = pd.read_csv('../recruitment/payments/paid_subs.csv', index_col=0, header=0)\n"
   ],
   "metadata": {
    "collapsed": false,
    "pycharm": {
     "name": "#%%\n"
    }
   }
  },
  {
   "cell_type": "code",
   "execution_count": 10,
   "outputs": [
    {
     "data": {
      "text/plain": "Empty DataFrame\nColumns: [email, date_paid]\nIndex: []",
      "text/html": "<div>\n<style scoped>\n    .dataframe tbody tr th:only-of-type {\n        vertical-align: middle;\n    }\n\n    .dataframe tbody tr th {\n        vertical-align: top;\n    }\n\n    .dataframe thead th {\n        text-align: right;\n    }\n</style>\n<table border=\"1\" class=\"dataframe\">\n  <thead>\n    <tr style=\"text-align: right;\">\n      <th></th>\n      <th>email</th>\n      <th>date_paid</th>\n    </tr>\n  </thead>\n  <tbody>\n  </tbody>\n</table>\n</div>"
     },
     "execution_count": 10,
     "metadata": {},
     "output_type": "execute_result"
    }
   ],
   "source": [
    "payments.loc[payments.date_paid.isnull()]"
   ],
   "metadata": {
    "collapsed": false,
    "pycharm": {
     "name": "#%%\n"
    }
   }
  },
  {
   "cell_type": "code",
   "execution_count": 13,
   "outputs": [
    {
     "data": {
      "text/plain": "1"
     },
     "execution_count": 13,
     "metadata": {},
     "output_type": "execute_result"
    }
   ],
   "source": [
    "sum(payments.email.str.find(subject) != -1)\n",
    "len(payments[payments.email.str.contains(subject)])"
   ],
   "metadata": {
    "collapsed": false,
    "pycharm": {
     "name": "#%%\n"
    }
   }
  },
  {
   "cell_type": "code",
   "execution_count": null,
   "outputs": [],
   "source": [],
   "metadata": {
    "collapsed": false,
    "pycharm": {
     "name": "#%%\n"
    }
   }
  }
 ],
 "metadata": {
  "kernelspec": {
   "display_name": "Python 3",
   "language": "python",
   "name": "python3"
  },
  "language_info": {
   "codemirror_mode": {
    "name": "ipython",
    "version": 2
   },
   "file_extension": ".py",
   "mimetype": "text/x-python",
   "name": "python",
   "nbconvert_exporter": "python",
   "pygments_lexer": "ipython2",
   "version": "2.7.6"
  }
 },
 "nbformat": 4,
 "nbformat_minor": 0
}