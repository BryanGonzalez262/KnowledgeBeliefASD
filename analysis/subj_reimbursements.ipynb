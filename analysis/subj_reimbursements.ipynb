{
 "cells": [
  {
   "cell_type": "code",
   "execution_count": 1,
   "metadata": {
    "collapsed": true,
    "pycharm": {
     "name": "#%%\n"
    }
   },
   "outputs": [],
   "source": [
    "import sqlite3\n",
    "import pandas as pd\n",
    "import numpy as np\n",
    "import datetime\n",
    "import matplotlib.pyplot as plt\n",
    "import seaborn as sns\n",
    "from ast import literal_eval\n",
    "from urllib.request import urlopen\n",
    "from json import load\n",
    "import os\n",
    "from glob import glob\n",
    "import PyPDF2\n",
    "sns.set_style('white')\n",
    "sns.set_context('notebook')"
   ]
  },
  {
   "cell_type": "markdown",
   "source": [
    "# 1. Imports"
   ],
   "metadata": {
    "collapsed": false,
    "pycharm": {
     "name": "#%% md\n"
    }
   }
  },
  {
   "cell_type": "code",
   "execution_count": 3,
   "outputs": [],
   "source": [
    "pdf_file = open('../recruitment/payments/Amazon.com - Order 112-7833647-0376253.pdf', 'rb')\n",
    "pdf_reader = PyPDF2.PdfFileReader(pdf_file)\n",
    "page = pdf_reader.getPage(0)\n",
    "ptest = page.extractText()\n",
    "xx= ptest.split('E-mail gift card to: ')[1:]\n",
    "[x.split(\"\\n\")[0] for x in xx]"
   ],
   "metadata": {
    "collapsed": false,
    "pycharm": {
     "name": "#%%\n"
    }
   }
  },
  {
   "cell_type": "markdown",
   "source": [
    "# 2. Subjects who have been paid"
   ],
   "metadata": {
    "collapsed": false,
    "pycharm": {
     "name": "#%% md\n"
    }
   }
  },
  {
   "cell_type": "code",
   "execution_count": 24,
   "outputs": [],
   "source": [
    "paid_subjs = []\n",
    "receits = glob('../recruitment/payments/Amazon*')\n",
    "for filepath in receits:\n",
    "    pdf_reader = PyPDF2.PdfFileReader(open(filepath, 'rb'))\n",
    "    for page in range(pdf_reader.numPages):\n",
    "        pg = pdf_reader.getPage(page).extractText()\n",
    "        xx = pg.split('E-mail gift card to: ')[1:]\n",
    "        paid_subjs.append([x.split(\"\\n\")[0] for x in xx])\n",
    "\n",
    "paid_subs = [item.lower() for sublist in paid_subjs for item in sublist]\n",
    "#paid_subs"
   ],
   "metadata": {
    "collapsed": false,
    "pycharm": {
     "name": "#%%\n"
    }
   }
  },
  {
   "cell_type": "code",
   "execution_count": 28,
   "outputs": [],
   "source": [
    "payments = pd.DataFrame({'email': paid_subs, \"date_paid\": datetime.datetime(2022, 9, 12)})\n",
    "payments.to_csv('../recruitment/payments/paid_subs.csv', sep=',', header=True)"
   ],
   "metadata": {
    "collapsed": false,
    "pycharm": {
     "name": "#%%\n"
    }
   }
  },
  {
   "cell_type": "markdown",
   "source": [
    "# 3. Subjects who need to be paid"
   ],
   "metadata": {
    "collapsed": false,
    "pycharm": {
     "name": "#%% md\n"
    }
   }
  },
  {
   "cell_type": "code",
   "execution_count": 26,
   "outputs": [],
   "source": [
    "conn = sqlite3.connect('./Data/knwlg_blf.db')\n",
    "subjs = pd.read_sql(\"SELECT * FROM subjects WHERE participation_date > 8/24/2022 \"\n",
    "                   \"AND block1_complete=TRUE \"\n",
    "                   \"AND block2_complete=TRUE \"\n",
    "                   \"AND block3_complete=TRUE \"\n",
    "                   \"AND completion_code LIKE '%XXX%'\", con=conn)"
   ],
   "metadata": {
    "collapsed": false,
    "pycharm": {
     "name": "#%%\n"
    }
   }
  },
  {
   "cell_type": "markdown",
   "source": [
    "# 4. Updating record of paid subjects"
   ],
   "metadata": {
    "collapsed": false,
    "pycharm": {
     "name": "#%% md\n"
    }
   }
  },
  {
   "cell_type": "code",
   "execution_count": 2,
   "outputs": [],
   "source": [
    "payments = pd.read_csv('../recruitment/payments/paid_subs.csv', index_col=0, header=0)\n"
   ],
   "metadata": {
    "collapsed": false,
    "pycharm": {
     "name": "#%%\n"
    }
   }
  },
  {
   "cell_type": "code",
   "execution_count": 3,
   "outputs": [
    {
     "data": {
      "text/plain": "                              email date_paid\n439  rogerputalavageuor63@gmail.com       NaN\n440       healthysheila49@gmail.com       NaN\n441         jamiespritzer@gmail.com       NaN\n442      ellie.mckeown123@gmail.com       NaN\n443         reneedemerchant@uvic.ca       NaN\n444              emizzy92@gmail.com       NaN\n445      lonabiggerslyy50@gmail.com       NaN\n446     stephaniecindy667@gmail.com       NaN\n447         arellanogonga@gmail.com       NaN\n448          deshawnmoon6@gmail.com       NaN\n449         hermionegrauy@gmail.com       NaN\n450              bontrag1@yahoo.com       NaN\n451             jakeym890@gmail.com       NaN\n452              mleshc15@gmail.com       NaN\n453        saaronmiller22@gmail.com       NaN\n454       jordincrystal58@gmail.com       NaN\n455   kenneththompkins860@gmail.com       NaN\n456              alex@alexstave.com       NaN\n457             pnum01422@gmail.com       NaN\n458        henrypeters234@gmail.com       NaN\n459             itmake636@gmail.com       NaN\n460         itiswell482@outlook.com       NaN\n461           judegarner0@gmail.com       NaN",
      "text/html": "<div>\n<style scoped>\n    .dataframe tbody tr th:only-of-type {\n        vertical-align: middle;\n    }\n\n    .dataframe tbody tr th {\n        vertical-align: top;\n    }\n\n    .dataframe thead th {\n        text-align: right;\n    }\n</style>\n<table border=\"1\" class=\"dataframe\">\n  <thead>\n    <tr style=\"text-align: right;\">\n      <th></th>\n      <th>email</th>\n      <th>date_paid</th>\n    </tr>\n  </thead>\n  <tbody>\n    <tr>\n      <th>439</th>\n      <td>rogerputalavageuor63@gmail.com</td>\n      <td>NaN</td>\n    </tr>\n    <tr>\n      <th>440</th>\n      <td>healthysheila49@gmail.com</td>\n      <td>NaN</td>\n    </tr>\n    <tr>\n      <th>441</th>\n      <td>jamiespritzer@gmail.com</td>\n      <td>NaN</td>\n    </tr>\n    <tr>\n      <th>442</th>\n      <td>ellie.mckeown123@gmail.com</td>\n      <td>NaN</td>\n    </tr>\n    <tr>\n      <th>443</th>\n      <td>reneedemerchant@uvic.ca</td>\n      <td>NaN</td>\n    </tr>\n    <tr>\n      <th>444</th>\n      <td>emizzy92@gmail.com</td>\n      <td>NaN</td>\n    </tr>\n    <tr>\n      <th>445</th>\n      <td>lonabiggerslyy50@gmail.com</td>\n      <td>NaN</td>\n    </tr>\n    <tr>\n      <th>446</th>\n      <td>stephaniecindy667@gmail.com</td>\n      <td>NaN</td>\n    </tr>\n    <tr>\n      <th>447</th>\n      <td>arellanogonga@gmail.com</td>\n      <td>NaN</td>\n    </tr>\n    <tr>\n      <th>448</th>\n      <td>deshawnmoon6@gmail.com</td>\n      <td>NaN</td>\n    </tr>\n    <tr>\n      <th>449</th>\n      <td>hermionegrauy@gmail.com</td>\n      <td>NaN</td>\n    </tr>\n    <tr>\n      <th>450</th>\n      <td>bontrag1@yahoo.com</td>\n      <td>NaN</td>\n    </tr>\n    <tr>\n      <th>451</th>\n      <td>jakeym890@gmail.com</td>\n      <td>NaN</td>\n    </tr>\n    <tr>\n      <th>452</th>\n      <td>mleshc15@gmail.com</td>\n      <td>NaN</td>\n    </tr>\n    <tr>\n      <th>453</th>\n      <td>saaronmiller22@gmail.com</td>\n      <td>NaN</td>\n    </tr>\n    <tr>\n      <th>454</th>\n      <td>jordincrystal58@gmail.com</td>\n      <td>NaN</td>\n    </tr>\n    <tr>\n      <th>455</th>\n      <td>kenneththompkins860@gmail.com</td>\n      <td>NaN</td>\n    </tr>\n    <tr>\n      <th>456</th>\n      <td>alex@alexstave.com</td>\n      <td>NaN</td>\n    </tr>\n    <tr>\n      <th>457</th>\n      <td>pnum01422@gmail.com</td>\n      <td>NaN</td>\n    </tr>\n    <tr>\n      <th>458</th>\n      <td>henrypeters234@gmail.com</td>\n      <td>NaN</td>\n    </tr>\n    <tr>\n      <th>459</th>\n      <td>itmake636@gmail.com</td>\n      <td>NaN</td>\n    </tr>\n    <tr>\n      <th>460</th>\n      <td>itiswell482@outlook.com</td>\n      <td>NaN</td>\n    </tr>\n    <tr>\n      <th>461</th>\n      <td>judegarner0@gmail.com</td>\n      <td>NaN</td>\n    </tr>\n  </tbody>\n</table>\n</div>"
     },
     "execution_count": 3,
     "metadata": {},
     "output_type": "execute_result"
    }
   ],
   "source": [
    "payments.loc[payments.date_paid.isnull()]"
   ],
   "metadata": {
    "collapsed": false,
    "pycharm": {
     "name": "#%%\n"
    }
   }
  },
  {
   "cell_type": "code",
   "execution_count": null,
   "outputs": [],
   "source": [],
   "metadata": {
    "collapsed": false,
    "pycharm": {
     "name": "#%%\n"
    }
   }
  }
 ],
 "metadata": {
  "kernelspec": {
   "display_name": "Python 3",
   "language": "python",
   "name": "python3"
  },
  "language_info": {
   "codemirror_mode": {
    "name": "ipython",
    "version": 2
   },
   "file_extension": ".py",
   "mimetype": "text/x-python",
   "name": "python",
   "nbconvert_exporter": "python",
   "pygments_lexer": "ipython2",
   "version": "2.7.6"
  }
 },
 "nbformat": 4,
 "nbformat_minor": 0
}