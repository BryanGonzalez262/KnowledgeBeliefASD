{
 "cells": [
  {
   "cell_type": "code",
   "execution_count": 1,
   "outputs": [],
   "source": [
    "import sqlite3\n",
    "import pandas as pd\n",
    "import numpy as np\n",
    "import datetime\n",
    "import matplotlib.pyplot as plt\n",
    "import seaborn as sns\n",
    "from ast import literal_eval\n",
    "from urllib.request import urlopen\n",
    "from json import load\n",
    "sns.set_style('white')\n",
    "sns.set_context('notebook')"
   ],
   "metadata": {
    "collapsed": false,
    "pycharm": {
     "name": "#%%\n"
    }
   }
  },
  {
   "cell_type": "markdown",
   "source": [
    "# 1. Import Data"
   ],
   "metadata": {
    "collapsed": false,
    "pycharm": {
     "name": "#%% md\n"
    }
   }
  },
  {
   "cell_type": "code",
   "execution_count": 2,
   "outputs": [],
   "source": [
    "# ASC Cohort\n",
    "conn = sqlite3.connect('./Data/knwlg_blf.db')\n",
    "dat1 = pd.read_sql(\"SELECT * FROM trials A INNER JOIN subjects B ON A.prolific_id = B.prolific_id \"\n",
    "                   \"WHERE B.block1_complete=TRUE \"\n",
    "                   \"AND B.block2_complete=TRUE \"\n",
    "                   \"AND B.block3_complete=TRUE \"\n",
    "                   \"AND B.completion_code LIKE '%XXX%'\", con=conn)\n",
    "dat1 = dat1.loc[:,~dat1.columns.duplicated()].copy() # prolific id from both tables will be in df, remove duplicate\n",
    "# REMOVE DISTRACTORS\n",
    "dat1 = dat1.loc[dat1.trial_type == 'test'].reset_index(drop=True)\n",
    "dat1['group'] = 'Autism'\n",
    "\n",
    "# TD cohort\n",
    "conn2 = sqlite3.connect('./Data/knwlg_blf_controls.db')\n",
    "dat2 = pd.read_sql('SELECT * FROM trials A INNER JOIN subjects B ON A.prolific_id = B.prolific_id WHERE B.completion_code=\"548DA3BD\"', con=conn2)\n",
    "dat2 = dat2.loc[:,~dat2.columns.duplicated()].copy() # prolific id from both tables will be in df, remove duplicate\n",
    "# REMOVE DISTRACTORS\n",
    "dat2 = dat2.loc[dat2.trial_type == 'test'].reset_index(drop=True)\n",
    "dat2['email'] = 'N/A'\n",
    "dat2['group'] = 'Neurotypical'\n",
    "\n",
    "# Combine into one big dataframe\n",
    "dat = pd.concat(objs=[dat1,dat2], ignore_index=True)\n",
    "#\n",
    "dat['email'] = dat.email.str.lower().str.strip()\n",
    "\n",
    "# data saved for testing purposes has id as float instead of alphanumeric so only keep alphanumeric IDs\n",
    "dat = dat[dat.prolific_id.str.isalnum()].reset_index(drop=True)\n",
    "# remove rows without response.\n",
    "dat = dat[~dat.response_key.isnull().values]\n",
    "dat['response_key'] = dat.response_key.apply(literal_eval)\n",
    "\n",
    "dat = dat[[xx == list for xx in [type(x) for x in dat.response_key]]].reset_index(drop=True)\n",
    "\n",
    "\n",
    "# NOTE: after September 10th, 2022, completion of recaptcha saved to database."
   ],
   "metadata": {
    "collapsed": false,
    "pycharm": {
     "name": "#%%\n"
    }
   }
  },
  {
   "cell_type": "code",
   "execution_count": 8,
   "outputs": [
    {
     "name": "stderr",
     "output_type": "stream",
     "text": [
      "<ipython-input-8-75434e5563ae>:14: UserWarning: Boolean Series key will be reindexed to match DataFrame index.\n",
      "  dat1 = dat1[dat.prolific_id.str.isalnum()].reset_index(drop=True)\n"
     ]
    }
   ],
   "source": [
    "conn = sqlite3.connect('./Data/knwlg_blf_asc.db')\n",
    "dat1 = pd.read_sql(\"SELECT * FROM trials A INNER JOIN subjects B ON A.prolific_id = B.prolific_id \"\n",
    "                   \"WHERE B.block1_complete=TRUE \"\n",
    "                   \"AND B.block2_complete=TRUE \"\n",
    "                   \"AND B.block3_complete=TRUE \"\n",
    "                   \"AND B.completion_code LIKE '%XXX%'\", con=conn)\n",
    "dat1 = dat1.loc[:,~dat1.columns.duplicated()].copy() # prolific id from both tables will be in df, remove duplicate\n",
    "# REMOVE DISTRACTORS\n",
    "dat1 = dat1.loc[dat1.trial_type == 'test'].reset_index(drop=True)\n",
    "dat1['group'] = 'Autism'\n",
    "dat1['email'] = dat1.email.str.lower().str.strip()\n",
    "\n",
    "# data saved for testing purposes has id as float instead of alphanumeric so only keep alphanumeric IDs\n",
    "dat1 = dat1[dat.prolific_id.str.isalnum()].reset_index(drop=True)\n",
    "# remove rows without response.\n",
    "dat1 = dat1[~dat1.response_key.isnull().values]\n",
    "dat1['response_key'] = dat1.response_key.apply(literal_eval)\n",
    "\n",
    "dat1 = dat1[[xx == list for xx in [type(x) for x in dat1.response_key]]].reset_index(drop=True)\n",
    "\n"
   ],
   "metadata": {
    "collapsed": false,
    "pycharm": {
     "name": "#%%\n"
    }
   }
  },
  {
   "cell_type": "code",
   "execution_count": 17,
   "outputs": [
    {
     "data": {
      "text/plain": "         id  trial_num  correct trial_type  scenario belief_type  \\\n4836  12865          1      0.0       test         3          IG   \n4837  12866          2      0.0       test         8          IG   \n4838  12870          6      0.0       test         5          FB   \n4839  12871          7      0.0       test        11          TB   \n4840  12874         10      1.0       test         9          IG   \n4841  12875         11      1.0       test         1          TB   \n4842  12876         12      0.0       test        10          TB   \n4843  12878         14      0.0       test         4          FB   \n4844  12881         17      1.0       test        12          TB   \n4845  12883         19      0.0       test         7          FB   \n4846  12884         20      0.0       test         2          FB   \n4847  12885         21      1.0       test         6          IG   \n\n     ascription_type correct_answer                target_onset  \\\n4836           Knows              f  2022-09-10 13:58:41.086000   \n4837           Knows              f  2022-09-10 13:59:10.906000   \n4838          Thinks              f  2022-09-10 14:01:03.696000   \n4839           Knows              j  2022-09-10 14:01:30.362000   \n4840          Thinks              f  2022-09-10 14:03:02.459000   \n4841           Knows              j  2022-09-10 14:03:37.207000   \n4842          Thinks              j  2022-09-10 14:04:04.334000   \n4843          Thinks              f  2022-09-10 14:05:04.674000   \n4844          Thinks              j  2022-09-10 14:06:47.282000   \n4845           Knows              f  2022-09-10 14:07:37.211000   \n4846           Knows              f  2022-09-10 14:08:07.418000   \n4847          Thinks              f  2022-09-10 14:09:01.403000   \n\n                  response_onset  ...               GMT_timestamp  \\\n4836  2022-09-10 13:58:46.184000  ...  2022-09-10 17:54:26.022730   \n4837  2022-09-10 13:59:12.279000  ...  2022-09-10 17:54:26.022730   \n4838  2022-09-10 14:01:05.580000  ...  2022-09-10 17:54:26.022730   \n4839  2022-09-10 14:01:37.768000  ...  2022-09-10 17:54:26.022730   \n4840  2022-09-10 14:03:09.035000  ...  2022-09-10 17:54:26.022730   \n4841  2022-09-10 14:03:38.737000  ...  2022-09-10 17:54:26.022730   \n4842  2022-09-10 14:04:09.433000  ...  2022-09-10 17:54:26.022730   \n4843  2022-09-10 14:05:05.647000  ...  2022-09-10 17:54:26.022730   \n4844  2022-09-10 14:06:48.839000  ...  2022-09-10 17:54:26.022730   \n4845  2022-09-10 14:07:38.600000  ...  2022-09-10 17:54:26.022730   \n4846  2022-09-10 14:08:12.517000  ...  2022-09-10 17:54:26.022730   \n4847  2022-09-10 14:09:04.542000  ...  2022-09-10 17:54:26.022730   \n\n                           email block1_complete block2_complete  \\\n4836  nathanielbest438@gmail.com               1               1   \n4837  nathanielbest438@gmail.com               1               1   \n4838  nathanielbest438@gmail.com               1               1   \n4839  nathanielbest438@gmail.com               1               1   \n4840  nathanielbest438@gmail.com               1               1   \n4841  nathanielbest438@gmail.com               1               1   \n4842  nathanielbest438@gmail.com               1               1   \n4843  nathanielbest438@gmail.com               1               1   \n4844  nathanielbest438@gmail.com               1               1   \n4845  nathanielbest438@gmail.com               1               1   \n4846  nathanielbest438@gmail.com               1               1   \n4847  nathanielbest438@gmail.com               1               1   \n\n     block3_complete completion_code feedback             completion_time  \\\n4836               1            XXXX           2022-09-10 14:22:25.987487   \n4837               1            XXXX           2022-09-10 14:22:25.987487   \n4838               1            XXXX           2022-09-10 14:22:25.987487   \n4839               1            XXXX           2022-09-10 14:22:25.987487   \n4840               1            XXXX           2022-09-10 14:22:25.987487   \n4841               1            XXXX           2022-09-10 14:22:25.987487   \n4842               1            XXXX           2022-09-10 14:22:25.987487   \n4843               1            XXXX           2022-09-10 14:22:25.987487   \n4844               1            XXXX           2022-09-10 14:22:25.987487   \n4845               1            XXXX           2022-09-10 14:22:25.987487   \n4846               1            XXXX           2022-09-10 14:22:25.987487   \n4847               1            XXXX           2022-09-10 14:22:25.987487   \n\n     recaptcha_complete   group  \n4836                NaN  Autism  \n4837                NaN  Autism  \n4838                NaN  Autism  \n4839                NaN  Autism  \n4840                NaN  Autism  \n4841                NaN  Autism  \n4842                NaN  Autism  \n4843                NaN  Autism  \n4844                NaN  Autism  \n4845                NaN  Autism  \n4846                NaN  Autism  \n4847                NaN  Autism  \n\n[12 rows x 32 columns]",
      "text/html": "<div>\n<style scoped>\n    .dataframe tbody tr th:only-of-type {\n        vertical-align: middle;\n    }\n\n    .dataframe tbody tr th {\n        vertical-align: top;\n    }\n\n    .dataframe thead th {\n        text-align: right;\n    }\n</style>\n<table border=\"1\" class=\"dataframe\">\n  <thead>\n    <tr style=\"text-align: right;\">\n      <th></th>\n      <th>id</th>\n      <th>trial_num</th>\n      <th>correct</th>\n      <th>trial_type</th>\n      <th>scenario</th>\n      <th>belief_type</th>\n      <th>ascription_type</th>\n      <th>correct_answer</th>\n      <th>target_onset</th>\n      <th>response_onset</th>\n      <th>...</th>\n      <th>GMT_timestamp</th>\n      <th>email</th>\n      <th>block1_complete</th>\n      <th>block2_complete</th>\n      <th>block3_complete</th>\n      <th>completion_code</th>\n      <th>feedback</th>\n      <th>completion_time</th>\n      <th>recaptcha_complete</th>\n      <th>group</th>\n    </tr>\n  </thead>\n  <tbody>\n    <tr>\n      <th>4836</th>\n      <td>12865</td>\n      <td>1</td>\n      <td>0.0</td>\n      <td>test</td>\n      <td>3</td>\n      <td>IG</td>\n      <td>Knows</td>\n      <td>f</td>\n      <td>2022-09-10 13:58:41.086000</td>\n      <td>2022-09-10 13:58:46.184000</td>\n      <td>...</td>\n      <td>2022-09-10 17:54:26.022730</td>\n      <td>nathanielbest438@gmail.com</td>\n      <td>1</td>\n      <td>1</td>\n      <td>1</td>\n      <td>XXXX</td>\n      <td></td>\n      <td>2022-09-10 14:22:25.987487</td>\n      <td>NaN</td>\n      <td>Autism</td>\n    </tr>\n    <tr>\n      <th>4837</th>\n      <td>12866</td>\n      <td>2</td>\n      <td>0.0</td>\n      <td>test</td>\n      <td>8</td>\n      <td>IG</td>\n      <td>Knows</td>\n      <td>f</td>\n      <td>2022-09-10 13:59:10.906000</td>\n      <td>2022-09-10 13:59:12.279000</td>\n      <td>...</td>\n      <td>2022-09-10 17:54:26.022730</td>\n      <td>nathanielbest438@gmail.com</td>\n      <td>1</td>\n      <td>1</td>\n      <td>1</td>\n      <td>XXXX</td>\n      <td></td>\n      <td>2022-09-10 14:22:25.987487</td>\n      <td>NaN</td>\n      <td>Autism</td>\n    </tr>\n    <tr>\n      <th>4838</th>\n      <td>12870</td>\n      <td>6</td>\n      <td>0.0</td>\n      <td>test</td>\n      <td>5</td>\n      <td>FB</td>\n      <td>Thinks</td>\n      <td>f</td>\n      <td>2022-09-10 14:01:03.696000</td>\n      <td>2022-09-10 14:01:05.580000</td>\n      <td>...</td>\n      <td>2022-09-10 17:54:26.022730</td>\n      <td>nathanielbest438@gmail.com</td>\n      <td>1</td>\n      <td>1</td>\n      <td>1</td>\n      <td>XXXX</td>\n      <td></td>\n      <td>2022-09-10 14:22:25.987487</td>\n      <td>NaN</td>\n      <td>Autism</td>\n    </tr>\n    <tr>\n      <th>4839</th>\n      <td>12871</td>\n      <td>7</td>\n      <td>0.0</td>\n      <td>test</td>\n      <td>11</td>\n      <td>TB</td>\n      <td>Knows</td>\n      <td>j</td>\n      <td>2022-09-10 14:01:30.362000</td>\n      <td>2022-09-10 14:01:37.768000</td>\n      <td>...</td>\n      <td>2022-09-10 17:54:26.022730</td>\n      <td>nathanielbest438@gmail.com</td>\n      <td>1</td>\n      <td>1</td>\n      <td>1</td>\n      <td>XXXX</td>\n      <td></td>\n      <td>2022-09-10 14:22:25.987487</td>\n      <td>NaN</td>\n      <td>Autism</td>\n    </tr>\n    <tr>\n      <th>4840</th>\n      <td>12874</td>\n      <td>10</td>\n      <td>1.0</td>\n      <td>test</td>\n      <td>9</td>\n      <td>IG</td>\n      <td>Thinks</td>\n      <td>f</td>\n      <td>2022-09-10 14:03:02.459000</td>\n      <td>2022-09-10 14:03:09.035000</td>\n      <td>...</td>\n      <td>2022-09-10 17:54:26.022730</td>\n      <td>nathanielbest438@gmail.com</td>\n      <td>1</td>\n      <td>1</td>\n      <td>1</td>\n      <td>XXXX</td>\n      <td></td>\n      <td>2022-09-10 14:22:25.987487</td>\n      <td>NaN</td>\n      <td>Autism</td>\n    </tr>\n    <tr>\n      <th>4841</th>\n      <td>12875</td>\n      <td>11</td>\n      <td>1.0</td>\n      <td>test</td>\n      <td>1</td>\n      <td>TB</td>\n      <td>Knows</td>\n      <td>j</td>\n      <td>2022-09-10 14:03:37.207000</td>\n      <td>2022-09-10 14:03:38.737000</td>\n      <td>...</td>\n      <td>2022-09-10 17:54:26.022730</td>\n      <td>nathanielbest438@gmail.com</td>\n      <td>1</td>\n      <td>1</td>\n      <td>1</td>\n      <td>XXXX</td>\n      <td></td>\n      <td>2022-09-10 14:22:25.987487</td>\n      <td>NaN</td>\n      <td>Autism</td>\n    </tr>\n    <tr>\n      <th>4842</th>\n      <td>12876</td>\n      <td>12</td>\n      <td>0.0</td>\n      <td>test</td>\n      <td>10</td>\n      <td>TB</td>\n      <td>Thinks</td>\n      <td>j</td>\n      <td>2022-09-10 14:04:04.334000</td>\n      <td>2022-09-10 14:04:09.433000</td>\n      <td>...</td>\n      <td>2022-09-10 17:54:26.022730</td>\n      <td>nathanielbest438@gmail.com</td>\n      <td>1</td>\n      <td>1</td>\n      <td>1</td>\n      <td>XXXX</td>\n      <td></td>\n      <td>2022-09-10 14:22:25.987487</td>\n      <td>NaN</td>\n      <td>Autism</td>\n    </tr>\n    <tr>\n      <th>4843</th>\n      <td>12878</td>\n      <td>14</td>\n      <td>0.0</td>\n      <td>test</td>\n      <td>4</td>\n      <td>FB</td>\n      <td>Thinks</td>\n      <td>f</td>\n      <td>2022-09-10 14:05:04.674000</td>\n      <td>2022-09-10 14:05:05.647000</td>\n      <td>...</td>\n      <td>2022-09-10 17:54:26.022730</td>\n      <td>nathanielbest438@gmail.com</td>\n      <td>1</td>\n      <td>1</td>\n      <td>1</td>\n      <td>XXXX</td>\n      <td></td>\n      <td>2022-09-10 14:22:25.987487</td>\n      <td>NaN</td>\n      <td>Autism</td>\n    </tr>\n    <tr>\n      <th>4844</th>\n      <td>12881</td>\n      <td>17</td>\n      <td>1.0</td>\n      <td>test</td>\n      <td>12</td>\n      <td>TB</td>\n      <td>Thinks</td>\n      <td>j</td>\n      <td>2022-09-10 14:06:47.282000</td>\n      <td>2022-09-10 14:06:48.839000</td>\n      <td>...</td>\n      <td>2022-09-10 17:54:26.022730</td>\n      <td>nathanielbest438@gmail.com</td>\n      <td>1</td>\n      <td>1</td>\n      <td>1</td>\n      <td>XXXX</td>\n      <td></td>\n      <td>2022-09-10 14:22:25.987487</td>\n      <td>NaN</td>\n      <td>Autism</td>\n    </tr>\n    <tr>\n      <th>4845</th>\n      <td>12883</td>\n      <td>19</td>\n      <td>0.0</td>\n      <td>test</td>\n      <td>7</td>\n      <td>FB</td>\n      <td>Knows</td>\n      <td>f</td>\n      <td>2022-09-10 14:07:37.211000</td>\n      <td>2022-09-10 14:07:38.600000</td>\n      <td>...</td>\n      <td>2022-09-10 17:54:26.022730</td>\n      <td>nathanielbest438@gmail.com</td>\n      <td>1</td>\n      <td>1</td>\n      <td>1</td>\n      <td>XXXX</td>\n      <td></td>\n      <td>2022-09-10 14:22:25.987487</td>\n      <td>NaN</td>\n      <td>Autism</td>\n    </tr>\n    <tr>\n      <th>4846</th>\n      <td>12884</td>\n      <td>20</td>\n      <td>0.0</td>\n      <td>test</td>\n      <td>2</td>\n      <td>FB</td>\n      <td>Knows</td>\n      <td>f</td>\n      <td>2022-09-10 14:08:07.418000</td>\n      <td>2022-09-10 14:08:12.517000</td>\n      <td>...</td>\n      <td>2022-09-10 17:54:26.022730</td>\n      <td>nathanielbest438@gmail.com</td>\n      <td>1</td>\n      <td>1</td>\n      <td>1</td>\n      <td>XXXX</td>\n      <td></td>\n      <td>2022-09-10 14:22:25.987487</td>\n      <td>NaN</td>\n      <td>Autism</td>\n    </tr>\n    <tr>\n      <th>4847</th>\n      <td>12885</td>\n      <td>21</td>\n      <td>1.0</td>\n      <td>test</td>\n      <td>6</td>\n      <td>IG</td>\n      <td>Thinks</td>\n      <td>f</td>\n      <td>2022-09-10 14:09:01.403000</td>\n      <td>2022-09-10 14:09:04.542000</td>\n      <td>...</td>\n      <td>2022-09-10 17:54:26.022730</td>\n      <td>nathanielbest438@gmail.com</td>\n      <td>1</td>\n      <td>1</td>\n      <td>1</td>\n      <td>XXXX</td>\n      <td></td>\n      <td>2022-09-10 14:22:25.987487</td>\n      <td>NaN</td>\n      <td>Autism</td>\n    </tr>\n  </tbody>\n</table>\n<p>12 rows × 32 columns</p>\n</div>"
     },
     "execution_count": 17,
     "metadata": {},
     "output_type": "execute_result"
    }
   ],
   "source": [
    "dat.email.sort_values( axis=0).unique()#[176]\n",
    "dat.loc[dat.email == dat.email.sort_values( axis=0).unique()[283]]"
   ],
   "metadata": {
    "collapsed": false,
    "pycharm": {
     "name": "#%%\n"
    }
   }
  },
  {
   "cell_type": "code",
   "execution_count": 10,
   "outputs": [
    {
     "data": {
      "text/plain": "array(['adam.walker9851@gmail.com', 'adedoyinbolaji53@gmail.com',\n       'akanmuolamilekan3@gmail.com', 'akoredeusman507@gmail.com',\n       'alamuaremu5@gmail.com', 'albertoschloss05@gmail.com',\n       'alexanderrrthomass@outlook.com', 'alexcourtney094@gmail.com',\n       'alicehepnerwagner@gmail.com', 'alonnamartins123@gmail.com',\n       'ameliadavis805@gmail.com', 'andrewallen734@gmail.com',\n       'andrewson440@gmail.com', 'animashaunmary8@gmail.com',\n       'animashaunyemisi90@gmail.com', 'anthonyslessor7@gmail.com',\n       'antonionova757@gmail.com', 'anuola565@gmail.com',\n       'ar1722994@gmail.com', 'asherothfans@gmail.com',\n       'audeng2022@gmail.com', 'austinhill113@gmail.com',\n       'babedowns68@gmail.com', 'barryspielman5@gmail.com',\n       'bdele224@gamil.com', 'benjamincharlotte22@gmail.com',\n       'betsmi07@gmail.com', 'bliksjark@gmail.com', 'bloomkeri@gmail.com',\n       'borgsbeto@gmail.com', 'bpharris141111@gmail.com',\n       'braindillan@gmail.com', 'brightphillips019@gmail.com',\n       'brittany40bri@gmail.com', 'brokedonkay1939@gmail.com',\n       'canclinton6@gmail.com', 'cayleehammack02@gmail.com',\n       'celestebright042@gmail.com', 'chasejude83@gmail.com',\n       'chloemadison189@gmail.com', 'christopherscot265@gmail.com',\n       'clarkdaniel781@gmail.com', 'claudiusjorge403@gmail.com',\n       'coltranemune@gmail.com', 'copelandvalerie1@gmail.com',\n       'cumminstka81@gmail.com', 'danielorion95@gmail.com',\n       'danielreuben51@gmail.com', 'danielthomas9863@gmail.com',\n       'danilofelix964@gmail.com', 'darbykat@aol.com',\n       'davideliot236@gmail.com', 'davidgreen8092@gmail.com',\n       'davidhay466@gmail.com', 'davidsonroland29@gmail.com',\n       'deedreek1097@gmail.com', 'dejohn1604@gmail.com',\n       'depositegg9@gmail.com', 'dia.lacina@gmail.com',\n       'diamondq340@gmail.com', 'djackson199090@gmail.com',\n       'donyaprasad@gmail.com', 'dorafalcon64@gmail.com',\n       'dpaul1798@gmail.com', 'earlyjamb@gmail.com',\n       'eddymurphy337@gmail.com', 'edensliva969@gmail.com',\n       'edwardread38@gmail.com', 'ellajoseph374@gmail.com',\n       'eloisesmart3@gmail.com', 'email.sarah.clark@gmail.com',\n       'emay07408@gmail.com', 'emilynoah237@gmail.com',\n       'emmadan940@gmail.com', 'emmameganpitt@hotmail.co.uk',\n       'eric01neww@gmail.com', 'ericjoyce932@gmail.com',\n       'ethanlevi589@gmail.com', 'evelymbaez6@gmail.com',\n       'evelynnnasi@gmail.com', 'favourala21@gmail.com',\n       'fedrickmuna6@gmail.com', 'feliciamickelson2@gmail.com',\n       'fittermune@gmail.com', 'flechelit@gmail.com',\n       'fostervirginia954@gmail.com', 'fredjonny5@gmail.com',\n       'fredmoore0198@gmail.com', 'freychristina4@gmail.com',\n       'fuky9898@gmail.com', 'gedionani6@gmail.com',\n       'gideonfred99@gmail.com', 'gideonola49@gmail.com',\n       'gideonsax5260@gmail.com', 'gidsax57@gmail.com',\n       'gidsax5@gmail.com', 'gl2185857@gmail.com',\n       'grayreece736@gmail.com', 'graythomas147@gmail.com',\n       'henry001brwn@gmail.com', 'henryleo106@gmail.com',\n       'henryscott820@gmail.com', 'hortoncaltlin838@gmail.com',\n       'ikimotolayemi548@gmail.com', 'irenepaz.pr@hotmail.com',\n       'itdelaj@gmail.com', 'ivynelson745@gmail.com',\n       'jackalex543@gmail.com', 'jackbest731@gmail.com',\n       'jackethridge2020@gmail.com', 'jackkols234@gmail.com',\n       'jacksonkent353@gmail.com', 'jamesbundy05@gmail.com',\n       'jane01stev4@gmail.com', 'janemary5360@gmail.com',\n       'jasminejack747@gmail.com', 'jasonstewart618@gmail.com',\n       'jeffersonian604@gmail.com', 'jennefiermason@gmail.com',\n       'jennifermark748@gmail.com', 'jerrypeter292@gmail.com',\n       'jessemalone69@gmail.com', 'jimmerick6@gmail.com',\n       'joanclark105@gmail.com', 'johnblessin246@gmail.com',\n       'johnbruce7683@gmail.com', 'johniebarlow870@gmail.com',\n       'johnpete780@gmail.com', 'johnsmithy8420@gmail.com',\n       'jonaaustin42@gmail.com', 'josephmadali441@gmail.com',\n       'jpa05270@gmail.com', 'juliamartin602@gmail.com',\n       'julieleach2017@gmail.com', 'juricomc@gmail.com',\n       'kalvarice71@gmail.com', 'katekimberly210@gmail.com',\n       'kayodeadebanjo76@gmail.com', 'kimtreasure262@gmail.com',\n       'kucmadisyn@gmail.com', 'kylieforest080@gmail.com',\n       'landonbaker657@gmail.com', 'laylariley512@gmail.com',\n       'lechergee@gmail.com', 'lechertoff@gmail.con',\n       'leograce96@gmail.com', 'lindybarnes342@outlook.com',\n       'loganallen876@gmail.com', 'lopesjennifer08136@gmail.com',\n       'lucybill910@gmail.com', 'lunaoliver031@gmail.com',\n       'luxdbrh@gmail.com', 'manumaverick4@gmail.com',\n       'mariacoded@gmail.com', 'markharrisx22@gmail.com',\n       'marryjane5260@gmail.com', 'maticroberts350@gmail.com',\n       'mattcrood019@gmail.com', 'maxnelson587@gmail.com',\n       'micchoneil@gmail.com', 'michaelrayjordan20@gmail.com',\n       'michealchloe8@gmail.com', 'mj5072282@gmail.com',\n       'mkbenson86@gmail.com', 'modford2158@gmail.com',\n       'mymaclove34@gmail.com', 'nathapack@outlook.com',\n       'nolanford007@gmail.com', 'olamidegsax@gmail.com',\n       'olamilekanlekzy86@gmail.com', 'oliverwilliam858@gmail.com',\n       'ottmary15@gmail.com', 'oxycarthy@gmail.com',\n       'parkergraham158@gmail.com', 'patricaedmondscaples@gmail.com',\n       'paulezequiel670@gmail.com', 'paulgiroh@gmail.com',\n       'paulphilips809@gmail.com', 'paulrothasher@gmail.com',\n       'pearldlevell@gmail.com', 'pemirate0@gmail.com',\n       'penelopemiller481@gmail.com', 'petersilas042@gmail.com',\n       'phoebeshipman4@gmail.com', 'pmary5400@gmail.com',\n       'psuccess568@gmail.com', 'pwynn@aggies.ncat.edu',\n       'randymarie853@gmail.com', 'raphvrill@gmail.com',\n       'raybrandon724@gmail.com', 'realkizzy4boiz@gmail.com',\n       'rlisa9507@gmail.com', 'rogersmorris853@gmail.com',\n       'ronaldkenneth374@gmail.com', 'rowekaddy@gmail.com',\n       'royaljanesmith@gmail.com', 'ryannelson050@gmail.com',\n       'saleedibrahim15@gmail.com', 'samuelcover114@gmail.com',\n       'sandrasimon685@gmail.com', 'sarahcollins8210@gmail.com',\n       'sarahlucallen@gmail.com', 'saulwax922@gmail.com',\n       'scot4278@gmail.com', 'scottharry054@gmail.com',\n       'sharynturner33@gmail.com', 'sheys659@gmail.com',\n       'simonedward295@gmail.com', 'smartjev8@gmail.com',\n       'smithgarret1994@gmail.com', 'smiththomas1019@gmail.com',\n       'sophybrown081@gmail.com', 'starzsimonakpan@gmail.com',\n       'stellasullivan017@gmail.com', 'steveneddy105@gmail.com',\n       'storyranald@gmail.com', 'sunpage58@gmail.com',\n       'theodoregirard44@gmail.com', 'thomsonchris61@gmail.com',\n       'toffgee728@gmail.com', 'toheebakande442@gmail.com',\n       'tommykvng0201@gmail.com', 'topeabi4@gmail.com',\n       'trevorliam311@gmail.com', 'valuetech411@gmail.com',\n       'vandizu7@gmail.com', 'victoria.gresbach@gmail.com',\n       'wayne001gc@gmail.com', 'we32340@gmail.com',\n       'wenonarodriguez783@gmail.com', 'whitejanet784@gmail.com',\n       'williambellfz@gmail.com', 'willrita202@gmail.com',\n       'zena94wimbush@gmail.com'], dtype=object)"
     },
     "execution_count": 10,
     "metadata": {},
     "output_type": "execute_result"
    }
   ],
   "source": [
    "dat1.loc[dat1.email == 'jasminelaura477@gmail.com']#.correct.mean()\n",
    "dat1.email.sort_values( axis=0).unique()"
   ],
   "metadata": {
    "collapsed": false,
    "pycharm": {
     "name": "#%%\n"
    }
   }
  },
  {
   "cell_type": "markdown",
   "source": [
    "## Cleaning"
   ],
   "metadata": {
    "collapsed": false,
    "pycharm": {
     "name": "#%% md\n"
    }
   }
  },
  {
   "cell_type": "markdown",
   "source": [
    "## Convert SQL strings to python datetime object and compute timedeltas"
   ],
   "metadata": {
    "collapsed": false,
    "pycharm": {
     "name": "#%% md\n"
    }
   }
  },
  {
   "cell_type": "code",
   "execution_count": 3,
   "outputs": [],
   "source": [
    "def convert_time(x):\n",
    "    if type(x) == str:\n",
    "        return datetime.datetime.strptime(x, '%Y-%m-%d %H:%M:%S.%f')\n",
    "\n",
    "dat[['response_onset','target_onset','participation_date','completion_time']] = dat[['response_onset','target_onset','participation_date','completion_time']].applymap(convert_time)\n",
    "\n",
    "dat['rt'] = dat.apply(lambda row: row['response_onset'] - row['target_onset'], axis=1)\n",
    "dat['rt_ms'] = dat.apply(lambda row: int(round(row['rt'].total_seconds() * 1e3)), axis=1)"
   ],
   "metadata": {
    "collapsed": false,
    "pycharm": {
     "name": "#%%\n"
    }
   }
  },
  {
   "cell_type": "markdown",
   "source": [
    "## Time to Complete"
   ],
   "metadata": {
    "collapsed": false,
    "pycharm": {
     "name": "#%% md\n"
    }
   }
  },
  {
   "cell_type": "code",
   "execution_count": 4,
   "outputs": [],
   "source": [
    "idx = dat[~dat.completion_time.isnull()].index # find the indices with completion time variable\n",
    "dat['study_duration'] = None\n",
    "dat.loc[idx, 'study_duration'] = dat.loc[idx].completion_time - dat.loc[idx].participation_date\n",
    "#dat.loc[idx].groupby('prolific_id').mean()"
   ],
   "metadata": {
    "collapsed": false,
    "pycharm": {
     "name": "#%%\n"
    }
   }
  },
  {
   "cell_type": "markdown",
   "source": [
    "# 2. Accuracy"
   ],
   "metadata": {
    "collapsed": false,
    "pycharm": {
     "name": "#%% md\n"
    }
   }
  },
  {
   "cell_type": "markdown",
   "source": [
    "### Note where subjects entered invalid responses"
   ],
   "metadata": {
    "collapsed": false,
    "pycharm": {
     "name": "#%% md\n"
    }
   }
  },
  {
   "cell_type": "code",
   "execution_count": 5,
   "outputs": [
    {
     "name": "stdout",
     "output_type": "stream",
     "text": [
      "103 participants responded at least one trial with invalid keys. \n",
      "16 of these are from the neurotypical group. \n",
      " 87 of these are from the autism group.\n"
     ]
    }
   ],
   "source": [
    "accepted_answers = ['f', 'j', '999']\n",
    "dat['accepted_answer'] = None\n",
    "for i, response in enumerate(dat.response_key):\n",
    "    if sum([key.lower() in accepted_answers for key in response]) >= 1:  # == len(response):\n",
    "        dat.loc[i, 'accepted_answer'] = True\n",
    "    else:\n",
    "        dat.loc[i, 'accepted_answer'] = False\n",
    "\n",
    "print(f\"{len(dat.loc[dat.accepted_answer == False].prolific_id.unique())} participants responded at least one trial with invalid keys. \\n\"\n",
    "      f\"{len(dat.loc[(dat.accepted_answer == False)&(dat.group == 'Neurotypical')].prolific_id.unique())} of these are from the neurotypical group. \\n\"\n",
    "      f\" {len(dat.loc[(dat.accepted_answer == False)&(dat.group == 'Autism')].prolific_id.unique())} of these are from the autism group.\")"
   ],
   "metadata": {
    "collapsed": false,
    "pycharm": {
     "name": "#%%\n"
    }
   }
  },
  {
   "cell_type": "code",
   "execution_count": 8,
   "outputs": [
    {
     "data": {
      "text/plain": "          id  trial_num  correct trial_type  scenario belief_type  \\\n34       407         23      0.0       test         8          FB   \n109      555          3      0.0       test         9          IG   \n110      556          4      0.0       test         7          IG   \n386     1228          4      0.0       test        12          IG   \n427     1311         15      0.0       test         4          IG   \n...      ...        ...      ...        ...       ...         ...   \n10108  11316         12      0.0       test         1          IG   \n10203  11507         11      0.0       test         4          FB   \n10436  12040         16      0.0       test         6          TB   \n10845  12931         19      0.0       test         7          FB   \n11066  13398          6      0.0       test        10          TB   \n\n      ascription_type correct_answer            target_onset  \\\n34              Knows              f 2022-08-31 05:20:24.839   \n109            Thinks              f 2022-08-31 05:37:37.077   \n110             Knows              f 2022-08-31 05:38:01.555   \n386             Knows              f 2022-08-31 06:47:34.978   \n427             Knows              f 2022-08-31 07:00:09.811   \n...               ...            ...                     ...   \n10108           Knows              f 2022-06-22 20:17:18.405   \n10203          Thinks              f 2022-06-22 20:31:08.590   \n10436          Thinks              j 2022-06-22 20:33:17.452   \n10845          Thinks              f 2022-06-22 20:46:37.428   \n11066           Knows              j 2022-06-22 20:50:38.302   \n\n               response_onset  ... block3_complete completion_code  \\\n34    2022-08-31 05:20:26.059  ...               1            XXXY   \n109   2022-08-31 05:37:38.528  ...               1            XXXY   \n110   2022-08-31 05:38:01.972  ...               1            XXXY   \n386   2022-08-31 06:47:36.946  ...               1            XXXY   \n427   2022-08-31 07:00:10.586  ...               1            XXXY   \n...                       ...  ...             ...             ...   \n10108 2022-06-22 20:17:20.979  ...               1        548DA3BD   \n10203 2022-06-22 20:31:09.064  ...               1        548DA3BD   \n10436 2022-06-22 20:33:19.982  ...               1        548DA3BD   \n10845 2022-06-22 20:46:37.522  ...               1        548DA3BD   \n11066 2022-06-22 20:50:41.076  ...               1        548DA3BD   \n\n                                                feedback completion_time  \\\n34                                                    no             NaT   \n109                                                   No             NaT   \n110                                                   No             NaT   \n386                                                Great             NaT   \n427                       A good game with nice strategy             NaT   \n...                                                  ...             ...   \n10108  I judged the \"relative disconnect,\" fact-wise,...             NaT   \n10203                                         Good study             NaT   \n10436                                                                NaT   \n10845                                                                NaT   \n11066  The second half was a little more confusing. w...             NaT   \n\n      recaptcha_complete         group                     rt rt_ms  \\\n34                   NaN        Autism 0 days 00:00:01.220000  1220   \n109                  NaN        Autism 0 days 00:00:01.451000  1451   \n110                  NaN        Autism 0 days 00:00:00.417000   417   \n386                  NaN        Autism 0 days 00:00:01.968000  1968   \n427                  NaN        Autism 0 days 00:00:00.775000   775   \n...                  ...           ...                    ...   ...   \n10108                NaN  Neurotypical 0 days 00:00:02.574000  2574   \n10203                NaN  Neurotypical 0 days 00:00:00.474000   474   \n10436                NaN  Neurotypical 0 days 00:00:02.530000  2530   \n10845                NaN  Neurotypical 0 days 00:00:00.094000    94   \n11066                NaN  Neurotypical 0 days 00:00:02.774000  2774   \n\n      study_duration accepted_answer  \n34              None           False  \n109             None           False  \n110             None           False  \n386             None           False  \n427             None           False  \n...              ...             ...  \n10108           None           False  \n10203           None           False  \n10436           None           False  \n10845           None           False  \n11066           None           False  \n\n[237 rows x 36 columns]",
      "text/html": "<div>\n<style scoped>\n    .dataframe tbody tr th:only-of-type {\n        vertical-align: middle;\n    }\n\n    .dataframe tbody tr th {\n        vertical-align: top;\n    }\n\n    .dataframe thead th {\n        text-align: right;\n    }\n</style>\n<table border=\"1\" class=\"dataframe\">\n  <thead>\n    <tr style=\"text-align: right;\">\n      <th></th>\n      <th>id</th>\n      <th>trial_num</th>\n      <th>correct</th>\n      <th>trial_type</th>\n      <th>scenario</th>\n      <th>belief_type</th>\n      <th>ascription_type</th>\n      <th>correct_answer</th>\n      <th>target_onset</th>\n      <th>response_onset</th>\n      <th>...</th>\n      <th>block3_complete</th>\n      <th>completion_code</th>\n      <th>feedback</th>\n      <th>completion_time</th>\n      <th>recaptcha_complete</th>\n      <th>group</th>\n      <th>rt</th>\n      <th>rt_ms</th>\n      <th>study_duration</th>\n      <th>accepted_answer</th>\n    </tr>\n  </thead>\n  <tbody>\n    <tr>\n      <th>34</th>\n      <td>407</td>\n      <td>23</td>\n      <td>0.0</td>\n      <td>test</td>\n      <td>8</td>\n      <td>FB</td>\n      <td>Knows</td>\n      <td>f</td>\n      <td>2022-08-31 05:20:24.839</td>\n      <td>2022-08-31 05:20:26.059</td>\n      <td>...</td>\n      <td>1</td>\n      <td>XXXY</td>\n      <td>no</td>\n      <td>NaT</td>\n      <td>NaN</td>\n      <td>Autism</td>\n      <td>0 days 00:00:01.220000</td>\n      <td>1220</td>\n      <td>None</td>\n      <td>False</td>\n    </tr>\n    <tr>\n      <th>109</th>\n      <td>555</td>\n      <td>3</td>\n      <td>0.0</td>\n      <td>test</td>\n      <td>9</td>\n      <td>IG</td>\n      <td>Thinks</td>\n      <td>f</td>\n      <td>2022-08-31 05:37:37.077</td>\n      <td>2022-08-31 05:37:38.528</td>\n      <td>...</td>\n      <td>1</td>\n      <td>XXXY</td>\n      <td>No</td>\n      <td>NaT</td>\n      <td>NaN</td>\n      <td>Autism</td>\n      <td>0 days 00:00:01.451000</td>\n      <td>1451</td>\n      <td>None</td>\n      <td>False</td>\n    </tr>\n    <tr>\n      <th>110</th>\n      <td>556</td>\n      <td>4</td>\n      <td>0.0</td>\n      <td>test</td>\n      <td>7</td>\n      <td>IG</td>\n      <td>Knows</td>\n      <td>f</td>\n      <td>2022-08-31 05:38:01.555</td>\n      <td>2022-08-31 05:38:01.972</td>\n      <td>...</td>\n      <td>1</td>\n      <td>XXXY</td>\n      <td>No</td>\n      <td>NaT</td>\n      <td>NaN</td>\n      <td>Autism</td>\n      <td>0 days 00:00:00.417000</td>\n      <td>417</td>\n      <td>None</td>\n      <td>False</td>\n    </tr>\n    <tr>\n      <th>386</th>\n      <td>1228</td>\n      <td>4</td>\n      <td>0.0</td>\n      <td>test</td>\n      <td>12</td>\n      <td>IG</td>\n      <td>Knows</td>\n      <td>f</td>\n      <td>2022-08-31 06:47:34.978</td>\n      <td>2022-08-31 06:47:36.946</td>\n      <td>...</td>\n      <td>1</td>\n      <td>XXXY</td>\n      <td>Great</td>\n      <td>NaT</td>\n      <td>NaN</td>\n      <td>Autism</td>\n      <td>0 days 00:00:01.968000</td>\n      <td>1968</td>\n      <td>None</td>\n      <td>False</td>\n    </tr>\n    <tr>\n      <th>427</th>\n      <td>1311</td>\n      <td>15</td>\n      <td>0.0</td>\n      <td>test</td>\n      <td>4</td>\n      <td>IG</td>\n      <td>Knows</td>\n      <td>f</td>\n      <td>2022-08-31 07:00:09.811</td>\n      <td>2022-08-31 07:00:10.586</td>\n      <td>...</td>\n      <td>1</td>\n      <td>XXXY</td>\n      <td>A good game with nice strategy</td>\n      <td>NaT</td>\n      <td>NaN</td>\n      <td>Autism</td>\n      <td>0 days 00:00:00.775000</td>\n      <td>775</td>\n      <td>None</td>\n      <td>False</td>\n    </tr>\n    <tr>\n      <th>...</th>\n      <td>...</td>\n      <td>...</td>\n      <td>...</td>\n      <td>...</td>\n      <td>...</td>\n      <td>...</td>\n      <td>...</td>\n      <td>...</td>\n      <td>...</td>\n      <td>...</td>\n      <td>...</td>\n      <td>...</td>\n      <td>...</td>\n      <td>...</td>\n      <td>...</td>\n      <td>...</td>\n      <td>...</td>\n      <td>...</td>\n      <td>...</td>\n      <td>...</td>\n      <td>...</td>\n    </tr>\n    <tr>\n      <th>10108</th>\n      <td>11316</td>\n      <td>12</td>\n      <td>0.0</td>\n      <td>test</td>\n      <td>1</td>\n      <td>IG</td>\n      <td>Knows</td>\n      <td>f</td>\n      <td>2022-06-22 20:17:18.405</td>\n      <td>2022-06-22 20:17:20.979</td>\n      <td>...</td>\n      <td>1</td>\n      <td>548DA3BD</td>\n      <td>I judged the \"relative disconnect,\" fact-wise,...</td>\n      <td>NaT</td>\n      <td>NaN</td>\n      <td>Neurotypical</td>\n      <td>0 days 00:00:02.574000</td>\n      <td>2574</td>\n      <td>None</td>\n      <td>False</td>\n    </tr>\n    <tr>\n      <th>10203</th>\n      <td>11507</td>\n      <td>11</td>\n      <td>0.0</td>\n      <td>test</td>\n      <td>4</td>\n      <td>FB</td>\n      <td>Thinks</td>\n      <td>f</td>\n      <td>2022-06-22 20:31:08.590</td>\n      <td>2022-06-22 20:31:09.064</td>\n      <td>...</td>\n      <td>1</td>\n      <td>548DA3BD</td>\n      <td>Good study</td>\n      <td>NaT</td>\n      <td>NaN</td>\n      <td>Neurotypical</td>\n      <td>0 days 00:00:00.474000</td>\n      <td>474</td>\n      <td>None</td>\n      <td>False</td>\n    </tr>\n    <tr>\n      <th>10436</th>\n      <td>12040</td>\n      <td>16</td>\n      <td>0.0</td>\n      <td>test</td>\n      <td>6</td>\n      <td>TB</td>\n      <td>Thinks</td>\n      <td>j</td>\n      <td>2022-06-22 20:33:17.452</td>\n      <td>2022-06-22 20:33:19.982</td>\n      <td>...</td>\n      <td>1</td>\n      <td>548DA3BD</td>\n      <td></td>\n      <td>NaT</td>\n      <td>NaN</td>\n      <td>Neurotypical</td>\n      <td>0 days 00:00:02.530000</td>\n      <td>2530</td>\n      <td>None</td>\n      <td>False</td>\n    </tr>\n    <tr>\n      <th>10845</th>\n      <td>12931</td>\n      <td>19</td>\n      <td>0.0</td>\n      <td>test</td>\n      <td>7</td>\n      <td>FB</td>\n      <td>Thinks</td>\n      <td>f</td>\n      <td>2022-06-22 20:46:37.428</td>\n      <td>2022-06-22 20:46:37.522</td>\n      <td>...</td>\n      <td>1</td>\n      <td>548DA3BD</td>\n      <td></td>\n      <td>NaT</td>\n      <td>NaN</td>\n      <td>Neurotypical</td>\n      <td>0 days 00:00:00.094000</td>\n      <td>94</td>\n      <td>None</td>\n      <td>False</td>\n    </tr>\n    <tr>\n      <th>11066</th>\n      <td>13398</td>\n      <td>6</td>\n      <td>0.0</td>\n      <td>test</td>\n      <td>10</td>\n      <td>TB</td>\n      <td>Knows</td>\n      <td>j</td>\n      <td>2022-06-22 20:50:38.302</td>\n      <td>2022-06-22 20:50:41.076</td>\n      <td>...</td>\n      <td>1</td>\n      <td>548DA3BD</td>\n      <td>The second half was a little more confusing. w...</td>\n      <td>NaT</td>\n      <td>NaN</td>\n      <td>Neurotypical</td>\n      <td>0 days 00:00:02.774000</td>\n      <td>2774</td>\n      <td>None</td>\n      <td>False</td>\n    </tr>\n  </tbody>\n</table>\n<p>237 rows × 36 columns</p>\n</div>"
     },
     "execution_count": 8,
     "metadata": {},
     "output_type": "execute_result"
    }
   ],
   "source": [
    "dat.loc[dat.accepted_answer == False]"
   ],
   "metadata": {
    "collapsed": false,
    "pycharm": {
     "name": "#%%\n"
    }
   }
  },
  {
   "cell_type": "markdown",
   "source": [
    "### Note trials where subjects timed-out after the 5-seconds"
   ],
   "metadata": {
    "collapsed": false,
    "pycharm": {
     "name": "#%% md\n"
    }
   }
  },
  {
   "cell_type": "code",
   "execution_count": 6,
   "outputs": [
    {
     "name": "stdout",
     "output_type": "stream",
     "text": [
      "557 participants timed out during at least one trial. \n",
      "176 of these are from the neurotypical group. \n",
      " 381 of these are from the autism group.\n"
     ]
    }
   ],
   "source": [
    "dat['timeout'] = False\n",
    "# Here are timeouts without a response at all\n",
    "dat.loc[dat.apply(lambda row: '999' in row['response_key'], axis=1), 'timeout'] = True\n",
    "# Here is where pps pressed a key after 5 seconds, but before the experiment redirected\n",
    "timeouts = dat.loc[(dat.response_key.apply(len)>1) & (dat.apply(lambda row: '999' in row['response_key'], axis=1))].index\n",
    "dat.loc[timeouts, 'timeout'] = True\n",
    "\n",
    "print(f\"{len(dat.loc[dat.timeout == True].prolific_id.unique())} participants timed out during at least one trial. \\n\"\n",
    "      f\"{len(dat.loc[(dat.timeout == True)&(dat.group == 'Neurotypical')].prolific_id.unique())} of these are from the neurotypical group. \\n\"\n",
    "      f\" {len(dat.loc[(dat.timeout == True)&(dat.group == 'Autism')].prolific_id.unique())} of these are from the autism group.\")"
   ],
   "metadata": {
    "collapsed": false,
    "pycharm": {
     "name": "#%%\n"
    }
   }
  },
  {
   "cell_type": "markdown",
   "source": [],
   "metadata": {
    "collapsed": false,
    "pycharm": {
     "name": "#%% md\n"
    }
   }
  },
  {
   "cell_type": "code",
   "execution_count": 7,
   "outputs": [],
   "source": [
    "# If subjects hit more than one key, use only the last one\n",
    "dat['full_response'] = dat['response_key']\n",
    "dat['response_key'] = [resp[-1].lower() for resp in dat.response_key]"
   ],
   "metadata": {
    "collapsed": false,
    "pycharm": {
     "name": "#%%\n"
    }
   }
  },
  {
   "cell_type": "code",
   "execution_count": 8,
   "outputs": [],
   "source": [
    "#  correct answers\n",
    "dat.loc[dat.belief_type == 'TB', 'correct_answer'] = 'j'\n",
    "dat.loc[dat.belief_type != 'TB', 'correct_answer'] = 'f'\n",
    "# update correct column based on new answer key\n",
    "dat['correct'] = dat.apply(lambda row: row['response_key'] == row['correct_answer'], axis=1)\n",
    "\n",
    "# timeouts are considered incorrect\n",
    "dat.loc[dat.timeout == True, 'correct'] = False"
   ],
   "metadata": {
    "collapsed": false,
    "pycharm": {
     "name": "#%%\n"
    }
   }
  },
  {
   "cell_type": "markdown",
   "source": [],
   "metadata": {
    "collapsed": false,
    "pycharm": {
     "name": "#%% md\n"
    }
   }
  },
  {
   "cell_type": "code",
   "execution_count": 9,
   "outputs": [
    {
     "data": {
      "text/plain": "[('999', Timedelta('0 days 00:00:05.096000')),\n ('j', Timedelta('0 days 00:00:05.114000'))]"
     },
     "execution_count": 9,
     "metadata": {},
     "output_type": "execute_result"
    }
   ],
   "source": [
    "exmpl = dat.loc[(dat.timeout == True) & (dat.recaptcha_complete == True) & (dat.id==13062)].iloc[0]#[70]\n",
    "t_on = exmpl.target_onset\n",
    "#exmpl.full_response\n",
    "\n",
    "ii = zip(exmpl.full_response, [x - t_on for x in eval(exmpl.keypress_time) ])\n",
    "[x for x in ii]"
   ],
   "metadata": {
    "collapsed": false,
    "pycharm": {
     "name": "#%%\n"
    }
   }
  },
  {
   "cell_type": "code",
   "execution_count": 9,
   "outputs": [
    {
     "name": "stdout",
     "output_type": "stream",
     "text": [
      "subject pbMbDHTJIUpEAycZ on trial 11: responses: ('999', Timedelta('0 days 00:00:05.102000'))\n",
      "subject pbMbDHTJIUpEAycZ on trial 11: responses: ('f', Timedelta('0 days 00:00:05.340000'))\n",
      "subject pbMbDHTJIUpEAycZ on trial 12: responses: ('999', Timedelta('0 days 00:00:05.102000'))\n",
      "subject pbMbDHTJIUpEAycZ on trial 16: responses: ('999', Timedelta('0 days 00:00:05.102000'))\n",
      "subject pbMbDHTJIUpEAycZ on trial 16: responses: ('f', Timedelta('0 days 00:00:05.649000'))\n",
      "subject pbMbDHTJIUpEAycZ on trial 18: responses: ('999', Timedelta('0 days 00:00:05.106000'))\n",
      "subject pbMbDHTJIUpEAycZ on trial 18: responses: ('j', Timedelta('0 days 00:00:05.965000'))\n",
      "subject pbMbDHTJIUpEAycZ on trial 23: responses: ('999', Timedelta('0 days 00:00:05.106000'))\n",
      "subject pbMbDHTJIUpEAycZ on trial 23: responses: ('f', Timedelta('0 days 00:00:06.870000'))\n",
      "subject pbMbDHTJIUpEAycZ on trial 24: responses: ('999', Timedelta('0 days 00:00:05.107000'))\n",
      "subject svqkstwbSqyYTDqk on trial 6: responses: ('999', Timedelta('0 days 00:00:05.096000'))\n",
      "subject svqkstwbSqyYTDqk on trial 6: responses: ('j', Timedelta('0 days 00:00:05.114000'))\n",
      "subject rxrpsyuBxEQ7GTee on trial 1: responses: ('j', Timedelta('0 days 00:00:03.532000'))\n",
      "subject rxrpsyuBxEQ7GTee on trial 1: responses: ('999', Timedelta('0 days 00:00:05.112000'))\n",
      "subject rxrpsyuBxEQ7GTee on trial 2: responses: ('j', Timedelta('0 days 00:00:03.597000'))\n",
      "subject rxrpsyuBxEQ7GTee on trial 2: responses: ('999', Timedelta('0 days 00:00:05.097000'))\n",
      "subject rxrpsyuBxEQ7GTee on trial 4: responses: ('f', Timedelta('0 days 00:00:02.494000'))\n",
      "subject rxrpsyuBxEQ7GTee on trial 4: responses: ('j', Timedelta('0 days 00:00:04.321000'))\n",
      "subject rxrpsyuBxEQ7GTee on trial 4: responses: ('999', Timedelta('0 days 00:00:05.093000'))\n",
      "subject rxrpsyuBxEQ7GTee on trial 11: responses: ('999', Timedelta('0 days 00:00:05.095000'))\n",
      "subject rxrpsyuBxEQ7GTee on trial 12: responses: ('j', Timedelta('0 days 00:00:03.925000'))\n",
      "subject rxrpsyuBxEQ7GTee on trial 12: responses: ('999', Timedelta('0 days 00:00:05.088000'))\n",
      "subject rxrpsyuBxEQ7GTee on trial 13: responses: ('j', Timedelta('0 days 00:00:04.206000'))\n",
      "subject rxrpsyuBxEQ7GTee on trial 13: responses: ('999', Timedelta('0 days 00:00:05.094000'))\n",
      "subject 4njNxUwR1b3UCr1e on trial 1: responses: ('999', Timedelta('0 days 00:00:05.095000'))\n",
      "subject 4njNxUwR1b3UCr1e on trial 1: responses: ('f', Timedelta('0 days 00:00:06.868000'))\n",
      "subject 4njNxUwR1b3UCr1e on trial 3: responses: ('f', Timedelta('0 days 00:00:03.547000'))\n",
      "subject 4njNxUwR1b3UCr1e on trial 3: responses: ('999', Timedelta('0 days 00:00:05.096000'))\n",
      "subject 4njNxUwR1b3UCr1e on trial 3: responses: ('f', Timedelta('0 days 00:00:12.859000'))\n",
      "subject 4njNxUwR1b3UCr1e on trial 4: responses: ('j', Timedelta('0 days 00:00:03.023000'))\n",
      "subject 4njNxUwR1b3UCr1e on trial 4: responses: ('999', Timedelta('0 days 00:00:05.090000'))\n",
      "subject 4njNxUwR1b3UCr1e on trial 7: responses: ('999', Timedelta('0 days 00:00:05.095000'))\n",
      "subject 4njNxUwR1b3UCr1e on trial 7: responses: (' ', Timedelta('0 days 00:00:09.325000'))\n",
      "subject 4njNxUwR1b3UCr1e on trial 7: responses: ('j', Timedelta('0 days 00:00:10.177000'))\n",
      "subject 4njNxUwR1b3UCr1e on trial 8: responses: ('f', Timedelta('0 days 00:00:03.919000'))\n",
      "subject 4njNxUwR1b3UCr1e on trial 8: responses: ('999', Timedelta('0 days 00:00:05.099000'))\n",
      "subject 4njNxUwR1b3UCr1e on trial 11: responses: ('999', Timedelta('0 days 00:00:05.101000'))\n",
      "subject 4njNxUwR1b3UCr1e on trial 11: responses: ('j', Timedelta('0 days 00:00:05.934000'))\n",
      "subject 4njNxUwR1b3UCr1e on trial 13: responses: ('f', Timedelta('0 days 00:00:04.046000'))\n",
      "subject 4njNxUwR1b3UCr1e on trial 13: responses: ('999', Timedelta('0 days 00:00:05.100000'))\n",
      "subject 4njNxUwR1b3UCr1e on trial 13: responses: ('f', Timedelta('0 days 00:00:11.824000'))\n",
      "subject 4njNxUwR1b3UCr1e on trial 13: responses: ('f', Timedelta('0 days 00:00:12.396000'))\n",
      "subject 4njNxUwR1b3UCr1e on trial 14: responses: ('j', Timedelta('0 days 00:00:01.828000'))\n",
      "subject 4njNxUwR1b3UCr1e on trial 14: responses: ('999', Timedelta('0 days 00:00:05.094000'))\n",
      "subject 4njNxUwR1b3UCr1e on trial 15: responses: ('j', Timedelta('0 days 00:00:02.807000'))\n",
      "subject 4njNxUwR1b3UCr1e on trial 15: responses: ('999', Timedelta('0 days 00:00:05.109000'))\n",
      "subject 4njNxUwR1b3UCr1e on trial 15: responses: ('j', Timedelta('0 days 00:00:07.468000'))\n",
      "subject 4njNxUwR1b3UCr1e on trial 18: responses: ('999', Timedelta('0 days 00:00:05.105000'))\n",
      "subject 4njNxUwR1b3UCr1e on trial 22: responses: ('f', Timedelta('0 days 00:00:03.843000'))\n",
      "subject 4njNxUwR1b3UCr1e on trial 22: responses: ('999', Timedelta('0 days 00:00:05.109000'))\n",
      "subject F1PRrepUAVhJLDTD on trial 2: responses: ('999', Timedelta('0 days 00:00:05.102000'))\n",
      "subject F1PRrepUAVhJLDTD on trial 2: responses: ('f', Timedelta('0 days 00:00:05.299000'))\n",
      "subject F1PRrepUAVhJLDTD on trial 2: responses: ('f', Timedelta('0 days 00:00:07.530000'))\n",
      "subject F1PRrepUAVhJLDTD on trial 4: responses: ('f', Timedelta('0 days 00:00:03.717000'))\n",
      "subject F1PRrepUAVhJLDTD on trial 4: responses: ('999', Timedelta('0 days 00:00:05.099000'))\n",
      "subject F1PRrepUAVhJLDTD on trial 8: responses: ('999', Timedelta('0 days 00:00:05.100000'))\n",
      "subject F1PRrepUAVhJLDTD on trial 11: responses: ('999', Timedelta('0 days 00:00:05.099000'))\n",
      "subject F1PRrepUAVhJLDTD on trial 11: responses: ('j', Timedelta('0 days 00:00:05.622000'))\n",
      "subject F1PRrepUAVhJLDTD on trial 13: responses: ('f', Timedelta('0 days 00:00:02.830000'))\n",
      "subject F1PRrepUAVhJLDTD on trial 13: responses: ('999', Timedelta('0 days 00:00:05.098000'))\n",
      "subject F1PRrepUAVhJLDTD on trial 13: responses: ('f', Timedelta('0 days 00:00:05.678000'))\n",
      "subject F1PRrepUAVhJLDTD on trial 13: responses: ('f', Timedelta('0 days 00:00:05.806000'))\n",
      "subject F1PRrepUAVhJLDTD on trial 13: responses: ('f', Timedelta('0 days 00:00:05.926000'))\n",
      "subject F1PRrepUAVhJLDTD on trial 13: responses: ('f', Timedelta('0 days 00:00:06.046000'))\n",
      "subject F1PRrepUAVhJLDTD on trial 14: responses: ('f', Timedelta('0 days 00:00:04.033000'))\n",
      "subject F1PRrepUAVhJLDTD on trial 14: responses: ('f', Timedelta('0 days 00:00:04.914000'))\n",
      "subject F1PRrepUAVhJLDTD on trial 14: responses: ('f', Timedelta('0 days 00:00:05.080000'))\n",
      "subject F1PRrepUAVhJLDTD on trial 14: responses: ('999', Timedelta('0 days 00:00:05.100000'))\n",
      "subject F1PRrepUAVhJLDTD on trial 14: responses: ('f', Timedelta('0 days 00:00:05.223000'))\n",
      "subject F1PRrepUAVhJLDTD on trial 14: responses: ('f', Timedelta('0 days 00:00:05.336000'))\n",
      "subject F1PRrepUAVhJLDTD on trial 14: responses: ('f', Timedelta('0 days 00:00:05.457000'))\n",
      "subject F1PRrepUAVhJLDTD on trial 14: responses: ('f', Timedelta('0 days 00:00:05.576000'))\n",
      "subject F1PRrepUAVhJLDTD on trial 14: responses: ('f', Timedelta('0 days 00:00:05.712000'))\n",
      "subject F1PRrepUAVhJLDTD on trial 14: responses: ('f', Timedelta('0 days 00:00:05.857000'))\n",
      "subject F1PRrepUAVhJLDTD on trial 14: responses: ('f', Timedelta('0 days 00:00:06.152000'))\n",
      "subject F1PRrepUAVhJLDTD on trial 14: responses: ('f', Timedelta('0 days 00:00:06.568000'))\n",
      "subject F1PRrepUAVhJLDTD on trial 14: responses: ('f', Timedelta('0 days 00:00:06.752000'))\n",
      "subject F1PRrepUAVhJLDTD on trial 14: responses: ('f', Timedelta('0 days 00:00:06.928000'))\n",
      "subject F1PRrepUAVhJLDTD on trial 14: responses: ('f', Timedelta('0 days 00:00:07.095000'))\n",
      "subject F1PRrepUAVhJLDTD on trial 14: responses: ('f', Timedelta('0 days 00:00:07.280000'))\n",
      "subject F1PRrepUAVhJLDTD on trial 14: responses: ('f', Timedelta('0 days 00:00:07.448000'))\n",
      "subject F1PRrepUAVhJLDTD on trial 14: responses: ('f', Timedelta('0 days 00:00:07.640000'))\n",
      "subject F1PRrepUAVhJLDTD on trial 14: responses: ('f', Timedelta('0 days 00:00:07.831000'))\n",
      "subject F1PRrepUAVhJLDTD on trial 17: responses: ('999', Timedelta('0 days 00:00:05.106000'))\n",
      "subject F1PRrepUAVhJLDTD on trial 17: responses: ('j', Timedelta('0 days 00:00:07.774000'))\n",
      "subject F1PRrepUAVhJLDTD on trial 21: responses: ('f', Timedelta('0 days 00:00:03.259000'))\n",
      "subject F1PRrepUAVhJLDTD on trial 21: responses: ('999', Timedelta('0 days 00:00:05.102000'))\n",
      "subject F1PRrepUAVhJLDTD on trial 21: responses: ('f', Timedelta('0 days 00:00:06.107000'))\n",
      "subject F1PRrepUAVhJLDTD on trial 22: responses: ('f', Timedelta('0 days 00:00:03.043000'))\n",
      "subject F1PRrepUAVhJLDTD on trial 22: responses: ('f', Timedelta('0 days 00:00:04.558000'))\n",
      "subject F1PRrepUAVhJLDTD on trial 22: responses: ('999', Timedelta('0 days 00:00:05.097000'))\n",
      "subject F1PRrepUAVhJLDTD on trial 23: responses: ('999', Timedelta('0 days 00:00:05.099000'))\n",
      "subject F1PRrepUAVhJLDTD on trial 24: responses: ('f', Timedelta('0 days 00:00:04.325000'))\n",
      "subject F1PRrepUAVhJLDTD on trial 24: responses: ('999', Timedelta('0 days 00:00:05.098000'))\n",
      "subject T0m1aKCk3gbi6HzI on trial 3: responses: ('f', Timedelta('0 days 00:00:04.261000'))\n",
      "subject T0m1aKCk3gbi6HzI on trial 3: responses: ('999', Timedelta('0 days 00:00:05.107000'))\n",
      "subject T0m1aKCk3gbi6HzI on trial 14: responses: ('999', Timedelta('0 days 00:00:05.101000'))\n",
      "subject T0m1aKCk3gbi6HzI on trial 18: responses: ('j', Timedelta('0 days 00:00:04.640000'))\n",
      "subject T0m1aKCk3gbi6HzI on trial 18: responses: ('999', Timedelta('0 days 00:00:05.101000'))\n",
      "subject lEGDYlzGNI5mCuN1 on trial 7: responses: ('999', Timedelta('0 days 00:00:05.099000'))\n",
      "subject lEGDYlzGNI5mCuN1 on trial 7: responses: ('f', Timedelta('0 days 00:00:05.941000'))\n",
      "subject lEGDYlzGNI5mCuN1 on trial 8: responses: ('f', Timedelta('0 days 00:00:04.049000'))\n",
      "subject lEGDYlzGNI5mCuN1 on trial 8: responses: ('999', Timedelta('0 days 00:00:05.089000'))\n",
      "subject lEGDYlzGNI5mCuN1 on trial 12: responses: ('j', Timedelta('0 days 00:00:03.701000'))\n",
      "subject lEGDYlzGNI5mCuN1 on trial 12: responses: ('999', Timedelta('0 days 00:00:05.112000'))\n",
      "subject lEGDYlzGNI5mCuN1 on trial 15: responses: ('999', Timedelta('0 days 00:00:05.096000'))\n",
      "subject lEGDYlzGNI5mCuN1 on trial 15: responses: ('j', Timedelta('0 days 00:00:05.617000'))\n",
      "subject lEGDYlzGNI5mCuN1 on trial 17: responses: ('f', Timedelta('0 days 00:00:04.145000'))\n",
      "subject lEGDYlzGNI5mCuN1 on trial 17: responses: ('999', Timedelta('0 days 00:00:05.112000'))\n",
      "subject lEGDYlzGNI5mCuN1 on trial 21: responses: ('j', Timedelta('0 days 00:00:05.030000'))\n",
      "subject lEGDYlzGNI5mCuN1 on trial 21: responses: ('999', Timedelta('0 days 00:00:05.100000'))\n",
      "subject 44d62YHoWIZFTypU on trial 2: responses: ('j', Timedelta('0 days 00:00:02.836000'))\n",
      "subject 44d62YHoWIZFTypU on trial 2: responses: ('999', Timedelta('0 days 00:00:05.101000'))\n",
      "subject 44d62YHoWIZFTypU on trial 7: responses: ('f', Timedelta('0 days 00:00:04.904000'))\n",
      "subject 44d62YHoWIZFTypU on trial 7: responses: ('999', Timedelta('0 days 00:00:05.103000'))\n",
      "subject 44d62YHoWIZFTypU on trial 9: responses: ('j', Timedelta('0 days 00:00:02.988000'))\n",
      "subject 44d62YHoWIZFTypU on trial 9: responses: ('999', Timedelta('0 days 00:00:05.102000'))\n",
      "subject 44d62YHoWIZFTypU on trial 9: responses: ('j', Timedelta('0 days 00:00:05.412000'))\n",
      "subject 44d62YHoWIZFTypU on trial 10: responses: ('f', Timedelta('0 days 00:00:03.788000'))\n",
      "subject 44d62YHoWIZFTypU on trial 10: responses: ('999', Timedelta('0 days 00:00:05.100000'))\n",
      "subject 44d62YHoWIZFTypU on trial 13: responses: ('f', Timedelta('0 days 00:00:04.289000'))\n",
      "subject 44d62YHoWIZFTypU on trial 13: responses: ('999', Timedelta('0 days 00:00:05.104000'))\n",
      "subject 44d62YHoWIZFTypU on trial 14: responses: ('999', Timedelta('0 days 00:00:05.101000'))\n",
      "subject 44d62YHoWIZFTypU on trial 14: responses: ('f', Timedelta('0 days 00:00:05.509000'))\n",
      "subject 44d62YHoWIZFTypU on trial 14: responses: ('f', Timedelta('0 days 00:00:06.965000'))\n",
      "subject 44d62YHoWIZFTypU on trial 15: responses: ('j', Timedelta('0 days 00:00:03.001000'))\n",
      "subject 44d62YHoWIZFTypU on trial 15: responses: ('j', Timedelta('0 days 00:00:03.897000'))\n",
      "subject 44d62YHoWIZFTypU on trial 15: responses: ('999', Timedelta('0 days 00:00:05.103000'))\n",
      "subject 44d62YHoWIZFTypU on trial 23: responses: ('f', Timedelta('0 days 00:00:03.043000'))\n",
      "subject 44d62YHoWIZFTypU on trial 23: responses: ('f', Timedelta('0 days 00:00:03.731000'))\n",
      "subject 44d62YHoWIZFTypU on trial 23: responses: ('f', Timedelta('0 days 00:00:04.036000'))\n",
      "subject 44d62YHoWIZFTypU on trial 23: responses: ('f', Timedelta('0 days 00:00:04.347000'))\n",
      "subject 44d62YHoWIZFTypU on trial 23: responses: ('f', Timedelta('0 days 00:00:04.548000'))\n",
      "subject 44d62YHoWIZFTypU on trial 23: responses: ('f', Timedelta('0 days 00:00:04.835000'))\n",
      "subject 44d62YHoWIZFTypU on trial 23: responses: ('999', Timedelta('0 days 00:00:05.100000'))\n",
      "subject 44d62YHoWIZFTypU on trial 23: responses: ('f', Timedelta('0 days 00:00:05.251000'))\n",
      "subject 44d62YHoWIZFTypU on trial 23: responses: ('f', Timedelta('0 days 00:00:05.475000'))\n",
      "subject 44d62YHoWIZFTypU on trial 23: responses: ('f', Timedelta('0 days 00:00:05.707000'))\n",
      "subject 44d62YHoWIZFTypU on trial 23: responses: ('f', Timedelta('0 days 00:00:05.914000'))\n",
      "subject 44d62YHoWIZFTypU on trial 23: responses: ('f', Timedelta('0 days 00:00:06.484000'))\n",
      "subject 44d62YHoWIZFTypU on trial 23: responses: ('f', Timedelta('0 days 00:00:07.139000'))\n",
      "subject 44d62YHoWIZFTypU on trial 24: responses: ('f', Timedelta('0 days 00:00:03.720000'))\n",
      "subject 44d62YHoWIZFTypU on trial 24: responses: ('999', Timedelta('0 days 00:00:05.101000'))\n",
      "subject xRm1kTEhdcd79PaJ on trial 1: responses: ('999', Timedelta('0 days 00:00:05.100000'))\n",
      "subject xRm1kTEhdcd79PaJ on trial 1: responses: ('j', Timedelta('0 days 00:00:06.844000'))\n",
      "subject xRm1kTEhdcd79PaJ on trial 1: responses: ('j', Timedelta('0 days 00:00:08.379000'))\n",
      "subject xRm1kTEhdcd79PaJ on trial 1: responses: ('j', Timedelta('0 days 00:00:08.804000'))\n",
      "subject xRm1kTEhdcd79PaJ on trial 5: responses: ('j', Timedelta('0 days 00:00:03.622000'))\n",
      "subject xRm1kTEhdcd79PaJ on trial 5: responses: ('j', Timedelta('0 days 00:00:04.629000'))\n",
      "subject xRm1kTEhdcd79PaJ on trial 5: responses: ('j', Timedelta('0 days 00:00:04.997000'))\n",
      "subject xRm1kTEhdcd79PaJ on trial 5: responses: ('999', Timedelta('0 days 00:00:05.101000'))\n",
      "subject xRm1kTEhdcd79PaJ on trial 5: responses: ('j', Timedelta('0 days 00:00:05.229000'))\n",
      "subject xRm1kTEhdcd79PaJ on trial 5: responses: ('j', Timedelta('0 days 00:00:05.589000'))\n",
      "subject xRm1kTEhdcd79PaJ on trial 5: responses: ('j', Timedelta('0 days 00:00:06.013000'))\n",
      "subject xRm1kTEhdcd79PaJ on trial 5: responses: ('j', Timedelta('0 days 00:00:06.533000'))\n",
      "subject xRm1kTEhdcd79PaJ on trial 5: responses: ('j', Timedelta('0 days 00:00:06.853000'))\n",
      "subject xRm1kTEhdcd79PaJ on trial 6: responses: ('999', Timedelta('0 days 00:00:05.099000'))\n",
      "subject xRm1kTEhdcd79PaJ on trial 6: responses: ('f', Timedelta('0 days 00:00:06.350000'))\n",
      "subject xRm1kTEhdcd79PaJ on trial 6: responses: ('f', Timedelta('0 days 00:00:06.950000'))\n",
      "subject xRm1kTEhdcd79PaJ on trial 6: responses: ('f', Timedelta('0 days 00:00:07.398000'))\n",
      "subject xRm1kTEhdcd79PaJ on trial 6: responses: ('f', Timedelta('0 days 00:00:07.782000'))\n",
      "subject xRm1kTEhdcd79PaJ on trial 6: responses: ('f', Timedelta('0 days 00:00:08.902000'))\n",
      "subject xRm1kTEhdcd79PaJ on trial 7: responses: ('999', Timedelta('0 days 00:00:05.101000'))\n",
      "subject xRm1kTEhdcd79PaJ on trial 7: responses: ('f', Timedelta('0 days 00:00:05.116000'))\n",
      "subject xRm1kTEhdcd79PaJ on trial 7: responses: ('f', Timedelta('0 days 00:00:06.163000'))\n",
      "subject xRm1kTEhdcd79PaJ on trial 7: responses: ('f', Timedelta('0 days 00:00:06.595000'))\n",
      "subject xRm1kTEhdcd79PaJ on trial 7: responses: ('f', Timedelta('0 days 00:00:06.915000'))\n",
      "subject xRm1kTEhdcd79PaJ on trial 7: responses: ('f', Timedelta('0 days 00:00:07.340000'))\n",
      "subject xRm1kTEhdcd79PaJ on trial 7: responses: ('f', Timedelta('0 days 00:00:07.787000'))\n",
      "subject xRm1kTEhdcd79PaJ on trial 7: responses: ('f', Timedelta('0 days 00:00:08.188000'))\n",
      "subject xRm1kTEhdcd79PaJ on trial 8: responses: ('999', Timedelta('0 days 00:00:05.100000'))\n",
      "subject xRm1kTEhdcd79PaJ on trial 8: responses: ('f', Timedelta('0 days 00:00:05.973000'))\n",
      "subject xRm1kTEhdcd79PaJ on trial 8: responses: ('f', Timedelta('0 days 00:00:06.637000'))\n",
      "subject xRm1kTEhdcd79PaJ on trial 8: responses: ('f', Timedelta('0 days 00:00:06.957000'))\n",
      "subject xRm1kTEhdcd79PaJ on trial 8: responses: ('f', Timedelta('0 days 00:00:07.429000'))\n",
      "subject xRm1kTEhdcd79PaJ on trial 8: responses: ('f', Timedelta('0 days 00:00:07.725000'))\n",
      "subject xRm1kTEhdcd79PaJ on trial 8: responses: ('f', Timedelta('0 days 00:00:07.989000'))\n",
      "subject xRm1kTEhdcd79PaJ on trial 8: responses: ('f', Timedelta('0 days 00:00:08.190000'))\n",
      "subject xRm1kTEhdcd79PaJ on trial 9: responses: ('999', Timedelta('0 days 00:00:05.101000'))\n",
      "subject xRm1kTEhdcd79PaJ on trial 9: responses: ('f', Timedelta('0 days 00:00:05.680000'))\n",
      "subject xRm1kTEhdcd79PaJ on trial 9: responses: ('f', Timedelta('0 days 00:00:06.128000'))\n",
      "subject xRm1kTEhdcd79PaJ on trial 9: responses: ('f', Timedelta('0 days 00:00:06.568000'))\n",
      "subject xRm1kTEhdcd79PaJ on trial 9: responses: ('f', Timedelta('0 days 00:00:06.928000'))\n",
      "subject xRm1kTEhdcd79PaJ on trial 9: responses: ('f', Timedelta('0 days 00:00:07.272000'))\n",
      "subject xRm1kTEhdcd79PaJ on trial 9: responses: ('f', Timedelta('0 days 00:00:07.584000'))\n",
      "subject xRm1kTEhdcd79PaJ on trial 9: responses: ('f', Timedelta('0 days 00:00:07.832000'))\n",
      "subject xRm1kTEhdcd79PaJ on trial 9: responses: ('f', Timedelta('0 days 00:00:08.039000'))\n",
      "subject xRm1kTEhdcd79PaJ on trial 9: responses: ('f', Timedelta('0 days 00:00:08.296000'))\n",
      "subject xRm1kTEhdcd79PaJ on trial 10: responses: ('999', Timedelta('0 days 00:00:05.100000'))\n",
      "subject xRm1kTEhdcd79PaJ on trial 10: responses: ('j', Timedelta('0 days 00:00:08.398000'))\n",
      "subject xRm1kTEhdcd79PaJ on trial 10: responses: ('j', Timedelta('0 days 00:00:09.014000'))\n",
      "subject xRm1kTEhdcd79PaJ on trial 10: responses: ('j', Timedelta('0 days 00:00:09.358000'))\n",
      "subject xRm1kTEhdcd79PaJ on trial 11: responses: ('f', Timedelta('0 days 00:00:03.713000'))\n",
      "subject xRm1kTEhdcd79PaJ on trial 11: responses: ('f', Timedelta('0 days 00:00:04.313000'))\n",
      "subject xRm1kTEhdcd79PaJ on trial 11: responses: ('f', Timedelta('0 days 00:00:04.812000'))\n",
      "subject xRm1kTEhdcd79PaJ on trial 11: responses: ('f', Timedelta('0 days 00:00:04.845000'))\n",
      "subject xRm1kTEhdcd79PaJ on trial 11: responses: ('f', Timedelta('0 days 00:00:04.878000'))\n",
      "subject xRm1kTEhdcd79PaJ on trial 11: responses: ('f', Timedelta('0 days 00:00:04.911000'))\n",
      "subject xRm1kTEhdcd79PaJ on trial 11: responses: ('f', Timedelta('0 days 00:00:04.944000'))\n",
      "subject xRm1kTEhdcd79PaJ on trial 11: responses: ('f', Timedelta('0 days 00:00:04.977000'))\n",
      "subject xRm1kTEhdcd79PaJ on trial 11: responses: ('f', Timedelta('0 days 00:00:05.089000'))\n",
      "subject xRm1kTEhdcd79PaJ on trial 11: responses: ('999', Timedelta('0 days 00:00:05.102000'))\n",
      "subject xRm1kTEhdcd79PaJ on trial 11: responses: ('f', Timedelta('0 days 00:00:05.458000'))\n",
      "subject xRm1kTEhdcd79PaJ on trial 11: responses: ('f', Timedelta('0 days 00:00:05.681000'))\n",
      "subject xRm1kTEhdcd79PaJ on trial 11: responses: ('f', Timedelta('0 days 00:00:05.920000'))\n",
      "subject xRm1kTEhdcd79PaJ on trial 11: responses: ('f', Timedelta('0 days 00:00:06.257000'))\n",
      "subject xRm1kTEhdcd79PaJ on trial 11: responses: ('f', Timedelta('0 days 00:00:06.625000'))\n",
      "subject xRm1kTEhdcd79PaJ on trial 11: responses: ('f', Timedelta('0 days 00:00:06.896000'))\n",
      "subject xRm1kTEhdcd79PaJ on trial 11: responses: ('f', Timedelta('0 days 00:00:07.136000'))\n",
      "subject xRm1kTEhdcd79PaJ on trial 11: responses: ('f', Timedelta('0 days 00:00:07.312000'))\n",
      "subject xRm1kTEhdcd79PaJ on trial 11: responses: ('f', Timedelta('0 days 00:00:07.657000'))\n",
      "subject xRm1kTEhdcd79PaJ on trial 12: responses: ('999', Timedelta('0 days 00:00:05.100000'))\n",
      "subject xRm1kTEhdcd79PaJ on trial 12: responses: ('f', Timedelta('0 days 00:00:05.264000'))\n",
      "subject xRm1kTEhdcd79PaJ on trial 12: responses: ('f', Timedelta('0 days 00:00:05.911000'))\n",
      "subject xRm1kTEhdcd79PaJ on trial 12: responses: ('f', Timedelta('0 days 00:00:06.279000'))\n",
      "subject xRm1kTEhdcd79PaJ on trial 12: responses: ('f', Timedelta('0 days 00:00:06.599000'))\n",
      "subject xRm1kTEhdcd79PaJ on trial 12: responses: ('f', Timedelta('0 days 00:00:06.831000'))\n",
      "subject xRm1kTEhdcd79PaJ on trial 12: responses: ('f', Timedelta('0 days 00:00:07.183000'))\n",
      "subject xRm1kTEhdcd79PaJ on trial 12: responses: ('f', Timedelta('0 days 00:00:07.423000'))\n",
      "subject xRm1kTEhdcd79PaJ on trial 12: responses: ('f', Timedelta('0 days 00:00:08.127000'))\n",
      "subject xRm1kTEhdcd79PaJ on trial 12: responses: ('f', Timedelta('0 days 00:00:08.495000'))\n",
      "subject xRm1kTEhdcd79PaJ on trial 12: responses: ('f', Timedelta('0 days 00:00:08.711000'))\n",
      "subject xRm1kTEhdcd79PaJ on trial 14: responses: ('999', Timedelta('0 days 00:00:05.100000'))\n",
      "subject xRm1kTEhdcd79PaJ on trial 14: responses: ('f', Timedelta('0 days 00:00:07.493000'))\n",
      "subject xRm1kTEhdcd79PaJ on trial 14: responses: ('f', Timedelta('0 days 00:00:07.901000'))\n",
      "subject xRm1kTEhdcd79PaJ on trial 14: responses: ('f', Timedelta('0 days 00:00:08.149000'))\n",
      "subject xRm1kTEhdcd79PaJ on trial 14: responses: ('f', Timedelta('0 days 00:00:09.005000'))\n",
      "subject xRm1kTEhdcd79PaJ on trial 16: responses: ('j', Timedelta('0 days 00:00:04.797000'))\n",
      "subject xRm1kTEhdcd79PaJ on trial 16: responses: ('999', Timedelta('0 days 00:00:05.098000'))\n",
      "subject xRm1kTEhdcd79PaJ on trial 16: responses: ('j', Timedelta('0 days 00:00:05.437000'))\n",
      "subject xRm1kTEhdcd79PaJ on trial 16: responses: ('j', Timedelta('0 days 00:00:05.829000'))\n",
      "subject xRm1kTEhdcd79PaJ on trial 16: responses: ('j', Timedelta('0 days 00:00:06.189000'))\n",
      "subject xRm1kTEhdcd79PaJ on trial 16: responses: ('j', Timedelta('0 days 00:00:06.805000'))\n",
      "subject xRm1kTEhdcd79PaJ on trial 16: responses: ('j', Timedelta('0 days 00:00:07.157000'))\n",
      "subject xRm1kTEhdcd79PaJ on trial 16: responses: ('j', Timedelta('0 days 00:00:07.413000'))\n",
      "subject xRm1kTEhdcd79PaJ on trial 16: responses: ('j', Timedelta('0 days 00:00:07.637000'))\n",
      "subject xRm1kTEhdcd79PaJ on trial 16: responses: ('j', Timedelta('0 days 00:00:07.845000'))\n",
      "subject xRm1kTEhdcd79PaJ on trial 16: responses: ('j', Timedelta('0 days 00:00:08.069000'))\n",
      "subject xRm1kTEhdcd79PaJ on trial 16: responses: ('j', Timedelta('0 days 00:00:08.341000'))\n",
      "subject xRm1kTEhdcd79PaJ on trial 16: responses: ('j', Timedelta('0 days 00:00:08.535000'))\n",
      "subject xRm1kTEhdcd79PaJ on trial 18: responses: ('f', Timedelta('0 days 00:00:04.303000'))\n",
      "subject xRm1kTEhdcd79PaJ on trial 18: responses: ('999', Timedelta('0 days 00:00:05.101000'))\n",
      "subject xRm1kTEhdcd79PaJ on trial 18: responses: ('f', Timedelta('0 days 00:00:05.230000'))\n",
      "subject xRm1kTEhdcd79PaJ on trial 18: responses: ('f', Timedelta('0 days 00:00:06.646000'))\n",
      "subject xRm1kTEhdcd79PaJ on trial 18: responses: ('f', Timedelta('0 days 00:00:06.902000'))\n",
      "subject xRm1kTEhdcd79PaJ on trial 18: responses: ('f', Timedelta('0 days 00:00:07.078000'))\n",
      "subject xRm1kTEhdcd79PaJ on trial 18: responses: ('f', Timedelta('0 days 00:00:07.294000'))\n",
      "subject xRm1kTEhdcd79PaJ on trial 18: responses: ('f', Timedelta('0 days 00:00:07.510000'))\n",
      "subject xRm1kTEhdcd79PaJ on trial 18: responses: ('f', Timedelta('0 days 00:00:07.710000'))\n",
      "subject xRm1kTEhdcd79PaJ on trial 18: responses: ('f', Timedelta('0 days 00:00:07.870000'))\n",
      "subject xRm1kTEhdcd79PaJ on trial 18: responses: ('f', Timedelta('0 days 00:00:08.046000'))\n",
      "subject fE6doo9PpiUijUEY on trial 19: responses: ('999', Timedelta('0 days 00:00:05.108000'))\n",
      "subject fE6doo9PpiUijUEY on trial 19: responses: ('j', Timedelta('0 days 00:00:05.324000'))\n",
      "subject StrIgkDt9yZr85Oc on trial 6: responses: ('999', Timedelta('0 days 00:00:05.111000'))\n",
      "subject StrIgkDt9yZr85Oc on trial 16: responses: ('j', Timedelta('0 days 00:00:04.496000'))\n",
      "subject StrIgkDt9yZr85Oc on trial 16: responses: ('999', Timedelta('0 days 00:00:05.091000'))\n",
      "subject BTkqCwmWeK5pbLBA on trial 3: responses: ('j', Timedelta('0 days 00:00:03.761000'))\n",
      "subject BTkqCwmWeK5pbLBA on trial 3: responses: ('999', Timedelta('0 days 00:00:05.100000'))\n",
      "subject n5mNJYp8rjgY1PUs on trial 3: responses: ('999', Timedelta('0 days 00:00:05.099000'))\n",
      "subject n5mNJYp8rjgY1PUs on trial 7: responses: ('j', Timedelta('0 days 00:00:03.774000'))\n",
      "subject n5mNJYp8rjgY1PUs on trial 7: responses: ('j', Timedelta('0 days 00:00:04.279000'))\n",
      "subject n5mNJYp8rjgY1PUs on trial 7: responses: ('j', Timedelta('0 days 00:00:04.322000'))\n",
      "subject n5mNJYp8rjgY1PUs on trial 7: responses: ('999', Timedelta('0 days 00:00:05.093000'))\n",
      "subject n5mNJYp8rjgY1PUs on trial 14: responses: ('f', Timedelta('0 days 00:00:04.672000'))\n",
      "subject n5mNJYp8rjgY1PUs on trial 14: responses: ('Control', Timedelta('0 days 00:00:04.676000'))\n",
      "subject n5mNJYp8rjgY1PUs on trial 14: responses: ('Control', Timedelta('0 days 00:00:04.827000'))\n",
      "subject n5mNJYp8rjgY1PUs on trial 14: responses: ('999', Timedelta('0 days 00:00:05.091000'))\n",
      "subject n5mNJYp8rjgY1PUs on trial 22: responses: ('999', Timedelta('0 days 00:00:05.112000'))\n",
      "subject wG1efGyFYnWCom5W on trial 1: responses: ('f', Timedelta('0 days 00:00:04.186000'))\n",
      "subject wG1efGyFYnWCom5W on trial 1: responses: ('999', Timedelta('0 days 00:00:05.101000'))\n",
      "subject wG1efGyFYnWCom5W on trial 16: responses: ('j', Timedelta('0 days 00:00:04.892000'))\n",
      "subject wG1efGyFYnWCom5W on trial 16: responses: ('999', Timedelta('0 days 00:00:05.105000'))\n",
      "subject wG1efGyFYnWCom5W on trial 18: responses: ('999', Timedelta('0 days 00:00:05.091000'))\n",
      "subject pmOukMvERJsNS8OW on trial 13: responses: ('j', Timedelta('0 days 00:00:03.332000'))\n",
      "subject pmOukMvERJsNS8OW on trial 13: responses: ('999', Timedelta('0 days 00:00:05.084000'))\n",
      "subject pmOukMvERJsNS8OW on trial 19: responses: ('f', Timedelta('0 days 00:00:03.431000'))\n",
      "subject pmOukMvERJsNS8OW on trial 19: responses: ('999', Timedelta('0 days 00:00:05.105000'))\n",
      "subject pmOukMvERJsNS8OW on trial 22: responses: ('f', Timedelta('0 days 00:00:03.614000'))\n",
      "subject pmOukMvERJsNS8OW on trial 22: responses: ('999', Timedelta('0 days 00:00:05.088000'))\n",
      "subject 0caCFdIzx4kok9iz on trial 1: responses: ('j', Timedelta('0 days 00:00:02.921000'))\n",
      "subject 0caCFdIzx4kok9iz on trial 1: responses: ('999', Timedelta('0 days 00:00:05.108000'))\n",
      "subject 0caCFdIzx4kok9iz on trial 1: responses: ('f', Timedelta('0 days 00:00:08.009000'))\n",
      "subject 0caCFdIzx4kok9iz on trial 2: responses: ('999', Timedelta('0 days 00:00:05.102000'))\n",
      "subject 0caCFdIzx4kok9iz on trial 4: responses: ('j', Timedelta('0 days 00:00:04.707000'))\n",
      "subject 0caCFdIzx4kok9iz on trial 4: responses: ('999', Timedelta('0 days 00:00:05.102000'))\n",
      "subject 0caCFdIzx4kok9iz on trial 16: responses: ('999', Timedelta('0 days 00:00:05.095000'))\n",
      "subject 0caCFdIzx4kok9iz on trial 18: responses: ('999', Timedelta('0 days 00:00:05.109000'))\n",
      "subject 0caCFdIzx4kok9iz on trial 18: responses: ('j', Timedelta('0 days 00:00:05.378000'))\n",
      "subject 0caCFdIzx4kok9iz on trial 24: responses: ('j', Timedelta('0 days 00:00:04.404000'))\n",
      "subject 0caCFdIzx4kok9iz on trial 24: responses: ('999', Timedelta('0 days 00:00:05.106000'))\n",
      "subject faVIdQmxQ81l7IL3 on trial 9: responses: ('999', Timedelta('0 days 00:00:05.094000'))\n",
      "subject faVIdQmxQ81l7IL3 on trial 15: responses: ('j', Timedelta('0 days 00:00:04.367000'))\n",
      "subject faVIdQmxQ81l7IL3 on trial 15: responses: ('999', Timedelta('0 days 00:00:05.109000'))\n",
      "subject faVIdQmxQ81l7IL3 on trial 16: responses: ('999', Timedelta('0 days 00:00:05.105000'))\n",
      "subject faVIdQmxQ81l7IL3 on trial 16: responses: ('j', Timedelta('0 days 00:00:05.503000'))\n",
      "subject kV8kc2ROpDxhxzzO on trial 23: responses: ('999', Timedelta('0 days 00:00:05.095000'))\n",
      "subject kV8kc2ROpDxhxzzO on trial 23: responses: ('j', Timedelta('0 days 00:00:05.573000'))\n",
      "subject xSZEioW5iVTfTw4d on trial 5: responses: ('999', Timedelta('0 days 00:00:05.091000'))\n",
      "subject xSZEioW5iVTfTw4d on trial 5: responses: ('f', Timedelta('0 days 00:00:05.150000'))\n",
      "subject xSZEioW5iVTfTw4d on trial 6: responses: ('999', Timedelta('0 days 00:00:05.104000'))\n",
      "subject xSZEioW5iVTfTw4d on trial 18: responses: ('j', Timedelta('0 days 00:00:04.731000'))\n",
      "subject xSZEioW5iVTfTw4d on trial 18: responses: ('999', Timedelta('0 days 00:00:05.096000'))\n",
      "subject na60XH2xz6hG2y9T on trial 2: responses: ('999', Timedelta('0 days 00:00:05.092000'))\n",
      "subject na60XH2xz6hG2y9T on trial 2: responses: ('j', Timedelta('0 days 00:00:05.141000'))\n",
      "subject na60XH2xz6hG2y9T on trial 5: responses: ('999', Timedelta('0 days 00:00:05.097000'))\n",
      "subject na60XH2xz6hG2y9T on trial 5: responses: ('f', Timedelta('0 days 00:00:05.202000'))\n",
      "subject na60XH2xz6hG2y9T on trial 14: responses: ('999', Timedelta('0 days 00:00:05.088000'))\n",
      "subject lFnE4bZQicteaOiI on trial 1: responses: ('999', Timedelta('0 days 00:00:05.110000'))\n",
      "subject lFnE4bZQicteaOiI on trial 1: responses: ('f', Timedelta('0 days 00:00:05.897000'))\n",
      "subject lFnE4bZQicteaOiI on trial 3: responses: ('999', Timedelta('0 days 00:00:05.101000'))\n",
      "subject lFnE4bZQicteaOiI on trial 3: responses: ('f', Timedelta('0 days 00:00:05.455000'))\n",
      "subject lFnE4bZQicteaOiI on trial 15: responses: ('999', Timedelta('0 days 00:00:05.106000'))\n",
      "subject lFnE4bZQicteaOiI on trial 21: responses: ('f', Timedelta('0 days 00:00:03.797000'))\n",
      "subject lFnE4bZQicteaOiI on trial 21: responses: ('999', Timedelta('0 days 00:00:05.109000'))\n"
     ]
    },
    {
     "data": {
      "text/plain": "4912    [None, None]\n4913          [None]\n4914    [None, None]\n4915    [None, None]\n4918    [None, None]\n            ...     \n5166          [None]\n5172    [None, None]\n5173    [None, None]\n5181          [None]\n5182    [None, None]\nLength: 99, dtype: object"
     },
     "execution_count": 9,
     "metadata": {},
     "output_type": "execute_result"
    }
   ],
   "source": [
    "dat.loc[(dat.timeout == True) & (~dat.keypress_time.isnull() )].apply(lambda row: [print(f'subject {row[\"prolific_id\"]} on trial {row[\"trial_num\"]}: responses: {x}')\n",
    "                                                                                   for x in zip(row['full_response'], [ii - row['target_onset'] for ii in eval(row['keypress_time'])])], axis=1 )"
   ],
   "metadata": {
    "collapsed": false,
    "pycharm": {
     "name": "#%%\n"
    }
   }
  },
  {
   "cell_type": "code",
   "execution_count": 10,
   "outputs": [
    {
     "data": {
      "text/plain": "[('j', Timedelta('0 days 00:00:04.496000')),\n ('999', Timedelta('0 days 00:00:05.091000'))]"
     },
     "execution_count": 10,
     "metadata": {},
     "output_type": "execute_result"
    }
   ],
   "source": [
    "exmpl = dat.loc[(dat.timeout == True) & (dat.recaptcha_complete == True) & (dat.id== 13360)].iloc[0]\n",
    "t_on = exmpl.target_onset\n",
    "#exmpl.full_response\n",
    "\n",
    "ii = zip(exmpl.full_response, [x - t_on for x in eval(exmpl.keypress_time) ])\n",
    "[x for x in ii]"
   ],
   "metadata": {
    "collapsed": false,
    "pycharm": {
     "name": "#%%\n"
    }
   }
  },
  {
   "cell_type": "code",
   "execution_count": 55,
   "outputs": [
    {
     "data": {
      "text/plain": "         id  trial_num  correct trial_type  scenario belief_type  \\\n4872  12962          2    False       test         5          FB   \n4874  12965          5    False       test         1          FB   \n4876  12967          7    False       test         4          FB   \n4877  12970         10    False       test         9          IG   \n4880  12975         15    False       test        11          IG   \n...     ...        ...      ...        ...       ...         ...   \n5027  13314         18    False       test         3          FB   \n5037  13339         19    False       test         8          FB   \n5041  13350          6    False       test         9          IG   \n5046  13360         16    False       test         6          TB   \n5052  13371          3    False       test         9          IG   \n\n     ascription_type correct_answer            target_onset  \\\n4872          Thinks              f 2022-09-11 02:39:55.040   \n4874          Thinks              f 2022-09-11 02:42:49.205   \n4876           Knows              f 2022-09-11 02:43:50.589   \n4877          Thinks              f 2022-09-11 02:45:17.018   \n4880           Knows              f 2022-09-11 02:47:38.417   \n...              ...            ...                     ...   \n5027           Knows              f 2022-09-13 00:34:51.013   \n5037           Knows              f 2022-09-13 02:07:55.666   \n5041          Thinks              f 2022-09-13 03:03:23.703   \n5046           Knows              j 2022-09-13 03:09:02.144   \n5052           Knows              f 2022-09-13 03:46:59.770   \n\n              response_onset  ...  \\\n4872 2022-09-11 02:40:00.136  ...   \n4874 2022-09-11 02:42:54.316  ...   \n4876 2022-09-11 02:43:55.688  ...   \n4877 2022-09-11 02:45:22.123  ...   \n4880 2022-09-11 02:47:43.527  ...   \n...                      ...  ...   \n5027 2022-09-13 00:34:59.059  ...   \n5037 2022-09-13 02:08:00.990  ...   \n5041 2022-09-13 03:03:28.814  ...   \n5046 2022-09-13 03:09:07.235  ...   \n5052 2022-09-13 03:47:04.870  ...   \n\n                                               feedback  \\\n4872             no. yes, I did. no technical problems    \n4874             no. yes, I did. no technical problems    \n4876             no. yes, I did. no technical problems    \n4877             no. yes, I did. no technical problems    \n4880             no. yes, I did. no technical problems    \n...                                                 ...   \n5027                                                 NO   \n5037  the sentence in the two section are the same, ...   \n5041                                    a bit confusing   \n5046                                    a bit confusing   \n5052                odd, some of the quiz are confusing   \n\n                completion_time recaptcha_complete   group  \\\n4872 2022-09-11 03:17:21.284708                1.0  Autism   \n4874 2022-09-11 03:17:21.284708                1.0  Autism   \n4876 2022-09-11 03:17:21.284708                1.0  Autism   \n4877 2022-09-11 03:17:21.284708                1.0  Autism   \n4880 2022-09-11 03:17:21.284708                1.0  Autism   \n...                         ...                ...     ...   \n5027 2022-09-13 00:58:31.557231                1.0  Autism   \n5037 2022-09-13 02:38:47.422887                1.0  Autism   \n5041 2022-09-13 03:35:51.735676                1.0  Autism   \n5046 2022-09-13 03:35:51.735676                1.0  Autism   \n5052 2022-09-13 04:26:19.958660                1.0  Autism   \n\n                         rt rt_ms          study_duration accepted_answer  \\\n4872 0 days 00:00:05.096000  5096  0 days 00:41:17.043491            True   \n4874 0 days 00:00:05.111000  5111  0 days 00:41:17.043491            True   \n4876 0 days 00:00:05.099000  5099  0 days 00:41:17.043491            True   \n4877 0 days 00:00:05.105000  5105  0 days 00:41:17.043491            True   \n4880 0 days 00:00:05.110000  5110  0 days 00:41:17.043491            True   \n...                     ...   ...                     ...             ...   \n5027 0 days 00:00:08.046000  8046  0 days 00:43:02.917109            True   \n5037 0 days 00:00:05.324000  5324  0 days 00:47:27.840451            True   \n5041 0 days 00:00:05.111000  5111  0 days 00:45:18.754434            True   \n5046 0 days 00:00:05.091000  5091  0 days 00:45:18.754434            True   \n5052 0 days 00:00:05.100000  5100  0 days 00:48:03.744244            True   \n\n     timeout                        full_response  \n4872    True                             [f, 999]  \n4874    True                             [f, 999]  \n4876    True                             [f, 999]  \n4877    True                             [j, 999]  \n4880    True                             [f, 999]  \n...      ...                                  ...  \n5027    True  [f, 999, f, f, f, f, f, f, f, f, f]  \n5037    True                             [999, j]  \n5041    True                                [999]  \n5046    True                             [j, 999]  \n5052    True                             [j, 999]  \n\n[88 rows x 38 columns]",
      "text/html": "<div>\n<style scoped>\n    .dataframe tbody tr th:only-of-type {\n        vertical-align: middle;\n    }\n\n    .dataframe tbody tr th {\n        vertical-align: top;\n    }\n\n    .dataframe thead th {\n        text-align: right;\n    }\n</style>\n<table border=\"1\" class=\"dataframe\">\n  <thead>\n    <tr style=\"text-align: right;\">\n      <th></th>\n      <th>id</th>\n      <th>trial_num</th>\n      <th>correct</th>\n      <th>trial_type</th>\n      <th>scenario</th>\n      <th>belief_type</th>\n      <th>ascription_type</th>\n      <th>correct_answer</th>\n      <th>target_onset</th>\n      <th>response_onset</th>\n      <th>...</th>\n      <th>feedback</th>\n      <th>completion_time</th>\n      <th>recaptcha_complete</th>\n      <th>group</th>\n      <th>rt</th>\n      <th>rt_ms</th>\n      <th>study_duration</th>\n      <th>accepted_answer</th>\n      <th>timeout</th>\n      <th>full_response</th>\n    </tr>\n  </thead>\n  <tbody>\n    <tr>\n      <th>4872</th>\n      <td>12962</td>\n      <td>2</td>\n      <td>False</td>\n      <td>test</td>\n      <td>5</td>\n      <td>FB</td>\n      <td>Thinks</td>\n      <td>f</td>\n      <td>2022-09-11 02:39:55.040</td>\n      <td>2022-09-11 02:40:00.136</td>\n      <td>...</td>\n      <td>no. yes, I did. no technical problems</td>\n      <td>2022-09-11 03:17:21.284708</td>\n      <td>1.0</td>\n      <td>Autism</td>\n      <td>0 days 00:00:05.096000</td>\n      <td>5096</td>\n      <td>0 days 00:41:17.043491</td>\n      <td>True</td>\n      <td>True</td>\n      <td>[f, 999]</td>\n    </tr>\n    <tr>\n      <th>4874</th>\n      <td>12965</td>\n      <td>5</td>\n      <td>False</td>\n      <td>test</td>\n      <td>1</td>\n      <td>FB</td>\n      <td>Thinks</td>\n      <td>f</td>\n      <td>2022-09-11 02:42:49.205</td>\n      <td>2022-09-11 02:42:54.316</td>\n      <td>...</td>\n      <td>no. yes, I did. no technical problems</td>\n      <td>2022-09-11 03:17:21.284708</td>\n      <td>1.0</td>\n      <td>Autism</td>\n      <td>0 days 00:00:05.111000</td>\n      <td>5111</td>\n      <td>0 days 00:41:17.043491</td>\n      <td>True</td>\n      <td>True</td>\n      <td>[f, 999]</td>\n    </tr>\n    <tr>\n      <th>4876</th>\n      <td>12967</td>\n      <td>7</td>\n      <td>False</td>\n      <td>test</td>\n      <td>4</td>\n      <td>FB</td>\n      <td>Knows</td>\n      <td>f</td>\n      <td>2022-09-11 02:43:50.589</td>\n      <td>2022-09-11 02:43:55.688</td>\n      <td>...</td>\n      <td>no. yes, I did. no technical problems</td>\n      <td>2022-09-11 03:17:21.284708</td>\n      <td>1.0</td>\n      <td>Autism</td>\n      <td>0 days 00:00:05.099000</td>\n      <td>5099</td>\n      <td>0 days 00:41:17.043491</td>\n      <td>True</td>\n      <td>True</td>\n      <td>[f, 999]</td>\n    </tr>\n    <tr>\n      <th>4877</th>\n      <td>12970</td>\n      <td>10</td>\n      <td>False</td>\n      <td>test</td>\n      <td>9</td>\n      <td>IG</td>\n      <td>Thinks</td>\n      <td>f</td>\n      <td>2022-09-11 02:45:17.018</td>\n      <td>2022-09-11 02:45:22.123</td>\n      <td>...</td>\n      <td>no. yes, I did. no technical problems</td>\n      <td>2022-09-11 03:17:21.284708</td>\n      <td>1.0</td>\n      <td>Autism</td>\n      <td>0 days 00:00:05.105000</td>\n      <td>5105</td>\n      <td>0 days 00:41:17.043491</td>\n      <td>True</td>\n      <td>True</td>\n      <td>[j, 999]</td>\n    </tr>\n    <tr>\n      <th>4880</th>\n      <td>12975</td>\n      <td>15</td>\n      <td>False</td>\n      <td>test</td>\n      <td>11</td>\n      <td>IG</td>\n      <td>Knows</td>\n      <td>f</td>\n      <td>2022-09-11 02:47:38.417</td>\n      <td>2022-09-11 02:47:43.527</td>\n      <td>...</td>\n      <td>no. yes, I did. no technical problems</td>\n      <td>2022-09-11 03:17:21.284708</td>\n      <td>1.0</td>\n      <td>Autism</td>\n      <td>0 days 00:00:05.110000</td>\n      <td>5110</td>\n      <td>0 days 00:41:17.043491</td>\n      <td>True</td>\n      <td>True</td>\n      <td>[f, 999]</td>\n    </tr>\n    <tr>\n      <th>...</th>\n      <td>...</td>\n      <td>...</td>\n      <td>...</td>\n      <td>...</td>\n      <td>...</td>\n      <td>...</td>\n      <td>...</td>\n      <td>...</td>\n      <td>...</td>\n      <td>...</td>\n      <td>...</td>\n      <td>...</td>\n      <td>...</td>\n      <td>...</td>\n      <td>...</td>\n      <td>...</td>\n      <td>...</td>\n      <td>...</td>\n      <td>...</td>\n      <td>...</td>\n      <td>...</td>\n    </tr>\n    <tr>\n      <th>5027</th>\n      <td>13314</td>\n      <td>18</td>\n      <td>False</td>\n      <td>test</td>\n      <td>3</td>\n      <td>FB</td>\n      <td>Knows</td>\n      <td>f</td>\n      <td>2022-09-13 00:34:51.013</td>\n      <td>2022-09-13 00:34:59.059</td>\n      <td>...</td>\n      <td>NO</td>\n      <td>2022-09-13 00:58:31.557231</td>\n      <td>1.0</td>\n      <td>Autism</td>\n      <td>0 days 00:00:08.046000</td>\n      <td>8046</td>\n      <td>0 days 00:43:02.917109</td>\n      <td>True</td>\n      <td>True</td>\n      <td>[f, 999, f, f, f, f, f, f, f, f, f]</td>\n    </tr>\n    <tr>\n      <th>5037</th>\n      <td>13339</td>\n      <td>19</td>\n      <td>False</td>\n      <td>test</td>\n      <td>8</td>\n      <td>FB</td>\n      <td>Knows</td>\n      <td>f</td>\n      <td>2022-09-13 02:07:55.666</td>\n      <td>2022-09-13 02:08:00.990</td>\n      <td>...</td>\n      <td>the sentence in the two section are the same, ...</td>\n      <td>2022-09-13 02:38:47.422887</td>\n      <td>1.0</td>\n      <td>Autism</td>\n      <td>0 days 00:00:05.324000</td>\n      <td>5324</td>\n      <td>0 days 00:47:27.840451</td>\n      <td>True</td>\n      <td>True</td>\n      <td>[999, j]</td>\n    </tr>\n    <tr>\n      <th>5041</th>\n      <td>13350</td>\n      <td>6</td>\n      <td>False</td>\n      <td>test</td>\n      <td>9</td>\n      <td>IG</td>\n      <td>Thinks</td>\n      <td>f</td>\n      <td>2022-09-13 03:03:23.703</td>\n      <td>2022-09-13 03:03:28.814</td>\n      <td>...</td>\n      <td>a bit confusing</td>\n      <td>2022-09-13 03:35:51.735676</td>\n      <td>1.0</td>\n      <td>Autism</td>\n      <td>0 days 00:00:05.111000</td>\n      <td>5111</td>\n      <td>0 days 00:45:18.754434</td>\n      <td>True</td>\n      <td>True</td>\n      <td>[999]</td>\n    </tr>\n    <tr>\n      <th>5046</th>\n      <td>13360</td>\n      <td>16</td>\n      <td>False</td>\n      <td>test</td>\n      <td>6</td>\n      <td>TB</td>\n      <td>Knows</td>\n      <td>j</td>\n      <td>2022-09-13 03:09:02.144</td>\n      <td>2022-09-13 03:09:07.235</td>\n      <td>...</td>\n      <td>a bit confusing</td>\n      <td>2022-09-13 03:35:51.735676</td>\n      <td>1.0</td>\n      <td>Autism</td>\n      <td>0 days 00:00:05.091000</td>\n      <td>5091</td>\n      <td>0 days 00:45:18.754434</td>\n      <td>True</td>\n      <td>True</td>\n      <td>[j, 999]</td>\n    </tr>\n    <tr>\n      <th>5052</th>\n      <td>13371</td>\n      <td>3</td>\n      <td>False</td>\n      <td>test</td>\n      <td>9</td>\n      <td>IG</td>\n      <td>Knows</td>\n      <td>f</td>\n      <td>2022-09-13 03:46:59.770</td>\n      <td>2022-09-13 03:47:04.870</td>\n      <td>...</td>\n      <td>odd, some of the quiz are confusing</td>\n      <td>2022-09-13 04:26:19.958660</td>\n      <td>1.0</td>\n      <td>Autism</td>\n      <td>0 days 00:00:05.100000</td>\n      <td>5100</td>\n      <td>0 days 00:48:03.744244</td>\n      <td>True</td>\n      <td>True</td>\n      <td>[j, 999]</td>\n    </tr>\n  </tbody>\n</table>\n<p>88 rows × 38 columns</p>\n</div>"
     },
     "execution_count": 55,
     "metadata": {},
     "output_type": "execute_result"
    }
   ],
   "source": [
    "dat.loc[(dat.timeout == True) & (dat.recaptcha_complete == True)]"
   ],
   "metadata": {
    "collapsed": false,
    "pycharm": {
     "name": "#%%\n"
    }
   }
  },
  {
   "cell_type": "code",
   "execution_count": 54,
   "outputs": [],
   "source": [
    "exmpl.keypress_time"
   ],
   "metadata": {
    "collapsed": false,
    "pycharm": {
     "name": "#%%\n"
    }
   }
  },
  {
   "cell_type": "markdown",
   "source": [
    "## Exclude participants with mean accuracy < .6"
   ],
   "metadata": {
    "collapsed": false,
    "pycharm": {
     "name": "#%% md\n"
    }
   }
  },
  {
   "cell_type": "code",
   "execution_count": 11,
   "outputs": [
    {
     "data": {
      "text/plain": "<matplotlib.axes._subplots.AxesSubplot at 0x7f8171a76af0>"
     },
     "execution_count": 11,
     "metadata": {},
     "output_type": "execute_result"
    },
    {
     "data": {
      "text/plain": "<Figure size 432x288 with 1 Axes>",
      "image/png": "[encoded data removed]"
     },
     "metadata": {},
     "output_type": "display_data"
    }
   ],
   "source": [
    "dat.loc[dat.group == 'Autism'].groupby('prolific_id').correct.mean().hist()"
   ],
   "metadata": {
    "collapsed": false,
    "pycharm": {
     "name": "#%%\n"
    }
   }
  },
  {
   "cell_type": "code",
   "execution_count": 11,
   "outputs": [
    {
     "name": "stdout",
     "output_type": "stream",
     "text": [
      "N autism cohort before exclusion: 416\n"
     ]
    }
   ],
   "source": [
    "print(f'N autism cohort before exclusion: {len(dat.loc[dat.group == \"Autism\"].prolific_id.unique())}')\n",
    "## Exclude participants with mean accuracy < .6\n",
    "xx = dat.groupby('prolific_id').correct.mean() > .6\n",
    "dat = dat.loc[dat.prolific_id.isin(xx[xx == True].index.tolist())]"
   ],
   "metadata": {
    "collapsed": false,
    "pycharm": {
     "name": "#%%\n"
    }
   }
  },
  {
   "cell_type": "code",
   "execution_count": 12,
   "outputs": [
    {
     "name": "stdout",
     "output_type": "stream",
     "text": [
      "N autism cohort after exclusion: 19\n"
     ]
    }
   ],
   "source": [
    "print(f'N autism cohort after exclusion: {len(dat.loc[dat.group == \"Autism\"].prolific_id.unique())}')"
   ],
   "metadata": {
    "collapsed": false,
    "pycharm": {
     "name": "#%%\n"
    }
   }
  },
  {
   "cell_type": "code",
   "execution_count": null,
   "outputs": [],
   "source": [
    "v_dat = dat#.loc[(dat.accepted_answer == True)]\n",
    "acc = pd.DataFrame(columns=['cohort', 'agent_state', 'ascription', 'pct_correct', 'pct_incorrect'])\n",
    "for gro in dat['group'].unique():\n",
    "    for bel in dat.belief_type.unique():\n",
    "        for ascrip in dat.ascription_type.unique():\n",
    "            dd = v_dat.loc[(v_dat.group == gro)&(v_dat.belief_type==bel)&(v_dat.ascription_type==ascrip)]\n",
    "            pc = len(dd.loc[dd.correct== True])/len(dd)\n",
    "            ndf = pd.DataFrame({'cohort':[gro], 'agent_state':[bel], 'ascription':[ascrip], 'pct_correct':[pc], 'pct_incorrect':[1-pc]})\n",
    "            acc = pd.concat([acc,ndf ], axis=0)#.reset_index(drop=True)\n",
    "#sns.barplot(x='belief_type', row='group', x='ascription_type', hue='correct', kind='bar', data=)\n",
    "#sns.histplot(data=v_dat, x='belief_type', hue='correct', multiple='stack', element='bars', stat='percent')"
   ],
   "metadata": {
    "collapsed": false,
    "pycharm": {
     "name": "#%%\n"
    }
   }
  },
  {
   "cell_type": "code",
   "execution_count": null,
   "outputs": [],
   "source": [
    "import matplotlib.patches as mpatches\n",
    "acc['total'] = 1\n",
    "acc.melt(id_vars=['cohort', 'agent_state', 'ascription'], value_vars=['pct_correct', 'total'], value_name='Percent', var_name='Accuracy')\n",
    "#sns.catplot(col='belief_type', row='group', x='correct', hue='ascription_type', kind='count', data=dat)\n",
    "#dat.groupby('group').prolific_id.describe()\n",
    "# bar chart 1 -> top bars (group of 'smoker=No')\n",
    "#f, ax = plt.subplots(1, 2)\n",
    "#bar1 = sns.barplot(x=\"agent_state\",  y=\"total\", hue='ascription', data=acc.loc[acc.cohort == 'Neurotypical'], color='darkblue', ax=ax[0])\n",
    "#bar1a = sns.barplot(x=\"agent_state\",  y=\"total\", hue='ascription', data=acc.loc[acc.cohort == 'Autism'],  color='darkblue', ax=ax[1])\n",
    "\n",
    "# bar chart 2 -> bottom bars (group of 'smoker=Yes')\n",
    "#bar2 = sns.barplot(x=\"agent_state\",  y=\"pct_correct\", hue='ascription', data=acc.loc[acc.cohort == 'Neurotypical'], color='darkblue', ax=ax[0])\n",
    "#bar2a = sns.barplot(x=\"agent_state\",  y=\"pct_correct\", hue='ascription', data=acc.loc[acc.cohort == 'Autism'], color='darkblue', ax=ax[1])\n",
    "\n",
    "bar2 = sns.catplot(x=\"agent_state\", y=\"pct_correct\", hue='ascription', data=acc,col='cohort', kind='bar')\n",
    "# add legend\n"
   ],
   "metadata": {
    "collapsed": false,
    "pycharm": {
     "name": "#%%\n"
    }
   }
  },
  {
   "cell_type": "code",
   "execution_count": null,
   "outputs": [],
   "source": [
    "total = v_dat.groupby(['belief_type', 'ascription_type'])['accepted_answer'].sum().reset_index()\n",
    "correct = v_dat[v_dat.correct == True].groupby(['belief_type', 'ascription_type'])['accepted_answer'].sum().reset_index()\n",
    "\n",
    "correct['pct'] = [i / j * 100 for i,j in zip(len(correct), len(total))]\n",
    "total['pct'] = [i / j * 100 for i,j in zip(len(total), len(total))]\n",
    "\n",
    "# bar chart 1 -> top bars (group of 'smoker=No')\n",
    "bar1 = sns.barplot(x=\"belief_type\",  y=\"pct\", data=total, color='darkblue')\n",
    "\n",
    "# bar chart 2 -> bottom bars (group of 'smoker=Yes')\n",
    "bar2 = sns.barplot(x=\"belief_type\", y=\"pct\", data=correct, color='lightblue')\n",
    "\n",
    "# add legend\n",
    "top_bar = mpatches.Patch(color='darkblue', label='incorrect')\n",
    "bottom_bar = mpatches.Patch(color='lightblue', label='correct')\n",
    "plt.legend(handles=[top_bar, bottom_bar])\n"
   ],
   "metadata": {
    "collapsed": false,
    "pycharm": {
     "name": "#%%\n"
    }
   }
  },
  {
   "cell_type": "code",
   "execution_count": null,
   "outputs": [],
   "source": [
    "len(dat.loc[dat.group == 'Autism'].prolific_id.unique())"
   ],
   "metadata": {
    "collapsed": false,
    "pycharm": {
     "name": "#%%\n"
    }
   }
  },
  {
   "cell_type": "code",
   "execution_count": null,
   "outputs": [],
   "source": [
    "len(dat.loc[dat.group == 'Autism'].prolific_id.unique())\n"
   ],
   "metadata": {
    "collapsed": false,
    "pycharm": {
     "name": "#%%\n"
    }
   }
  },
  {
   "cell_type": "code",
   "execution_count": null,
   "outputs": [],
   "source": [
    "sns.catplot(col='belief_type', x='correct', hue='ascription_type', kind='count', data=dat)\n"
   ],
   "metadata": {
    "collapsed": false,
    "pycharm": {
     "name": "#%%\n"
    }
   }
  },
  {
   "cell_type": "markdown",
   "source": [
    "## Check to make sure all responses came AFTER the target onset"
   ],
   "metadata": {
    "collapsed": false,
    "pycharm": {
     "name": "#%% md\n"
    }
   }
  },
  {
   "cell_type": "code",
   "execution_count": null,
   "outputs": [],
   "source": [
    "sum(dat.apply(lambda row: row['response_onset'] > row['target_onset'], axis=1)) == len(dat)\n"
   ],
   "metadata": {
    "collapsed": false,
    "pycharm": {
     "name": "#%%\n"
    }
   }
  },
  {
   "cell_type": "markdown",
   "source": [
    "## Exclude subjects with mean RTs less than 1500ms or more than 4000ms"
   ],
   "metadata": {
    "collapsed": false,
    "pycharm": {
     "name": "#%% md\n"
    }
   }
  },
  {
   "cell_type": "code",
   "execution_count": 13,
   "outputs": [],
   "source": [
    "xx = dat.groupby('prolific_id').rt_ms.mean() < 1500\n",
    "dat = dat.loc[dat.prolific_id.isin(xx[xx == False].index.tolist())]\n",
    "yy = dat.groupby('prolific_id').rt_ms.mean() > 4000\n",
    "dat = dat.loc[dat.prolific_id.isin(yy[yy == False].index.tolist())]\n",
    "\n",
    "for old, new in {'IG': 'Ignorance', 'TB': 'True Info', 'FB': 'False Info'}.items():\n",
    "    dat.belief_type.replace(old, new, inplace=True)"
   ],
   "metadata": {
    "collapsed": false,
    "pycharm": {
     "name": "#%%\n"
    }
   }
  },
  {
   "cell_type": "markdown",
   "source": [],
   "metadata": {
    "collapsed": false,
    "pycharm": {
     "name": "#%% md\n"
    }
   }
  },
  {
   "cell_type": "markdown",
   "source": [
    "# 3. Location"
   ],
   "metadata": {
    "collapsed": false,
    "pycharm": {
     "name": "#%% md\n"
    }
   }
  },
  {
   "cell_type": "code",
   "execution_count": 12,
   "outputs": [
    {
     "name": "stderr",
     "output_type": "stream",
     "text": [
      "<ipython-input-12-f7d7ae70b66c>:2: SettingWithCopyWarning: \n",
      "A value is trying to be set on a copy of a slice from a DataFrame.\n",
      "Try using .loc[row_indexer,col_indexer] = value instead\n",
      "\n",
      "See the caveats in the documentation: https://pandas.pydata.org/pandas-docs/stable/user_guide/indexing.html#returning-a-view-versus-a-copy\n",
      "  adat[['city', 'region', 'country', 'loc', 'org', 'postal', 'timezone']] = None\n",
      "/Library/Frameworks/Python.framework/Versions/3.8/lib/python3.8/site-packages/pandas/core/indexing.py:1720: SettingWithCopyWarning: \n",
      "A value is trying to be set on a copy of a slice from a DataFrame.\n",
      "Try using .loc[row_indexer,col_indexer] = value instead\n",
      "\n",
      "See the caveats in the documentation: https://pandas.pydata.org/pandas-docs/stable/user_guide/indexing.html#returning-a-view-versus-a-copy\n",
      "  self._setitem_single_column(loc, value, pi)\n",
      "/Library/Frameworks/Python.framework/Versions/3.8/lib/python3.8/site-packages/pandas/core/indexing.py:1700: SettingWithCopyWarning: \n",
      "A value is trying to be set on a copy of a slice from a DataFrame.\n",
      "Try using .loc[row_indexer,col_indexer] = value instead\n",
      "\n",
      "See the caveats in the documentation: https://pandas.pydata.org/pandas-docs/stable/user_guide/indexing.html#returning-a-view-versus-a-copy\n",
      "  self._setitem_single_column(loc, v, pi)\n"
     ]
    },
    {
     "name": "stdout",
     "output_type": "stream",
     "text": [
      "issue with id: hkaDfNtDY7Vic6Q2\n",
      "issue with id: KcsjMENf2Rb52asn\n",
      "issue with id: QFgA4FniYFQUJiLD\n",
      "issue with id: cd1W9YvW5FmGdjut\n",
      "issue with id: skxn7ToatEqrJCMk\n",
      "issue with id: fAq7JhFiusgsyHBu\n",
      "issue with id: FVPK1H8ewC2Sn9I8\n",
      "issue with id: e6tEjiFq6RJhAeda\n",
      "issue with id: 03Tn02ZnXIdPCKpV\n",
      "issue with id: ZqMVfp7iexWMp6ae\n"
     ]
    }
   ],
   "source": [
    "adat = dat.loc[dat.group == 'Autism']\n",
    "adat[['city', 'region', 'country', 'loc', 'org', 'postal', 'timezone']] = None\n",
    "baddies = []\n",
    "for subj in adat.prolific_id.unique():\n",
    "    addr = adat.loc[adat.prolific_id == subj, 'ip_addy'].values[0]\n",
    "    url = 'https://ipinfo.io/' + addr + '/json'\n",
    "    res = urlopen(url)\n",
    "    #response from url(if res==None then check connection)\n",
    "    data = load(res)\n",
    "    try:\n",
    "        adat.loc[adat.prolific_id == subj, ['city', 'region', 'country', 'loc', 'org', 'postal', 'timezone', 'email', 'participation_date', 'study_duration']] = [data['city'], data['region'], data['country'], data['loc'], data['org'], data['postal'], data['timezone'], adat.loc[adat.prolific_id == subj, 'email'].values[0], adat.loc[adat.prolific_id == subj, 'participation_date'].values[0], adat.loc[adat.prolific_id == subj, 'study_duration'].values[0]]\n",
    "    except:\n",
    "        baddies.append(subj)\n",
    "        print(f'issue with id: {subj}')"
   ],
   "metadata": {
    "collapsed": false,
    "pycharm": {
     "name": "#%%\n"
    }
   }
  },
  {
   "cell_type": "code",
   "execution_count": 13,
   "outputs": [
    {
     "name": "stdout",
     "output_type": "stream",
     "text": [
      "This person is from NG the email: dennisfrank0634@gmail.com, ip : 102.89.34.73\n",
      "This person is from NG the email: bjoe33320@gmail.com, ip : 102.89.40.49\n",
      "This person is from NG the email: thomasrheott@gmail.com, ip : 102.89.32.16\n",
      "This person is from NG the email: morning4447star@gmail.com, ip : 102.89.34.93\n",
      "This person is from NG the email: washington111dc@gmail.com, ip : 102.89.32.56\n",
      "This person is from NG the email: the90brainz@gmail.com, ip : 102.89.38.100\n",
      "This person is from NG the email: marvinsjames589@gmail.com, ip : 102.89.41.212\n",
      "This person is from NG the email: jasminefranklin059@gmail.com, ip : 102.89.34.252\n",
      "This person is from NG the email: lovemary4240@gmail.com, ip : 102.89.43.174\n",
      "This person is from NG the email: floraflora4240@gmail.com, ip : 102.89.43.174\n"
     ]
    }
   ],
   "source": [
    "\n",
    "for baddi in baddies:\n",
    "    bd = dat.loc[dat.prolific_id == baddi]\n",
    "    addr = adat.loc[adat.prolific_id == baddi, 'ip_addy'].values[0]\n",
    "    url = 'https://ipinfo.io/' + addr + '/json'\n",
    "    res = urlopen(url)\n",
    "#response from url(if res==None then check connection)\n",
    "    data = load(res)\n",
    "    print(f'This person is from {data[\"country\"]} the email: {adat.loc[adat.prolific_id == baddi, \"email\"].values[0]}, ip : {addr}')"
   ],
   "metadata": {
    "collapsed": false,
    "pycharm": {
     "name": "#%%\n"
    }
   }
  },
  {
   "cell_type": "code",
   "execution_count": 14,
   "outputs": [
    {
     "data": {
      "text/plain": "{'ip': '102.89.43.174',\n 'city': 'Lagos',\n 'region': 'Lagos',\n 'country': 'NG',\n 'loc': '6.4541,3.3947',\n 'org': 'AS29465 MTN NIGERIA Communication limited',\n 'timezone': 'Africa/Lagos',\n 'readme': 'https://ipinfo.io/missingauth'}"
     },
     "execution_count": 14,
     "metadata": {},
     "output_type": "execute_result"
    }
   ],
   "source": [
    "data[]"
   ],
   "metadata": {
    "collapsed": false,
    "pycharm": {
     "name": "#%%\n"
    }
   }
  },
  {
   "cell_type": "code",
   "execution_count": 13,
   "outputs": [
    {
     "data": {
      "text/plain": "          prolific_id         participation_date  \\\n74   BA5c5J3i4Yv4mLIs 2022-09-08 16:00:44.531673   \n190  ZUbd7hPuRxhCbsYk 2022-09-10 06:03:06.477173   \n284  ojRZ1hEX6NkvzFR2 2022-09-08 07:53:26.880706   \n281  oLy8v6Y1zTAoTCn5 2022-09-08 10:07:30.324559   \n17   2aZodwMbhF8tN7b5 2022-09-10 11:30:02.101131   \n228  faVIdQmxQ81l7IL3 2022-09-14 03:38:52.526758   \n277  nOZk6cnVMzsMFYwd 2022-09-09 14:22:21.331055   \n259  lFnE4bZQicteaOiI 2022-09-14 15:45:20.633120   \n256  kV8kc2ROpDxhxzzO 2022-09-14 06:54:24.915078   \n31   4H4dZnRC9wshwSEt 2022-09-09 14:21:14.654691   \n60   8u03Wis3thsja9iI 2022-09-09 01:44:52.884941   \n56   8SbJHwpUXHZpZNOs 2022-09-08 06:52:10.090045   \n294  pmOukMvERJsNS8OW 2022-09-14 01:23:25.101975   \n50   79mlT1dUotNfCiE5 2022-09-10 01:30:30.128290   \n61   8wmcmj0JB8aViDBl 2022-09-12 16:09:14.127889   \n255  kV8kc2ROpDxhxzzO 2022-09-14 06:54:24.915078   \n329  tnGByjBjbUzRJwyf 2022-09-07 11:11:25.458222   \n157  Sbyok6SIcSb3MNwd 2022-09-13 22:35:06.108816   \n252  jcOXPqMioLJNLZ3D 2022-09-06 22:32:59.570970   \n319  svqkstwbSqyYTDqk 2022-09-11 11:38:56.164543   \n206  bSNCukXbOcNIXsLz 2022-09-09 01:07:53.312595   \n328  tecm5esQvBW52caO 2022-09-09 18:19:43.165667   \n312  s3Ed31rJbytskssZ 2022-09-10 11:16:19.792219   \n11   1Do4gM6IT4mj5uoa 2022-09-10 15:43:00.036660   \n\n                             email          ip_addy         study_duration  \\\n74          celinekia905@gmail.com   212.102.60.150 0 days 12:34:56.495945   \n190    aiyanakaren657754@gmail.com  102.129.145.179 0 days 00:22:22.863652   \n284         ladylondon38@gmail.com     198.7.56.244 0 days 00:25:20.510651   \n281           soonwow041@gmail.com    149.57.16.179 0 days 00:29:17.908553   \n17           cocoroddy94@gmail.com   167.248.70.170 0 days 00:23:35.919900   \n228         deshawnmoon6@gmail.com   45.149.173.203 0 days 01:09:26.902266   \n277        oluwaseuneuro@gmail.com   156.146.38.140 0 days 00:52:27.922351   \n259    stephaniecindy667@gmail.com   161.129.70.162 0 days 01:12:18.729913   \n256        arellanogonga@gmail.com    66.115.182.73 0 days 01:17:56.594272   \n31             ngood2600@gmail.com     154.6.95.144 0 days 00:25:13.099160   \n60        mattewgretchen@gmail.com       3.88.19.57 0 days 00:35:59.468472   \n56           stviloveyou@gmail.com     154.3.250.40 0 days 00:24:41.436970   \n294        hermionegrauy@gmail.com     149.36.48.74 0 days 00:52:10.688149   \n50   kenneththompkins860@gmail.com  102.129.153.131 0 days 01:13:42.848319   \n61        saaronmiller22@gmail.com      73.64.51.87 0 days 00:25:54.666441   \n255        arellanogonga@gmail.com   66.115.182.110 0 days 01:17:56.594272   \n329               dave@trahans.net   191.96.227.102 0 days 00:27:41.962866   \n157             bontrag1@yahoo.com    173.28.42.174 0 days 00:35:22.174339   \n252        johnnyldudley@gmail.com   174.105.249.50 0 days 00:27:16.157435   \n319          zackbartley@yahoo.com     72.74.184.53 0 days 00:28:56.788545   \n206          rbinjackson@gmail.com       3.88.19.57 0 days 00:34:30.886231   \n328          erinddekker@gmail.com     99.246.68.49 0 days 00:28:01.329837   \n312         marymary4240@gmail.com    108.51.41.233 2 days 02:52:57.401416   \n11                emusil@gmail.com    68.102.133.73 0 days 00:25:39.218403   \n\n              city            region country                loc  \\\n74           Miami           Florida      US   25.7629,-80.1895   \n190    Los Angeles        California      US  34.0522,-118.2437   \n284     Washington  Washington, D.C.      US   38.8951,-77.0364   \n281     Wilmington          Delaware      US   39.7460,-75.5466   \n17         Lincoln          Nebraska      US   40.7848,-96.6431   \n228    Los Angeles        California      US  34.0614,-118.2385   \n277         Dallas             Texas      US   32.7831,-96.8067   \n259        Atlanta           Georgia      US   33.7525,-84.3888   \n256   Jacksonville           Florida      US   30.3322,-81.6556   \n31          Reston          Virginia      US   38.9687,-77.3411   \n60         Ashburn          Virginia      US   39.0437,-77.4875   \n56          Dallas             Texas      US   32.7781,-96.8054   \n294       San Jose        California      US  37.3394,-121.8950   \n50           Miami           Florida      US   25.7743,-80.1937   \n61        Scranton      Pennsylvania      US   41.4080,-75.6484   \n255   Jacksonville           Florida      US   30.3322,-81.6556   \n329  New York City          New York      US   40.7143,-74.0060   \n157        Windsor        California      US  38.5471,-122.8164   \n252       Columbus              Ohio      US   39.9444,-82.8903   \n319         Boston     Massachusetts      US   42.3362,-71.0729   \n206        Ashburn          Virginia      US   39.0437,-77.4875   \n328        Toronto           Ontario      CA   43.5637,-79.7202   \n312     Washington  Washington, D.C.      US   38.9518,-77.0203   \n11         Wichita            Kansas      US   37.6922,-97.3375   \n\n                                          org postal             timezone  \\\n74                   AS60068 Datacamp Limited  33131     America/New_York   \n190               AS174 Cogent Communications  90009  America/Los_Angeles   \n284                AS30633 Leaseweb USA, Inc.  20004     America/New_York   \n281                 AS212238 Datacamp Limited  19801     America/New_York   \n17            AS15108 Allo Communications LLC  68506      America/Chicago   \n228                         AS62240 Clouvider  90012  America/Los_Angeles   \n277                  AS60068 Datacamp Limited  75201      America/Chicago   \n259          AS8100 QuadraNet Enterprises LLC  30303     America/New_York   \n256                    AS46562 Performive LLC  32202     America/New_York   \n31                     AS46562 Performive LLC  20190     America/New_York   \n60                   AS14618 Amazon.com, Inc.  20147     America/New_York   \n56                AS174 Cogent Communications  75202      America/Chicago   \n294                 AS212238 Datacamp Limited  95103  America/Los_Angeles   \n50                AS174 Cogent Communications  33101     America/New_York   \n61   AS7922 Comcast Cable Communications, LLC  18510     America/New_York   \n255                    AS46562 Performive LLC  32202     America/New_York   \n329               AS174 Cogent Communications  10004     America/New_York   \n157      AS30036 Mediacom Communications Corp  95492  America/Los_Angeles   \n252        AS10796 Charter Communications Inc  43227     America/New_York   \n319                    AS701 Verizon Business  02118     America/New_York   \n206                  AS14618 Amazon.com, Inc.  20147     America/New_York   \n328   AS812 Rogers Communications Canada Inc.    L5M      America/Toronto   \n312                    AS701 Verizon Business  20011     America/New_York   \n11            AS22773 Cox Communications Inc.  67201      America/Chicago   \n\n      correct  \n74   0.600000  \n190  0.666667  \n284  0.666667  \n281  0.666667  \n17   0.666667  \n228  0.666667  \n277  0.666667  \n259  0.666667  \n256  0.666667  \n31   0.666667  \n60   0.666667  \n56   0.666667  \n294  0.750000  \n50   0.750000  \n61   0.750000  \n255  0.777778  \n329  0.833333  \n157  0.916667  \n252  0.916667  \n319  0.916667  \n206  0.916667  \n328  0.916667  \n312  1.000000  \n11   1.000000  ",
      "text/html": "<div>\n<style scoped>\n    .dataframe tbody tr th:only-of-type {\n        vertical-align: middle;\n    }\n\n    .dataframe tbody tr th {\n        vertical-align: top;\n    }\n\n    .dataframe thead th {\n        text-align: right;\n    }\n</style>\n<table border=\"1\" class=\"dataframe\">\n  <thead>\n    <tr style=\"text-align: right;\">\n      <th></th>\n      <th>prolific_id</th>\n      <th>participation_date</th>\n      <th>email</th>\n      <th>ip_addy</th>\n      <th>study_duration</th>\n      <th>city</th>\n      <th>region</th>\n      <th>country</th>\n      <th>loc</th>\n      <th>org</th>\n      <th>postal</th>\n      <th>timezone</th>\n      <th>correct</th>\n    </tr>\n  </thead>\n  <tbody>\n    <tr>\n      <th>74</th>\n      <td>BA5c5J3i4Yv4mLIs</td>\n      <td>2022-09-08 16:00:44.531673</td>\n      <td>celinekia905@gmail.com</td>\n      <td>212.102.60.150</td>\n      <td>0 days 12:34:56.495945</td>\n      <td>Miami</td>\n      <td>Florida</td>\n      <td>US</td>\n      <td>25.7629,-80.1895</td>\n      <td>AS60068 Datacamp Limited</td>\n      <td>33131</td>\n      <td>America/New_York</td>\n      <td>0.600000</td>\n    </tr>\n    <tr>\n      <th>190</th>\n      <td>ZUbd7hPuRxhCbsYk</td>\n      <td>2022-09-10 06:03:06.477173</td>\n      <td>aiyanakaren657754@gmail.com</td>\n      <td>102.129.145.179</td>\n      <td>0 days 00:22:22.863652</td>\n      <td>Los Angeles</td>\n      <td>California</td>\n      <td>US</td>\n      <td>34.0522,-118.2437</td>\n      <td>AS174 Cogent Communications</td>\n      <td>90009</td>\n      <td>America/Los_Angeles</td>\n      <td>0.666667</td>\n    </tr>\n    <tr>\n      <th>284</th>\n      <td>ojRZ1hEX6NkvzFR2</td>\n      <td>2022-09-08 07:53:26.880706</td>\n      <td>ladylondon38@gmail.com</td>\n      <td>198.7.56.244</td>\n      <td>0 days 00:25:20.510651</td>\n      <td>Washington</td>\n      <td>Washington, D.C.</td>\n      <td>US</td>\n      <td>38.8951,-77.0364</td>\n      <td>AS30633 Leaseweb USA, Inc.</td>\n      <td>20004</td>\n      <td>America/New_York</td>\n      <td>0.666667</td>\n    </tr>\n    <tr>\n      <th>281</th>\n      <td>oLy8v6Y1zTAoTCn5</td>\n      <td>2022-09-08 10:07:30.324559</td>\n      <td>soonwow041@gmail.com</td>\n      <td>149.57.16.179</td>\n      <td>0 days 00:29:17.908553</td>\n      <td>Wilmington</td>\n      <td>Delaware</td>\n      <td>US</td>\n      <td>39.7460,-75.5466</td>\n      <td>AS212238 Datacamp Limited</td>\n      <td>19801</td>\n      <td>America/New_York</td>\n      <td>0.666667</td>\n    </tr>\n    <tr>\n      <th>17</th>\n      <td>2aZodwMbhF8tN7b5</td>\n      <td>2022-09-10 11:30:02.101131</td>\n      <td>cocoroddy94@gmail.com</td>\n      <td>167.248.70.170</td>\n      <td>0 days 00:23:35.919900</td>\n      <td>Lincoln</td>\n      <td>Nebraska</td>\n      <td>US</td>\n      <td>40.7848,-96.6431</td>\n      <td>AS15108 Allo Communications LLC</td>\n      <td>68506</td>\n      <td>America/Chicago</td>\n      <td>0.666667</td>\n    </tr>\n    <tr>\n      <th>228</th>\n      <td>faVIdQmxQ81l7IL3</td>\n      <td>2022-09-14 03:38:52.526758</td>\n      <td>deshawnmoon6@gmail.com</td>\n      <td>45.149.173.203</td>\n      <td>0 days 01:09:26.902266</td>\n      <td>Los Angeles</td>\n      <td>California</td>\n      <td>US</td>\n      <td>34.0614,-118.2385</td>\n      <td>AS62240 Clouvider</td>\n      <td>90012</td>\n      <td>America/Los_Angeles</td>\n      <td>0.666667</td>\n    </tr>\n    <tr>\n      <th>277</th>\n      <td>nOZk6cnVMzsMFYwd</td>\n      <td>2022-09-09 14:22:21.331055</td>\n      <td>oluwaseuneuro@gmail.com</td>\n      <td>156.146.38.140</td>\n      <td>0 days 00:52:27.922351</td>\n      <td>Dallas</td>\n      <td>Texas</td>\n      <td>US</td>\n      <td>32.7831,-96.8067</td>\n      <td>AS60068 Datacamp Limited</td>\n      <td>75201</td>\n      <td>America/Chicago</td>\n      <td>0.666667</td>\n    </tr>\n    <tr>\n      <th>259</th>\n      <td>lFnE4bZQicteaOiI</td>\n      <td>2022-09-14 15:45:20.633120</td>\n      <td>stephaniecindy667@gmail.com</td>\n      <td>161.129.70.162</td>\n      <td>0 days 01:12:18.729913</td>\n      <td>Atlanta</td>\n      <td>Georgia</td>\n      <td>US</td>\n      <td>33.7525,-84.3888</td>\n      <td>AS8100 QuadraNet Enterprises LLC</td>\n      <td>30303</td>\n      <td>America/New_York</td>\n      <td>0.666667</td>\n    </tr>\n    <tr>\n      <th>256</th>\n      <td>kV8kc2ROpDxhxzzO</td>\n      <td>2022-09-14 06:54:24.915078</td>\n      <td>arellanogonga@gmail.com</td>\n      <td>66.115.182.73</td>\n      <td>0 days 01:17:56.594272</td>\n      <td>Jacksonville</td>\n      <td>Florida</td>\n      <td>US</td>\n      <td>30.3322,-81.6556</td>\n      <td>AS46562 Performive LLC</td>\n      <td>32202</td>\n      <td>America/New_York</td>\n      <td>0.666667</td>\n    </tr>\n    <tr>\n      <th>31</th>\n      <td>4H4dZnRC9wshwSEt</td>\n      <td>2022-09-09 14:21:14.654691</td>\n      <td>ngood2600@gmail.com</td>\n      <td>154.6.95.144</td>\n      <td>0 days 00:25:13.099160</td>\n      <td>Reston</td>\n      <td>Virginia</td>\n      <td>US</td>\n      <td>38.9687,-77.3411</td>\n      <td>AS46562 Performive LLC</td>\n      <td>20190</td>\n      <td>America/New_York</td>\n      <td>0.666667</td>\n    </tr>\n    <tr>\n      <th>60</th>\n      <td>8u03Wis3thsja9iI</td>\n      <td>2022-09-09 01:44:52.884941</td>\n      <td>mattewgretchen@gmail.com</td>\n      <td>3.88.19.57</td>\n      <td>0 days 00:35:59.468472</td>\n      <td>Ashburn</td>\n      <td>Virginia</td>\n      <td>US</td>\n      <td>39.0437,-77.4875</td>\n      <td>AS14618 Amazon.com, Inc.</td>\n      <td>20147</td>\n      <td>America/New_York</td>\n      <td>0.666667</td>\n    </tr>\n    <tr>\n      <th>56</th>\n      <td>8SbJHwpUXHZpZNOs</td>\n      <td>2022-09-08 06:52:10.090045</td>\n      <td>stviloveyou@gmail.com</td>\n      <td>154.3.250.40</td>\n      <td>0 days 00:24:41.436970</td>\n      <td>Dallas</td>\n      <td>Texas</td>\n      <td>US</td>\n      <td>32.7781,-96.8054</td>\n      <td>AS174 Cogent Communications</td>\n      <td>75202</td>\n      <td>America/Chicago</td>\n      <td>0.666667</td>\n    </tr>\n    <tr>\n      <th>294</th>\n      <td>pmOukMvERJsNS8OW</td>\n      <td>2022-09-14 01:23:25.101975</td>\n      <td>hermionegrauy@gmail.com</td>\n      <td>149.36.48.74</td>\n      <td>0 days 00:52:10.688149</td>\n      <td>San Jose</td>\n      <td>California</td>\n      <td>US</td>\n      <td>37.3394,-121.8950</td>\n      <td>AS212238 Datacamp Limited</td>\n      <td>95103</td>\n      <td>America/Los_Angeles</td>\n      <td>0.750000</td>\n    </tr>\n    <tr>\n      <th>50</th>\n      <td>79mlT1dUotNfCiE5</td>\n      <td>2022-09-10 01:30:30.128290</td>\n      <td>kenneththompkins860@gmail.com</td>\n      <td>102.129.153.131</td>\n      <td>0 days 01:13:42.848319</td>\n      <td>Miami</td>\n      <td>Florida</td>\n      <td>US</td>\n      <td>25.7743,-80.1937</td>\n      <td>AS174 Cogent Communications</td>\n      <td>33101</td>\n      <td>America/New_York</td>\n      <td>0.750000</td>\n    </tr>\n    <tr>\n      <th>61</th>\n      <td>8wmcmj0JB8aViDBl</td>\n      <td>2022-09-12 16:09:14.127889</td>\n      <td>saaronmiller22@gmail.com</td>\n      <td>73.64.51.87</td>\n      <td>0 days 00:25:54.666441</td>\n      <td>Scranton</td>\n      <td>Pennsylvania</td>\n      <td>US</td>\n      <td>41.4080,-75.6484</td>\n      <td>AS7922 Comcast Cable Communications, LLC</td>\n      <td>18510</td>\n      <td>America/New_York</td>\n      <td>0.750000</td>\n    </tr>\n    <tr>\n      <th>255</th>\n      <td>kV8kc2ROpDxhxzzO</td>\n      <td>2022-09-14 06:54:24.915078</td>\n      <td>arellanogonga@gmail.com</td>\n      <td>66.115.182.110</td>\n      <td>0 days 01:17:56.594272</td>\n      <td>Jacksonville</td>\n      <td>Florida</td>\n      <td>US</td>\n      <td>30.3322,-81.6556</td>\n      <td>AS46562 Performive LLC</td>\n      <td>32202</td>\n      <td>America/New_York</td>\n      <td>0.777778</td>\n    </tr>\n    <tr>\n      <th>329</th>\n      <td>tnGByjBjbUzRJwyf</td>\n      <td>2022-09-07 11:11:25.458222</td>\n      <td>dave@trahans.net</td>\n      <td>191.96.227.102</td>\n      <td>0 days 00:27:41.962866</td>\n      <td>New York City</td>\n      <td>New York</td>\n      <td>US</td>\n      <td>40.7143,-74.0060</td>\n      <td>AS174 Cogent Communications</td>\n      <td>10004</td>\n      <td>America/New_York</td>\n      <td>0.833333</td>\n    </tr>\n    <tr>\n      <th>157</th>\n      <td>Sbyok6SIcSb3MNwd</td>\n      <td>2022-09-13 22:35:06.108816</td>\n      <td>bontrag1@yahoo.com</td>\n      <td>173.28.42.174</td>\n      <td>0 days 00:35:22.174339</td>\n      <td>Windsor</td>\n      <td>California</td>\n      <td>US</td>\n      <td>38.5471,-122.8164</td>\n      <td>AS30036 Mediacom Communications Corp</td>\n      <td>95492</td>\n      <td>America/Los_Angeles</td>\n      <td>0.916667</td>\n    </tr>\n    <tr>\n      <th>252</th>\n      <td>jcOXPqMioLJNLZ3D</td>\n      <td>2022-09-06 22:32:59.570970</td>\n      <td>johnnyldudley@gmail.com</td>\n      <td>174.105.249.50</td>\n      <td>0 days 00:27:16.157435</td>\n      <td>Columbus</td>\n      <td>Ohio</td>\n      <td>US</td>\n      <td>39.9444,-82.8903</td>\n      <td>AS10796 Charter Communications Inc</td>\n      <td>43227</td>\n      <td>America/New_York</td>\n      <td>0.916667</td>\n    </tr>\n    <tr>\n      <th>319</th>\n      <td>svqkstwbSqyYTDqk</td>\n      <td>2022-09-11 11:38:56.164543</td>\n      <td>zackbartley@yahoo.com</td>\n      <td>72.74.184.53</td>\n      <td>0 days 00:28:56.788545</td>\n      <td>Boston</td>\n      <td>Massachusetts</td>\n      <td>US</td>\n      <td>42.3362,-71.0729</td>\n      <td>AS701 Verizon Business</td>\n      <td>02118</td>\n      <td>America/New_York</td>\n      <td>0.916667</td>\n    </tr>\n    <tr>\n      <th>206</th>\n      <td>bSNCukXbOcNIXsLz</td>\n      <td>2022-09-09 01:07:53.312595</td>\n      <td>rbinjackson@gmail.com</td>\n      <td>3.88.19.57</td>\n      <td>0 days 00:34:30.886231</td>\n      <td>Ashburn</td>\n      <td>Virginia</td>\n      <td>US</td>\n      <td>39.0437,-77.4875</td>\n      <td>AS14618 Amazon.com, Inc.</td>\n      <td>20147</td>\n      <td>America/New_York</td>\n      <td>0.916667</td>\n    </tr>\n    <tr>\n      <th>328</th>\n      <td>tecm5esQvBW52caO</td>\n      <td>2022-09-09 18:19:43.165667</td>\n      <td>erinddekker@gmail.com</td>\n      <td>99.246.68.49</td>\n      <td>0 days 00:28:01.329837</td>\n      <td>Toronto</td>\n      <td>Ontario</td>\n      <td>CA</td>\n      <td>43.5637,-79.7202</td>\n      <td>AS812 Rogers Communications Canada Inc.</td>\n      <td>L5M</td>\n      <td>America/Toronto</td>\n      <td>0.916667</td>\n    </tr>\n    <tr>\n      <th>312</th>\n      <td>s3Ed31rJbytskssZ</td>\n      <td>2022-09-10 11:16:19.792219</td>\n      <td>marymary4240@gmail.com</td>\n      <td>108.51.41.233</td>\n      <td>2 days 02:52:57.401416</td>\n      <td>Washington</td>\n      <td>Washington, D.C.</td>\n      <td>US</td>\n      <td>38.9518,-77.0203</td>\n      <td>AS701 Verizon Business</td>\n      <td>20011</td>\n      <td>America/New_York</td>\n      <td>1.000000</td>\n    </tr>\n    <tr>\n      <th>11</th>\n      <td>1Do4gM6IT4mj5uoa</td>\n      <td>2022-09-10 15:43:00.036660</td>\n      <td>emusil@gmail.com</td>\n      <td>68.102.133.73</td>\n      <td>0 days 00:25:39.218403</td>\n      <td>Wichita</td>\n      <td>Kansas</td>\n      <td>US</td>\n      <td>37.6922,-97.3375</td>\n      <td>AS22773 Cox Communications Inc.</td>\n      <td>67201</td>\n      <td>America/Chicago</td>\n      <td>1.000000</td>\n    </tr>\n  </tbody>\n</table>\n</div>"
     },
     "execution_count": 13,
     "metadata": {},
     "output_type": "execute_result"
    }
   ],
   "source": [
    "xx = adat.groupby(['prolific_id','participation_date', 'email', 'ip_addy','study_duration', 'city', 'region', 'country', 'loc', 'org', 'postal', 'timezone']).correct.mean()#.sort_values('correct')\n",
    "yy = xx.reset_index().sort_values('correct', axis=0)\n",
    "#yy[[yy.correct >]]\n",
    "yy.loc[yy.correct>=.6]#.email"
   ],
   "metadata": {
    "collapsed": false,
    "pycharm": {
     "name": "#%%\n"
    }
   }
  },
  {
   "cell_type": "code",
   "execution_count": 14,
   "outputs": [
    {
     "name": "stdout",
     "output_type": "stream",
     "text": [
      "steffenolivia98@gmail.com: dat: {'vpn': True, 'proxy': False, 'tor': False, 'relay': False}\n",
      "clarkjohnson09067399406@gmail.com: dat: {'vpn': True, 'proxy': False, 'tor': False, 'relay': False}\n",
      "gabrieljamesgj18@gmail.com: dat: {'vpn': True, 'proxy': False, 'tor': False, 'relay': False}\n",
      "aviastephen7@gmail.com: dat: {'vpn': True, 'proxy': False, 'tor': False, 'relay': False}\n",
      "nancyberry464@gmail.com: dat: {'vpn': True, 'proxy': False, 'tor': False, 'relay': False}\n",
      "arebum170@digdig.org: dat: {'vpn': True, 'proxy': False, 'tor': False, 'relay': False}\n",
      "gifthamel@gmail.com: dat: {'vpn': True, 'proxy': False, 'tor': False, 'relay': False}\n",
      "jollyclara64@gmal.com: dat: {'vpn': False, 'proxy': False, 'tor': False, 'relay': False}\n",
      "jollyclara64@gmal.com: dat: {'vpn': True, 'proxy': False, 'tor': False, 'relay': False}\n",
      "boviajohn@gmail.com: dat: {'vpn': True, 'proxy': False, 'tor': False, 'relay': False}\n"
     ]
    }
   ],
   "source": [
    "import requests\n",
    "import json\n",
    "\n",
    "ip_address = \"8.8.8.8\"\n",
    "API_key = \"f49b46146fdf4dc9a8d192a02fc4eef2\"\n",
    "for ip_address in yy.ip_addy[:10]:\n",
    "    response = requests.get(\"https://vpnapi.io/api/\" + ip_address + \"?key=\" + API_key)\n",
    "    data = json.loads(response.text)\n",
    "    #print(data) # Outputs everything\n",
    "    print(f'{yy.loc[yy.ip_addy == ip_address, \"email\"].values[0]}: dat: {data[\"security\"]}') # Outputs just the security details\n"
   ],
   "metadata": {
    "collapsed": false,
    "pycharm": {
     "name": "#%%\n"
    }
   }
  },
  {
   "cell_type": "code",
   "execution_count": 23,
   "outputs": [
    {
     "data": {
      "text/plain": "True"
     },
     "execution_count": 23,
     "metadata": {},
     "output_type": "execute_result"
    }
   ],
   "source": [
    "sum(data[\"security\"].values()) > 0"
   ],
   "metadata": {
    "collapsed": false,
    "pycharm": {
     "name": "#%%\n"
    }
   }
  },
  {
   "cell_type": "markdown",
   "source": [
    "# 2. Response Times"
   ],
   "metadata": {
    "collapsed": false,
    "pycharm": {
     "name": "#%% md\n"
    }
   }
  },
  {
   "cell_type": "code",
   "execution_count": null,
   "outputs": [],
   "source": [
    "sns.set_context('notebook', font_scale=2)\n",
    "fig, ax = plt.subplots(figsize=(15, 12))\n",
    "g = sns.violinplot(x='belief_type', y='rt_ms', hue='ascription_type', hue_order=['Thinks', 'Knows'], data=dat.loc[(dat.trial_type=='test') & (dat.correct==True)], cut=0, bw=0.25, ax=ax, inner=None, linewidth=1, saturation=1)\n",
    "g = sns.stripplot(x='belief_type', y='rt_ms', hue='ascription_type', hue_order=['Thinks', 'Knows'], data=dat.loc[(dat.trial_type=='test') & (dat.correct==True)],\n",
    "                  color='k', dodge=True, ax=ax, jitter=.2, linewidth=1, alpha=.2)\n",
    "g= sns.pointplot(x='belief_type', y='rt_ms', hue='ascription_type', hue_order=['Thinks', 'Knows'], data=dat.loc[(dat.trial_type=='test') & (dat.correct==True)], join=False, dodge=.4, capsize=.1, ax=ax, color='k',)\n",
    "\n",
    "ax.legend(g.get_legend_handles_labels()[0][:2], g.get_legend_handles_labels()[1][:2])\n",
    "g.yaxis.set_label_text(\"response time (ms)\")\n",
    "g.xaxis.set_label_text(\"Agent state\")\n",
    "ax.xaxis.labelpad = 20\n",
    "\n",
    "#fig.savefig('proposal_S1_control_result.png')"
   ],
   "metadata": {
    "collapsed": false,
    "pycharm": {
     "name": "#%%\n"
    }
   }
  },
  {
   "cell_type": "code",
   "execution_count": null,
   "outputs": [],
   "source": [
    "len(dat.loc[(dat.trial_type=='test') & (dat.correct==True)].prolific_id.unique())"
   ],
   "metadata": {
    "collapsed": false,
    "pycharm": {
     "name": "#%%\n"
    }
   }
  },
  {
   "cell_type": "markdown",
   "source": [
    "# 3. Felicity Judgements"
   ],
   "metadata": {
    "collapsed": false,
    "pycharm": {
     "name": "#%% md\n"
    }
   }
  },
  {
   "cell_type": "code",
   "execution_count": null,
   "outputs": [],
   "source": [
    "f_dat = pd.read_sql('SELECT * FROM felicities A INNER JOIN subjects B ON A.prolific_id = B.prolific_id WHERE B.completion_code=\"XXXX\"', con=conn)\n",
    "f_dat = f_dat.loc[:,~f_dat.columns.duplicated()].copy() # prolific id from both tables will be in df, remove duplicate\n",
    "# 1= \"Sounds very weird\"\n",
    "# 7 = \"Sounds very normal\"\n",
    "f_dat['Infelicity Rating'] = 8 - f_dat.felicity_rating"
   ],
   "metadata": {
    "collapsed": false,
    "pycharm": {
     "name": "#%%\n"
    }
   }
  },
  {
   "cell_type": "code",
   "execution_count": null,
   "outputs": [],
   "source": [
    "sns.set_context('paper', font_scale=2)\n",
    "fig, ax = plt.subplots(figsize=(12,12))\n",
    "g = sns.violinplot(x='fel_belief_type', y='Infelicity Rating', hue='fel_ascription_type', data=f_dat, cut=0, bw=0.25, ax=ax, inner=None, linewidth=1, saturation=1, order=['TB', 'IG', 'FB'])\n",
    "\n",
    "def jitter(values,j):\n",
    "    return values + np.random.normal(j,0.15,values.shape)\n",
    "\n",
    "g = sns.stripplot(x='fel_belief_type', y=jitter(f_dat['Infelicity Rating'], 0), hue='fel_ascription_type', data=f_dat,\n",
    "                  color='k', dodge=True, ax=ax, jitter=.45, linewidth=1.5, alpha=.1, order=['TB', 'IG', 'FB'])\n",
    "g= sns.pointplot(x='fel_belief_type', y='Infelicity Rating', hue='fel_ascription_type', data=f_dat, join=False, dodge=.4, capsize=.1, ax=ax, color='k',order=['TB', 'IG', 'FB'])\n",
    "\n",
    "ax.legend(g.get_legend_handles_labels()[0][:2], g.get_legend_handles_labels()[1][:2])"
   ],
   "metadata": {
    "collapsed": false,
    "pycharm": {
     "name": "#%%\n"
    }
   }
  },
  {
   "cell_type": "markdown",
   "source": [
    "# 4. AQ-10"
   ],
   "metadata": {
    "collapsed": false,
    "pycharm": {
     "name": "#%% md\n"
    }
   }
  },
  {
   "cell_type": "code",
   "execution_count": 16,
   "outputs": [
    {
     "data": {
      "text/plain": "               id  AQ_rating_1  AQ_rating_2  AQ_rating_3  AQ_rating_4  \\\ncount  418.000000   417.000000   417.000000   417.000000   417.000000   \nmean   268.220096     2.997602     2.983213     2.913669     3.014388   \nstd    152.333927     0.867409     0.776584     0.847638     0.775083   \nmin      1.000000     1.000000     1.000000     1.000000     1.000000   \n25%    144.250000     3.000000     3.000000     3.000000     3.000000   \n50%    260.500000     3.000000     3.000000     3.000000     3.000000   \n75%    382.750000     4.000000     3.000000     3.000000     4.000000   \nmax    551.000000     4.000000     4.000000     4.000000     4.000000   \n\n       AQ_rating_5  AQ_rating_6  AQ_rating_7  AQ_rating_8  AQ_rating_9  \\\ncount   417.000000   417.000000   417.000000   417.000000   417.000000   \nmean      3.107914     3.067146     2.923261     3.100719     3.086331   \nstd       0.796845     0.769178     0.828495     0.756017     0.785830   \nmin       1.000000     1.000000     1.000000     1.000000     1.000000   \n25%       3.000000     3.000000     2.000000     3.000000     3.000000   \n50%       3.000000     3.000000     3.000000     3.000000     3.000000   \n75%       4.000000     4.000000     3.000000     4.000000     4.000000   \nmax       4.000000     4.000000     4.000000     4.000000     4.000000   \n\n       AQ_rating_10  block1_complete  block2_complete  block3_complete  \\\ncount    417.000000            418.0            418.0            418.0   \nmean       2.942446              1.0              1.0              1.0   \nstd        0.855720              0.0              0.0              0.0   \nmin        1.000000              1.0              1.0              1.0   \n25%        3.000000              1.0              1.0              1.0   \n50%        3.000000              1.0              1.0              1.0   \n75%        4.000000              1.0              1.0              1.0   \nmax        4.000000              1.0              1.0              1.0   \n\n       recaptcha_complete  \ncount                12.0  \nmean                  1.0  \nstd                   0.0  \nmin                   1.0  \n25%                   1.0  \n50%                   1.0  \n75%                   1.0  \nmax                   1.0  ",
      "text/html": "<div>\n<style scoped>\n    .dataframe tbody tr th:only-of-type {\n        vertical-align: middle;\n    }\n\n    .dataframe tbody tr th {\n        vertical-align: top;\n    }\n\n    .dataframe thead th {\n        text-align: right;\n    }\n</style>\n<table border=\"1\" class=\"dataframe\">\n  <thead>\n    <tr style=\"text-align: right;\">\n      <th></th>\n      <th>id</th>\n      <th>AQ_rating_1</th>\n      <th>AQ_rating_2</th>\n      <th>AQ_rating_3</th>\n      <th>AQ_rating_4</th>\n      <th>AQ_rating_5</th>\n      <th>AQ_rating_6</th>\n      <th>AQ_rating_7</th>\n      <th>AQ_rating_8</th>\n      <th>AQ_rating_9</th>\n      <th>AQ_rating_10</th>\n      <th>block1_complete</th>\n      <th>block2_complete</th>\n      <th>block3_complete</th>\n      <th>recaptcha_complete</th>\n    </tr>\n  </thead>\n  <tbody>\n    <tr>\n      <th>count</th>\n      <td>418.000000</td>\n      <td>417.000000</td>\n      <td>417.000000</td>\n      <td>417.000000</td>\n      <td>417.000000</td>\n      <td>417.000000</td>\n      <td>417.000000</td>\n      <td>417.000000</td>\n      <td>417.000000</td>\n      <td>417.000000</td>\n      <td>417.000000</td>\n      <td>418.0</td>\n      <td>418.0</td>\n      <td>418.0</td>\n      <td>12.0</td>\n    </tr>\n    <tr>\n      <th>mean</th>\n      <td>268.220096</td>\n      <td>2.997602</td>\n      <td>2.983213</td>\n      <td>2.913669</td>\n      <td>3.014388</td>\n      <td>3.107914</td>\n      <td>3.067146</td>\n      <td>2.923261</td>\n      <td>3.100719</td>\n      <td>3.086331</td>\n      <td>2.942446</td>\n      <td>1.0</td>\n      <td>1.0</td>\n      <td>1.0</td>\n      <td>1.0</td>\n    </tr>\n    <tr>\n      <th>std</th>\n      <td>152.333927</td>\n      <td>0.867409</td>\n      <td>0.776584</td>\n      <td>0.847638</td>\n      <td>0.775083</td>\n      <td>0.796845</td>\n      <td>0.769178</td>\n      <td>0.828495</td>\n      <td>0.756017</td>\n      <td>0.785830</td>\n      <td>0.855720</td>\n      <td>0.0</td>\n      <td>0.0</td>\n      <td>0.0</td>\n      <td>0.0</td>\n    </tr>\n    <tr>\n      <th>min</th>\n      <td>1.000000</td>\n      <td>1.000000</td>\n      <td>1.000000</td>\n      <td>1.000000</td>\n      <td>1.000000</td>\n      <td>1.000000</td>\n      <td>1.000000</td>\n      <td>1.000000</td>\n      <td>1.000000</td>\n      <td>1.000000</td>\n      <td>1.000000</td>\n      <td>1.0</td>\n      <td>1.0</td>\n      <td>1.0</td>\n      <td>1.0</td>\n    </tr>\n    <tr>\n      <th>25%</th>\n      <td>144.250000</td>\n      <td>3.000000</td>\n      <td>3.000000</td>\n      <td>3.000000</td>\n      <td>3.000000</td>\n      <td>3.000000</td>\n      <td>3.000000</td>\n      <td>2.000000</td>\n      <td>3.000000</td>\n      <td>3.000000</td>\n      <td>3.000000</td>\n      <td>1.0</td>\n      <td>1.0</td>\n      <td>1.0</td>\n      <td>1.0</td>\n    </tr>\n    <tr>\n      <th>50%</th>\n      <td>260.500000</td>\n      <td>3.000000</td>\n      <td>3.000000</td>\n      <td>3.000000</td>\n      <td>3.000000</td>\n      <td>3.000000</td>\n      <td>3.000000</td>\n      <td>3.000000</td>\n      <td>3.000000</td>\n      <td>3.000000</td>\n      <td>3.000000</td>\n      <td>1.0</td>\n      <td>1.0</td>\n      <td>1.0</td>\n      <td>1.0</td>\n    </tr>\n    <tr>\n      <th>75%</th>\n      <td>382.750000</td>\n      <td>4.000000</td>\n      <td>3.000000</td>\n      <td>3.000000</td>\n      <td>4.000000</td>\n      <td>4.000000</td>\n      <td>4.000000</td>\n      <td>3.000000</td>\n      <td>4.000000</td>\n      <td>4.000000</td>\n      <td>4.000000</td>\n      <td>1.0</td>\n      <td>1.0</td>\n      <td>1.0</td>\n      <td>1.0</td>\n    </tr>\n    <tr>\n      <th>max</th>\n      <td>551.000000</td>\n      <td>4.000000</td>\n      <td>4.000000</td>\n      <td>4.000000</td>\n      <td>4.000000</td>\n      <td>4.000000</td>\n      <td>4.000000</td>\n      <td>4.000000</td>\n      <td>4.000000</td>\n      <td>4.000000</td>\n      <td>4.000000</td>\n      <td>1.0</td>\n      <td>1.0</td>\n      <td>1.0</td>\n      <td>1.0</td>\n    </tr>\n  </tbody>\n</table>\n</div>"
     },
     "execution_count": 16,
     "metadata": {},
     "output_type": "execute_result"
    }
   ],
   "source": [
    "\n",
    "a_dat =  pd.read_sql(\"SELECT * FROM autism_scores A INNER JOIN subjects B ON A.prolific_id = B.prolific_id \"\n",
    "                   \"WHERE B.block1_complete=TRUE \"\n",
    "                   \"AND B.block2_complete=TRUE \"\n",
    "                   \"AND B.block3_complete=TRUE \"\n",
    "                   \"AND B.completion_code LIKE '%XXX%'\", con=conn)\n",
    "a_dat = a_dat.loc[:,~a_dat.columns.duplicated()].copy() # prolific id from both tables will be in df, remove duplicate\n",
    "\n",
    "#a_dat = a_dat[a_dat.prolific_id.isin(dat.prolific_id.unique()).values] # only use subjects in trial analysis\n",
    "a_dat.describe()"
   ],
   "metadata": {
    "collapsed": false,
    "pycharm": {
     "name": "#%%\n"
    }
   }
  },
  {
   "cell_type": "code",
   "execution_count": 17,
   "outputs": [
    {
     "data": {
      "text/plain": "      id  AQ_rating_1  AQ_rating_2  AQ_rating_3  AQ_rating_4  AQ_rating_5  \\\n9     23          4.0          3.0          4.0          3.0          4.0   \n57    77          3.0          3.0          3.0          4.0          3.0   \n67    87          2.0          3.0          3.0          3.0          3.0   \n80   104          4.0          4.0          4.0          4.0          4.0   \n93   122          3.0          3.0          3.0          3.0          3.0   \n100  140          3.0          1.0          2.0          1.0          1.0   \n101  141          4.0          4.0          2.0          2.0          3.0   \n103  143          4.0          2.0          1.0          1.0          2.0   \n119  168          3.0          3.0          3.0          3.0          3.0   \n144  194          3.0          3.0          3.0          3.0          3.0   \n236  294          4.0          1.0          1.0          2.0          2.0   \n242  302          4.0          4.0          4.0          2.0          3.0   \n303  373          3.0          3.0          3.0          3.0          3.0   \n329  412          4.0          1.0          1.0          1.0          1.0   \n369  474          4.0          3.0          2.0          3.0          3.0   \n397  527          2.0          3.0          3.0          4.0          3.0   \n406  540          4.0          2.0          2.0          1.0          2.0   \n411  545          4.0          2.0          2.0          1.0          1.0   \n\n     AQ_rating_6  AQ_rating_7  AQ_rating_8  AQ_rating_9  ...  \\\n9            4.0          1.0          4.0          4.0  ...   \n57           4.0          4.0          3.0          4.0  ...   \n67           3.0          3.0          3.0          3.0  ...   \n80           4.0          1.0          4.0          4.0  ...   \n93           3.0          3.0          3.0          3.0  ...   \n100          2.0          3.0          3.0          1.0  ...   \n101          3.0          2.0          4.0          3.0  ...   \n103          2.0          2.0          3.0          2.0  ...   \n119          3.0          3.0          3.0          3.0  ...   \n144          3.0          3.0          3.0          3.0  ...   \n236          2.0          3.0          4.0          2.0  ...   \n242          2.0          3.0          3.0          1.0  ...   \n303          3.0          3.0          3.0          3.0  ...   \n329          1.0          4.0          4.0          1.0  ...   \n369          3.0          4.0          4.0          3.0  ...   \n397          4.0          4.0          4.0          4.0  ...   \n406          2.0          3.0          1.0          2.0  ...   \n411          2.0          2.0          4.0          1.0  ...   \n\n     operating_sys_lang               GMT_timestamp  \\\n9                  None  2022-08-31 09:26:59.949538   \n57                 None  2022-08-31 11:45:05.150238   \n67                 None  2022-08-31 12:15:14.467452   \n80                 None  2022-08-31 12:51:37.255498   \n93                 None  2022-08-31 13:14:51.390796   \n100                None  2022-09-05 01:07:11.373383   \n101                None  2022-09-07 02:32:59.571002   \n103                None  2022-09-07 15:11:25.458231   \n119                None  2022-09-08 10:52:10.090052   \n144                None  2022-09-08 14:07:30.324566   \n236                None  2022-09-09 05:07:53.312603   \n242                None  2022-09-09 05:44:52.884947   \n303                None  2022-09-09 18:21:14.654699   \n329                None  2022-09-09 22:19:43.165675   \n369                None  2022-09-10 10:03:06.477237   \n397                None  2022-09-10 15:30:02.101147   \n406                None  2022-09-10 19:43:00.036734   \n411                None  2022-09-11 15:38:56.164597   \n\n                           email block1_complete block2_complete  \\\n9          Judegarner0@gmail.com               1               1   \n57       itiswell482@outlook.com               1               1   \n67           itmake636@gmail.com               1               1   \n80      henrypeters234@gmail.com               1               1   \n93           pnum01422@gmail.com               1               1   \n100           Alex@alexstave.com               1               1   \n101      JohnnyLDudley@gmail.com               1               1   \n103             dave@trahans.net               1               1   \n119        stviloveyou@gmail.com               1               1   \n144         soonwow041@gmail.com               1               1   \n236        rbinjackson@gmail.com               1               1   \n242     mattewgretchen@gmail.com               1               1   \n303          ngood2600@gmail.com               1               1   \n329        erinddekker@gmail.com               1               1   \n369  aiyanakaren657754@gmail.com               1               1   \n397        Cocoroddy94@gmail.com               1               1   \n406             emusil@gmail.com               1               1   \n411        zackbartley@yahoo.com               1               1   \n\n    block3_complete completion_code  \\\n9                 1            XXXY   \n57                1            XXXY   \n67                1            XXXY   \n80                1            XXXY   \n93                1            XXXY   \n100               1            XXXZ   \n101               1            XXXX   \n103               1            XXXX   \n119               1            XXXX   \n144               1            XXXX   \n236               1            XXXX   \n242               1            XXXX   \n303               1            XXXX   \n329               1            XXXX   \n369               1            XXXX   \n397               1            XXXX   \n406               1            XXXX   \n411               1            XXXX   \n\n                                              feedback  \\\n9                                                 None   \n57                             nothing odd in the game   \n67         i did not use any strategy, i concentrated.   \n80                      Read the questions thoroughly    \n93                                       no difficulty   \n100  I found the last game confusing... All the sen...   \n101  The first phase of the game was a good brain t...   \n103  I had a very hard time with the stories where ...   \n119                                                      \n144                                                      \n236  the answers felt the same and all the statemen...   \n242  the answer mostly lies within first and last p...   \n303                                                      \n329  I think the story text went way too fast. I co...   \n369                           no everything went fine    \n397                                  The game was cool   \n406  The second part especially was very confusing ...   \n411  I thought the game was interesting, yet the se...   \n\n                completion_time recaptcha_complete  \n9                          None                NaN  \n57                         None                NaN  \n67                         None                NaN  \n80                         None                NaN  \n93                         None                NaN  \n100                        None                NaN  \n101  2022-09-06 23:00:15.728405                NaN  \n103  2022-09-07 11:39:07.421088                NaN  \n119  2022-09-08 07:16:51.527015                NaN  \n144  2022-09-08 10:36:48.233112                NaN  \n236  2022-09-09 01:42:24.198826                NaN  \n242  2022-09-09 02:20:52.353413                NaN  \n303  2022-09-09 14:46:27.753851                NaN  \n329  2022-09-09 18:47:44.495504                NaN  \n369  2022-09-10 06:25:29.340825                NaN  \n397  2022-09-10 11:53:38.021031                NaN  \n406  2022-09-10 16:08:39.255063                1.0  \n411  2022-09-11 12:07:52.953088                1.0  \n\n[18 rows x 29 columns]",
      "text/html": "<div>\n<style scoped>\n    .dataframe tbody tr th:only-of-type {\n        vertical-align: middle;\n    }\n\n    .dataframe tbody tr th {\n        vertical-align: top;\n    }\n\n    .dataframe thead th {\n        text-align: right;\n    }\n</style>\n<table border=\"1\" class=\"dataframe\">\n  <thead>\n    <tr style=\"text-align: right;\">\n      <th></th>\n      <th>id</th>\n      <th>AQ_rating_1</th>\n      <th>AQ_rating_2</th>\n      <th>AQ_rating_3</th>\n      <th>AQ_rating_4</th>\n      <th>AQ_rating_5</th>\n      <th>AQ_rating_6</th>\n      <th>AQ_rating_7</th>\n      <th>AQ_rating_8</th>\n      <th>AQ_rating_9</th>\n      <th>...</th>\n      <th>operating_sys_lang</th>\n      <th>GMT_timestamp</th>\n      <th>email</th>\n      <th>block1_complete</th>\n      <th>block2_complete</th>\n      <th>block3_complete</th>\n      <th>completion_code</th>\n      <th>feedback</th>\n      <th>completion_time</th>\n      <th>recaptcha_complete</th>\n    </tr>\n  </thead>\n  <tbody>\n    <tr>\n      <th>9</th>\n      <td>23</td>\n      <td>4.0</td>\n      <td>3.0</td>\n      <td>4.0</td>\n      <td>3.0</td>\n      <td>4.0</td>\n      <td>4.0</td>\n      <td>1.0</td>\n      <td>4.0</td>\n      <td>4.0</td>\n      <td>...</td>\n      <td>None</td>\n      <td>2022-08-31 09:26:59.949538</td>\n      <td>Judegarner0@gmail.com</td>\n      <td>1</td>\n      <td>1</td>\n      <td>1</td>\n      <td>XXXY</td>\n      <td>None</td>\n      <td>None</td>\n      <td>NaN</td>\n    </tr>\n    <tr>\n      <th>57</th>\n      <td>77</td>\n      <td>3.0</td>\n      <td>3.0</td>\n      <td>3.0</td>\n      <td>4.0</td>\n      <td>3.0</td>\n      <td>4.0</td>\n      <td>4.0</td>\n      <td>3.0</td>\n      <td>4.0</td>\n      <td>...</td>\n      <td>None</td>\n      <td>2022-08-31 11:45:05.150238</td>\n      <td>itiswell482@outlook.com</td>\n      <td>1</td>\n      <td>1</td>\n      <td>1</td>\n      <td>XXXY</td>\n      <td>nothing odd in the game</td>\n      <td>None</td>\n      <td>NaN</td>\n    </tr>\n    <tr>\n      <th>67</th>\n      <td>87</td>\n      <td>2.0</td>\n      <td>3.0</td>\n      <td>3.0</td>\n      <td>3.0</td>\n      <td>3.0</td>\n      <td>3.0</td>\n      <td>3.0</td>\n      <td>3.0</td>\n      <td>3.0</td>\n      <td>...</td>\n      <td>None</td>\n      <td>2022-08-31 12:15:14.467452</td>\n      <td>itmake636@gmail.com</td>\n      <td>1</td>\n      <td>1</td>\n      <td>1</td>\n      <td>XXXY</td>\n      <td>i did not use any strategy, i concentrated.</td>\n      <td>None</td>\n      <td>NaN</td>\n    </tr>\n    <tr>\n      <th>80</th>\n      <td>104</td>\n      <td>4.0</td>\n      <td>4.0</td>\n      <td>4.0</td>\n      <td>4.0</td>\n      <td>4.0</td>\n      <td>4.0</td>\n      <td>1.0</td>\n      <td>4.0</td>\n      <td>4.0</td>\n      <td>...</td>\n      <td>None</td>\n      <td>2022-08-31 12:51:37.255498</td>\n      <td>henrypeters234@gmail.com</td>\n      <td>1</td>\n      <td>1</td>\n      <td>1</td>\n      <td>XXXY</td>\n      <td>Read the questions thoroughly</td>\n      <td>None</td>\n      <td>NaN</td>\n    </tr>\n    <tr>\n      <th>93</th>\n      <td>122</td>\n      <td>3.0</td>\n      <td>3.0</td>\n      <td>3.0</td>\n      <td>3.0</td>\n      <td>3.0</td>\n      <td>3.0</td>\n      <td>3.0</td>\n      <td>3.0</td>\n      <td>3.0</td>\n      <td>...</td>\n      <td>None</td>\n      <td>2022-08-31 13:14:51.390796</td>\n      <td>pnum01422@gmail.com</td>\n      <td>1</td>\n      <td>1</td>\n      <td>1</td>\n      <td>XXXY</td>\n      <td>no difficulty</td>\n      <td>None</td>\n      <td>NaN</td>\n    </tr>\n    <tr>\n      <th>100</th>\n      <td>140</td>\n      <td>3.0</td>\n      <td>1.0</td>\n      <td>2.0</td>\n      <td>1.0</td>\n      <td>1.0</td>\n      <td>2.0</td>\n      <td>3.0</td>\n      <td>3.0</td>\n      <td>1.0</td>\n      <td>...</td>\n      <td>None</td>\n      <td>2022-09-05 01:07:11.373383</td>\n      <td>Alex@alexstave.com</td>\n      <td>1</td>\n      <td>1</td>\n      <td>1</td>\n      <td>XXXZ</td>\n      <td>I found the last game confusing... All the sen...</td>\n      <td>None</td>\n      <td>NaN</td>\n    </tr>\n    <tr>\n      <th>101</th>\n      <td>141</td>\n      <td>4.0</td>\n      <td>4.0</td>\n      <td>2.0</td>\n      <td>2.0</td>\n      <td>3.0</td>\n      <td>3.0</td>\n      <td>2.0</td>\n      <td>4.0</td>\n      <td>3.0</td>\n      <td>...</td>\n      <td>None</td>\n      <td>2022-09-07 02:32:59.571002</td>\n      <td>JohnnyLDudley@gmail.com</td>\n      <td>1</td>\n      <td>1</td>\n      <td>1</td>\n      <td>XXXX</td>\n      <td>The first phase of the game was a good brain t...</td>\n      <td>2022-09-06 23:00:15.728405</td>\n      <td>NaN</td>\n    </tr>\n    <tr>\n      <th>103</th>\n      <td>143</td>\n      <td>4.0</td>\n      <td>2.0</td>\n      <td>1.0</td>\n      <td>1.0</td>\n      <td>2.0</td>\n      <td>2.0</td>\n      <td>2.0</td>\n      <td>3.0</td>\n      <td>2.0</td>\n      <td>...</td>\n      <td>None</td>\n      <td>2022-09-07 15:11:25.458231</td>\n      <td>dave@trahans.net</td>\n      <td>1</td>\n      <td>1</td>\n      <td>1</td>\n      <td>XXXX</td>\n      <td>I had a very hard time with the stories where ...</td>\n      <td>2022-09-07 11:39:07.421088</td>\n      <td>NaN</td>\n    </tr>\n    <tr>\n      <th>119</th>\n      <td>168</td>\n      <td>3.0</td>\n      <td>3.0</td>\n      <td>3.0</td>\n      <td>3.0</td>\n      <td>3.0</td>\n      <td>3.0</td>\n      <td>3.0</td>\n      <td>3.0</td>\n      <td>3.0</td>\n      <td>...</td>\n      <td>None</td>\n      <td>2022-09-08 10:52:10.090052</td>\n      <td>stviloveyou@gmail.com</td>\n      <td>1</td>\n      <td>1</td>\n      <td>1</td>\n      <td>XXXX</td>\n      <td></td>\n      <td>2022-09-08 07:16:51.527015</td>\n      <td>NaN</td>\n    </tr>\n    <tr>\n      <th>144</th>\n      <td>194</td>\n      <td>3.0</td>\n      <td>3.0</td>\n      <td>3.0</td>\n      <td>3.0</td>\n      <td>3.0</td>\n      <td>3.0</td>\n      <td>3.0</td>\n      <td>3.0</td>\n      <td>3.0</td>\n      <td>...</td>\n      <td>None</td>\n      <td>2022-09-08 14:07:30.324566</td>\n      <td>soonwow041@gmail.com</td>\n      <td>1</td>\n      <td>1</td>\n      <td>1</td>\n      <td>XXXX</td>\n      <td></td>\n      <td>2022-09-08 10:36:48.233112</td>\n      <td>NaN</td>\n    </tr>\n    <tr>\n      <th>236</th>\n      <td>294</td>\n      <td>4.0</td>\n      <td>1.0</td>\n      <td>1.0</td>\n      <td>2.0</td>\n      <td>2.0</td>\n      <td>2.0</td>\n      <td>3.0</td>\n      <td>4.0</td>\n      <td>2.0</td>\n      <td>...</td>\n      <td>None</td>\n      <td>2022-09-09 05:07:53.312603</td>\n      <td>rbinjackson@gmail.com</td>\n      <td>1</td>\n      <td>1</td>\n      <td>1</td>\n      <td>XXXX</td>\n      <td>the answers felt the same and all the statemen...</td>\n      <td>2022-09-09 01:42:24.198826</td>\n      <td>NaN</td>\n    </tr>\n    <tr>\n      <th>242</th>\n      <td>302</td>\n      <td>4.0</td>\n      <td>4.0</td>\n      <td>4.0</td>\n      <td>2.0</td>\n      <td>3.0</td>\n      <td>2.0</td>\n      <td>3.0</td>\n      <td>3.0</td>\n      <td>1.0</td>\n      <td>...</td>\n      <td>None</td>\n      <td>2022-09-09 05:44:52.884947</td>\n      <td>mattewgretchen@gmail.com</td>\n      <td>1</td>\n      <td>1</td>\n      <td>1</td>\n      <td>XXXX</td>\n      <td>the answer mostly lies within first and last p...</td>\n      <td>2022-09-09 02:20:52.353413</td>\n      <td>NaN</td>\n    </tr>\n    <tr>\n      <th>303</th>\n      <td>373</td>\n      <td>3.0</td>\n      <td>3.0</td>\n      <td>3.0</td>\n      <td>3.0</td>\n      <td>3.0</td>\n      <td>3.0</td>\n      <td>3.0</td>\n      <td>3.0</td>\n      <td>3.0</td>\n      <td>...</td>\n      <td>None</td>\n      <td>2022-09-09 18:21:14.654699</td>\n      <td>ngood2600@gmail.com</td>\n      <td>1</td>\n      <td>1</td>\n      <td>1</td>\n      <td>XXXX</td>\n      <td></td>\n      <td>2022-09-09 14:46:27.753851</td>\n      <td>NaN</td>\n    </tr>\n    <tr>\n      <th>329</th>\n      <td>412</td>\n      <td>4.0</td>\n      <td>1.0</td>\n      <td>1.0</td>\n      <td>1.0</td>\n      <td>1.0</td>\n      <td>1.0</td>\n      <td>4.0</td>\n      <td>4.0</td>\n      <td>1.0</td>\n      <td>...</td>\n      <td>None</td>\n      <td>2022-09-09 22:19:43.165675</td>\n      <td>erinddekker@gmail.com</td>\n      <td>1</td>\n      <td>1</td>\n      <td>1</td>\n      <td>XXXX</td>\n      <td>I think the story text went way too fast. I co...</td>\n      <td>2022-09-09 18:47:44.495504</td>\n      <td>NaN</td>\n    </tr>\n    <tr>\n      <th>369</th>\n      <td>474</td>\n      <td>4.0</td>\n      <td>3.0</td>\n      <td>2.0</td>\n      <td>3.0</td>\n      <td>3.0</td>\n      <td>3.0</td>\n      <td>4.0</td>\n      <td>4.0</td>\n      <td>3.0</td>\n      <td>...</td>\n      <td>None</td>\n      <td>2022-09-10 10:03:06.477237</td>\n      <td>aiyanakaren657754@gmail.com</td>\n      <td>1</td>\n      <td>1</td>\n      <td>1</td>\n      <td>XXXX</td>\n      <td>no everything went fine</td>\n      <td>2022-09-10 06:25:29.340825</td>\n      <td>NaN</td>\n    </tr>\n    <tr>\n      <th>397</th>\n      <td>527</td>\n      <td>2.0</td>\n      <td>3.0</td>\n      <td>3.0</td>\n      <td>4.0</td>\n      <td>3.0</td>\n      <td>4.0</td>\n      <td>4.0</td>\n      <td>4.0</td>\n      <td>4.0</td>\n      <td>...</td>\n      <td>None</td>\n      <td>2022-09-10 15:30:02.101147</td>\n      <td>Cocoroddy94@gmail.com</td>\n      <td>1</td>\n      <td>1</td>\n      <td>1</td>\n      <td>XXXX</td>\n      <td>The game was cool</td>\n      <td>2022-09-10 11:53:38.021031</td>\n      <td>NaN</td>\n    </tr>\n    <tr>\n      <th>406</th>\n      <td>540</td>\n      <td>4.0</td>\n      <td>2.0</td>\n      <td>2.0</td>\n      <td>1.0</td>\n      <td>2.0</td>\n      <td>2.0</td>\n      <td>3.0</td>\n      <td>1.0</td>\n      <td>2.0</td>\n      <td>...</td>\n      <td>None</td>\n      <td>2022-09-10 19:43:00.036734</td>\n      <td>emusil@gmail.com</td>\n      <td>1</td>\n      <td>1</td>\n      <td>1</td>\n      <td>XXXX</td>\n      <td>The second part especially was very confusing ...</td>\n      <td>2022-09-10 16:08:39.255063</td>\n      <td>1.0</td>\n    </tr>\n    <tr>\n      <th>411</th>\n      <td>545</td>\n      <td>4.0</td>\n      <td>2.0</td>\n      <td>2.0</td>\n      <td>1.0</td>\n      <td>1.0</td>\n      <td>2.0</td>\n      <td>2.0</td>\n      <td>4.0</td>\n      <td>1.0</td>\n      <td>...</td>\n      <td>None</td>\n      <td>2022-09-11 15:38:56.164597</td>\n      <td>zackbartley@yahoo.com</td>\n      <td>1</td>\n      <td>1</td>\n      <td>1</td>\n      <td>XXXX</td>\n      <td>I thought the game was interesting, yet the se...</td>\n      <td>2022-09-11 12:07:52.953088</td>\n      <td>1.0</td>\n    </tr>\n  </tbody>\n</table>\n<p>18 rows × 29 columns</p>\n</div>"
     },
     "execution_count": 17,
     "metadata": {},
     "output_type": "execute_result"
    }
   ],
   "source": [
    "a_dat[a_dat.prolific_id.isin(dat.loc[dat.group== 'Autism'].prolific_id.unique().tolist())]"
   ],
   "metadata": {
    "collapsed": false,
    "pycharm": {
     "name": "#%%\n"
    }
   }
  },
  {
   "cell_type": "code",
   "execution_count": 18,
   "outputs": [
    {
     "data": {
      "text/plain": "<Figure size 720x576 with 1 Axes>",
      "image/png": "[encoded data removed]"
     },
     "metadata": {},
     "output_type": "display_data"
    }
   ],
   "source": [
    "## Scoring\n",
    "agree = ['AQ_rating_1', 'AQ_rating_7', 'AQ_rating_8', 'AQ_rating_10'] # score of 3 or 4 get a point\n",
    "disagree = ['AQ_rating_2','AQ_rating_3','AQ_rating_4','AQ_rating_5','AQ_rating_6','AQ_rating_9', ] # score of 1 or 2 get a point]\n",
    "a = a_dat[agree] >= 3\n",
    "b = a_dat[disagree] < 3\n",
    "a_dat['AQ_score'] = a.sum(axis=1) + b.sum(axis=1)\n",
    "a_dat = a_dat[a_dat.prolific_id.isin(dat.prolific_id.unique().tolist())]\n",
    "\n",
    "fg, ax = plt.subplots(figsize=(10, 8))\n",
    "sns.countplot(data=a_dat, x='AQ_score', ax=ax);"
   ],
   "metadata": {
    "collapsed": false,
    "pycharm": {
     "name": "#%%\n"
    }
   }
  },
  {
   "cell_type": "code",
   "execution_count": null,
   "outputs": [],
   "source": [
    "e_dat.groupby('diag').describe()"
   ],
   "metadata": {
    "collapsed": false,
    "pycharm": {
     "name": "#%%\n"
    }
   }
  },
  {
   "cell_type": "code",
   "execution_count": 19,
   "outputs": [],
   "source": [
    "cdat = dat.loc[dat.correct ==True]\n",
    "for subject in dat.prolific_id.unique():\n",
    "    # calculate mean RT for belief ascription\n",
    "    a_dat.loc[a_dat.prolific_id == subject, 'avg_ThinkRT'] = cdat.loc[(cdat.prolific_id == subject) & (cdat.ascription_type == 'Thinks')].rt_ms.mean()\n",
    "    a_dat.loc[a_dat.prolific_id == subject, 'avg_KnowRT'] = cdat.loc[(cdat.prolific_id == subject) & (cdat.ascription_type == 'Knows')].rt_ms.mean()\n",
    "\n",
    "a_dat['RT_diff'] = a_dat.apply(lambda row: row['avg_ThinkRT'] - row['avg_KnowRT'], axis=1)\n"
   ],
   "metadata": {
    "collapsed": false,
    "pycharm": {
     "name": "#%%\n"
    }
   }
  },
  {
   "cell_type": "code",
   "execution_count": 20,
   "outputs": [
    {
     "data": {
      "text/plain": "<Figure size 360x360 with 1 Axes>",
      "image/png": "[encoded data removed]"
     },
     "metadata": {},
     "output_type": "display_data"
    }
   ],
   "source": [
    "sns.lmplot(x='AQ_score', y='RT_diff', data=a_dat);\n"
   ],
   "metadata": {
    "collapsed": false,
    "pycharm": {
     "name": "#%%\n"
    }
   }
  },
  {
   "cell_type": "code",
   "execution_count": null,
   "outputs": [],
   "source": [],
   "metadata": {
    "collapsed": false,
    "pycharm": {
     "name": "#%%\n"
    }
   }
  }
 ],
 "metadata": {
  "kernelspec": {
   "display_name": "Python 3",
   "language": "python",
   "name": "python3"
  },
  "language_info": {
   "codemirror_mode": {
    "name": "ipython",
    "version": 2
   },
   "file_extension": ".py",
   "mimetype": "text/x-python",
   "name": "python",
   "nbconvert_exporter": "python",
   "pygments_lexer": "ipython2",
   "version": "2.7.6"
  }
 },
 "nbformat": 4,
 "nbformat_minor": 0
}