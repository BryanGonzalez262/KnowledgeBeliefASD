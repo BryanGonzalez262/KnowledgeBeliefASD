{
 "cells": [
  {
   "cell_type": "code",
   "execution_count": 15,
   "outputs": [],
   "source": [
    "import sqlite3\n",
    "import pandas as pd\n",
    "import numpy as np\n",
    "import datetime\n",
    "import matplotlib.pyplot as plt\n",
    "import seaborn as sns\n",
    "from ast import literal_eval\n",
    "from urllib.request import urlopen\n",
    "from json import load\n",
    "sns.set_style('white')\n",
    "sns.set_context('notebook')"
   ],
   "metadata": {
    "collapsed": false,
    "pycharm": {
     "name": "#%%\n"
    }
   }
  },
  {
   "cell_type": "markdown",
   "source": [
    "# 1. Import Data"
   ],
   "metadata": {
    "collapsed": false,
    "pycharm": {
     "name": "#%% md\n"
    }
   }
  },
  {
   "cell_type": "code",
   "execution_count": 16,
   "outputs": [],
   "source": [
    "# ASC Cohort\n",
    "conn = sqlite3.connect('./Data/knwlg_blf.db')\n",
    "#dat1 = pd.read_sql(\"SELECT * FROM trials A INNER JOIN subjects B ON A.prolific_id = B.prolific_id WHERE B.completion_code LIKE '%XXX%'\", con=conn)\n",
    "dat1 = pd.read_sql(\"SELECT * FROM trials A INNER JOIN subjects B ON A.prolific_id = B.prolific_id \"\n",
    "                   \"WHERE B.block1_complete=TRUE \"\n",
    "                   \"AND B.block2_complete=TRUE \"\n",
    "                   \"AND B.block3_complete=TRUE \"\n",
    "                   \"AND B.completion_code LIKE '%XXX%'\", con=conn)\n",
    "dat1 = dat1.loc[:,~dat1.columns.duplicated()].copy() # prolific id from both tables will be in df, remove duplicate\n",
    "# REMOVE DISTRACTORS\n",
    "dat1 = dat1.loc[dat1.trial_type == 'test'].reset_index(drop=True)\n",
    "dat1['group'] = 'Autism'\n",
    "\n",
    "# TD cohort\n",
    "conn2 = sqlite3.connect('./Data/knwlg_blf_controls.db')\n",
    "dat2 = pd.read_sql('SELECT * FROM trials A INNER JOIN subjects B ON A.prolific_id = B.prolific_id WHERE B.completion_code=\"548DA3BD\"', con=conn2)\n",
    "dat2 = dat2.loc[:,~dat2.columns.duplicated()].copy() # prolific id from both tables will be in df, remove duplicate\n",
    "# REMOVE DISTRACTORS\n",
    "dat2 = dat2.loc[dat2.trial_type == 'test'].reset_index(drop=True)\n",
    "dat2['email'] = 'N/A'\n",
    "dat2['group'] = 'Neurotypical'\n",
    "\n",
    "# Combine into one big dataframe\n",
    "dat = pd.concat(objs=[dat1,dat2], ignore_index=True)\n",
    "#\n",
    "dat['email'] = dat.email.str.lower().str.strip()\n",
    "\n",
    "# data saved for testing purposes has id as float instead of alphanumeric so only keep alphanumeric IDs\n",
    "dat = dat[dat.prolific_id.str.isalnum()].reset_index(drop=True)\n",
    "dat['response_key'] = dat.response_key.apply(literal_eval)\n",
    "\n",
    "# NOTE: after September 10th, 2022, completion of recaptcha saved to database."
   ],
   "metadata": {
    "collapsed": false,
    "pycharm": {
     "name": "#%%\n"
    }
   }
  },
  {
   "cell_type": "code",
   "execution_count": 18,
   "outputs": [
    {
     "data": {
      "text/plain": "Empty DataFrame\nColumns: [id, trial_num, correct, trial_type, scenario, belief_type, ascription_type, correct_answer, target_onset, response_onset, response_key, prolific_id, ip_addy, session_id, participation_date, browser, browser_version, screen_width, screen_height, operating_sys, operating_sys_lang, GMT_timestamp, email, block1_complete, block2_complete, block3_complete, completion_code, feedback, completion_time, recaptcha_complete, group]\nIndex: []\n\n[0 rows x 31 columns]",
      "text/html": "<div>\n<style scoped>\n    .dataframe tbody tr th:only-of-type {\n        vertical-align: middle;\n    }\n\n    .dataframe tbody tr th {\n        vertical-align: top;\n    }\n\n    .dataframe thead th {\n        text-align: right;\n    }\n</style>\n<table border=\"1\" class=\"dataframe\">\n  <thead>\n    <tr style=\"text-align: right;\">\n      <th></th>\n      <th>id</th>\n      <th>trial_num</th>\n      <th>correct</th>\n      <th>trial_type</th>\n      <th>scenario</th>\n      <th>belief_type</th>\n      <th>ascription_type</th>\n      <th>correct_answer</th>\n      <th>target_onset</th>\n      <th>response_onset</th>\n      <th>...</th>\n      <th>GMT_timestamp</th>\n      <th>email</th>\n      <th>block1_complete</th>\n      <th>block2_complete</th>\n      <th>block3_complete</th>\n      <th>completion_code</th>\n      <th>feedback</th>\n      <th>completion_time</th>\n      <th>recaptcha_complete</th>\n      <th>group</th>\n    </tr>\n  </thead>\n  <tbody>\n  </tbody>\n</table>\n<p>0 rows × 31 columns</p>\n</div>"
     },
     "execution_count": 18,
     "metadata": {},
     "output_type": "execute_result"
    }
   ],
   "source": [
    "dat.loc[dat.email == 'jamesdenisee@outlook.com']#.correct.mean()\n",
    "#dat.email.sort_values( axis=0).unique()"
   ],
   "metadata": {
    "collapsed": false,
    "pycharm": {
     "name": "#%%\n"
    }
   }
  },
  {
   "cell_type": "markdown",
   "source": [
    "## Cleaning"
   ],
   "metadata": {
    "collapsed": false,
    "pycharm": {
     "name": "#%% md\n"
    }
   }
  },
  {
   "cell_type": "markdown",
   "source": [
    "## Convert SQL strings to python datetime object and compute timedeltas"
   ],
   "metadata": {
    "collapsed": false,
    "pycharm": {
     "name": "#%% md\n"
    }
   }
  },
  {
   "cell_type": "code",
   "execution_count": 3,
   "outputs": [],
   "source": [
    "def convert_time(x):\n",
    "    if type(x) == str:\n",
    "        return datetime.datetime.strptime(x, '%Y-%m-%d %H:%M:%S.%f')\n",
    "\n",
    "dat[['response_onset','target_onset','participation_date','completion_time']] = dat[['response_onset','target_onset','participation_date','completion_time']].applymap(convert_time)\n",
    "\n",
    "dat['rt'] = dat.apply(lambda row: row['response_onset'] - row['target_onset'], axis=1)\n",
    "dat['rt_ms'] = dat.apply(lambda row: int(round(row['rt'].total_seconds() * 1e3)), axis=1)"
   ],
   "metadata": {
    "collapsed": false,
    "pycharm": {
     "name": "#%%\n"
    }
   }
  },
  {
   "cell_type": "markdown",
   "source": [
    "## Time to Complete"
   ],
   "metadata": {
    "collapsed": false,
    "pycharm": {
     "name": "#%% md\n"
    }
   }
  },
  {
   "cell_type": "code",
   "execution_count": 4,
   "outputs": [
    {
     "data": {
      "text/plain": "Timestamp('2022-09-06 22:32:59.570970')"
     },
     "execution_count": 4,
     "metadata": {},
     "output_type": "execute_result"
    }
   ],
   "source": [
    "#dat.iloc[2]['completion_time']\n",
    "dat[~dat.completion_time.isnull()].completion_time.values[0] - dat[~dat.completion_time.isnull()].participation_date.values[0]\n",
    "\n",
    "a = dat[~dat.completion_time.isnull()].iloc[0].completion_time#.groupby('prolific_id').completion_time.count()\n",
    "b = dat[~dat.completion_time.isnull()].iloc[0].participation_date#.groupby('prolific_id').completion_time.count()\n",
    "b"
   ],
   "metadata": {
    "collapsed": false,
    "pycharm": {
     "name": "#%%\n"
    }
   }
  },
  {
   "cell_type": "code",
   "execution_count": 5,
   "outputs": [],
   "source": [
    "idx = dat[~dat.completion_time.isnull()].index\n",
    "dat['study_duration'] = None\n",
    "dat.loc[idx, 'study_duration'] = dat.loc[idx].completion_time - dat.loc[idx].participation_date\n",
    "#dat.loc[idx].groupby('prolific_id').mean()"
   ],
   "metadata": {
    "collapsed": false,
    "pycharm": {
     "name": "#%%\n"
    }
   }
  },
  {
   "cell_type": "markdown",
   "source": [
    "# 2. Accuracy"
   ],
   "metadata": {
    "collapsed": false,
    "pycharm": {
     "name": "#%% md\n"
    }
   }
  },
  {
   "cell_type": "markdown",
   "source": [
    "### Note where subjects entered invalid responses"
   ],
   "metadata": {
    "collapsed": false,
    "pycharm": {
     "name": "#%% md\n"
    }
   }
  },
  {
   "cell_type": "code",
   "execution_count": 6,
   "outputs": [
    {
     "name": "stdout",
     "output_type": "stream",
     "text": [
      "101 participants responded at least one trial with invalid keys. \n",
      "16 of these are from the neurotypical group. \n",
      " 85 of these are from the autism group.\n"
     ]
    }
   ],
   "source": [
    "accepted_answers = ['f', 'j', '999']\n",
    "dat['accepted_answer'] = None\n",
    "for i, response in enumerate(dat.response_key):\n",
    "    if sum([key.lower() in accepted_answers for key in response]) >= 1:  # == len(response):\n",
    "        dat.loc[i, 'accepted_answer'] = True\n",
    "    else:\n",
    "        dat.loc[i, 'accepted_answer'] = False\n",
    "\n",
    "print(f\"{len(dat.loc[dat.accepted_answer == False].prolific_id.unique())} participants responded at least one trial with invalid keys. \\n\"\n",
    "      f\"{len(dat.loc[(dat.accepted_answer == False)&(dat.group == 'Neurotypical')].prolific_id.unique())} of these are from the neurotypical group. \\n\"\n",
    "      f\" {len(dat.loc[(dat.accepted_answer == False)&(dat.group == 'Autism')].prolific_id.unique())} of these are from the autism group.\")"
   ],
   "metadata": {
    "collapsed": false,
    "pycharm": {
     "name": "#%%\n"
    }
   }
  },
  {
   "cell_type": "markdown",
   "source": [
    "### Note trials where subjects timed-out after the 5-seconds"
   ],
   "metadata": {
    "collapsed": false,
    "pycharm": {
     "name": "#%% md\n"
    }
   }
  },
  {
   "cell_type": "code",
   "execution_count": 7,
   "outputs": [
    {
     "name": "stdout",
     "output_type": "stream",
     "text": [
      "530 participants timed out during at least one trial. \n",
      "176 of these are from the neurotypical group. \n",
      " 354 of these are from the autism group.\n"
     ]
    }
   ],
   "source": [
    "dat['timeout'] = False\n",
    "# Here are timeouts without a response at all\n",
    "dat.loc[dat.apply(lambda row: '999' in row['response_key'], axis=1), 'timeout'] = True\n",
    "# Here is where pps pressed a key after 5 seconds, but before the experiment redirected\n",
    "timeouts = dat.loc[(dat.response_key.apply(len)>1) & (dat.apply(lambda row: '999' in row['response_key'], axis=1))].index\n",
    "dat.loc[timeouts, 'timeout'] = True\n",
    "\n",
    "print(f\"{len(dat.loc[dat.timeout == True].prolific_id.unique())} participants timed out during at least one trial. \\n\"\n",
    "      f\"{len(dat.loc[(dat.timeout == True)&(dat.group == 'Neurotypical')].prolific_id.unique())} of these are from the neurotypical group. \\n\"\n",
    "      f\" {len(dat.loc[(dat.timeout == True)&(dat.group == 'Autism')].prolific_id.unique())} of these are from the autism group.\")"
   ],
   "metadata": {
    "collapsed": false,
    "pycharm": {
     "name": "#%%\n"
    }
   }
  },
  {
   "cell_type": "code",
   "execution_count": 8,
   "outputs": [],
   "source": [
    "# If subjects hit more than one key, use only the last one\n",
    "dat['response_key'] = [resp[-1].lower() for resp in dat.response_key]"
   ],
   "metadata": {
    "collapsed": false,
    "pycharm": {
     "name": "#%%\n"
    }
   }
  },
  {
   "cell_type": "code",
   "execution_count": 9,
   "outputs": [],
   "source": [
    "#  correct answers\n",
    "dat.loc[dat.belief_type == 'TB', 'correct_answer'] = 'j'\n",
    "dat.loc[dat.belief_type != 'TB', 'correct_answer'] = 'f'\n",
    "# update correct column based on new answer key\n",
    "dat['correct'] = dat.apply(lambda row: row['response_key'] == row['correct_answer'], axis=1)\n",
    "\n",
    "# timeouts are considered incorrect\n",
    "dat.loc[dat.timeout == True, 'correct'] = False"
   ],
   "metadata": {
    "collapsed": false,
    "pycharm": {
     "name": "#%%\n"
    }
   }
  },
  {
   "cell_type": "markdown",
   "source": [
    "## Exclude participants with mean accuracy < .6"
   ],
   "metadata": {
    "collapsed": false,
    "pycharm": {
     "name": "#%% md\n"
    }
   }
  },
  {
   "cell_type": "code",
   "execution_count": 10,
   "outputs": [
    {
     "data": {
      "text/plain": "<matplotlib.axes._subplots.AxesSubplot at 0x7fa9cc7ad2e0>"
     },
     "execution_count": 10,
     "metadata": {},
     "output_type": "execute_result"
    },
    {
     "data": {
      "text/plain": "<Figure size 432x288 with 1 Axes>",
      "image/png": "[encoded data removed]"
     },
     "metadata": {},
     "output_type": "display_data"
    }
   ],
   "source": [
    "dat.loc[dat.group == 'Autism'].groupby('prolific_id').correct.mean().hist()"
   ],
   "metadata": {
    "collapsed": false,
    "pycharm": {
     "name": "#%%\n"
    }
   }
  },
  {
   "cell_type": "code",
   "execution_count": null,
   "outputs": [],
   "source": [
    "print(f'N autism cohort before exclusion: {len(dat.loc[dat.group == \"Autism\"].prolific_id.unique())}')\n",
    "## Exclude participants with mean accuracy < .6\n",
    "xx = dat.groupby('prolific_id').correct.mean() > .6\n",
    "dat = dat.loc[dat.prolific_id.isin(xx[xx == True].index.tolist())]"
   ],
   "metadata": {
    "collapsed": false,
    "pycharm": {
     "name": "#%%\n"
    }
   }
  },
  {
   "cell_type": "code",
   "execution_count": null,
   "outputs": [],
   "source": [
    "print(f'N autism cohort after exclusion: {len(dat.loc[dat.group == \"Autism\"].prolific_id.unique())}')"
   ],
   "metadata": {
    "collapsed": false,
    "pycharm": {
     "name": "#%%\n"
    }
   }
  },
  {
   "cell_type": "code",
   "execution_count": null,
   "outputs": [],
   "source": [
    "v_dat = dat#.loc[(dat.accepted_answer == True)]\n",
    "acc = pd.DataFrame(columns=['cohort', 'agent_state', 'ascription', 'pct_correct', 'pct_incorrect'])\n",
    "for gro in dat['group'].unique():\n",
    "    for bel in dat.belief_type.unique():\n",
    "        for ascrip in dat.ascription_type.unique():\n",
    "            dd = v_dat.loc[(v_dat.group == gro)&(v_dat.belief_type==bel)&(v_dat.ascription_type==ascrip)]\n",
    "            pc = len(dd.loc[dd.correct== True])/len(dd)\n",
    "            ndf = pd.DataFrame({'cohort':[gro], 'agent_state':[bel], 'ascription':[ascrip], 'pct_correct':[pc], 'pct_incorrect':[1-pc]})\n",
    "            acc = pd.concat([acc,ndf ], axis=0)#.reset_index(drop=True)\n",
    "#sns.barplot(x='belief_type', row='group', x='ascription_type', hue='correct', kind='bar', data=)\n",
    "#sns.histplot(data=v_dat, x='belief_type', hue='correct', multiple='stack', element='bars', stat='percent')"
   ],
   "metadata": {
    "collapsed": false,
    "pycharm": {
     "name": "#%%\n"
    }
   }
  },
  {
   "cell_type": "code",
   "execution_count": null,
   "outputs": [],
   "source": [
    "import matplotlib.patches as mpatches\n",
    "acc['total'] = 1\n",
    "acc.melt(id_vars=['cohort', 'agent_state', 'ascription'], value_vars=['pct_correct', 'total'], value_name='Percent', var_name='Accuracy')\n",
    "#sns.catplot(col='belief_type', row='group', x='correct', hue='ascription_type', kind='count', data=dat)\n",
    "#dat.groupby('group').prolific_id.describe()\n",
    "# bar chart 1 -> top bars (group of 'smoker=No')\n",
    "#f, ax = plt.subplots(1, 2)\n",
    "#bar1 = sns.barplot(x=\"agent_state\",  y=\"total\", hue='ascription', data=acc.loc[acc.cohort == 'Neurotypical'], color='darkblue', ax=ax[0])\n",
    "#bar1a = sns.barplot(x=\"agent_state\",  y=\"total\", hue='ascription', data=acc.loc[acc.cohort == 'Autism'],  color='darkblue', ax=ax[1])\n",
    "\n",
    "# bar chart 2 -> bottom bars (group of 'smoker=Yes')\n",
    "#bar2 = sns.barplot(x=\"agent_state\",  y=\"pct_correct\", hue='ascription', data=acc.loc[acc.cohort == 'Neurotypical'], color='darkblue', ax=ax[0])\n",
    "#bar2a = sns.barplot(x=\"agent_state\",  y=\"pct_correct\", hue='ascription', data=acc.loc[acc.cohort == 'Autism'], color='darkblue', ax=ax[1])\n",
    "\n",
    "bar2 = sns.catplot(x=\"agent_state\", y=\"pct_correct\", hue='ascription', data=acc,col='cohort', kind='bar')\n",
    "# add legend\n"
   ],
   "metadata": {
    "collapsed": false,
    "pycharm": {
     "name": "#%%\n"
    }
   }
  },
  {
   "cell_type": "code",
   "execution_count": null,
   "outputs": [],
   "source": [
    "total = v_dat.groupby(['belief_type', 'ascription_type'])['accepted_answer'].sum().reset_index()\n",
    "correct = v_dat[v_dat.correct == True].groupby(['belief_type', 'ascription_type'])['accepted_answer'].sum().reset_index()\n",
    "\n",
    "correct['pct'] = [i / j * 100 for i,j in zip(len(correct), len(total))]\n",
    "total['pct'] = [i / j * 100 for i,j in zip(len(total), len(total))]\n",
    "\n",
    "# bar chart 1 -> top bars (group of 'smoker=No')\n",
    "bar1 = sns.barplot(x=\"belief_type\",  y=\"pct\", data=total, color='darkblue')\n",
    "\n",
    "# bar chart 2 -> bottom bars (group of 'smoker=Yes')\n",
    "bar2 = sns.barplot(x=\"belief_type\", y=\"pct\", data=correct, color='lightblue')\n",
    "\n",
    "# add legend\n",
    "top_bar = mpatches.Patch(color='darkblue', label='incorrect')\n",
    "bottom_bar = mpatches.Patch(color='lightblue', label='correct')\n",
    "plt.legend(handles=[top_bar, bottom_bar])\n"
   ],
   "metadata": {
    "collapsed": false,
    "pycharm": {
     "name": "#%%\n"
    }
   }
  },
  {
   "cell_type": "code",
   "execution_count": null,
   "outputs": [],
   "source": [
    "len(dat.loc[dat.group == 'Autism'].prolific_id.unique())"
   ],
   "metadata": {
    "collapsed": false,
    "pycharm": {
     "name": "#%%\n"
    }
   }
  },
  {
   "cell_type": "code",
   "execution_count": null,
   "outputs": [],
   "source": [
    "len(dat.loc[dat.group == 'Autism'].prolific_id.unique())\n"
   ],
   "metadata": {
    "collapsed": false,
    "pycharm": {
     "name": "#%%\n"
    }
   }
  },
  {
   "cell_type": "code",
   "execution_count": null,
   "outputs": [],
   "source": [
    "sns.catplot(col='belief_type', x='correct', hue='ascription_type', kind='count', data=dat)\n"
   ],
   "metadata": {
    "collapsed": false,
    "pycharm": {
     "name": "#%%\n"
    }
   }
  },
  {
   "cell_type": "markdown",
   "source": [
    "## Check to make sure all responses came AFTER the target onset"
   ],
   "metadata": {
    "collapsed": false,
    "pycharm": {
     "name": "#%% md\n"
    }
   }
  },
  {
   "cell_type": "code",
   "execution_count": null,
   "outputs": [],
   "source": [
    "sum(dat.apply(lambda row: row['response_onset'] > row['target_onset'], axis=1)) == len(dat)\n"
   ],
   "metadata": {
    "collapsed": false,
    "pycharm": {
     "name": "#%%\n"
    }
   }
  },
  {
   "cell_type": "markdown",
   "source": [
    "## Exclude subjects with mean RTs less than 1500ms or more than 4000ms"
   ],
   "metadata": {
    "collapsed": false,
    "pycharm": {
     "name": "#%% md\n"
    }
   }
  },
  {
   "cell_type": "code",
   "execution_count": null,
   "outputs": [],
   "source": [
    "xx = dat.groupby('prolific_id').rt_ms.mean() < 1500\n",
    "dat = dat.loc[dat.prolific_id.isin(xx[xx == False].index.tolist())]\n",
    "yy = dat.groupby('prolific_id').rt_ms.mean() > 4000\n",
    "dat = dat.loc[dat.prolific_id.isin(yy[yy == False].index.tolist())]\n",
    "\n",
    "for old, new in {'IG': 'Ignorance', 'TB': 'True Info', 'FB': 'False Info'}.items():\n",
    "    dat.belief_type.replace(old, new, inplace=True)"
   ],
   "metadata": {
    "collapsed": false,
    "pycharm": {
     "name": "#%%\n"
    }
   }
  },
  {
   "cell_type": "markdown",
   "source": [],
   "metadata": {
    "collapsed": false,
    "pycharm": {
     "name": "#%% md\n"
    }
   }
  },
  {
   "cell_type": "markdown",
   "source": [
    "# 3. Location"
   ],
   "metadata": {
    "collapsed": false,
    "pycharm": {
     "name": "#%% md\n"
    }
   }
  },
  {
   "cell_type": "code",
   "execution_count": 16,
   "outputs": [
    {
     "name": "stderr",
     "output_type": "stream",
     "text": [
      "<ipython-input-16-1034ab7d2aad>:2: SettingWithCopyWarning: \n",
      "A value is trying to be set on a copy of a slice from a DataFrame.\n",
      "Try using .loc[row_indexer,col_indexer] = value instead\n",
      "\n",
      "See the caveats in the documentation: https://pandas.pydata.org/pandas-docs/stable/user_guide/indexing.html#returning-a-view-versus-a-copy\n",
      "  adat[['city', 'region', 'country', 'loc', 'org', 'postal', 'timezone']] = None\n",
      "/Library/Frameworks/Python.framework/Versions/3.8/lib/python3.8/site-packages/pandas/core/indexing.py:1720: SettingWithCopyWarning: \n",
      "A value is trying to be set on a copy of a slice from a DataFrame.\n",
      "Try using .loc[row_indexer,col_indexer] = value instead\n",
      "\n",
      "See the caveats in the documentation: https://pandas.pydata.org/pandas-docs/stable/user_guide/indexing.html#returning-a-view-versus-a-copy\n",
      "  self._setitem_single_column(loc, value, pi)\n",
      "/Library/Frameworks/Python.framework/Versions/3.8/lib/python3.8/site-packages/pandas/core/indexing.py:1700: SettingWithCopyWarning: \n",
      "A value is trying to be set on a copy of a slice from a DataFrame.\n",
      "Try using .loc[row_indexer,col_indexer] = value instead\n",
      "\n",
      "See the caveats in the documentation: https://pandas.pydata.org/pandas-docs/stable/user_guide/indexing.html#returning-a-view-versus-a-copy\n",
      "  self._setitem_single_column(loc, v, pi)\n"
     ]
    },
    {
     "name": "stdout",
     "output_type": "stream",
     "text": [
      "issue with id: hkaDfNtDY7Vic6Q2\n",
      "issue with id: KcsjMENf2Rb52asn\n",
      "issue with id: QFgA4FniYFQUJiLD\n",
      "issue with id: cd1W9YvW5FmGdjut\n",
      "issue with id: skxn7ToatEqrJCMk\n",
      "issue with id: fAq7JhFiusgsyHBu\n",
      "issue with id: FVPK1H8ewC2Sn9I8\n",
      "issue with id: e6tEjiFq6RJhAeda\n",
      "issue with id: 03Tn02ZnXIdPCKpV\n",
      "issue with id: ZqMVfp7iexWMp6ae\n"
     ]
    }
   ],
   "source": [
    "adat = dat.loc[dat.group == 'Autism']\n",
    "adat[['city', 'region', 'country', 'loc', 'org', 'postal', 'timezone']] = None\n",
    "\n",
    "for subj in adat.prolific_id.unique():\n",
    "    addr = adat.loc[adat.prolific_id == subj, 'ip_addy'].values[0]\n",
    "    url = 'https://ipinfo.io/' + addr + '/json'\n",
    "    res = urlopen(url)\n",
    "    #response from url(if res==None then check connection)\n",
    "    data = load(res)\n",
    "    try:\n",
    "        adat.loc[adat.prolific_id == subj, ['city', 'region', 'country', 'loc', 'org', 'postal', 'timezone', 'email', 'participation_date', 'study_duration']] = [data['city'], data['region'], data['country'], data['loc'], data['org'], data['postal'], data['timezone'], adat.loc[adat.prolific_id == subj, 'email'].values[0], adat.loc[adat.prolific_id == subj, 'participation_date'].values[0], adat.loc[adat.prolific_id == subj, 'study_duration'].values[0]]\n",
    "    except:\n",
    "        print(f'issue with id: {subj}')"
   ],
   "metadata": {
    "collapsed": false,
    "pycharm": {
     "name": "#%%\n"
    }
   }
  },
  {
   "cell_type": "code",
   "execution_count": 18,
   "outputs": [
    {
     "name": "stdout",
     "output_type": "stream",
     "text": [
      "This person is from NG the email: dennisfrank0634@gmail.com, ip : 102.89.34.73\n",
      "This person is from NG the email: bjoe33320@gmail.com, ip : 102.89.40.49\n",
      "This person is from NG the email: thomasrheott@gmail.com, ip : 102.89.32.16\n",
      "This person is from NG the email: morning4447star@gmail.com, ip : 102.89.34.93\n",
      "This person is from NG the email: washington111dc@gmail.com, ip : 102.89.32.56\n",
      "This person is from NG the email: the90brainz@gmail.com, ip : 102.89.38.100\n",
      "This person is from NG the email: marvinsjames589@gmail.com, ip : 102.89.41.212\n",
      "This person is from NG the email: jasminefranklin059@gmail.com, ip : 102.89.34.252\n",
      "This person is from NG the email: lovemary4240@gmail.com, ip : 102.89.43.174\n",
      "This person is from NG the email: roserose42400@gmail.com, ip : 102.89.43.174\n"
     ]
    }
   ],
   "source": [
    "baddies = ['hkaDfNtDY7Vic6Q2', 'KcsjMENf2Rb52asn', 'QFgA4FniYFQUJiLD', 'cd1W9YvW5FmGdjut', 'skxn7ToatEqrJCMk', 'fAq7JhFiusgsyHBu', 'FVPK1H8ewC2Sn9I8', 'e6tEjiFq6RJhAeda', '03Tn02ZnXIdPCKpV', 'ZqMVfp7iexWMp6ae' ]\n",
    "\n",
    "for baddi in baddies:\n",
    "    bd = dat.loc[dat.prolific_id == baddi]\n",
    "    addr = adat.loc[adat.prolific_id == baddi, 'ip_addy'].values[0]\n",
    "    url = 'https://ipinfo.io/' + addr + '/json'\n",
    "    res = urlopen(url)\n",
    "#response from url(if res==None then check connection)\n",
    "    data = load(res)\n",
    "    print(f'This person is from {data[\"country\"]} the email: {adat.loc[adat.prolific_id == baddi, \"email\"].values[0]}, ip : {addr}')"
   ],
   "metadata": {
    "collapsed": false,
    "pycharm": {
     "name": "#%%\n"
    }
   }
  },
  {
   "cell_type": "code",
   "execution_count": 19,
   "outputs": [
    {
     "data": {
      "text/plain": "          prolific_id         participation_date                      email  \\\n262  p5JLgP3WMn82fe7K 2022-09-08 15:15:51.130380  deanmichelle362@gmail.com   \n34   5mJMsLdhcZUwGewc 2022-09-08 10:24:22.639544        la0683178@gmail.com   \n295  tBOdndfhbFLWQlLY 2022-09-08 07:09:05.696282   bobbywalsh14@outlook.com   \n294  tBOdndfhbFLWQlLY 2022-09-08 07:09:05.696282   bobbywalsh14@outlook.com   \n39   6Fvtqn9NlYOR24eK 2022-09-08 14:03:48.299150  fabiangeorge317@gmail.com   \n..                ...                        ...                        ...   \n300  tnGByjBjbUzRJwyf 2022-09-07 11:11:25.458222           dave@trahans.net   \n235  jcOXPqMioLJNLZ3D 2022-09-06 22:32:59.570970    johnnyldudley@gmail.com   \n299  tecm5esQvBW52caO 2022-09-09 18:19:43.165667      erinddekker@gmail.com   \n192  bSNCukXbOcNIXsLz 2022-09-09 01:07:53.312595      rbinjackson@gmail.com   \n284  s3Ed31rJbytskssZ 2022-09-10 11:16:19.792219  bobbywonder1084@gmail.com   \n\n            ip_addy         study_duration           city            region  \\\n262    102.89.32.42 0 days 00:51:26.307833    Santa Clara        California   \n34   107.181.178.85 0 days 00:27:06.224237    Los Angeles        California   \n295      5.62.49.86 0 days 01:39:31.869500          Miami           Florida   \n294  212.102.60.150 0 days 01:39:31.869500          Miami           Florida   \n39       5.62.59.13 0 days 02:48:44.985522          Miami           Florida   \n..              ...                    ...            ...               ...   \n300  191.96.227.102 0 days 00:27:41.962866  New York City          New York   \n235  174.105.249.50 0 days 00:27:16.157435       Columbus              Ohio   \n299    99.246.68.49 0 days 00:28:01.329837        Toronto           Ontario   \n192      3.88.19.57 0 days 00:34:30.886231        Ashburn          Virginia   \n284   108.51.41.233 0 days 01:55:13.577946     Washington  Washington, D.C.   \n\n    country                loc                                      org  \\\n262      US  37.3924,-121.9623                AS14061 DigitalOcean, LLC   \n34       US  34.0522,-118.2437                   AS46562 Performive LLC   \n295      US   25.7629,-80.1895           AS198605 AVAST Software s.r.o.   \n294      US   25.7629,-80.1895           AS198605 AVAST Software s.r.o.   \n39       US   25.7672,-80.2059           AS198605 AVAST Software s.r.o.   \n..      ...                ...                                      ...   \n300      US   40.7143,-74.0060              AS174 Cogent Communications   \n235      US   39.9444,-82.8903       AS10796 Charter Communications Inc   \n299      CA   43.5771,-79.6306  AS812 Rogers Communications Canada Inc.   \n192      US   39.0437,-77.4875                 AS14618 Amazon.com, Inc.   \n284      US   38.9518,-77.0203                   AS701 Verizon Business   \n\n    postal             timezone   correct  \n262  95054  America/Los_Angeles  0.000000  \n34   90009  America/Los_Angeles  0.000000  \n295  33131     America/New_York  0.000000  \n294  33131     America/New_York  0.000000  \n39   33130     America/New_York  0.000000  \n..     ...                  ...       ...  \n300  10004     America/New_York  0.833333  \n235  43227     America/New_York  0.916667  \n299    L5B      America/Toronto  0.916667  \n192  20147     America/New_York  0.916667  \n284  20011     America/New_York  1.000000  \n\n[328 rows x 13 columns]",
      "text/html": "<div>\n<style scoped>\n    .dataframe tbody tr th:only-of-type {\n        vertical-align: middle;\n    }\n\n    .dataframe tbody tr th {\n        vertical-align: top;\n    }\n\n    .dataframe thead th {\n        text-align: right;\n    }\n</style>\n<table border=\"1\" class=\"dataframe\">\n  <thead>\n    <tr style=\"text-align: right;\">\n      <th></th>\n      <th>prolific_id</th>\n      <th>participation_date</th>\n      <th>email</th>\n      <th>ip_addy</th>\n      <th>study_duration</th>\n      <th>city</th>\n      <th>region</th>\n      <th>country</th>\n      <th>loc</th>\n      <th>org</th>\n      <th>postal</th>\n      <th>timezone</th>\n      <th>correct</th>\n    </tr>\n  </thead>\n  <tbody>\n    <tr>\n      <th>262</th>\n      <td>p5JLgP3WMn82fe7K</td>\n      <td>2022-09-08 15:15:51.130380</td>\n      <td>deanmichelle362@gmail.com</td>\n      <td>102.89.32.42</td>\n      <td>0 days 00:51:26.307833</td>\n      <td>Santa Clara</td>\n      <td>California</td>\n      <td>US</td>\n      <td>37.3924,-121.9623</td>\n      <td>AS14061 DigitalOcean, LLC</td>\n      <td>95054</td>\n      <td>America/Los_Angeles</td>\n      <td>0.000000</td>\n    </tr>\n    <tr>\n      <th>34</th>\n      <td>5mJMsLdhcZUwGewc</td>\n      <td>2022-09-08 10:24:22.639544</td>\n      <td>la0683178@gmail.com</td>\n      <td>107.181.178.85</td>\n      <td>0 days 00:27:06.224237</td>\n      <td>Los Angeles</td>\n      <td>California</td>\n      <td>US</td>\n      <td>34.0522,-118.2437</td>\n      <td>AS46562 Performive LLC</td>\n      <td>90009</td>\n      <td>America/Los_Angeles</td>\n      <td>0.000000</td>\n    </tr>\n    <tr>\n      <th>295</th>\n      <td>tBOdndfhbFLWQlLY</td>\n      <td>2022-09-08 07:09:05.696282</td>\n      <td>bobbywalsh14@outlook.com</td>\n      <td>5.62.49.86</td>\n      <td>0 days 01:39:31.869500</td>\n      <td>Miami</td>\n      <td>Florida</td>\n      <td>US</td>\n      <td>25.7629,-80.1895</td>\n      <td>AS198605 AVAST Software s.r.o.</td>\n      <td>33131</td>\n      <td>America/New_York</td>\n      <td>0.000000</td>\n    </tr>\n    <tr>\n      <th>294</th>\n      <td>tBOdndfhbFLWQlLY</td>\n      <td>2022-09-08 07:09:05.696282</td>\n      <td>bobbywalsh14@outlook.com</td>\n      <td>212.102.60.150</td>\n      <td>0 days 01:39:31.869500</td>\n      <td>Miami</td>\n      <td>Florida</td>\n      <td>US</td>\n      <td>25.7629,-80.1895</td>\n      <td>AS198605 AVAST Software s.r.o.</td>\n      <td>33131</td>\n      <td>America/New_York</td>\n      <td>0.000000</td>\n    </tr>\n    <tr>\n      <th>39</th>\n      <td>6Fvtqn9NlYOR24eK</td>\n      <td>2022-09-08 14:03:48.299150</td>\n      <td>fabiangeorge317@gmail.com</td>\n      <td>5.62.59.13</td>\n      <td>0 days 02:48:44.985522</td>\n      <td>Miami</td>\n      <td>Florida</td>\n      <td>US</td>\n      <td>25.7672,-80.2059</td>\n      <td>AS198605 AVAST Software s.r.o.</td>\n      <td>33130</td>\n      <td>America/New_York</td>\n      <td>0.000000</td>\n    </tr>\n    <tr>\n      <th>...</th>\n      <td>...</td>\n      <td>...</td>\n      <td>...</td>\n      <td>...</td>\n      <td>...</td>\n      <td>...</td>\n      <td>...</td>\n      <td>...</td>\n      <td>...</td>\n      <td>...</td>\n      <td>...</td>\n      <td>...</td>\n      <td>...</td>\n    </tr>\n    <tr>\n      <th>300</th>\n      <td>tnGByjBjbUzRJwyf</td>\n      <td>2022-09-07 11:11:25.458222</td>\n      <td>dave@trahans.net</td>\n      <td>191.96.227.102</td>\n      <td>0 days 00:27:41.962866</td>\n      <td>New York City</td>\n      <td>New York</td>\n      <td>US</td>\n      <td>40.7143,-74.0060</td>\n      <td>AS174 Cogent Communications</td>\n      <td>10004</td>\n      <td>America/New_York</td>\n      <td>0.833333</td>\n    </tr>\n    <tr>\n      <th>235</th>\n      <td>jcOXPqMioLJNLZ3D</td>\n      <td>2022-09-06 22:32:59.570970</td>\n      <td>johnnyldudley@gmail.com</td>\n      <td>174.105.249.50</td>\n      <td>0 days 00:27:16.157435</td>\n      <td>Columbus</td>\n      <td>Ohio</td>\n      <td>US</td>\n      <td>39.9444,-82.8903</td>\n      <td>AS10796 Charter Communications Inc</td>\n      <td>43227</td>\n      <td>America/New_York</td>\n      <td>0.916667</td>\n    </tr>\n    <tr>\n      <th>299</th>\n      <td>tecm5esQvBW52caO</td>\n      <td>2022-09-09 18:19:43.165667</td>\n      <td>erinddekker@gmail.com</td>\n      <td>99.246.68.49</td>\n      <td>0 days 00:28:01.329837</td>\n      <td>Toronto</td>\n      <td>Ontario</td>\n      <td>CA</td>\n      <td>43.5771,-79.6306</td>\n      <td>AS812 Rogers Communications Canada Inc.</td>\n      <td>L5B</td>\n      <td>America/Toronto</td>\n      <td>0.916667</td>\n    </tr>\n    <tr>\n      <th>192</th>\n      <td>bSNCukXbOcNIXsLz</td>\n      <td>2022-09-09 01:07:53.312595</td>\n      <td>rbinjackson@gmail.com</td>\n      <td>3.88.19.57</td>\n      <td>0 days 00:34:30.886231</td>\n      <td>Ashburn</td>\n      <td>Virginia</td>\n      <td>US</td>\n      <td>39.0437,-77.4875</td>\n      <td>AS14618 Amazon.com, Inc.</td>\n      <td>20147</td>\n      <td>America/New_York</td>\n      <td>0.916667</td>\n    </tr>\n    <tr>\n      <th>284</th>\n      <td>s3Ed31rJbytskssZ</td>\n      <td>2022-09-10 11:16:19.792219</td>\n      <td>bobbywonder1084@gmail.com</td>\n      <td>108.51.41.233</td>\n      <td>0 days 01:55:13.577946</td>\n      <td>Washington</td>\n      <td>Washington, D.C.</td>\n      <td>US</td>\n      <td>38.9518,-77.0203</td>\n      <td>AS701 Verizon Business</td>\n      <td>20011</td>\n      <td>America/New_York</td>\n      <td>1.000000</td>\n    </tr>\n  </tbody>\n</table>\n<p>328 rows × 13 columns</p>\n</div>"
     },
     "execution_count": 19,
     "metadata": {},
     "output_type": "execute_result"
    }
   ],
   "source": [
    "xx = adat.groupby(['prolific_id','participation_date', 'email', 'ip_addy','study_duration', 'city', 'region', 'country', 'loc', 'org', 'postal', 'timezone']).correct.mean()#.sort_values('correct')\n",
    "yy = xx.reset_index().sort_values('correct', axis=0)\n",
    "yy"
   ],
   "metadata": {
    "collapsed": false,
    "pycharm": {
     "name": "#%%\n"
    }
   }
  },
  {
   "cell_type": "code",
   "execution_count": 19,
   "outputs": [
    {
     "data": {
      "text/plain": "0.5"
     },
     "execution_count": 19,
     "metadata": {},
     "output_type": "execute_result"
    }
   ],
   "source": [
    "adat.loc[adat.email == 'jamesvernonwright66@gmail.com'].correct.mean()"
   ],
   "metadata": {
    "collapsed": false,
    "pycharm": {
     "name": "#%%\n"
    }
   }
  },
  {
   "cell_type": "markdown",
   "source": [
    "# 2. Response Times"
   ],
   "metadata": {
    "collapsed": false,
    "pycharm": {
     "name": "#%% md\n"
    }
   }
  },
  {
   "cell_type": "code",
   "execution_count": null,
   "outputs": [],
   "source": [
    "sns.set_context('notebook', font_scale=2)\n",
    "fig, ax = plt.subplots(figsize=(15, 12))\n",
    "g = sns.violinplot(x='belief_type', y='rt_ms', hue='ascription_type', hue_order=['Thinks', 'Knows'], data=dat.loc[(dat.trial_type=='test') & (dat.correct==True)], cut=0, bw=0.25, ax=ax, inner=None, linewidth=1, saturation=1)\n",
    "g = sns.stripplot(x='belief_type', y='rt_ms', hue='ascription_type', hue_order=['Thinks', 'Knows'], data=dat.loc[(dat.trial_type=='test') & (dat.correct==True)],\n",
    "                  color='k', dodge=True, ax=ax, jitter=.2, linewidth=1, alpha=.2)\n",
    "g= sns.pointplot(x='belief_type', y='rt_ms', hue='ascription_type', hue_order=['Thinks', 'Knows'], data=dat.loc[(dat.trial_type=='test') & (dat.correct==True)], join=False, dodge=.4, capsize=.1, ax=ax, color='k',)\n",
    "\n",
    "ax.legend(g.get_legend_handles_labels()[0][:2], g.get_legend_handles_labels()[1][:2])\n",
    "g.yaxis.set_label_text(\"response time (ms)\")\n",
    "g.xaxis.set_label_text(\"Agent state\")\n",
    "ax.xaxis.labelpad = 20\n",
    "\n",
    "#fig.savefig('proposal_S1_control_result.png')"
   ],
   "metadata": {
    "collapsed": false,
    "pycharm": {
     "name": "#%%\n"
    }
   }
  },
  {
   "cell_type": "code",
   "execution_count": null,
   "outputs": [],
   "source": [
    "len(dat.loc[(dat.trial_type=='test') & (dat.correct==True)].prolific_id.unique())"
   ],
   "metadata": {
    "collapsed": false,
    "pycharm": {
     "name": "#%%\n"
    }
   }
  },
  {
   "cell_type": "markdown",
   "source": [
    "# 3. Felicity Judgements"
   ],
   "metadata": {
    "collapsed": false,
    "pycharm": {
     "name": "#%% md\n"
    }
   }
  },
  {
   "cell_type": "code",
   "execution_count": null,
   "outputs": [],
   "source": [
    "f_dat = pd.read_sql('SELECT * FROM felicities A INNER JOIN subjects B ON A.prolific_id = B.prolific_id WHERE B.completion_code=\"XXXX\"', con=conn)\n",
    "f_dat = f_dat.loc[:,~f_dat.columns.duplicated()].copy() # prolific id from both tables will be in df, remove duplicate\n",
    "# 1= \"Sounds very weird\"\n",
    "# 7 = \"Sounds very normal\"\n",
    "f_dat['Infelicity Rating'] = 8 - f_dat.felicity_rating"
   ],
   "metadata": {
    "collapsed": false,
    "pycharm": {
     "name": "#%%\n"
    }
   }
  },
  {
   "cell_type": "code",
   "execution_count": null,
   "outputs": [],
   "source": [
    "sns.set_context('paper', font_scale=2)\n",
    "fig, ax = plt.subplots(figsize=(12,12))\n",
    "g = sns.violinplot(x='fel_belief_type', y='Infelicity Rating', hue='fel_ascription_type', data=f_dat, cut=0, bw=0.25, ax=ax, inner=None, linewidth=1, saturation=1, order=['TB', 'IG', 'FB'])\n",
    "\n",
    "def jitter(values,j):\n",
    "    return values + np.random.normal(j,0.15,values.shape)\n",
    "\n",
    "g = sns.stripplot(x='fel_belief_type', y=jitter(f_dat['Infelicity Rating'], 0), hue='fel_ascription_type', data=f_dat,\n",
    "                  color='k', dodge=True, ax=ax, jitter=.45, linewidth=1.5, alpha=.1, order=['TB', 'IG', 'FB'])\n",
    "g= sns.pointplot(x='fel_belief_type', y='Infelicity Rating', hue='fel_ascription_type', data=f_dat, join=False, dodge=.4, capsize=.1, ax=ax, color='k',order=['TB', 'IG', 'FB'])\n",
    "\n",
    "ax.legend(g.get_legend_handles_labels()[0][:2], g.get_legend_handles_labels()[1][:2])"
   ],
   "metadata": {
    "collapsed": false,
    "pycharm": {
     "name": "#%%\n"
    }
   }
  },
  {
   "cell_type": "markdown",
   "source": [
    "# 4. AQ-10"
   ],
   "metadata": {
    "collapsed": false,
    "pycharm": {
     "name": "#%% md\n"
    }
   }
  },
  {
   "cell_type": "code",
   "execution_count": 16,
   "outputs": [
    {
     "data": {
      "text/plain": "               id  AQ_rating_1  AQ_rating_2  AQ_rating_3  AQ_rating_4  \\\ncount  317.000000   317.000000   317.000000   317.000000   317.000000   \nmean   202.769716     2.908517     2.984227     2.927445     3.015773   \nstd    109.844888     0.890077     0.735452     0.836908     0.752467   \nmin      1.000000     1.000000     1.000000     1.000000     1.000000   \n25%    101.000000     3.000000     3.000000     3.000000     3.000000   \n50%    208.000000     3.000000     3.000000     3.000000     3.000000   \n75%    297.000000     3.000000     3.000000     3.000000     3.000000   \nmax    389.000000     4.000000     4.000000     4.000000     4.000000   \n\n       AQ_rating_5  AQ_rating_6  AQ_rating_7  AQ_rating_8  AQ_rating_9  \\\ncount   317.000000   317.000000   317.000000   317.000000   317.000000   \nmean      3.126183     3.018927     2.927445     3.041009     3.069401   \nstd       0.773273     0.758676     0.806091     0.768170     0.747301   \nmin       1.000000     1.000000     1.000000     1.000000     1.000000   \n25%       3.000000     3.000000     2.000000     3.000000     3.000000   \n50%       3.000000     3.000000     3.000000     3.000000     3.000000   \n75%       4.000000     3.000000     3.000000     4.000000     4.000000   \nmax       4.000000     4.000000     4.000000     4.000000     4.000000   \n\n       AQ_rating_10  block1_complete  block2_complete  block3_complete  \ncount    317.000000            317.0            317.0            317.0  \nmean       2.933754              1.0              1.0              1.0  \nstd        0.837433              0.0              0.0              0.0  \nmin        1.000000              1.0              1.0              1.0  \n25%        2.000000              1.0              1.0              1.0  \n50%        3.000000              1.0              1.0              1.0  \n75%        4.000000              1.0              1.0              1.0  \nmax        4.000000              1.0              1.0              1.0  ",
      "text/html": "<div>\n<style scoped>\n    .dataframe tbody tr th:only-of-type {\n        vertical-align: middle;\n    }\n\n    .dataframe tbody tr th {\n        vertical-align: top;\n    }\n\n    .dataframe thead th {\n        text-align: right;\n    }\n</style>\n<table border=\"1\" class=\"dataframe\">\n  <thead>\n    <tr style=\"text-align: right;\">\n      <th></th>\n      <th>id</th>\n      <th>AQ_rating_1</th>\n      <th>AQ_rating_2</th>\n      <th>AQ_rating_3</th>\n      <th>AQ_rating_4</th>\n      <th>AQ_rating_5</th>\n      <th>AQ_rating_6</th>\n      <th>AQ_rating_7</th>\n      <th>AQ_rating_8</th>\n      <th>AQ_rating_9</th>\n      <th>AQ_rating_10</th>\n      <th>block1_complete</th>\n      <th>block2_complete</th>\n      <th>block3_complete</th>\n    </tr>\n  </thead>\n  <tbody>\n    <tr>\n      <th>count</th>\n      <td>317.000000</td>\n      <td>317.000000</td>\n      <td>317.000000</td>\n      <td>317.000000</td>\n      <td>317.000000</td>\n      <td>317.000000</td>\n      <td>317.000000</td>\n      <td>317.000000</td>\n      <td>317.000000</td>\n      <td>317.000000</td>\n      <td>317.000000</td>\n      <td>317.0</td>\n      <td>317.0</td>\n      <td>317.0</td>\n    </tr>\n    <tr>\n      <th>mean</th>\n      <td>202.769716</td>\n      <td>2.908517</td>\n      <td>2.984227</td>\n      <td>2.927445</td>\n      <td>3.015773</td>\n      <td>3.126183</td>\n      <td>3.018927</td>\n      <td>2.927445</td>\n      <td>3.041009</td>\n      <td>3.069401</td>\n      <td>2.933754</td>\n      <td>1.0</td>\n      <td>1.0</td>\n      <td>1.0</td>\n    </tr>\n    <tr>\n      <th>std</th>\n      <td>109.844888</td>\n      <td>0.890077</td>\n      <td>0.735452</td>\n      <td>0.836908</td>\n      <td>0.752467</td>\n      <td>0.773273</td>\n      <td>0.758676</td>\n      <td>0.806091</td>\n      <td>0.768170</td>\n      <td>0.747301</td>\n      <td>0.837433</td>\n      <td>0.0</td>\n      <td>0.0</td>\n      <td>0.0</td>\n    </tr>\n    <tr>\n      <th>min</th>\n      <td>1.000000</td>\n      <td>1.000000</td>\n      <td>1.000000</td>\n      <td>1.000000</td>\n      <td>1.000000</td>\n      <td>1.000000</td>\n      <td>1.000000</td>\n      <td>1.000000</td>\n      <td>1.000000</td>\n      <td>1.000000</td>\n      <td>1.000000</td>\n      <td>1.0</td>\n      <td>1.0</td>\n      <td>1.0</td>\n    </tr>\n    <tr>\n      <th>25%</th>\n      <td>101.000000</td>\n      <td>3.000000</td>\n      <td>3.000000</td>\n      <td>3.000000</td>\n      <td>3.000000</td>\n      <td>3.000000</td>\n      <td>3.000000</td>\n      <td>2.000000</td>\n      <td>3.000000</td>\n      <td>3.000000</td>\n      <td>2.000000</td>\n      <td>1.0</td>\n      <td>1.0</td>\n      <td>1.0</td>\n    </tr>\n    <tr>\n      <th>50%</th>\n      <td>208.000000</td>\n      <td>3.000000</td>\n      <td>3.000000</td>\n      <td>3.000000</td>\n      <td>3.000000</td>\n      <td>3.000000</td>\n      <td>3.000000</td>\n      <td>3.000000</td>\n      <td>3.000000</td>\n      <td>3.000000</td>\n      <td>3.000000</td>\n      <td>1.0</td>\n      <td>1.0</td>\n      <td>1.0</td>\n    </tr>\n    <tr>\n      <th>75%</th>\n      <td>297.000000</td>\n      <td>3.000000</td>\n      <td>3.000000</td>\n      <td>3.000000</td>\n      <td>3.000000</td>\n      <td>4.000000</td>\n      <td>3.000000</td>\n      <td>3.000000</td>\n      <td>4.000000</td>\n      <td>4.000000</td>\n      <td>4.000000</td>\n      <td>1.0</td>\n      <td>1.0</td>\n      <td>1.0</td>\n    </tr>\n    <tr>\n      <th>max</th>\n      <td>389.000000</td>\n      <td>4.000000</td>\n      <td>4.000000</td>\n      <td>4.000000</td>\n      <td>4.000000</td>\n      <td>4.000000</td>\n      <td>4.000000</td>\n      <td>4.000000</td>\n      <td>4.000000</td>\n      <td>4.000000</td>\n      <td>4.000000</td>\n      <td>1.0</td>\n      <td>1.0</td>\n      <td>1.0</td>\n    </tr>\n  </tbody>\n</table>\n</div>"
     },
     "execution_count": 16,
     "metadata": {},
     "output_type": "execute_result"
    }
   ],
   "source": [
    "\n",
    "a_dat =  pd.read_sql(\"SELECT * FROM autism_scores A INNER JOIN subjects B ON A.prolific_id = B.prolific_id \"\n",
    "                   \"WHERE B.block1_complete=TRUE \"\n",
    "                   \"AND B.block2_complete=TRUE \"\n",
    "                   \"AND B.block3_complete=TRUE \"\n",
    "                   \"AND B.completion_code LIKE '%XXX%'\", con=conn)\n",
    "a_dat = a_dat.loc[:,~a_dat.columns.duplicated()].copy() # prolific id from both tables will be in df, remove duplicate\n",
    "\n",
    "#a_dat = a_dat[a_dat.prolific_id.isin(dat.prolific_id.unique()).values] # only use subjects in trial analysis\n",
    "a_dat.describe()"
   ],
   "metadata": {
    "collapsed": false,
    "pycharm": {
     "name": "#%%\n"
    }
   }
  },
  {
   "cell_type": "code",
   "execution_count": 17,
   "outputs": [
    {
     "data": {
      "text/plain": "      id  AQ_rating_1  AQ_rating_2  AQ_rating_3  AQ_rating_4  AQ_rating_5  \\\n1     15            3            3            3            2            3   \n2     16            4            3            4            3            4   \n3     17            1            3            1            2            2   \n4     18            3            2            1            4            2   \n5     19            3            3            2            3            3   \n..   ...          ...          ...          ...          ...          ...   \n312  385            3            3            3            3            3   \n313  386            3            3            3            3            3   \n314  387            3            3            3            3            3   \n315  388            3            3            3            3            3   \n316  389            3            3            3            3            3   \n\n     AQ_rating_6  AQ_rating_7  AQ_rating_8  AQ_rating_9  ...  operating_sys  \\\n1              3            3            3            3  ...           None   \n2              3            4            3            4  ...           None   \n3              3            2            2            3  ...           None   \n4              1            3            4            1  ...           None   \n5              3            2            3            3  ...           None   \n..           ...          ...          ...          ...  ...            ...   \n312            3            3            3            3  ...           None   \n313            3            3            3            3  ...           None   \n314            3            3            3            3  ...           None   \n315            3            3            3            3  ...           None   \n316            3            3            3            3  ...           None   \n\n    operating_sys_lang               GMT_timestamp  \\\n1                 None  2022-08-31 09:03:51.471330   \n2                 None  2022-08-31 09:04:08.411898   \n3                 None  2022-08-31 09:05:23.406315   \n4                 None  2022-08-31 09:09:34.647299   \n5                 None  2022-08-31 09:15:52.996031   \n..                 ...                         ...   \n312               None  2022-09-09 20:11:04.772743   \n313               None  2022-09-09 20:11:11.521110   \n314               None  2022-09-09 20:13:10.771414   \n315               None  2022-09-09 20:13:59.522832   \n316               None  2022-09-09 20:14:02.441688   \n\n                           email block1_complete block2_complete  \\\n1    Davidbrown82021@outlook.com               1               1   \n2          shellywaver@gmail.com               1               1   \n3        alan19james93@gmail.com               1               1   \n4       sakirudeenk001@gmail.com               1               1   \n5       donnatravis545@gmail.com               1               1   \n..                           ...             ...             ...   \n312             gasno768@tapi.re               1               1   \n313     matthewjack865@gmail.com               1               1   \n314         arebum170@digdig.org               1               1   \n315          oatbadgum@ichigo.me               1               1   \n316          nutionsay@heisei.be               1               1   \n\n    block3_complete completion_code  \\\n1                 1            XXXY   \n2                 1            XXXY   \n3                 1            XXXY   \n4                 1            XXXY   \n5                 1            XXXY   \n..              ...             ...   \n312               1            XXXX   \n313               1            XXXX   \n314               1            XXXX   \n315               1            XXXX   \n316               1            XXXX   \n\n                                      feedback             completion_time  \n1                                           No                        None  \n2    it was great playing the games and survey                        None  \n3                                           no                        None  \n4                                     Its nice                        None  \n5          It is all easy and straightforward                         None  \n..                                         ...                         ...  \n312                                             2022-09-09 16:46:28.693527  \n313                                             2022-09-09 16:37:41.942885  \n314                                             2022-09-09 16:39:08.144901  \n315                                             2022-09-09 16:47:40.492398  \n316                                             2022-09-09 16:48:52.930597  \n\n[316 rows x 28 columns]",
      "text/html": "<div>\n<style scoped>\n    .dataframe tbody tr th:only-of-type {\n        vertical-align: middle;\n    }\n\n    .dataframe tbody tr th {\n        vertical-align: top;\n    }\n\n    .dataframe thead th {\n        text-align: right;\n    }\n</style>\n<table border=\"1\" class=\"dataframe\">\n  <thead>\n    <tr style=\"text-align: right;\">\n      <th></th>\n      <th>id</th>\n      <th>AQ_rating_1</th>\n      <th>AQ_rating_2</th>\n      <th>AQ_rating_3</th>\n      <th>AQ_rating_4</th>\n      <th>AQ_rating_5</th>\n      <th>AQ_rating_6</th>\n      <th>AQ_rating_7</th>\n      <th>AQ_rating_8</th>\n      <th>AQ_rating_9</th>\n      <th>...</th>\n      <th>operating_sys</th>\n      <th>operating_sys_lang</th>\n      <th>GMT_timestamp</th>\n      <th>email</th>\n      <th>block1_complete</th>\n      <th>block2_complete</th>\n      <th>block3_complete</th>\n      <th>completion_code</th>\n      <th>feedback</th>\n      <th>completion_time</th>\n    </tr>\n  </thead>\n  <tbody>\n    <tr>\n      <th>1</th>\n      <td>15</td>\n      <td>3</td>\n      <td>3</td>\n      <td>3</td>\n      <td>2</td>\n      <td>3</td>\n      <td>3</td>\n      <td>3</td>\n      <td>3</td>\n      <td>3</td>\n      <td>...</td>\n      <td>None</td>\n      <td>None</td>\n      <td>2022-08-31 09:03:51.471330</td>\n      <td>Davidbrown82021@outlook.com</td>\n      <td>1</td>\n      <td>1</td>\n      <td>1</td>\n      <td>XXXY</td>\n      <td>No</td>\n      <td>None</td>\n    </tr>\n    <tr>\n      <th>2</th>\n      <td>16</td>\n      <td>4</td>\n      <td>3</td>\n      <td>4</td>\n      <td>3</td>\n      <td>4</td>\n      <td>3</td>\n      <td>4</td>\n      <td>3</td>\n      <td>4</td>\n      <td>...</td>\n      <td>None</td>\n      <td>None</td>\n      <td>2022-08-31 09:04:08.411898</td>\n      <td>shellywaver@gmail.com</td>\n      <td>1</td>\n      <td>1</td>\n      <td>1</td>\n      <td>XXXY</td>\n      <td>it was great playing the games and survey</td>\n      <td>None</td>\n    </tr>\n    <tr>\n      <th>3</th>\n      <td>17</td>\n      <td>1</td>\n      <td>3</td>\n      <td>1</td>\n      <td>2</td>\n      <td>2</td>\n      <td>3</td>\n      <td>2</td>\n      <td>2</td>\n      <td>3</td>\n      <td>...</td>\n      <td>None</td>\n      <td>None</td>\n      <td>2022-08-31 09:05:23.406315</td>\n      <td>alan19james93@gmail.com</td>\n      <td>1</td>\n      <td>1</td>\n      <td>1</td>\n      <td>XXXY</td>\n      <td>no</td>\n      <td>None</td>\n    </tr>\n    <tr>\n      <th>4</th>\n      <td>18</td>\n      <td>3</td>\n      <td>2</td>\n      <td>1</td>\n      <td>4</td>\n      <td>2</td>\n      <td>1</td>\n      <td>3</td>\n      <td>4</td>\n      <td>1</td>\n      <td>...</td>\n      <td>None</td>\n      <td>None</td>\n      <td>2022-08-31 09:09:34.647299</td>\n      <td>sakirudeenk001@gmail.com</td>\n      <td>1</td>\n      <td>1</td>\n      <td>1</td>\n      <td>XXXY</td>\n      <td>Its nice</td>\n      <td>None</td>\n    </tr>\n    <tr>\n      <th>5</th>\n      <td>19</td>\n      <td>3</td>\n      <td>3</td>\n      <td>2</td>\n      <td>3</td>\n      <td>3</td>\n      <td>3</td>\n      <td>2</td>\n      <td>3</td>\n      <td>3</td>\n      <td>...</td>\n      <td>None</td>\n      <td>None</td>\n      <td>2022-08-31 09:15:52.996031</td>\n      <td>donnatravis545@gmail.com</td>\n      <td>1</td>\n      <td>1</td>\n      <td>1</td>\n      <td>XXXY</td>\n      <td>It is all easy and straightforward</td>\n      <td>None</td>\n    </tr>\n    <tr>\n      <th>...</th>\n      <td>...</td>\n      <td>...</td>\n      <td>...</td>\n      <td>...</td>\n      <td>...</td>\n      <td>...</td>\n      <td>...</td>\n      <td>...</td>\n      <td>...</td>\n      <td>...</td>\n      <td>...</td>\n      <td>...</td>\n      <td>...</td>\n      <td>...</td>\n      <td>...</td>\n      <td>...</td>\n      <td>...</td>\n      <td>...</td>\n      <td>...</td>\n      <td>...</td>\n      <td>...</td>\n    </tr>\n    <tr>\n      <th>312</th>\n      <td>385</td>\n      <td>3</td>\n      <td>3</td>\n      <td>3</td>\n      <td>3</td>\n      <td>3</td>\n      <td>3</td>\n      <td>3</td>\n      <td>3</td>\n      <td>3</td>\n      <td>...</td>\n      <td>None</td>\n      <td>None</td>\n      <td>2022-09-09 20:11:04.772743</td>\n      <td>gasno768@tapi.re</td>\n      <td>1</td>\n      <td>1</td>\n      <td>1</td>\n      <td>XXXX</td>\n      <td></td>\n      <td>2022-09-09 16:46:28.693527</td>\n    </tr>\n    <tr>\n      <th>313</th>\n      <td>386</td>\n      <td>3</td>\n      <td>3</td>\n      <td>3</td>\n      <td>3</td>\n      <td>3</td>\n      <td>3</td>\n      <td>3</td>\n      <td>3</td>\n      <td>3</td>\n      <td>...</td>\n      <td>None</td>\n      <td>None</td>\n      <td>2022-09-09 20:11:11.521110</td>\n      <td>matthewjack865@gmail.com</td>\n      <td>1</td>\n      <td>1</td>\n      <td>1</td>\n      <td>XXXX</td>\n      <td></td>\n      <td>2022-09-09 16:37:41.942885</td>\n    </tr>\n    <tr>\n      <th>314</th>\n      <td>387</td>\n      <td>3</td>\n      <td>3</td>\n      <td>3</td>\n      <td>3</td>\n      <td>3</td>\n      <td>3</td>\n      <td>3</td>\n      <td>3</td>\n      <td>3</td>\n      <td>...</td>\n      <td>None</td>\n      <td>None</td>\n      <td>2022-09-09 20:13:10.771414</td>\n      <td>arebum170@digdig.org</td>\n      <td>1</td>\n      <td>1</td>\n      <td>1</td>\n      <td>XXXX</td>\n      <td></td>\n      <td>2022-09-09 16:39:08.144901</td>\n    </tr>\n    <tr>\n      <th>315</th>\n      <td>388</td>\n      <td>3</td>\n      <td>3</td>\n      <td>3</td>\n      <td>3</td>\n      <td>3</td>\n      <td>3</td>\n      <td>3</td>\n      <td>3</td>\n      <td>3</td>\n      <td>...</td>\n      <td>None</td>\n      <td>None</td>\n      <td>2022-09-09 20:13:59.522832</td>\n      <td>oatbadgum@ichigo.me</td>\n      <td>1</td>\n      <td>1</td>\n      <td>1</td>\n      <td>XXXX</td>\n      <td></td>\n      <td>2022-09-09 16:47:40.492398</td>\n    </tr>\n    <tr>\n      <th>316</th>\n      <td>389</td>\n      <td>3</td>\n      <td>3</td>\n      <td>3</td>\n      <td>3</td>\n      <td>3</td>\n      <td>3</td>\n      <td>3</td>\n      <td>3</td>\n      <td>3</td>\n      <td>...</td>\n      <td>None</td>\n      <td>None</td>\n      <td>2022-09-09 20:14:02.441688</td>\n      <td>nutionsay@heisei.be</td>\n      <td>1</td>\n      <td>1</td>\n      <td>1</td>\n      <td>XXXX</td>\n      <td></td>\n      <td>2022-09-09 16:48:52.930597</td>\n    </tr>\n  </tbody>\n</table>\n<p>316 rows × 28 columns</p>\n</div>"
     },
     "execution_count": 17,
     "metadata": {},
     "output_type": "execute_result"
    }
   ],
   "source": [
    "a_dat[a_dat.prolific_id.isin(dat.prolific_id.unique().tolist())]"
   ],
   "metadata": {
    "collapsed": false,
    "pycharm": {
     "name": "#%%\n"
    }
   }
  },
  {
   "cell_type": "code",
   "execution_count": 18,
   "outputs": [
    {
     "data": {
      "text/plain": "<Figure size 720x576 with 1 Axes>",
      "image/png": "[encoded data removed]"
     },
     "metadata": {},
     "output_type": "display_data"
    }
   ],
   "source": [
    "## Scoring\n",
    "agree = ['AQ_rating_1', 'AQ_rating_7', 'AQ_rating_8', 'AQ_rating_10'] # score of 3 or 4 get a point\n",
    "disagree = ['AQ_rating_2','AQ_rating_3','AQ_rating_4','AQ_rating_5','AQ_rating_6','AQ_rating_9', ] # score of 1 or 2 get a point]\n",
    "a = a_dat[agree] >= 3\n",
    "b = a_dat[disagree] < 3\n",
    "a_dat['AQ_score'] = a.sum(axis=1) + b.sum(axis=1)\n",
    "a_dat = a_dat[a_dat.prolific_id.isin(dat.prolific_id.unique().tolist())]\n",
    "\n",
    "fg, ax = plt.subplots(figsize=(10, 8))\n",
    "sns.countplot(data=a_dat, x='AQ_score', ax=ax);"
   ],
   "metadata": {
    "collapsed": false,
    "pycharm": {
     "name": "#%%\n"
    }
   }
  },
  {
   "cell_type": "code",
   "execution_count": null,
   "outputs": [],
   "source": [
    "e_dat.groupby('diag').describe()"
   ],
   "metadata": {
    "collapsed": false,
    "pycharm": {
     "name": "#%%\n"
    }
   }
  },
  {
   "cell_type": "code",
   "execution_count": null,
   "outputs": [],
   "source": [
    "cdat = dat.loc[dat.correct ==True]\n",
    "for subject in dat.prolific_id.unique():\n",
    "    # calculate mean RT for belief ascription\n",
    "    a_dat.loc[a_dat.prolific_id == subject, 'avg_ThinkRT'] = cdat.loc[(cdat.prolific_id == subject) & (cdat.ascription_type == 'Thinks')].rt_ms.mean()\n",
    "    a_dat.loc[a_dat.prolific_id == subject, 'avg_KnowRT'] = cdat.loc[(cdat.prolific_id == subject) & (cdat.ascription_type == 'Knows')].rt_ms.mean()\n",
    "\n",
    "a_dat['RT_diff'] = a_dat.apply(lambda row: row['avg_ThinkRT'] - row['avg_KnowRT'], axis=1)\n"
   ],
   "metadata": {
    "collapsed": false,
    "pycharm": {
     "name": "#%%\n"
    }
   }
  },
  {
   "cell_type": "code",
   "execution_count": null,
   "outputs": [],
   "source": [
    "sns.lmplot(x='AQ_score', y='RT_diff', data=a_dat);\n"
   ],
   "metadata": {
    "collapsed": false,
    "pycharm": {
     "name": "#%%\n"
    }
   }
  },
  {
   "cell_type": "code",
   "execution_count": null,
   "outputs": [],
   "source": [],
   "metadata": {
    "collapsed": false,
    "pycharm": {
     "name": "#%%\n"
    }
   }
  }
 ],
 "metadata": {
  "kernelspec": {
   "display_name": "Python 3",
   "language": "python",
   "name": "python3"
  },
  "language_info": {
   "codemirror_mode": {
    "name": "ipython",
    "version": 2
   },
   "file_extension": ".py",
   "mimetype": "text/x-python",
   "name": "python",
   "nbconvert_exporter": "python",
   "pygments_lexer": "ipython2",
   "version": "2.7.6"
  }
 },
 "nbformat": 4,
 "nbformat_minor": 0
}