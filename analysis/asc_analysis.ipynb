{
 "cells": [
  {
   "cell_type": "code",
   "execution_count": 39,
   "outputs": [],
   "source": [
    "import sqlite3\n",
    "import pandas as pd\n",
    "import numpy as np\n",
    "import datetime\n",
    "import matplotlib.pyplot as plt\n",
    "import seaborn as sns\n",
    "from ast import literal_eval\n",
    "from urllib.request import urlopen\n",
    "from json import load\n",
    "sns.set_style('white')\n",
    "sns.set_context('notebook')"
   ],
   "metadata": {
    "collapsed": false,
    "pycharm": {
     "name": "#%%\n"
    }
   }
  },
  {
   "cell_type": "markdown",
   "source": [
    "# 1. Import Data"
   ],
   "metadata": {
    "collapsed": false,
    "pycharm": {
     "name": "#%% md\n"
    }
   }
  },
  {
   "cell_type": "code",
   "execution_count": 49,
   "outputs": [],
   "source": [
    "# ASC Cohort\n",
    "conn = sqlite3.connect('./Data/knwlg_blf.db')\n",
    "#dat1 = pd.read_sql(\"SELECT * FROM trials A INNER JOIN subjects B ON A.prolific_id = B.prolific_id WHERE B.completion_code LIKE '%XXX%'\", con=conn)\n",
    "dat1 = pd.read_sql(\"SELECT * FROM trials A INNER JOIN subjects B ON A.prolific_id = B.prolific_id \"\n",
    "                   \"WHERE B.block1_complete=TRUE \"\n",
    "                   \"AND B.block2_complete=TRUE \"\n",
    "                   \"AND B.block3_complete=TRUE \"\n",
    "                   \"AND B.completion_code LIKE '%XXX%'\", con=conn)\n",
    "dat1 = dat1.loc[:,~dat1.columns.duplicated()].copy() # prolific id from both tables will be in df, remove duplicate\n",
    "# REMOVE DISTRACTORS\n",
    "dat1 = dat1.loc[dat1.trial_type == 'test'].reset_index(drop=True)\n",
    "dat1['group'] = 'Autism'\n",
    "\n",
    "# TD cohort\n",
    "conn2 = sqlite3.connect('./Data/knwlg_blf_controls.db')\n",
    "dat2 = pd.read_sql('SELECT * FROM trials A INNER JOIN subjects B ON A.prolific_id = B.prolific_id WHERE B.completion_code=\"548DA3BD\"', con=conn2)\n",
    "dat2 = dat2.loc[:,~dat2.columns.duplicated()].copy() # prolific id from both tables will be in df, remove duplicate\n",
    "# REMOVE DISTRACTORS\n",
    "dat2 = dat2.loc[dat2.trial_type == 'test'].reset_index(drop=True)\n",
    "dat2['email'] = 'N/A'\n",
    "dat2['group'] = 'Neurotypical'\n",
    "\n",
    "# Combine into one big dataframe\n",
    "dat = pd.concat(objs=[dat1,dat2], ignore_index=True)\n",
    "#\n",
    "dat['email'] = dat.email.str.lower().str.strip()\n",
    "\n",
    "# data saved for testing purposes has id as float instead of alphanumeric so only keep alphanumeric IDs\n",
    "dat = dat[dat.prolific_id.str.isalnum()].reset_index(drop=True)\n",
    "dat['response_key'] = dat.response_key.apply(literal_eval)"
   ],
   "metadata": {
    "collapsed": false,
    "pycharm": {
     "name": "#%%\n"
    }
   }
  },
  {
   "cell_type": "code",
   "execution_count": 58,
   "outputs": [
    {
     "data": {
      "text/plain": "       id  trial_num  correct trial_type  scenario belief_type  \\\n624  1705          1    False       test        12          IG   \n625  1708          4    False       test        11          FB   \n626  1709          5    False       test         6          FB   \n627  1712          8    False       test         9          TB   \n628  1713          9    False       test         5          IG   \n629  1714         10    False       test         7          FB   \n630  1718         14     True       test         4          TB   \n631  1720         16    False       test        10          IG   \n632  1721         17    False       test         3          TB   \n633  1723         19    False       test         1          FB   \n634  1725         21    False       test         8          IG   \n635  1727         23     True       test         2          TB   \n\n    ascription_type correct_answer            target_onset  \\\n624          Thinks              f 2022-08-31 07:39:36.584   \n625          Thinks              f 2022-08-31 07:40:56.711   \n626           Knows              f 2022-08-31 07:41:40.085   \n627          Thinks              j 2022-08-31 07:43:05.262   \n628          Thinks              f 2022-08-31 07:43:32.583   \n629          Thinks              f 2022-08-31 07:43:58.745   \n630           Knows              j 2022-08-31 07:45:52.835   \n631           Knows              f 2022-08-31 07:46:49.176   \n632           Knows              j 2022-08-31 07:47:14.384   \n633           Knows              f 2022-08-31 07:48:09.709   \n634           Knows              f 2022-08-31 07:49:11.597   \n635          Thinks              j 2022-08-31 07:50:04.467   \n\n             response_onset  ... block3_complete completion_code  \\\n624 2022-08-31 07:39:38.088  ...               1            XXXY   \n625 2022-08-31 07:41:01.380  ...               1            XXXY   \n626 2022-08-31 07:41:45.184  ...               1            XXXY   \n627 2022-08-31 07:43:08.388  ...               1            XXXY   \n628 2022-08-31 07:43:36.033  ...               1            XXXY   \n629 2022-08-31 07:44:03.845  ...               1            XXXY   \n630 2022-08-31 07:45:54.386  ...               1            XXXY   \n631 2022-08-31 07:46:50.756  ...               1            XXXY   \n632 2022-08-31 07:47:19.483  ...               1            XXXY   \n633 2022-08-31 07:48:15.748  ...               1            XXXY   \n634 2022-08-31 07:49:16.696  ...               1            XXXY   \n635 2022-08-31 07:50:08.213  ...               1            XXXY   \n\n              feedback completion_time   group                     rt rt_ms  \\\n624  The game is nice.             NaT  Autism 0 days 00:00:01.504000  1504   \n625  The game is nice.             NaT  Autism 0 days 00:00:04.669000  4669   \n626  The game is nice.             NaT  Autism 0 days 00:00:05.099000  5099   \n627  The game is nice.             NaT  Autism 0 days 00:00:03.126000  3126   \n628  The game is nice.             NaT  Autism 0 days 00:00:03.450000  3450   \n629  The game is nice.             NaT  Autism 0 days 00:00:05.100000  5100   \n630  The game is nice.             NaT  Autism 0 days 00:00:01.551000  1551   \n631  The game is nice.             NaT  Autism 0 days 00:00:01.580000  1580   \n632  The game is nice.             NaT  Autism 0 days 00:00:05.099000  5099   \n633  The game is nice.             NaT  Autism 0 days 00:00:06.039000  6039   \n634  The game is nice.             NaT  Autism 0 days 00:00:05.099000  5099   \n635  The game is nice.             NaT  Autism 0 days 00:00:03.746000  3746   \n\n    study_duration accepted_answer timeout  \n624           None            True   False  \n625           None            True   False  \n626           None            True    True  \n627           None            True   False  \n628           None            True   False  \n629           None            True    True  \n630           None            True   False  \n631           None            True   False  \n632           None            True    True  \n633           None            True    True  \n634           None            True    True  \n635           None            True   False  \n\n[12 rows x 35 columns]",
      "text/html": "<div>\n<style scoped>\n    .dataframe tbody tr th:only-of-type {\n        vertical-align: middle;\n    }\n\n    .dataframe tbody tr th {\n        vertical-align: top;\n    }\n\n    .dataframe thead th {\n        text-align: right;\n    }\n</style>\n<table border=\"1\" class=\"dataframe\">\n  <thead>\n    <tr style=\"text-align: right;\">\n      <th></th>\n      <th>id</th>\n      <th>trial_num</th>\n      <th>correct</th>\n      <th>trial_type</th>\n      <th>scenario</th>\n      <th>belief_type</th>\n      <th>ascription_type</th>\n      <th>correct_answer</th>\n      <th>target_onset</th>\n      <th>response_onset</th>\n      <th>...</th>\n      <th>block3_complete</th>\n      <th>completion_code</th>\n      <th>feedback</th>\n      <th>completion_time</th>\n      <th>group</th>\n      <th>rt</th>\n      <th>rt_ms</th>\n      <th>study_duration</th>\n      <th>accepted_answer</th>\n      <th>timeout</th>\n    </tr>\n  </thead>\n  <tbody>\n    <tr>\n      <th>624</th>\n      <td>1705</td>\n      <td>1</td>\n      <td>False</td>\n      <td>test</td>\n      <td>12</td>\n      <td>IG</td>\n      <td>Thinks</td>\n      <td>f</td>\n      <td>2022-08-31 07:39:36.584</td>\n      <td>2022-08-31 07:39:38.088</td>\n      <td>...</td>\n      <td>1</td>\n      <td>XXXY</td>\n      <td>The game is nice.</td>\n      <td>NaT</td>\n      <td>Autism</td>\n      <td>0 days 00:00:01.504000</td>\n      <td>1504</td>\n      <td>None</td>\n      <td>True</td>\n      <td>False</td>\n    </tr>\n    <tr>\n      <th>625</th>\n      <td>1708</td>\n      <td>4</td>\n      <td>False</td>\n      <td>test</td>\n      <td>11</td>\n      <td>FB</td>\n      <td>Thinks</td>\n      <td>f</td>\n      <td>2022-08-31 07:40:56.711</td>\n      <td>2022-08-31 07:41:01.380</td>\n      <td>...</td>\n      <td>1</td>\n      <td>XXXY</td>\n      <td>The game is nice.</td>\n      <td>NaT</td>\n      <td>Autism</td>\n      <td>0 days 00:00:04.669000</td>\n      <td>4669</td>\n      <td>None</td>\n      <td>True</td>\n      <td>False</td>\n    </tr>\n    <tr>\n      <th>626</th>\n      <td>1709</td>\n      <td>5</td>\n      <td>False</td>\n      <td>test</td>\n      <td>6</td>\n      <td>FB</td>\n      <td>Knows</td>\n      <td>f</td>\n      <td>2022-08-31 07:41:40.085</td>\n      <td>2022-08-31 07:41:45.184</td>\n      <td>...</td>\n      <td>1</td>\n      <td>XXXY</td>\n      <td>The game is nice.</td>\n      <td>NaT</td>\n      <td>Autism</td>\n      <td>0 days 00:00:05.099000</td>\n      <td>5099</td>\n      <td>None</td>\n      <td>True</td>\n      <td>True</td>\n    </tr>\n    <tr>\n      <th>627</th>\n      <td>1712</td>\n      <td>8</td>\n      <td>False</td>\n      <td>test</td>\n      <td>9</td>\n      <td>TB</td>\n      <td>Thinks</td>\n      <td>j</td>\n      <td>2022-08-31 07:43:05.262</td>\n      <td>2022-08-31 07:43:08.388</td>\n      <td>...</td>\n      <td>1</td>\n      <td>XXXY</td>\n      <td>The game is nice.</td>\n      <td>NaT</td>\n      <td>Autism</td>\n      <td>0 days 00:00:03.126000</td>\n      <td>3126</td>\n      <td>None</td>\n      <td>True</td>\n      <td>False</td>\n    </tr>\n    <tr>\n      <th>628</th>\n      <td>1713</td>\n      <td>9</td>\n      <td>False</td>\n      <td>test</td>\n      <td>5</td>\n      <td>IG</td>\n      <td>Thinks</td>\n      <td>f</td>\n      <td>2022-08-31 07:43:32.583</td>\n      <td>2022-08-31 07:43:36.033</td>\n      <td>...</td>\n      <td>1</td>\n      <td>XXXY</td>\n      <td>The game is nice.</td>\n      <td>NaT</td>\n      <td>Autism</td>\n      <td>0 days 00:00:03.450000</td>\n      <td>3450</td>\n      <td>None</td>\n      <td>True</td>\n      <td>False</td>\n    </tr>\n    <tr>\n      <th>629</th>\n      <td>1714</td>\n      <td>10</td>\n      <td>False</td>\n      <td>test</td>\n      <td>7</td>\n      <td>FB</td>\n      <td>Thinks</td>\n      <td>f</td>\n      <td>2022-08-31 07:43:58.745</td>\n      <td>2022-08-31 07:44:03.845</td>\n      <td>...</td>\n      <td>1</td>\n      <td>XXXY</td>\n      <td>The game is nice.</td>\n      <td>NaT</td>\n      <td>Autism</td>\n      <td>0 days 00:00:05.100000</td>\n      <td>5100</td>\n      <td>None</td>\n      <td>True</td>\n      <td>True</td>\n    </tr>\n    <tr>\n      <th>630</th>\n      <td>1718</td>\n      <td>14</td>\n      <td>True</td>\n      <td>test</td>\n      <td>4</td>\n      <td>TB</td>\n      <td>Knows</td>\n      <td>j</td>\n      <td>2022-08-31 07:45:52.835</td>\n      <td>2022-08-31 07:45:54.386</td>\n      <td>...</td>\n      <td>1</td>\n      <td>XXXY</td>\n      <td>The game is nice.</td>\n      <td>NaT</td>\n      <td>Autism</td>\n      <td>0 days 00:00:01.551000</td>\n      <td>1551</td>\n      <td>None</td>\n      <td>True</td>\n      <td>False</td>\n    </tr>\n    <tr>\n      <th>631</th>\n      <td>1720</td>\n      <td>16</td>\n      <td>False</td>\n      <td>test</td>\n      <td>10</td>\n      <td>IG</td>\n      <td>Knows</td>\n      <td>f</td>\n      <td>2022-08-31 07:46:49.176</td>\n      <td>2022-08-31 07:46:50.756</td>\n      <td>...</td>\n      <td>1</td>\n      <td>XXXY</td>\n      <td>The game is nice.</td>\n      <td>NaT</td>\n      <td>Autism</td>\n      <td>0 days 00:00:01.580000</td>\n      <td>1580</td>\n      <td>None</td>\n      <td>True</td>\n      <td>False</td>\n    </tr>\n    <tr>\n      <th>632</th>\n      <td>1721</td>\n      <td>17</td>\n      <td>False</td>\n      <td>test</td>\n      <td>3</td>\n      <td>TB</td>\n      <td>Knows</td>\n      <td>j</td>\n      <td>2022-08-31 07:47:14.384</td>\n      <td>2022-08-31 07:47:19.483</td>\n      <td>...</td>\n      <td>1</td>\n      <td>XXXY</td>\n      <td>The game is nice.</td>\n      <td>NaT</td>\n      <td>Autism</td>\n      <td>0 days 00:00:05.099000</td>\n      <td>5099</td>\n      <td>None</td>\n      <td>True</td>\n      <td>True</td>\n    </tr>\n    <tr>\n      <th>633</th>\n      <td>1723</td>\n      <td>19</td>\n      <td>False</td>\n      <td>test</td>\n      <td>1</td>\n      <td>FB</td>\n      <td>Knows</td>\n      <td>f</td>\n      <td>2022-08-31 07:48:09.709</td>\n      <td>2022-08-31 07:48:15.748</td>\n      <td>...</td>\n      <td>1</td>\n      <td>XXXY</td>\n      <td>The game is nice.</td>\n      <td>NaT</td>\n      <td>Autism</td>\n      <td>0 days 00:00:06.039000</td>\n      <td>6039</td>\n      <td>None</td>\n      <td>True</td>\n      <td>True</td>\n    </tr>\n    <tr>\n      <th>634</th>\n      <td>1725</td>\n      <td>21</td>\n      <td>False</td>\n      <td>test</td>\n      <td>8</td>\n      <td>IG</td>\n      <td>Knows</td>\n      <td>f</td>\n      <td>2022-08-31 07:49:11.597</td>\n      <td>2022-08-31 07:49:16.696</td>\n      <td>...</td>\n      <td>1</td>\n      <td>XXXY</td>\n      <td>The game is nice.</td>\n      <td>NaT</td>\n      <td>Autism</td>\n      <td>0 days 00:00:05.099000</td>\n      <td>5099</td>\n      <td>None</td>\n      <td>True</td>\n      <td>True</td>\n    </tr>\n    <tr>\n      <th>635</th>\n      <td>1727</td>\n      <td>23</td>\n      <td>True</td>\n      <td>test</td>\n      <td>2</td>\n      <td>TB</td>\n      <td>Thinks</td>\n      <td>j</td>\n      <td>2022-08-31 07:50:04.467</td>\n      <td>2022-08-31 07:50:08.213</td>\n      <td>...</td>\n      <td>1</td>\n      <td>XXXY</td>\n      <td>The game is nice.</td>\n      <td>NaT</td>\n      <td>Autism</td>\n      <td>0 days 00:00:03.746000</td>\n      <td>3746</td>\n      <td>None</td>\n      <td>True</td>\n      <td>False</td>\n    </tr>\n  </tbody>\n</table>\n<p>12 rows × 35 columns</p>\n</div>"
     },
     "execution_count": 58,
     "metadata": {},
     "output_type": "execute_result"
    }
   ],
   "source": [
    "dat.loc[dat.email =='harrisonstephh@outlook.com']\n",
    "#dat.email.sort_values( axis=0).unique()"
   ],
   "metadata": {
    "collapsed": false,
    "pycharm": {
     "name": "#%%\n"
    }
   }
  },
  {
   "cell_type": "markdown",
   "source": [
    "## Cleaning"
   ],
   "metadata": {
    "collapsed": false,
    "pycharm": {
     "name": "#%% md\n"
    }
   }
  },
  {
   "cell_type": "markdown",
   "source": [
    "## Convert SQL strings to python datetime object and compute timedeltas"
   ],
   "metadata": {
    "collapsed": false,
    "pycharm": {
     "name": "#%% md\n"
    }
   }
  },
  {
   "cell_type": "code",
   "execution_count": 51,
   "outputs": [],
   "source": [
    "def convert_time(x):\n",
    "    if type(x) == str:\n",
    "        return datetime.datetime.strptime(x, '%Y-%m-%d %H:%M:%S.%f')\n",
    "\n",
    "dat[['response_onset','target_onset','participation_date','completion_time']] = dat[['response_onset','target_onset','participation_date','completion_time']].applymap(convert_time)\n",
    "\n",
    "dat['rt'] = dat.apply(lambda row: row['response_onset'] - row['target_onset'], axis=1)\n",
    "dat['rt_ms'] = dat.apply(lambda row: int(round(row['rt'].total_seconds() * 1e3)), axis=1)"
   ],
   "metadata": {
    "collapsed": false,
    "pycharm": {
     "name": "#%%\n"
    }
   }
  },
  {
   "cell_type": "markdown",
   "source": [
    "## Time to Complete"
   ],
   "metadata": {
    "collapsed": false,
    "pycharm": {
     "name": "#%% md\n"
    }
   }
  },
  {
   "cell_type": "code",
   "execution_count": 52,
   "outputs": [
    {
     "data": {
      "text/plain": "Timestamp('2022-09-06 22:32:59.570970')"
     },
     "execution_count": 52,
     "metadata": {},
     "output_type": "execute_result"
    }
   ],
   "source": [
    "#dat.iloc[2]['completion_time']\n",
    "dat[~dat.completion_time.isnull()].completion_time.values[0] - dat[~dat.completion_time.isnull()].participation_date.values[0]\n",
    "\n",
    "a = dat[~dat.completion_time.isnull()].iloc[0].completion_time#.groupby('prolific_id').completion_time.count()\n",
    "b = dat[~dat.completion_time.isnull()].iloc[0].participation_date#.groupby('prolific_id').completion_time.count()\n",
    "b"
   ],
   "metadata": {
    "collapsed": false,
    "pycharm": {
     "name": "#%%\n"
    }
   }
  },
  {
   "cell_type": "code",
   "execution_count": 53,
   "outputs": [],
   "source": [
    "idx = dat[~dat.completion_time.isnull()].index\n",
    "dat['study_duration'] = None\n",
    "dat.loc[idx, 'study_duration'] = dat.loc[idx].completion_time - dat.loc[idx].participation_date\n",
    "#dat.loc[idx].groupby('prolific_id').mean()"
   ],
   "metadata": {
    "collapsed": false,
    "pycharm": {
     "name": "#%%\n"
    }
   }
  },
  {
   "cell_type": "markdown",
   "source": [
    "# 2. Accuracy"
   ],
   "metadata": {
    "collapsed": false,
    "pycharm": {
     "name": "#%% md\n"
    }
   }
  },
  {
   "cell_type": "markdown",
   "source": [
    "### Note where subjects entered invalid responses"
   ],
   "metadata": {
    "collapsed": false,
    "pycharm": {
     "name": "#%% md\n"
    }
   }
  },
  {
   "cell_type": "code",
   "execution_count": 54,
   "outputs": [
    {
     "name": "stdout",
     "output_type": "stream",
     "text": [
      "73 participants responded at least one trial with invalid keys. \n",
      "16 of these are from the neurotypical group. \n",
      " 57 of these are from the autism group.\n"
     ]
    }
   ],
   "source": [
    "accepted_answers = ['f', 'j', '999']\n",
    "dat['accepted_answer'] = None\n",
    "for i, response in enumerate(dat.response_key):\n",
    "    if sum([key.lower() in accepted_answers for key in response]) >= 1:  # == len(response):\n",
    "        dat.loc[i, 'accepted_answer'] = True\n",
    "    else:\n",
    "        dat.loc[i, 'accepted_answer'] = False\n",
    "\n",
    "print(f\"{len(dat.loc[dat.accepted_answer == False].prolific_id.unique())} participants responded at least one trial with invalid keys. \\n\"\n",
    "      f\"{len(dat.loc[(dat.accepted_answer == False)&(dat.group == 'Neurotypical')].prolific_id.unique())} of these are from the neurotypical group. \\n\"\n",
    "      f\" {len(dat.loc[(dat.accepted_answer == False)&(dat.group == 'Autism')].prolific_id.unique())} of these are from the autism group.\")"
   ],
   "metadata": {
    "collapsed": false,
    "pycharm": {
     "name": "#%%\n"
    }
   }
  },
  {
   "cell_type": "markdown",
   "source": [
    "### Note trials where subjects timed-out after the 5-seconds"
   ],
   "metadata": {
    "collapsed": false,
    "pycharm": {
     "name": "#%% md\n"
    }
   }
  },
  {
   "cell_type": "code",
   "execution_count": 55,
   "outputs": [
    {
     "name": "stdout",
     "output_type": "stream",
     "text": [
      "429 participants timed out during at least one trial. \n",
      "176 of these are from the neurotypical group. \n",
      " 253 of these are from the autism group.\n"
     ]
    }
   ],
   "source": [
    "dat['timeout'] = False\n",
    "# Here are timeouts without a response at all\n",
    "dat.loc[dat.apply(lambda row: '999' in row['response_key'], axis=1), 'timeout'] = True\n",
    "# Here is where pps pressed a key after 5 seconds, but before the experiment redirected\n",
    "timeouts = dat.loc[(dat.response_key.apply(len)>1) & (dat.apply(lambda row: '999' in row['response_key'], axis=1))].index\n",
    "dat.loc[timeouts, 'timeout'] = True\n",
    "\n",
    "print(f\"{len(dat.loc[dat.timeout == True].prolific_id.unique())} participants timed out during at least one trial. \\n\"\n",
    "      f\"{len(dat.loc[(dat.timeout == True)&(dat.group == 'Neurotypical')].prolific_id.unique())} of these are from the neurotypical group. \\n\"\n",
    "      f\" {len(dat.loc[(dat.timeout == True)&(dat.group == 'Autism')].prolific_id.unique())} of these are from the autism group.\")"
   ],
   "metadata": {
    "collapsed": false,
    "pycharm": {
     "name": "#%%\n"
    }
   }
  },
  {
   "cell_type": "code",
   "execution_count": 56,
   "outputs": [],
   "source": [
    "# If subjects hit more than one key, use only the last one\n",
    "dat['response_key'] = [resp[-1].lower() for resp in dat.response_key]"
   ],
   "metadata": {
    "collapsed": false,
    "pycharm": {
     "name": "#%%\n"
    }
   }
  },
  {
   "cell_type": "code",
   "execution_count": 57,
   "outputs": [],
   "source": [
    "#  correct answers\n",
    "dat.loc[dat.belief_type == 'TB', 'correct_answer'] = 'j'\n",
    "dat.loc[dat.belief_type != 'TB', 'correct_answer'] = 'f'\n",
    "# update correct column based on new answer key\n",
    "dat['correct'] = dat.apply(lambda row: row['response_key'] == row['correct_answer'], axis=1)\n",
    "\n",
    "# timeouts are considered incorrect\n",
    "dat.loc[dat.timeout == True, 'correct'] = False"
   ],
   "metadata": {
    "collapsed": false,
    "pycharm": {
     "name": "#%%\n"
    }
   }
  },
  {
   "cell_type": "markdown",
   "source": [
    "## Exclude participants with mean accuracy < .6"
   ],
   "metadata": {
    "collapsed": false,
    "pycharm": {
     "name": "#%% md\n"
    }
   }
  },
  {
   "cell_type": "code",
   "execution_count": null,
   "outputs": [],
   "source": [
    "dat.loc[dat.group == 'Autism'].groupby('prolific_id').correct.mean().hist()"
   ],
   "metadata": {
    "collapsed": false,
    "pycharm": {
     "name": "#%%\n"
    }
   }
  },
  {
   "cell_type": "code",
   "execution_count": null,
   "outputs": [],
   "source": [
    "print(f'N autism cohort before exclusion: {len(dat.loc[dat.group == \"Autism\"].prolific_id.unique())}')\n",
    "## Exclude participants with mean accuracy < .6\n",
    "xx = dat.groupby('prolific_id').correct.mean() > .6\n",
    "dat = dat.loc[dat.prolific_id.isin(xx[xx == True].index.tolist())]"
   ],
   "metadata": {
    "collapsed": false,
    "pycharm": {
     "name": "#%%\n"
    }
   }
  },
  {
   "cell_type": "code",
   "execution_count": null,
   "outputs": [],
   "source": [
    "print(f'N autism cohort after exclusion: {len(dat.loc[dat.group == \"Autism\"].prolific_id.unique())}')"
   ],
   "metadata": {
    "collapsed": false,
    "pycharm": {
     "name": "#%%\n"
    }
   }
  },
  {
   "cell_type": "code",
   "execution_count": null,
   "outputs": [],
   "source": [
    "v_dat = dat#.loc[(dat.accepted_answer == True)]\n",
    "acc = pd.DataFrame(columns=['cohort', 'agent_state', 'ascription', 'pct_correct', 'pct_incorrect'])\n",
    "for gro in dat['group'].unique():\n",
    "    for bel in dat.belief_type.unique():\n",
    "        for ascrip in dat.ascription_type.unique():\n",
    "            dd = v_dat.loc[(v_dat.group == gro)&(v_dat.belief_type==bel)&(v_dat.ascription_type==ascrip)]\n",
    "            pc = len(dd.loc[dd.correct== True])/len(dd)\n",
    "            ndf = pd.DataFrame({'cohort':[gro], 'agent_state':[bel], 'ascription':[ascrip], 'pct_correct':[pc], 'pct_incorrect':[1-pc]})\n",
    "            acc = pd.concat([acc,ndf ], axis=0)#.reset_index(drop=True)\n",
    "#sns.barplot(x='belief_type', row='group', x='ascription_type', hue='correct', kind='bar', data=)\n",
    "#sns.histplot(data=v_dat, x='belief_type', hue='correct', multiple='stack', element='bars', stat='percent')"
   ],
   "metadata": {
    "collapsed": false,
    "pycharm": {
     "name": "#%%\n"
    }
   }
  },
  {
   "cell_type": "code",
   "execution_count": null,
   "outputs": [],
   "source": [
    "import matplotlib.patches as mpatches\n",
    "acc['total'] = 1\n",
    "acc.melt(id_vars=['cohort', 'agent_state', 'ascription'], value_vars=['pct_correct', 'total'], value_name='Percent', var_name='Accuracy')\n",
    "#sns.catplot(col='belief_type', row='group', x='correct', hue='ascription_type', kind='count', data=dat)\n",
    "#dat.groupby('group').prolific_id.describe()\n",
    "# bar chart 1 -> top bars (group of 'smoker=No')\n",
    "#f, ax = plt.subplots(1, 2)\n",
    "#bar1 = sns.barplot(x=\"agent_state\",  y=\"total\", hue='ascription', data=acc.loc[acc.cohort == 'Neurotypical'], color='darkblue', ax=ax[0])\n",
    "#bar1a = sns.barplot(x=\"agent_state\",  y=\"total\", hue='ascription', data=acc.loc[acc.cohort == 'Autism'],  color='darkblue', ax=ax[1])\n",
    "\n",
    "# bar chart 2 -> bottom bars (group of 'smoker=Yes')\n",
    "#bar2 = sns.barplot(x=\"agent_state\",  y=\"pct_correct\", hue='ascription', data=acc.loc[acc.cohort == 'Neurotypical'], color='darkblue', ax=ax[0])\n",
    "#bar2a = sns.barplot(x=\"agent_state\",  y=\"pct_correct\", hue='ascription', data=acc.loc[acc.cohort == 'Autism'], color='darkblue', ax=ax[1])\n",
    "\n",
    "bar2 = sns.catplot(x=\"agent_state\", y=\"pct_correct\", hue='ascription', data=acc,col='cohort', kind='bar')\n",
    "# add legend\n"
   ],
   "metadata": {
    "collapsed": false,
    "pycharm": {
     "name": "#%%\n"
    }
   }
  },
  {
   "cell_type": "code",
   "execution_count": null,
   "outputs": [],
   "source": [
    "total = v_dat.groupby(['belief_type', 'ascription_type'])['accepted_answer'].sum().reset_index()\n",
    "correct = v_dat[v_dat.correct == True].groupby(['belief_type', 'ascription_type'])['accepted_answer'].sum().reset_index()\n",
    "\n",
    "correct['pct'] = [i / j * 100 for i,j in zip(len(correct), len(total))]\n",
    "total['pct'] = [i / j * 100 for i,j in zip(len(total), len(total))]\n",
    "\n",
    "# bar chart 1 -> top bars (group of 'smoker=No')\n",
    "bar1 = sns.barplot(x=\"belief_type\",  y=\"pct\", data=total, color='darkblue')\n",
    "\n",
    "# bar chart 2 -> bottom bars (group of 'smoker=Yes')\n",
    "bar2 = sns.barplot(x=\"belief_type\", y=\"pct\", data=correct, color='lightblue')\n",
    "\n",
    "# add legend\n",
    "top_bar = mpatches.Patch(color='darkblue', label='incorrect')\n",
    "bottom_bar = mpatches.Patch(color='lightblue', label='correct')\n",
    "plt.legend(handles=[top_bar, bottom_bar])\n"
   ],
   "metadata": {
    "collapsed": false,
    "pycharm": {
     "name": "#%%\n"
    }
   }
  },
  {
   "cell_type": "code",
   "execution_count": null,
   "outputs": [],
   "source": [
    "len(dat.loc[dat.group == 'Autism'].prolific_id.unique())"
   ],
   "metadata": {
    "collapsed": false,
    "pycharm": {
     "name": "#%%\n"
    }
   }
  },
  {
   "cell_type": "code",
   "execution_count": null,
   "outputs": [],
   "source": [
    "len(dat.loc[dat.group == 'Autism'].prolific_id.unique())\n"
   ],
   "metadata": {
    "collapsed": false,
    "pycharm": {
     "name": "#%%\n"
    }
   }
  },
  {
   "cell_type": "code",
   "execution_count": null,
   "outputs": [],
   "source": [
    "sns.catplot(col='belief_type', x='correct', hue='ascription_type', kind='count', data=dat)\n"
   ],
   "metadata": {
    "collapsed": false,
    "pycharm": {
     "name": "#%%\n"
    }
   }
  },
  {
   "cell_type": "markdown",
   "source": [
    "## Check to make sure all responses came AFTER the target onset"
   ],
   "metadata": {
    "collapsed": false,
    "pycharm": {
     "name": "#%% md\n"
    }
   }
  },
  {
   "cell_type": "code",
   "execution_count": null,
   "outputs": [],
   "source": [
    "sum(dat.apply(lambda row: row['response_onset'] > row['target_onset'], axis=1)) == len(dat)\n"
   ],
   "metadata": {
    "collapsed": false,
    "pycharm": {
     "name": "#%%\n"
    }
   }
  },
  {
   "cell_type": "markdown",
   "source": [
    "## Exclude subjects with mean RTs less than 1500ms or more than 4000ms"
   ],
   "metadata": {
    "collapsed": false,
    "pycharm": {
     "name": "#%% md\n"
    }
   }
  },
  {
   "cell_type": "code",
   "execution_count": null,
   "outputs": [],
   "source": [
    "xx = dat.groupby('prolific_id').rt_ms.mean() < 1500\n",
    "dat = dat.loc[dat.prolific_id.isin(xx[xx == False].index.tolist())]\n",
    "yy = dat.groupby('prolific_id').rt_ms.mean() > 4000\n",
    "dat = dat.loc[dat.prolific_id.isin(yy[yy == False].index.tolist())]\n",
    "\n",
    "for old, new in {'IG': 'Ignorance', 'TB': 'True Info', 'FB': 'False Info'}.items():\n",
    "    dat.belief_type.replace(old, new, inplace=True)"
   ],
   "metadata": {
    "collapsed": false,
    "pycharm": {
     "name": "#%%\n"
    }
   }
  },
  {
   "cell_type": "markdown",
   "source": [],
   "metadata": {
    "collapsed": false,
    "pycharm": {
     "name": "#%% md\n"
    }
   }
  },
  {
   "cell_type": "markdown",
   "source": [
    "# 3. Location"
   ],
   "metadata": {
    "collapsed": false,
    "pycharm": {
     "name": "#%% md\n"
    }
   }
  },
  {
   "cell_type": "code",
   "execution_count": 34,
   "outputs": [
    {
     "name": "stderr",
     "output_type": "stream",
     "text": [
      "<ipython-input-34-1034ab7d2aad>:2: SettingWithCopyWarning: \n",
      "A value is trying to be set on a copy of a slice from a DataFrame.\n",
      "Try using .loc[row_indexer,col_indexer] = value instead\n",
      "\n",
      "See the caveats in the documentation: https://pandas.pydata.org/pandas-docs/stable/user_guide/indexing.html#returning-a-view-versus-a-copy\n",
      "  adat[['city', 'region', 'country', 'loc', 'org', 'postal', 'timezone']] = None\n",
      "/Library/Frameworks/Python.framework/Versions/3.8/lib/python3.8/site-packages/pandas/core/indexing.py:1720: SettingWithCopyWarning: \n",
      "A value is trying to be set on a copy of a slice from a DataFrame.\n",
      "Try using .loc[row_indexer,col_indexer] = value instead\n",
      "\n",
      "See the caveats in the documentation: https://pandas.pydata.org/pandas-docs/stable/user_guide/indexing.html#returning-a-view-versus-a-copy\n",
      "  self._setitem_single_column(loc, value, pi)\n",
      "/Library/Frameworks/Python.framework/Versions/3.8/lib/python3.8/site-packages/pandas/core/indexing.py:1700: SettingWithCopyWarning: \n",
      "A value is trying to be set on a copy of a slice from a DataFrame.\n",
      "Try using .loc[row_indexer,col_indexer] = value instead\n",
      "\n",
      "See the caveats in the documentation: https://pandas.pydata.org/pandas-docs/stable/user_guide/indexing.html#returning-a-view-versus-a-copy\n",
      "  self._setitem_single_column(loc, v, pi)\n"
     ]
    },
    {
     "name": "stdout",
     "output_type": "stream",
     "text": [
      "issue with id: hkaDfNtDY7Vic6Q2\n",
      "issue with id: KcsjMENf2Rb52asn\n",
      "issue with id: QFgA4FniYFQUJiLD\n",
      "issue with id: cd1W9YvW5FmGdjut\n",
      "issue with id: skxn7ToatEqrJCMk\n",
      "issue with id: fAq7JhFiusgsyHBu\n"
     ]
    }
   ],
   "source": [
    "adat = dat.loc[dat.group == 'Autism']\n",
    "adat[['city', 'region', 'country', 'loc', 'org', 'postal', 'timezone']] = None\n",
    "\n",
    "for subj in adat.prolific_id.unique():\n",
    "    addr = adat.loc[adat.prolific_id == subj, 'ip_addy'].values[0]\n",
    "    url = 'https://ipinfo.io/' + addr + '/json'\n",
    "    res = urlopen(url)\n",
    "    #response from url(if res==None then check connection)\n",
    "    data = load(res)\n",
    "    try:\n",
    "        adat.loc[adat.prolific_id == subj, ['city', 'region', 'country', 'loc', 'org', 'postal', 'timezone', 'email', 'participation_date', 'study_duration']] = [data['city'], data['region'], data['country'], data['loc'], data['org'], data['postal'], data['timezone'], adat.loc[adat.prolific_id == subj, 'email'].values[0], adat.loc[adat.prolific_id == subj, 'participation_date'].values[0], adat.loc[adat.prolific_id == subj, 'study_duration'].values[0]]\n",
    "    except:\n",
    "        print(f'issue with id: {subj}')"
   ],
   "metadata": {
    "collapsed": false,
    "pycharm": {
     "name": "#%%\n"
    }
   }
  },
  {
   "cell_type": "code",
   "execution_count": 19,
   "outputs": [
    {
     "data": {
      "text/plain": "{'ip': '75.117.243.66',\n 'hostname': 'h66.243.117.75.dynamic.ip.windstream.net',\n 'city': 'Concord',\n 'region': 'North Carolina',\n 'country': 'US',\n 'loc': '35.4089,-80.5816',\n 'org': 'AS7029 Windstream Communications LLC',\n 'postal': '28027',\n 'timezone': 'America/New_York',\n 'readme': 'https://ipinfo.io/missingauth'}"
     },
     "execution_count": 19,
     "metadata": {},
     "output_type": "execute_result"
    }
   ],
   "source": [
    "addr = adat.loc[adat.prolific_id == 'QngbaGvRLhEOyfRf', 'ip_addy'].values[0]\n",
    "url = 'https://ipinfo.io/' + addr + '/json'\n",
    "res = urlopen(url)\n",
    "#response from url(if res==None then check connection)\n",
    "data = load(res)\n",
    "data"
   ],
   "metadata": {
    "collapsed": false,
    "pycharm": {
     "name": "#%%\n"
    }
   }
  },
  {
   "cell_type": "code",
   "execution_count": 35,
   "outputs": [
    {
     "data": {
      "text/plain": "          prolific_id         participation_date                      email  \\\n34   8WSVThF1sSOcQQYr 2022-09-08 03:34:07.612076     giftkevin728@gmail.com   \n126  dk2kUNMlfjAmlDVC 2022-09-08 14:22:00.203119        gm0766838@gmail.com   \n163  p5JLgP3WMn82fe7K 2022-09-08 15:15:51.130380  deanmichelle362@gmail.com   \n164  p5JLgP3WMn82fe7K 2022-09-08 15:15:51.130380  deanmichelle362@gmail.com   \n165  p5JLgP3WMn82fe7K 2022-09-08 15:15:51.130380  deanmichelle362@gmail.com   \n..                ...                        ...                        ...   \n161  ojRZ1hEX6NkvzFR2 2022-09-08 07:53:26.880706     ladylondon38@gmail.com   \n159  oLy8v6Y1zTAoTCn5 2022-09-08 10:07:30.324559       soonwow041@gmail.com   \n188  tnGByjBjbUzRJwyf 2022-09-07 11:11:25.458222           dave@trahans.net   \n148  jcOXPqMioLJNLZ3D 2022-09-06 22:32:59.570970    johnnyldudley@gmail.com   \n118  bSNCukXbOcNIXsLz 2022-09-09 01:07:53.312595      rbinjackson@gmail.com   \n\n            ip_addy         study_duration           city            region  \\\n34       5.62.59.55 0 days 01:33:45.883202        Raleigh    North Carolina   \n126  156.146.36.110 0 days 00:27:39.253389  New York City          New York   \n163   102.89.34.100 0 days 00:51:26.307833    Santa Clara        California   \n164   143.198.78.59 0 days 00:51:26.307833    Santa Clara        California   \n165     5.161.77.55 0 days 00:51:26.307833    Santa Clara        California   \n..              ...                    ...            ...               ...   \n161    198.7.56.244 0 days 00:25:20.510651     Washington  Washington, D.C.   \n159   149.57.16.179 0 days 00:29:17.908553     Wilmington          Delaware   \n188  191.96.227.102 0 days 00:27:41.962866  New York City          New York   \n148  174.105.249.50 0 days 00:27:16.157435       Columbus              Ohio   \n118      3.88.19.57 0 days 00:34:30.886231        Ashburn          Virginia   \n\n    country                loc                                 org postal  \\\n34       US   35.7721,-78.6386     AS29889 Fast Serv Networks, LLC  27601   \n126      US   40.7143,-74.0060            AS60068 Datacamp Limited  10004   \n163      US  37.3924,-121.9623           AS14061 DigitalOcean, LLC  95054   \n164      US  37.3924,-121.9623           AS14061 DigitalOcean, LLC  95054   \n165      US  37.3924,-121.9623           AS14061 DigitalOcean, LLC  95054   \n..      ...                ...                                 ...    ...   \n161      US   38.8951,-77.0364          AS30633 Leaseweb USA, Inc.  20004   \n159      US   39.7460,-75.5466           AS212238 Datacamp Limited  19801   \n188      US   40.7143,-74.0060         AS174 Cogent Communications  10004   \n148      US   39.9444,-82.8903  AS10796 Charter Communications Inc  43227   \n118      US   39.0437,-77.4875            AS14618 Amazon.com, Inc.  20147   \n\n                timezone   correct  \n34      America/New_York  0.000000  \n126     America/New_York  0.000000  \n163  America/Los_Angeles  0.000000  \n164  America/Los_Angeles  0.000000  \n165  America/Los_Angeles  0.000000  \n..                   ...       ...  \n161     America/New_York  0.666667  \n159     America/New_York  0.666667  \n188     America/New_York  0.833333  \n148     America/New_York  0.916667  \n118     America/New_York  0.916667  \n\n[204 rows x 13 columns]",
      "text/html": "<div>\n<style scoped>\n    .dataframe tbody tr th:only-of-type {\n        vertical-align: middle;\n    }\n\n    .dataframe tbody tr th {\n        vertical-align: top;\n    }\n\n    .dataframe thead th {\n        text-align: right;\n    }\n</style>\n<table border=\"1\" class=\"dataframe\">\n  <thead>\n    <tr style=\"text-align: right;\">\n      <th></th>\n      <th>prolific_id</th>\n      <th>participation_date</th>\n      <th>email</th>\n      <th>ip_addy</th>\n      <th>study_duration</th>\n      <th>city</th>\n      <th>region</th>\n      <th>country</th>\n      <th>loc</th>\n      <th>org</th>\n      <th>postal</th>\n      <th>timezone</th>\n      <th>correct</th>\n    </tr>\n  </thead>\n  <tbody>\n    <tr>\n      <th>34</th>\n      <td>8WSVThF1sSOcQQYr</td>\n      <td>2022-09-08 03:34:07.612076</td>\n      <td>giftkevin728@gmail.com</td>\n      <td>5.62.59.55</td>\n      <td>0 days 01:33:45.883202</td>\n      <td>Raleigh</td>\n      <td>North Carolina</td>\n      <td>US</td>\n      <td>35.7721,-78.6386</td>\n      <td>AS29889 Fast Serv Networks, LLC</td>\n      <td>27601</td>\n      <td>America/New_York</td>\n      <td>0.000000</td>\n    </tr>\n    <tr>\n      <th>126</th>\n      <td>dk2kUNMlfjAmlDVC</td>\n      <td>2022-09-08 14:22:00.203119</td>\n      <td>gm0766838@gmail.com</td>\n      <td>156.146.36.110</td>\n      <td>0 days 00:27:39.253389</td>\n      <td>New York City</td>\n      <td>New York</td>\n      <td>US</td>\n      <td>40.7143,-74.0060</td>\n      <td>AS60068 Datacamp Limited</td>\n      <td>10004</td>\n      <td>America/New_York</td>\n      <td>0.000000</td>\n    </tr>\n    <tr>\n      <th>163</th>\n      <td>p5JLgP3WMn82fe7K</td>\n      <td>2022-09-08 15:15:51.130380</td>\n      <td>deanmichelle362@gmail.com</td>\n      <td>102.89.34.100</td>\n      <td>0 days 00:51:26.307833</td>\n      <td>Santa Clara</td>\n      <td>California</td>\n      <td>US</td>\n      <td>37.3924,-121.9623</td>\n      <td>AS14061 DigitalOcean, LLC</td>\n      <td>95054</td>\n      <td>America/Los_Angeles</td>\n      <td>0.000000</td>\n    </tr>\n    <tr>\n      <th>164</th>\n      <td>p5JLgP3WMn82fe7K</td>\n      <td>2022-09-08 15:15:51.130380</td>\n      <td>deanmichelle362@gmail.com</td>\n      <td>143.198.78.59</td>\n      <td>0 days 00:51:26.307833</td>\n      <td>Santa Clara</td>\n      <td>California</td>\n      <td>US</td>\n      <td>37.3924,-121.9623</td>\n      <td>AS14061 DigitalOcean, LLC</td>\n      <td>95054</td>\n      <td>America/Los_Angeles</td>\n      <td>0.000000</td>\n    </tr>\n    <tr>\n      <th>165</th>\n      <td>p5JLgP3WMn82fe7K</td>\n      <td>2022-09-08 15:15:51.130380</td>\n      <td>deanmichelle362@gmail.com</td>\n      <td>5.161.77.55</td>\n      <td>0 days 00:51:26.307833</td>\n      <td>Santa Clara</td>\n      <td>California</td>\n      <td>US</td>\n      <td>37.3924,-121.9623</td>\n      <td>AS14061 DigitalOcean, LLC</td>\n      <td>95054</td>\n      <td>America/Los_Angeles</td>\n      <td>0.000000</td>\n    </tr>\n    <tr>\n      <th>...</th>\n      <td>...</td>\n      <td>...</td>\n      <td>...</td>\n      <td>...</td>\n      <td>...</td>\n      <td>...</td>\n      <td>...</td>\n      <td>...</td>\n      <td>...</td>\n      <td>...</td>\n      <td>...</td>\n      <td>...</td>\n      <td>...</td>\n    </tr>\n    <tr>\n      <th>161</th>\n      <td>ojRZ1hEX6NkvzFR2</td>\n      <td>2022-09-08 07:53:26.880706</td>\n      <td>ladylondon38@gmail.com</td>\n      <td>198.7.56.244</td>\n      <td>0 days 00:25:20.510651</td>\n      <td>Washington</td>\n      <td>Washington, D.C.</td>\n      <td>US</td>\n      <td>38.8951,-77.0364</td>\n      <td>AS30633 Leaseweb USA, Inc.</td>\n      <td>20004</td>\n      <td>America/New_York</td>\n      <td>0.666667</td>\n    </tr>\n    <tr>\n      <th>159</th>\n      <td>oLy8v6Y1zTAoTCn5</td>\n      <td>2022-09-08 10:07:30.324559</td>\n      <td>soonwow041@gmail.com</td>\n      <td>149.57.16.179</td>\n      <td>0 days 00:29:17.908553</td>\n      <td>Wilmington</td>\n      <td>Delaware</td>\n      <td>US</td>\n      <td>39.7460,-75.5466</td>\n      <td>AS212238 Datacamp Limited</td>\n      <td>19801</td>\n      <td>America/New_York</td>\n      <td>0.666667</td>\n    </tr>\n    <tr>\n      <th>188</th>\n      <td>tnGByjBjbUzRJwyf</td>\n      <td>2022-09-07 11:11:25.458222</td>\n      <td>dave@trahans.net</td>\n      <td>191.96.227.102</td>\n      <td>0 days 00:27:41.962866</td>\n      <td>New York City</td>\n      <td>New York</td>\n      <td>US</td>\n      <td>40.7143,-74.0060</td>\n      <td>AS174 Cogent Communications</td>\n      <td>10004</td>\n      <td>America/New_York</td>\n      <td>0.833333</td>\n    </tr>\n    <tr>\n      <th>148</th>\n      <td>jcOXPqMioLJNLZ3D</td>\n      <td>2022-09-06 22:32:59.570970</td>\n      <td>johnnyldudley@gmail.com</td>\n      <td>174.105.249.50</td>\n      <td>0 days 00:27:16.157435</td>\n      <td>Columbus</td>\n      <td>Ohio</td>\n      <td>US</td>\n      <td>39.9444,-82.8903</td>\n      <td>AS10796 Charter Communications Inc</td>\n      <td>43227</td>\n      <td>America/New_York</td>\n      <td>0.916667</td>\n    </tr>\n    <tr>\n      <th>118</th>\n      <td>bSNCukXbOcNIXsLz</td>\n      <td>2022-09-09 01:07:53.312595</td>\n      <td>rbinjackson@gmail.com</td>\n      <td>3.88.19.57</td>\n      <td>0 days 00:34:30.886231</td>\n      <td>Ashburn</td>\n      <td>Virginia</td>\n      <td>US</td>\n      <td>39.0437,-77.4875</td>\n      <td>AS14618 Amazon.com, Inc.</td>\n      <td>20147</td>\n      <td>America/New_York</td>\n      <td>0.916667</td>\n    </tr>\n  </tbody>\n</table>\n<p>204 rows × 13 columns</p>\n</div>"
     },
     "execution_count": 35,
     "metadata": {},
     "output_type": "execute_result"
    }
   ],
   "source": [
    "xx = adat.groupby(['prolific_id','participation_date', 'email', 'ip_addy','study_duration', 'city', 'region', 'country', 'loc', 'org', 'postal', 'timezone']).correct.mean()#.sort_values('correct')\n",
    "yy = xx.reset_index().sort_values('correct', axis=0)\n",
    "yy"
   ],
   "metadata": {
    "collapsed": false,
    "pycharm": {
     "name": "#%%\n"
    }
   }
  },
  {
   "cell_type": "markdown",
   "source": [
    "# 2. Response Times"
   ],
   "metadata": {
    "collapsed": false,
    "pycharm": {
     "name": "#%% md\n"
    }
   }
  },
  {
   "cell_type": "code",
   "execution_count": null,
   "outputs": [],
   "source": [
    "sns.set_context('notebook', font_scale=2)\n",
    "fig, ax = plt.subplots(figsize=(15, 12))\n",
    "g = sns.violinplot(x='belief_type', y='rt_ms', hue='ascription_type', hue_order=['Thinks', 'Knows'], data=dat.loc[(dat.trial_type=='test') & (dat.correct==True)], cut=0, bw=0.25, ax=ax, inner=None, linewidth=1, saturation=1)\n",
    "g = sns.stripplot(x='belief_type', y='rt_ms', hue='ascription_type', hue_order=['Thinks', 'Knows'], data=dat.loc[(dat.trial_type=='test') & (dat.correct==True)],\n",
    "                  color='k', dodge=True, ax=ax, jitter=.2, linewidth=1, alpha=.2)\n",
    "g= sns.pointplot(x='belief_type', y='rt_ms', hue='ascription_type', hue_order=['Thinks', 'Knows'], data=dat.loc[(dat.trial_type=='test') & (dat.correct==True)], join=False, dodge=.4, capsize=.1, ax=ax, color='k',)\n",
    "\n",
    "ax.legend(g.get_legend_handles_labels()[0][:2], g.get_legend_handles_labels()[1][:2])\n",
    "g.yaxis.set_label_text(\"response time (ms)\")\n",
    "g.xaxis.set_label_text(\"Agent state\")\n",
    "ax.xaxis.labelpad = 20\n",
    "\n",
    "#fig.savefig('proposal_S1_control_result.png')"
   ],
   "metadata": {
    "collapsed": false,
    "pycharm": {
     "name": "#%%\n"
    }
   }
  },
  {
   "cell_type": "code",
   "execution_count": null,
   "outputs": [],
   "source": [
    "len(dat.loc[(dat.trial_type=='test') & (dat.correct==True)].prolific_id.unique())"
   ],
   "metadata": {
    "collapsed": false,
    "pycharm": {
     "name": "#%%\n"
    }
   }
  },
  {
   "cell_type": "markdown",
   "source": [
    "# 3. Felicity Judgements"
   ],
   "metadata": {
    "collapsed": false,
    "pycharm": {
     "name": "#%% md\n"
    }
   }
  },
  {
   "cell_type": "code",
   "execution_count": null,
   "outputs": [],
   "source": [
    "f_dat = pd.read_sql('SELECT * FROM felicities A INNER JOIN subjects B ON A.prolific_id = B.prolific_id WHERE B.completion_code=\"XXXX\"', con=conn)\n",
    "f_dat = f_dat.loc[:,~f_dat.columns.duplicated()].copy() # prolific id from both tables will be in df, remove duplicate\n",
    "# 1= \"Sounds very weird\"\n",
    "# 7 = \"Sounds very normal\"\n",
    "f_dat['Infelicity Rating'] = 8 - f_dat.felicity_rating"
   ],
   "metadata": {
    "collapsed": false,
    "pycharm": {
     "name": "#%%\n"
    }
   }
  },
  {
   "cell_type": "code",
   "execution_count": null,
   "outputs": [],
   "source": [
    "sns.set_context('paper', font_scale=2)\n",
    "fig, ax = plt.subplots(figsize=(12,12))\n",
    "g = sns.violinplot(x='fel_belief_type', y='Infelicity Rating', hue='fel_ascription_type', data=f_dat, cut=0, bw=0.25, ax=ax, inner=None, linewidth=1, saturation=1, order=['TB', 'IG', 'FB'])\n",
    "\n",
    "def jitter(values,j):\n",
    "    return values + np.random.normal(j,0.15,values.shape)\n",
    "\n",
    "g = sns.stripplot(x='fel_belief_type', y=jitter(f_dat['Infelicity Rating'], 0), hue='fel_ascription_type', data=f_dat,\n",
    "                  color='k', dodge=True, ax=ax, jitter=.45, linewidth=1.5, alpha=.1, order=['TB', 'IG', 'FB'])\n",
    "g= sns.pointplot(x='fel_belief_type', y='Infelicity Rating', hue='fel_ascription_type', data=f_dat, join=False, dodge=.4, capsize=.1, ax=ax, color='k',order=['TB', 'IG', 'FB'])\n",
    "\n",
    "ax.legend(g.get_legend_handles_labels()[0][:2], g.get_legend_handles_labels()[1][:2])"
   ],
   "metadata": {
    "collapsed": false,
    "pycharm": {
     "name": "#%%\n"
    }
   }
  },
  {
   "cell_type": "markdown",
   "source": [
    "# 4. AQ-10"
   ],
   "metadata": {
    "collapsed": false,
    "pycharm": {
     "name": "#%% md\n"
    }
   }
  },
  {
   "cell_type": "code",
   "execution_count": null,
   "outputs": [],
   "source": [
    "\n",
    "a_dat = pd.read_sql('SELECT * FROM autism_scores A INNER JOIN subjects B ON A.prolific_id = B.prolific_id WHERE B.completion_code=\"XXXX\"', con=conn)\n",
    "a_dat = a_dat.loc[:,~a_dat.columns.duplicated()].copy() # prolific id from both tables will be in df, remove duplicate\n",
    "\n",
    "#a_dat = a_dat[a_dat.prolific_id.isin(dat.prolific_id.unique()).values] # only use subjects in trial analysis\n",
    "a_dat.describe()"
   ],
   "metadata": {
    "collapsed": false,
    "pycharm": {
     "name": "#%%\n"
    }
   }
  },
  {
   "cell_type": "code",
   "execution_count": null,
   "outputs": [],
   "source": [
    "a_dat[a_dat.prolific_id.isin(dat.prolific_id.unique().tolist())]"
   ],
   "metadata": {
    "collapsed": false,
    "pycharm": {
     "name": "#%%\n"
    }
   }
  },
  {
   "cell_type": "code",
   "execution_count": null,
   "outputs": [],
   "source": [
    "## Scoring\n",
    "agree = ['AQ_rating_1', 'AQ_rating_7', 'AQ_rating_8', 'AQ_rating_10'] # score of 3 or 4 get a point\n",
    "disagree = ['AQ_rating_2','AQ_rating_3','AQ_rating_4','AQ_rating_5','AQ_rating_6','AQ_rating_9', ] # score of 1 or 2 get a point]\n",
    "a = a_dat[agree] >= 3\n",
    "b = a_dat[disagree] < 3\n",
    "a_dat['AQ_score'] = a.sum(axis=1) + b.sum(axis=1)\n",
    "a_dat = a_dat[a_dat.prolific_id.isin(dat.prolific_id.unique().tolist())]\n",
    "\n",
    "fg, ax = plt.subplots(figsize=(10, 8))\n",
    "sns.countplot(data=a_dat, x='AQ_score', ax=ax);"
   ],
   "metadata": {
    "collapsed": false,
    "pycharm": {
     "name": "#%%\n"
    }
   }
  },
  {
   "cell_type": "code",
   "execution_count": null,
   "outputs": [],
   "source": [
    "e_dat.groupby('diag').describe()"
   ],
   "metadata": {
    "collapsed": false,
    "pycharm": {
     "name": "#%%\n"
    }
   }
  },
  {
   "cell_type": "code",
   "execution_count": null,
   "outputs": [],
   "source": [
    "cdat = dat.loc[dat.correct ==True]\n",
    "for subject in dat.prolific_id.unique():\n",
    "    # calculate mean RT for belief ascription\n",
    "    a_dat.loc[a_dat.prolific_id == subject, 'avg_ThinkRT'] = cdat.loc[(cdat.prolific_id == subject) & (cdat.ascription_type == 'Thinks')].rt_ms.mean()\n",
    "    a_dat.loc[a_dat.prolific_id == subject, 'avg_KnowRT'] = cdat.loc[(cdat.prolific_id == subject) & (cdat.ascription_type == 'Knows')].rt_ms.mean()\n",
    "\n",
    "a_dat['RT_diff'] = a_dat.apply(lambda row: row['avg_ThinkRT'] - row['avg_KnowRT'], axis=1)\n"
   ],
   "metadata": {
    "collapsed": false,
    "pycharm": {
     "name": "#%%\n"
    }
   }
  },
  {
   "cell_type": "code",
   "execution_count": null,
   "outputs": [],
   "source": [
    "sns.lmplot(x='AQ_score', y='RT_diff', data=a_dat);\n"
   ],
   "metadata": {
    "collapsed": false,
    "pycharm": {
     "name": "#%%\n"
    }
   }
  },
  {
   "cell_type": "code",
   "execution_count": null,
   "outputs": [],
   "source": [],
   "metadata": {
    "collapsed": false,
    "pycharm": {
     "name": "#%%\n"
    }
   }
  }
 ],
 "metadata": {
  "kernelspec": {
   "display_name": "Python 3",
   "language": "python",
   "name": "python3"
  },
  "language_info": {
   "codemirror_mode": {
    "name": "ipython",
    "version": 2
   },
   "file_extension": ".py",
   "mimetype": "text/x-python",
   "name": "python",
   "nbconvert_exporter": "python",
   "pygments_lexer": "ipython2",
   "version": "2.7.6"
  }
 },
 "nbformat": 4,
 "nbformat_minor": 0
}