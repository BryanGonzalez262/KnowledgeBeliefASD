{
 "cells": [
  {
   "cell_type": "code",
   "execution_count": 3,
   "outputs": [],
   "source": [
    "import sqlite3\n",
    "import pandas as pd\n",
    "import numpy as np\n",
    "import datetime\n",
    "import matplotlib.pyplot as plt\n",
    "import seaborn as sns\n",
    "from ast import literal_eval\n",
    "from urllib.request import urlopen\n",
    "from json import load\n",
    "sns.set_style('white')\n",
    "sns.set_context('notebook')"
   ],
   "metadata": {
    "collapsed": false,
    "pycharm": {
     "name": "#%%\n"
    }
   }
  },
  {
   "cell_type": "markdown",
   "source": [
    "# 1. Import Data"
   ],
   "metadata": {
    "collapsed": false,
    "pycharm": {
     "name": "#%% md\n"
    }
   }
  },
  {
   "cell_type": "code",
   "execution_count": 4,
   "outputs": [],
   "source": [
    "# ASC Cohort\n",
    "conn = sqlite3.connect('./Data/knwlg_blf.db')\n",
    "#dat1 = pd.read_sql(\"SELECT * FROM trials A INNER JOIN subjects B ON A.prolific_id = B.prolific_id WHERE B.completion_code LIKE '%XXX%'\", con=conn)\n",
    "dat1 = pd.read_sql(\"SELECT * FROM trials A INNER JOIN subjects B ON A.prolific_id = B.prolific_id \"\n",
    "                   \"WHERE B.block1_complete=TRUE \"\n",
    "                   \"AND B.block2_complete=TRUE \"\n",
    "                   \"AND B.block3_complete=TRUE \"\n",
    "                   \"AND B.completion_code LIKE '%XXX%'\", con=conn)\n",
    "dat1 = dat1.loc[:,~dat1.columns.duplicated()].copy() # prolific id from both tables will be in df, remove duplicate\n",
    "# REMOVE DISTRACTORS\n",
    "dat1 = dat1.loc[dat1.trial_type == 'test'].reset_index(drop=True)\n",
    "dat1['group'] = 'Autism'\n",
    "\n",
    "# TD cohort\n",
    "conn2 = sqlite3.connect('./Data/knwlg_blf_controls.db')\n",
    "dat2 = pd.read_sql('SELECT * FROM trials A INNER JOIN subjects B ON A.prolific_id = B.prolific_id WHERE B.completion_code=\"548DA3BD\"', con=conn2)\n",
    "dat2 = dat2.loc[:,~dat2.columns.duplicated()].copy() # prolific id from both tables will be in df, remove duplicate\n",
    "# REMOVE DISTRACTORS\n",
    "dat2 = dat2.loc[dat2.trial_type == 'test'].reset_index(drop=True)\n",
    "dat2['email'] = 'N/A'\n",
    "dat2['group'] = 'Neurotypical'\n",
    "\n",
    "# Combine into one big dataframe\n",
    "dat = pd.concat(objs=[dat1,dat2], ignore_index=True)\n",
    "#\n",
    "dat['email'] = dat.email.str.lower().str.strip()\n",
    "\n",
    "# data saved for testing purposes has id as float instead of alphanumeric so only keep alphanumeric IDs\n",
    "dat = dat[dat.prolific_id.str.isalnum()].reset_index(drop=True)\n",
    "dat['response_key'] = dat.response_key.apply(literal_eval)"
   ],
   "metadata": {
    "collapsed": false,
    "pycharm": {
     "name": "#%%\n"
    }
   }
  },
  {
   "cell_type": "markdown",
   "source": [
    "## Cleaning\n",
    "### Get Email addressed for reimbursements"
   ],
   "metadata": {
    "collapsed": false,
    "pycharm": {
     "name": "#%% md\n"
    }
   }
  },
  {
   "cell_type": "code",
   "execution_count": null,
   "outputs": [],
   "source": [
    "emails = dat # pd.read_sql('SELECT * FROM demographics A INNER JOIN subjects B ON A.prolific_id = B.prolific_id WHERE B.completion_code=\"XXXX\"', con=conn)\n",
    "\n",
    "emails = emails.loc[(emails.block1_complete == True) & (emails.block2_complete == True) & (emails.block3_complete == True)]#.email.to_csv('emails.csv', sep=',')\n",
    "emails = emails.loc[:,~emails.columns.duplicated()].copy()\n",
    "#emails['emailed'] = '8-24-2022'\n",
    "#emails['paid']= '8-24-2022'\n",
    "emails = emails[['prolific_id', 'participation_date', 'email']]\n",
    "emails['email'] = emails.email.str.strip()\n",
    "emails.email.sort_values().unique()\n",
    "#ed.to_csv('Data/emails2.csv', sep=',')"
   ],
   "metadata": {
    "collapsed": false,
    "pycharm": {
     "name": "#%%\n"
    }
   }
  },
  {
   "cell_type": "markdown",
   "source": [
    "### Note where subjects entered invalid responses"
   ],
   "metadata": {
    "collapsed": false,
    "pycharm": {
     "name": "#%% md\n"
    }
   }
  },
  {
   "cell_type": "code",
   "execution_count": 5,
   "outputs": [
    {
     "name": "stdout",
     "output_type": "stream",
     "text": [
      "26 participants responded at least one trial with invalid keys. \n",
      "16 of these are from the neurotypical group. \n",
      " 10 of these are from the autism group.\n"
     ]
    }
   ],
   "source": [
    "accepted_answers = ['f', 'j', '999']\n",
    "dat['accepted_answer'] = None\n",
    "for i, response in enumerate(dat.response_key):\n",
    "    if sum([key.lower() in accepted_answers for key in response]) >= 1:  # == len(response):\n",
    "        dat.loc[i, 'accepted_answer'] = True\n",
    "    else:\n",
    "        dat.loc[i, 'accepted_answer'] = False\n",
    "\n",
    "print(f\"{len(dat.loc[dat.accepted_answer == False].prolific_id.unique())} participants responded at least one trial with invalid keys. \\n\"\n",
    "      f\"{len(dat.loc[(dat.accepted_answer == False)&(dat.group == 'Neurotypical')].prolific_id.unique())} of these are from the neurotypical group. \\n\"\n",
    "      f\" {len(dat.loc[(dat.accepted_answer == False)&(dat.group == 'Autism')].prolific_id.unique())} of these are from the autism group.\")"
   ],
   "metadata": {
    "collapsed": false,
    "pycharm": {
     "name": "#%%\n"
    }
   }
  },
  {
   "cell_type": "markdown",
   "source": [
    "### Convert SQL strings to python datetime object and compute timedeltas"
   ],
   "metadata": {
    "collapsed": false,
    "pycharm": {
     "name": "#%% md\n"
    }
   }
  },
  {
   "cell_type": "code",
   "execution_count": 21,
   "outputs": [],
   "source": [
    "dat['response_onset'] = dat.apply(lambda row: datetime.datetime.strptime(row['response_onset'], '%Y-%m-%d %H:%M:%S.%f'), axis=1)\n",
    "dat['target_onset'] = dat.apply(lambda row: datetime.datetime.strptime(row['target_onset'], '%Y-%m-%d %H:%M:%S.%f'), axis=1)\n",
    "dat['participation_date'] = dat.apply(lambda row: datetime.datetime.strptime(row['participation_date'], '%Y-%m-%d %H:%M:%S.%f'), axis=1)\n",
    "dat['rt'] = dat.apply(lambda row: row['response_onset'] - row['target_onset'], axis=1)\n",
    "dat['rt_ms'] = dat.apply(lambda row: int(round(row['rt'].total_seconds() * 1e3)), axis=1)"
   ],
   "metadata": {
    "collapsed": false,
    "pycharm": {
     "name": "#%%\n"
    }
   }
  },
  {
   "cell_type": "markdown",
   "source": [
    "# 2. Accuracy"
   ],
   "metadata": {
    "collapsed": false,
    "pycharm": {
     "name": "#%% md\n"
    }
   }
  },
  {
   "cell_type": "markdown",
   "source": [
    "### Note trials where subjects timed-out after the 5-seconds"
   ],
   "metadata": {
    "collapsed": false,
    "pycharm": {
     "name": "#%% md\n"
    }
   }
  },
  {
   "cell_type": "code",
   "execution_count": 22,
   "outputs": [
    {
     "name": "stdout",
     "output_type": "stream",
     "text": [
      "277 participants timed out during at least one trial. \n",
      "176 of these are from the neurotypical group. \n",
      " 101 of these are from the autism group.\n"
     ]
    }
   ],
   "source": [
    "dat['timeout'] = False\n",
    "# Here are timeouts without a response at all\n",
    "dat.loc[dat.apply(lambda row: '999' in row['response_key'], axis=1), 'timeout'] = True\n",
    "# Here is where pps pressed a key after 5 seconds, but before the experiment redirected\n",
    "timeouts = dat.loc[(dat.response_key.apply(len)>1) & (dat.apply(lambda row: '999' in row['response_key'], axis=1))].index\n",
    "dat.loc[timeouts, 'timeout'] = True\n",
    "\n",
    "print(f\"{len(dat.loc[dat.timeout == True].prolific_id.unique())} participants timed out during at least one trial. \\n\"\n",
    "      f\"{len(dat.loc[(dat.timeout == True)&(dat.group == 'Neurotypical')].prolific_id.unique())} of these are from the neurotypical group. \\n\"\n",
    "      f\" {len(dat.loc[(dat.timeout == True)&(dat.group == 'Autism')].prolific_id.unique())} of these are from the autism group.\")"
   ],
   "metadata": {
    "collapsed": false,
    "pycharm": {
     "name": "#%%\n"
    }
   }
  },
  {
   "cell_type": "code",
   "execution_count": 23,
   "outputs": [],
   "source": [
    "# If subjects hit more than one key, use only the last one\n",
    "dat['response_key'] = [resp[-1].lower() for resp in dat.response_key]"
   ],
   "metadata": {
    "collapsed": false,
    "pycharm": {
     "name": "#%%\n"
    }
   }
  },
  {
   "cell_type": "code",
   "execution_count": 24,
   "outputs": [],
   "source": [
    "#  correct answers\n",
    "dat.loc[dat.belief_type == 'TB', 'correct_answer'] = 'j'\n",
    "dat.loc[dat.belief_type != 'TB', 'correct_answer'] = 'f'\n",
    "# update correct column based on new answer key\n",
    "dat['correct'] = dat.apply(lambda row: row['response_key'] == row['correct_answer'], axis=1)\n",
    "\n",
    "# timeouts are considered incorrect\n",
    "dat.loc[dat.timeout == True, 'correct'] = False"
   ],
   "metadata": {
    "collapsed": false,
    "pycharm": {
     "name": "#%%\n"
    }
   }
  },
  {
   "cell_type": "markdown",
   "source": [
    "## Time to Complete"
   ],
   "metadata": {
    "collapsed": false,
    "pycharm": {
     "name": "#%% md\n"
    }
   }
  },
  {
   "cell_type": "code",
   "execution_count": 37,
   "outputs": [
    {
     "ename": "TypeError",
     "evalue": "unsupported operand type(s) for -: 'str' and 'str'",
     "output_type": "error",
     "traceback": [
      "\u001B[0;31m---------------------------------------------------------------------------\u001B[0m",
      "\u001B[0;31mTypeError\u001B[0m                                 Traceback (most recent call last)",
      "\u001B[0;32m/Library/Frameworks/Python.framework/Versions/3.8/lib/python3.8/site-packages/pandas/core/ops/array_ops.py\u001B[0m in \u001B[0;36m_na_arithmetic_op\u001B[0;34m(left, right, op, is_cmp)\u001B[0m\n\u001B[1;32m    141\u001B[0m     \u001B[0;32mtry\u001B[0m\u001B[0;34m:\u001B[0m\u001B[0;34m\u001B[0m\u001B[0;34m\u001B[0m\u001B[0m\n\u001B[0;32m--> 142\u001B[0;31m         \u001B[0mresult\u001B[0m \u001B[0;34m=\u001B[0m \u001B[0mexpressions\u001B[0m\u001B[0;34m.\u001B[0m\u001B[0mevaluate\u001B[0m\u001B[0;34m(\u001B[0m\u001B[0mop\u001B[0m\u001B[0;34m,\u001B[0m \u001B[0mleft\u001B[0m\u001B[0;34m,\u001B[0m \u001B[0mright\u001B[0m\u001B[0;34m)\u001B[0m\u001B[0;34m\u001B[0m\u001B[0;34m\u001B[0m\u001B[0m\n\u001B[0m\u001B[1;32m    143\u001B[0m     \u001B[0;32mexcept\u001B[0m \u001B[0mTypeError\u001B[0m\u001B[0;34m:\u001B[0m\u001B[0;34m\u001B[0m\u001B[0;34m\u001B[0m\u001B[0m\n",
      "\u001B[0;32m/Library/Frameworks/Python.framework/Versions/3.8/lib/python3.8/site-packages/pandas/core/computation/expressions.py\u001B[0m in \u001B[0;36mevaluate\u001B[0;34m(op, a, b, use_numexpr)\u001B[0m\n\u001B[1;32m    234\u001B[0m             \u001B[0;31m# error: \"None\" not callable\u001B[0m\u001B[0;34m\u001B[0m\u001B[0;34m\u001B[0m\u001B[0;34m\u001B[0m\u001B[0m\n\u001B[0;32m--> 235\u001B[0;31m             \u001B[0;32mreturn\u001B[0m \u001B[0m_evaluate\u001B[0m\u001B[0;34m(\u001B[0m\u001B[0mop\u001B[0m\u001B[0;34m,\u001B[0m \u001B[0mop_str\u001B[0m\u001B[0;34m,\u001B[0m \u001B[0ma\u001B[0m\u001B[0;34m,\u001B[0m \u001B[0mb\u001B[0m\u001B[0;34m)\u001B[0m  \u001B[0;31m# type: ignore[misc]\u001B[0m\u001B[0;34m\u001B[0m\u001B[0;34m\u001B[0m\u001B[0m\n\u001B[0m\u001B[1;32m    236\u001B[0m     \u001B[0;32mreturn\u001B[0m \u001B[0m_evaluate_standard\u001B[0m\u001B[0;34m(\u001B[0m\u001B[0mop\u001B[0m\u001B[0;34m,\u001B[0m \u001B[0mop_str\u001B[0m\u001B[0;34m,\u001B[0m \u001B[0ma\u001B[0m\u001B[0;34m,\u001B[0m \u001B[0mb\u001B[0m\u001B[0;34m)\u001B[0m\u001B[0;34m\u001B[0m\u001B[0;34m\u001B[0m\u001B[0m\n",
      "\u001B[0;32m/Library/Frameworks/Python.framework/Versions/3.8/lib/python3.8/site-packages/pandas/core/computation/expressions.py\u001B[0m in \u001B[0;36m_evaluate_numexpr\u001B[0;34m(op, op_str, a, b)\u001B[0m\n\u001B[1;32m    119\u001B[0m     \u001B[0;32mif\u001B[0m \u001B[0mresult\u001B[0m \u001B[0;32mis\u001B[0m \u001B[0;32mNone\u001B[0m\u001B[0;34m:\u001B[0m\u001B[0;34m\u001B[0m\u001B[0;34m\u001B[0m\u001B[0m\n\u001B[0;32m--> 120\u001B[0;31m         \u001B[0mresult\u001B[0m \u001B[0;34m=\u001B[0m \u001B[0m_evaluate_standard\u001B[0m\u001B[0;34m(\u001B[0m\u001B[0mop\u001B[0m\u001B[0;34m,\u001B[0m \u001B[0mop_str\u001B[0m\u001B[0;34m,\u001B[0m \u001B[0ma\u001B[0m\u001B[0;34m,\u001B[0m \u001B[0mb\u001B[0m\u001B[0;34m)\u001B[0m\u001B[0;34m\u001B[0m\u001B[0;34m\u001B[0m\u001B[0m\n\u001B[0m\u001B[1;32m    121\u001B[0m \u001B[0;34m\u001B[0m\u001B[0m\n",
      "\u001B[0;32m/Library/Frameworks/Python.framework/Versions/3.8/lib/python3.8/site-packages/pandas/core/computation/expressions.py\u001B[0m in \u001B[0;36m_evaluate_standard\u001B[0;34m(op, op_str, a, b)\u001B[0m\n\u001B[1;32m     68\u001B[0m     \u001B[0;32mwith\u001B[0m \u001B[0mnp\u001B[0m\u001B[0;34m.\u001B[0m\u001B[0merrstate\u001B[0m\u001B[0;34m(\u001B[0m\u001B[0mall\u001B[0m\u001B[0;34m=\u001B[0m\u001B[0;34m\"ignore\"\u001B[0m\u001B[0;34m)\u001B[0m\u001B[0;34m:\u001B[0m\u001B[0;34m\u001B[0m\u001B[0;34m\u001B[0m\u001B[0m\n\u001B[0;32m---> 69\u001B[0;31m         \u001B[0;32mreturn\u001B[0m \u001B[0mop\u001B[0m\u001B[0;34m(\u001B[0m\u001B[0ma\u001B[0m\u001B[0;34m,\u001B[0m \u001B[0mb\u001B[0m\u001B[0;34m)\u001B[0m\u001B[0;34m\u001B[0m\u001B[0;34m\u001B[0m\u001B[0m\n\u001B[0m\u001B[1;32m     70\u001B[0m \u001B[0;34m\u001B[0m\u001B[0m\n",
      "\u001B[0;31mTypeError\u001B[0m: unsupported operand type(s) for -: 'NoneType' and 'str'",
      "\nDuring handling of the above exception, another exception occurred:\n",
      "\u001B[0;31mTypeError\u001B[0m                                 Traceback (most recent call last)",
      "\u001B[0;32m<ipython-input-37-d9de9aff45dc>\u001B[0m in \u001B[0;36m<module>\u001B[0;34m\u001B[0m\n\u001B[1;32m      1\u001B[0m \u001B[0;31m#dat.participation_date\u001B[0m\u001B[0;34m\u001B[0m\u001B[0;34m\u001B[0m\u001B[0;34m\u001B[0m\u001B[0m\n\u001B[0;32m----> 2\u001B[0;31m \u001B[0mdat\u001B[0m\u001B[0;34m.\u001B[0m\u001B[0mcompletion_time\u001B[0m \u001B[0;34m-\u001B[0m \u001B[0mdat\u001B[0m\u001B[0;34m.\u001B[0m\u001B[0mparticipation_date\u001B[0m\u001B[0;34m\u001B[0m\u001B[0;34m\u001B[0m\u001B[0m\n\u001B[0m",
      "\u001B[0;32m/Library/Frameworks/Python.framework/Versions/3.8/lib/python3.8/site-packages/pandas/core/ops/common.py\u001B[0m in \u001B[0;36mnew_method\u001B[0;34m(self, other)\u001B[0m\n\u001B[1;32m     63\u001B[0m         \u001B[0mother\u001B[0m \u001B[0;34m=\u001B[0m \u001B[0mitem_from_zerodim\u001B[0m\u001B[0;34m(\u001B[0m\u001B[0mother\u001B[0m\u001B[0;34m)\u001B[0m\u001B[0;34m\u001B[0m\u001B[0;34m\u001B[0m\u001B[0m\n\u001B[1;32m     64\u001B[0m \u001B[0;34m\u001B[0m\u001B[0m\n\u001B[0;32m---> 65\u001B[0;31m         \u001B[0;32mreturn\u001B[0m \u001B[0mmethod\u001B[0m\u001B[0;34m(\u001B[0m\u001B[0mself\u001B[0m\u001B[0;34m,\u001B[0m \u001B[0mother\u001B[0m\u001B[0;34m)\u001B[0m\u001B[0;34m\u001B[0m\u001B[0;34m\u001B[0m\u001B[0m\n\u001B[0m\u001B[1;32m     66\u001B[0m \u001B[0;34m\u001B[0m\u001B[0m\n\u001B[1;32m     67\u001B[0m     \u001B[0;32mreturn\u001B[0m \u001B[0mnew_method\u001B[0m\u001B[0;34m\u001B[0m\u001B[0;34m\u001B[0m\u001B[0m\n",
      "\u001B[0;32m/Library/Frameworks/Python.framework/Versions/3.8/lib/python3.8/site-packages/pandas/core/arraylike.py\u001B[0m in \u001B[0;36m__sub__\u001B[0;34m(self, other)\u001B[0m\n\u001B[1;32m     95\u001B[0m     \u001B[0;34m@\u001B[0m\u001B[0munpack_zerodim_and_defer\u001B[0m\u001B[0;34m(\u001B[0m\u001B[0;34m\"__sub__\"\u001B[0m\u001B[0;34m)\u001B[0m\u001B[0;34m\u001B[0m\u001B[0;34m\u001B[0m\u001B[0m\n\u001B[1;32m     96\u001B[0m     \u001B[0;32mdef\u001B[0m \u001B[0m__sub__\u001B[0m\u001B[0;34m(\u001B[0m\u001B[0mself\u001B[0m\u001B[0;34m,\u001B[0m \u001B[0mother\u001B[0m\u001B[0;34m)\u001B[0m\u001B[0;34m:\u001B[0m\u001B[0;34m\u001B[0m\u001B[0;34m\u001B[0m\u001B[0m\n\u001B[0;32m---> 97\u001B[0;31m         \u001B[0;32mreturn\u001B[0m \u001B[0mself\u001B[0m\u001B[0;34m.\u001B[0m\u001B[0m_arith_method\u001B[0m\u001B[0;34m(\u001B[0m\u001B[0mother\u001B[0m\u001B[0;34m,\u001B[0m \u001B[0moperator\u001B[0m\u001B[0;34m.\u001B[0m\u001B[0msub\u001B[0m\u001B[0;34m)\u001B[0m\u001B[0;34m\u001B[0m\u001B[0;34m\u001B[0m\u001B[0m\n\u001B[0m\u001B[1;32m     98\u001B[0m \u001B[0;34m\u001B[0m\u001B[0m\n\u001B[1;32m     99\u001B[0m     \u001B[0;34m@\u001B[0m\u001B[0munpack_zerodim_and_defer\u001B[0m\u001B[0;34m(\u001B[0m\u001B[0;34m\"__rsub__\"\u001B[0m\u001B[0;34m)\u001B[0m\u001B[0;34m\u001B[0m\u001B[0;34m\u001B[0m\u001B[0m\n",
      "\u001B[0;32m/Library/Frameworks/Python.framework/Versions/3.8/lib/python3.8/site-packages/pandas/core/series.py\u001B[0m in \u001B[0;36m_arith_method\u001B[0;34m(self, other, op)\u001B[0m\n\u001B[1;32m   4996\u001B[0m         \u001B[0mlvalues\u001B[0m \u001B[0;34m=\u001B[0m \u001B[0mextract_array\u001B[0m\u001B[0;34m(\u001B[0m\u001B[0mself\u001B[0m\u001B[0;34m,\u001B[0m \u001B[0mextract_numpy\u001B[0m\u001B[0;34m=\u001B[0m\u001B[0;32mTrue\u001B[0m\u001B[0;34m)\u001B[0m\u001B[0;34m\u001B[0m\u001B[0;34m\u001B[0m\u001B[0m\n\u001B[1;32m   4997\u001B[0m         \u001B[0mrvalues\u001B[0m \u001B[0;34m=\u001B[0m \u001B[0mextract_array\u001B[0m\u001B[0;34m(\u001B[0m\u001B[0mother\u001B[0m\u001B[0;34m,\u001B[0m \u001B[0mextract_numpy\u001B[0m\u001B[0;34m=\u001B[0m\u001B[0;32mTrue\u001B[0m\u001B[0;34m)\u001B[0m\u001B[0;34m\u001B[0m\u001B[0;34m\u001B[0m\u001B[0m\n\u001B[0;32m-> 4998\u001B[0;31m         \u001B[0mresult\u001B[0m \u001B[0;34m=\u001B[0m \u001B[0mops\u001B[0m\u001B[0;34m.\u001B[0m\u001B[0marithmetic_op\u001B[0m\u001B[0;34m(\u001B[0m\u001B[0mlvalues\u001B[0m\u001B[0;34m,\u001B[0m \u001B[0mrvalues\u001B[0m\u001B[0;34m,\u001B[0m \u001B[0mop\u001B[0m\u001B[0;34m)\u001B[0m\u001B[0;34m\u001B[0m\u001B[0;34m\u001B[0m\u001B[0m\n\u001B[0m\u001B[1;32m   4999\u001B[0m \u001B[0;34m\u001B[0m\u001B[0m\n\u001B[1;32m   5000\u001B[0m         \u001B[0;32mreturn\u001B[0m \u001B[0mself\u001B[0m\u001B[0;34m.\u001B[0m\u001B[0m_construct_result\u001B[0m\u001B[0;34m(\u001B[0m\u001B[0mresult\u001B[0m\u001B[0;34m,\u001B[0m \u001B[0mname\u001B[0m\u001B[0;34m=\u001B[0m\u001B[0mres_name\u001B[0m\u001B[0;34m)\u001B[0m\u001B[0;34m\u001B[0m\u001B[0;34m\u001B[0m\u001B[0m\n",
      "\u001B[0;32m/Library/Frameworks/Python.framework/Versions/3.8/lib/python3.8/site-packages/pandas/core/ops/array_ops.py\u001B[0m in \u001B[0;36marithmetic_op\u001B[0;34m(left, right, op)\u001B[0m\n\u001B[1;32m    187\u001B[0m     \u001B[0;32melse\u001B[0m\u001B[0;34m:\u001B[0m\u001B[0;34m\u001B[0m\u001B[0;34m\u001B[0m\u001B[0m\n\u001B[1;32m    188\u001B[0m         \u001B[0;32mwith\u001B[0m \u001B[0mnp\u001B[0m\u001B[0;34m.\u001B[0m\u001B[0merrstate\u001B[0m\u001B[0;34m(\u001B[0m\u001B[0mall\u001B[0m\u001B[0;34m=\u001B[0m\u001B[0;34m\"ignore\"\u001B[0m\u001B[0;34m)\u001B[0m\u001B[0;34m:\u001B[0m\u001B[0;34m\u001B[0m\u001B[0;34m\u001B[0m\u001B[0m\n\u001B[0;32m--> 189\u001B[0;31m             \u001B[0mres_values\u001B[0m \u001B[0;34m=\u001B[0m \u001B[0m_na_arithmetic_op\u001B[0m\u001B[0;34m(\u001B[0m\u001B[0mlvalues\u001B[0m\u001B[0;34m,\u001B[0m \u001B[0mrvalues\u001B[0m\u001B[0;34m,\u001B[0m \u001B[0mop\u001B[0m\u001B[0;34m)\u001B[0m\u001B[0;34m\u001B[0m\u001B[0;34m\u001B[0m\u001B[0m\n\u001B[0m\u001B[1;32m    190\u001B[0m \u001B[0;34m\u001B[0m\u001B[0m\n\u001B[1;32m    191\u001B[0m     \u001B[0;32mreturn\u001B[0m \u001B[0mres_values\u001B[0m\u001B[0;34m\u001B[0m\u001B[0;34m\u001B[0m\u001B[0m\n",
      "\u001B[0;32m/Library/Frameworks/Python.framework/Versions/3.8/lib/python3.8/site-packages/pandas/core/ops/array_ops.py\u001B[0m in \u001B[0;36m_na_arithmetic_op\u001B[0;34m(left, right, op, is_cmp)\u001B[0m\n\u001B[1;32m    147\u001B[0m             \u001B[0;31m#  will handle complex numbers incorrectly, see GH#32047\u001B[0m\u001B[0;34m\u001B[0m\u001B[0;34m\u001B[0m\u001B[0;34m\u001B[0m\u001B[0m\n\u001B[1;32m    148\u001B[0m             \u001B[0;32mraise\u001B[0m\u001B[0;34m\u001B[0m\u001B[0;34m\u001B[0m\u001B[0m\n\u001B[0;32m--> 149\u001B[0;31m         \u001B[0mresult\u001B[0m \u001B[0;34m=\u001B[0m \u001B[0m_masked_arith_op\u001B[0m\u001B[0;34m(\u001B[0m\u001B[0mleft\u001B[0m\u001B[0;34m,\u001B[0m \u001B[0mright\u001B[0m\u001B[0;34m,\u001B[0m \u001B[0mop\u001B[0m\u001B[0;34m)\u001B[0m\u001B[0;34m\u001B[0m\u001B[0;34m\u001B[0m\u001B[0m\n\u001B[0m\u001B[1;32m    150\u001B[0m \u001B[0;34m\u001B[0m\u001B[0m\n\u001B[1;32m    151\u001B[0m     \u001B[0;32mif\u001B[0m \u001B[0mis_cmp\u001B[0m \u001B[0;32mand\u001B[0m \u001B[0;34m(\u001B[0m\u001B[0mis_scalar\u001B[0m\u001B[0;34m(\u001B[0m\u001B[0mresult\u001B[0m\u001B[0;34m)\u001B[0m \u001B[0;32mor\u001B[0m \u001B[0mresult\u001B[0m \u001B[0;32mis\u001B[0m \u001B[0mNotImplemented\u001B[0m\u001B[0;34m)\u001B[0m\u001B[0;34m:\u001B[0m\u001B[0;34m\u001B[0m\u001B[0;34m\u001B[0m\u001B[0m\n",
      "\u001B[0;32m/Library/Frameworks/Python.framework/Versions/3.8/lib/python3.8/site-packages/pandas/core/ops/array_ops.py\u001B[0m in \u001B[0;36m_masked_arith_op\u001B[0;34m(x, y, op)\u001B[0m\n\u001B[1;32m     89\u001B[0m         \u001B[0;32mif\u001B[0m \u001B[0mmask\u001B[0m\u001B[0;34m.\u001B[0m\u001B[0many\u001B[0m\u001B[0;34m(\u001B[0m\u001B[0;34m)\u001B[0m\u001B[0;34m:\u001B[0m\u001B[0;34m\u001B[0m\u001B[0;34m\u001B[0m\u001B[0m\n\u001B[1;32m     90\u001B[0m             \u001B[0;32mwith\u001B[0m \u001B[0mnp\u001B[0m\u001B[0;34m.\u001B[0m\u001B[0merrstate\u001B[0m\u001B[0;34m(\u001B[0m\u001B[0mall\u001B[0m\u001B[0;34m=\u001B[0m\u001B[0;34m\"ignore\"\u001B[0m\u001B[0;34m)\u001B[0m\u001B[0;34m:\u001B[0m\u001B[0;34m\u001B[0m\u001B[0;34m\u001B[0m\u001B[0m\n\u001B[0;32m---> 91\u001B[0;31m                 \u001B[0mresult\u001B[0m\u001B[0;34m[\u001B[0m\u001B[0mmask\u001B[0m\u001B[0;34m]\u001B[0m \u001B[0;34m=\u001B[0m \u001B[0mop\u001B[0m\u001B[0;34m(\u001B[0m\u001B[0mxrav\u001B[0m\u001B[0;34m[\u001B[0m\u001B[0mmask\u001B[0m\u001B[0;34m]\u001B[0m\u001B[0;34m,\u001B[0m \u001B[0myrav\u001B[0m\u001B[0;34m[\u001B[0m\u001B[0mmask\u001B[0m\u001B[0;34m]\u001B[0m\u001B[0;34m)\u001B[0m\u001B[0;34m\u001B[0m\u001B[0;34m\u001B[0m\u001B[0m\n\u001B[0m\u001B[1;32m     92\u001B[0m \u001B[0;34m\u001B[0m\u001B[0m\n\u001B[1;32m     93\u001B[0m     \u001B[0;32melse\u001B[0m\u001B[0;34m:\u001B[0m\u001B[0;34m\u001B[0m\u001B[0;34m\u001B[0m\u001B[0m\n",
      "\u001B[0;31mTypeError\u001B[0m: unsupported operand type(s) for -: 'str' and 'str'"
     ]
    }
   ],
   "source": [
    "#dat.participation_date\n",
    "dat.completion_time - dat.participation_date"
   ],
   "metadata": {
    "collapsed": false,
    "pycharm": {
     "name": "#%%\n"
    }
   }
  },
  {
   "cell_type": "markdown",
   "source": [
    "## Exclude participants with mean accuracy < .6"
   ],
   "metadata": {
    "collapsed": false,
    "pycharm": {
     "name": "#%% md\n"
    }
   }
  },
  {
   "cell_type": "code",
   "execution_count": null,
   "outputs": [],
   "source": [
    "dat.loc[dat.group == 'Autism'].groupby('prolific_id').correct.mean().hist()"
   ],
   "metadata": {
    "collapsed": false,
    "pycharm": {
     "name": "#%%\n"
    }
   }
  },
  {
   "cell_type": "code",
   "execution_count": null,
   "outputs": [],
   "source": [
    "print(f'N autism cohort before exclusion: {len(dat.loc[dat.group == \"Autism\"].prolific_id.unique())}')\n",
    "## Exclude participants with mean accuracy < .6\n",
    "xx = dat.groupby('prolific_id').correct.mean() > .6\n",
    "dat = dat.loc[dat.prolific_id.isin(xx[xx == True].index.tolist())]"
   ],
   "metadata": {
    "collapsed": false,
    "pycharm": {
     "name": "#%%\n"
    }
   }
  },
  {
   "cell_type": "code",
   "execution_count": null,
   "outputs": [],
   "source": [
    "print(f'N autism cohort after exclusion: {len(dat.loc[dat.group == \"Autism\"].prolific_id.unique())}')"
   ],
   "metadata": {
    "collapsed": false,
    "pycharm": {
     "name": "#%%\n"
    }
   }
  },
  {
   "cell_type": "code",
   "execution_count": null,
   "outputs": [],
   "source": [
    "v_dat = dat#.loc[(dat.accepted_answer == True)]\n",
    "acc = pd.DataFrame(columns=['cohort', 'agent_state', 'ascription', 'pct_correct', 'pct_incorrect'])\n",
    "for gro in dat['group'].unique():\n",
    "    for bel in dat.belief_type.unique():\n",
    "        for ascrip in dat.ascription_type.unique():\n",
    "            dd = v_dat.loc[(v_dat.group == gro)&(v_dat.belief_type==bel)&(v_dat.ascription_type==ascrip)]\n",
    "            pc = len(dd.loc[dd.correct== True])/len(dd)\n",
    "            ndf = pd.DataFrame({'cohort':[gro], 'agent_state':[bel], 'ascription':[ascrip], 'pct_correct':[pc], 'pct_incorrect':[1-pc]})\n",
    "            acc = pd.concat([acc,ndf ], axis=0)#.reset_index(drop=True)\n",
    "#sns.barplot(x='belief_type', row='group', x='ascription_type', hue='correct', kind='bar', data=)\n",
    "#sns.histplot(data=v_dat, x='belief_type', hue='correct', multiple='stack', element='bars', stat='percent')"
   ],
   "metadata": {
    "collapsed": false,
    "pycharm": {
     "name": "#%%\n"
    }
   }
  },
  {
   "cell_type": "code",
   "execution_count": null,
   "outputs": [],
   "source": [
    "import matplotlib.patches as mpatches\n",
    "acc['total'] = 1\n",
    "acc.melt(id_vars=['cohort', 'agent_state', 'ascription'], value_vars=['pct_correct', 'total'], value_name='Percent', var_name='Accuracy')\n",
    "#sns.catplot(col='belief_type', row='group', x='correct', hue='ascription_type', kind='count', data=dat)\n",
    "#dat.groupby('group').prolific_id.describe()\n",
    "# bar chart 1 -> top bars (group of 'smoker=No')\n",
    "#f, ax = plt.subplots(1, 2)\n",
    "#bar1 = sns.barplot(x=\"agent_state\",  y=\"total\", hue='ascription', data=acc.loc[acc.cohort == 'Neurotypical'], color='darkblue', ax=ax[0])\n",
    "#bar1a = sns.barplot(x=\"agent_state\",  y=\"total\", hue='ascription', data=acc.loc[acc.cohort == 'Autism'],  color='darkblue', ax=ax[1])\n",
    "\n",
    "# bar chart 2 -> bottom bars (group of 'smoker=Yes')\n",
    "#bar2 = sns.barplot(x=\"agent_state\",  y=\"pct_correct\", hue='ascription', data=acc.loc[acc.cohort == 'Neurotypical'], color='darkblue', ax=ax[0])\n",
    "#bar2a = sns.barplot(x=\"agent_state\",  y=\"pct_correct\", hue='ascription', data=acc.loc[acc.cohort == 'Autism'], color='darkblue', ax=ax[1])\n",
    "\n",
    "bar2 = sns.catplot(x=\"agent_state\", y=\"pct_correct\", hue='ascription', data=acc,col='cohort', kind='bar')\n",
    "# add legend\n"
   ],
   "metadata": {
    "collapsed": false,
    "pycharm": {
     "name": "#%%\n"
    }
   }
  },
  {
   "cell_type": "code",
   "execution_count": null,
   "outputs": [],
   "source": [
    "total = v_dat.groupby(['belief_type', 'ascription_type'])['accepted_answer'].sum().reset_index()\n",
    "correct = v_dat[v_dat.correct == True].groupby(['belief_type', 'ascription_type'])['accepted_answer'].sum().reset_index()\n",
    "\n",
    "correct['pct'] = [i / j * 100 for i,j in zip(len(correct), len(total))]\n",
    "total['pct'] = [i / j * 100 for i,j in zip(len(total), len(total))]\n",
    "\n",
    "# bar chart 1 -> top bars (group of 'smoker=No')\n",
    "bar1 = sns.barplot(x=\"belief_type\",  y=\"pct\", data=total, color='darkblue')\n",
    "\n",
    "# bar chart 2 -> bottom bars (group of 'smoker=Yes')\n",
    "bar2 = sns.barplot(x=\"belief_type\", y=\"pct\", data=correct, color='lightblue')\n",
    "\n",
    "# add legend\n",
    "top_bar = mpatches.Patch(color='darkblue', label='incorrect')\n",
    "bottom_bar = mpatches.Patch(color='lightblue', label='correct')\n",
    "plt.legend(handles=[top_bar, bottom_bar])\n"
   ],
   "metadata": {
    "collapsed": false,
    "pycharm": {
     "name": "#%%\n"
    }
   }
  },
  {
   "cell_type": "code",
   "execution_count": null,
   "outputs": [],
   "source": [
    "len(dat.loc[dat.group == 'Autism'].prolific_id.unique())"
   ],
   "metadata": {
    "collapsed": false,
    "pycharm": {
     "name": "#%%\n"
    }
   }
  },
  {
   "cell_type": "code",
   "execution_count": null,
   "outputs": [],
   "source": [
    "len(dat.loc[dat.group == 'Autism'].prolific_id.unique())\n"
   ],
   "metadata": {
    "collapsed": false,
    "pycharm": {
     "name": "#%%\n"
    }
   }
  },
  {
   "cell_type": "code",
   "execution_count": null,
   "outputs": [],
   "source": [
    "sns.catplot(col='belief_type', x='correct', hue='ascription_type', kind='count', data=dat)\n"
   ],
   "metadata": {
    "collapsed": false,
    "pycharm": {
     "name": "#%%\n"
    }
   }
  },
  {
   "cell_type": "markdown",
   "source": [
    "## Check to make sure all responses came AFTER the target onset"
   ],
   "metadata": {
    "collapsed": false,
    "pycharm": {
     "name": "#%% md\n"
    }
   }
  },
  {
   "cell_type": "code",
   "execution_count": 9,
   "outputs": [
    {
     "data": {
      "text/plain": "True"
     },
     "execution_count": 9,
     "metadata": {},
     "output_type": "execute_result"
    }
   ],
   "source": [
    "sum(dat.apply(lambda row: row['response_onset'] > row['target_onset'], axis=1)) == len(dat)\n"
   ],
   "metadata": {
    "collapsed": false,
    "pycharm": {
     "name": "#%%\n"
    }
   }
  },
  {
   "cell_type": "markdown",
   "source": [
    "## Exclude subjects with mean RTs less than 1500ms or more than 4000ms"
   ],
   "metadata": {
    "collapsed": false,
    "pycharm": {
     "name": "#%% md\n"
    }
   }
  },
  {
   "cell_type": "code",
   "execution_count": null,
   "outputs": [],
   "source": [
    "xx = dat.groupby('prolific_id').rt_ms.mean() < 1500\n",
    "dat = dat.loc[dat.prolific_id.isin(xx[xx == False].index.tolist())]\n",
    "yy = dat.groupby('prolific_id').rt_ms.mean() > 4000\n",
    "dat = dat.loc[dat.prolific_id.isin(yy[yy == False].index.tolist())]\n",
    "\n",
    "for old, new in {'IG': 'Ignorance', 'TB': 'True Info', 'FB': 'False Info'}.items():\n",
    "    dat.belief_type.replace(old, new, inplace=True)"
   ],
   "metadata": {
    "collapsed": false,
    "pycharm": {
     "name": "#%%\n"
    }
   }
  },
  {
   "cell_type": "markdown",
   "source": [],
   "metadata": {
    "collapsed": false,
    "pycharm": {
     "name": "#%% md\n"
    }
   }
  },
  {
   "cell_type": "markdown",
   "source": [
    "# 3. Location"
   ],
   "metadata": {
    "collapsed": false,
    "pycharm": {
     "name": "#%% md\n"
    }
   }
  },
  {
   "cell_type": "code",
   "execution_count": 32,
   "outputs": [
    {
     "name": "stderr",
     "output_type": "stream",
     "text": [
      "<ipython-input-32-9e316d60e405>:2: SettingWithCopyWarning: \n",
      "A value is trying to be set on a copy of a slice from a DataFrame.\n",
      "Try using .loc[row_indexer,col_indexer] = value instead\n",
      "\n",
      "See the caveats in the documentation: https://pandas.pydata.org/pandas-docs/stable/user_guide/indexing.html#returning-a-view-versus-a-copy\n",
      "  adat[['city', 'region', 'country', 'loc', 'org', 'postal', 'timezone']] = None\n",
      "/Library/Frameworks/Python.framework/Versions/3.8/lib/python3.8/site-packages/pandas/core/indexing.py:1720: SettingWithCopyWarning: \n",
      "A value is trying to be set on a copy of a slice from a DataFrame.\n",
      "Try using .loc[row_indexer,col_indexer] = value instead\n",
      "\n",
      "See the caveats in the documentation: https://pandas.pydata.org/pandas-docs/stable/user_guide/indexing.html#returning-a-view-versus-a-copy\n",
      "  self._setitem_single_column(loc, value, pi)\n",
      "/Library/Frameworks/Python.framework/Versions/3.8/lib/python3.8/site-packages/pandas/core/indexing.py:1700: SettingWithCopyWarning: \n",
      "A value is trying to be set on a copy of a slice from a DataFrame.\n",
      "Try using .loc[row_indexer,col_indexer] = value instead\n",
      "\n",
      "See the caveats in the documentation: https://pandas.pydata.org/pandas-docs/stable/user_guide/indexing.html#returning-a-view-versus-a-copy\n",
      "  self._setitem_single_column(loc, v, pi)\n"
     ]
    }
   ],
   "source": [
    "adat = dat.loc[dat.group == 'Autism']\n",
    "adat[['city', 'region', 'country', 'loc', 'org', 'postal', 'timezone']] = None\n",
    "\n",
    "for subj in adat.prolific_id.unique():\n",
    "    addr = adat.loc[adat.prolific_id == subj, 'ip_addy'].values[0]\n",
    "    url = 'https://ipinfo.io/' + addr + '/json'\n",
    "    res = urlopen(url)\n",
    "    #response from url(if res==None then check connection)\n",
    "    data = load(res)\n",
    "    adat.loc[adat.prolific_id == subj, ['city', 'region', 'country', 'loc', 'org', 'postal', 'timezone', 'email']] = [data['city'], data['region'], data['country'], data['loc'], data['org'], data['postal'], data['timezone'], adat.loc[adat.prolific_id == subj, 'email'].values[0]]"
   ],
   "metadata": {
    "collapsed": false,
    "pycharm": {
     "name": "#%%\n"
    }
   }
  },
  {
   "cell_type": "code",
   "execution_count": 35,
   "outputs": [
    {
     "data": {
      "text/plain": "         prolific_id                                email         ip_addy  \\\n78  jwQ9QeuQD5HgcPDh                  damoogu@outlook.com  107.150.23.229   \n54  YBHK0TgAZz3oUD47             sakirudeenk020@gmail.com   92.119.177.91   \n55  YKz7pyUJbPXRbW60              tokulapeter13@gmail.com    199.66.147.3   \n56  YLxXu7mLl2wNkw1z            frankiedoyle437@gmail.com    86.107.55.57   \n83  mZB6bnc6D9y36FgC  ugochukwu.mbamalu.192718@unn.edu.ng    86.107.55.85   \n..               ...                                  ...             ...   \n46  Tpmax7tb29V3pRAf                   alex@alexstave.com    73.242.70.58   \n84  nw2hzC6gbfiyXUQ6                  itmake636@gmail.com  191.101.61.231   \n97  tnGByjBjbUzRJwyf                     dave@trahans.net  191.96.227.102   \n89  qU9fuMYwWHtEvYSY                judegarner0@gmail.com  62.128.207.107   \n77  jcOXPqMioLJNLZ3D              johnnyldudley@gmail.com  174.105.249.50   \n\n             city     region country                loc  \\\n78        Atlanta    Georgia      US   33.7525,-84.3888   \n54  New York City   New York      US   40.7143,-74.0060   \n55       El Campo      Texas      US   29.1966,-96.2697   \n56  New York City   New York      US   40.7143,-74.0060   \n83  New York City   New York      US   40.7143,-74.0060   \n..            ...        ...     ...                ...   \n46     Saint Paul  Minnesota      US   44.9372,-93.1209   \n84      Las Vegas     Nevada      US  36.1725,-115.1414   \n97  New York City   New York      US   40.7143,-74.0060   \n89        Glasgow   Scotland      GB    55.8651,-4.2576   \n77       Columbus       Ohio      US   39.9444,-82.8903   \n\n                                         org postal             timezone  \\\n78          AS8100 QuadraNet Enterprises LLC  30303     America/New_York   \n54                           AS9009 M247 Ltd  10004     America/New_York   \n55           AS13943 Y K Communications, LTD  77437      America/Chicago   \n56                           AS9009 M247 Ltd  10004     America/New_York   \n83                           AS9009 M247 Ltd  10004     America/New_York   \n..                                       ...    ...                  ...   \n46  AS7922 Comcast Cable Communications, LLC  55102      America/Chicago   \n84               AS174 Cogent Communications  89162  America/Los_Angeles   \n97               AS174 Cogent Communications  10004     America/New_York   \n89     AS20860 IOMART CLOUD SERVICES LIMITED     G1        Europe/London   \n77        AS10796 Charter Communications Inc  43227     America/New_York   \n\n     correct  \n78  0.000000  \n54  0.000000  \n55  0.000000  \n56  0.000000  \n83  0.000000  \n..       ...  \n46  0.666667  \n84  0.750000  \n97  0.833333  \n89  0.833333  \n77  0.916667  \n\n[106 rows x 11 columns]",
      "text/html": "<div>\n<style scoped>\n    .dataframe tbody tr th:only-of-type {\n        vertical-align: middle;\n    }\n\n    .dataframe tbody tr th {\n        vertical-align: top;\n    }\n\n    .dataframe thead th {\n        text-align: right;\n    }\n</style>\n<table border=\"1\" class=\"dataframe\">\n  <thead>\n    <tr style=\"text-align: right;\">\n      <th></th>\n      <th>prolific_id</th>\n      <th>email</th>\n      <th>ip_addy</th>\n      <th>city</th>\n      <th>region</th>\n      <th>country</th>\n      <th>loc</th>\n      <th>org</th>\n      <th>postal</th>\n      <th>timezone</th>\n      <th>correct</th>\n    </tr>\n  </thead>\n  <tbody>\n    <tr>\n      <th>78</th>\n      <td>jwQ9QeuQD5HgcPDh</td>\n      <td>damoogu@outlook.com</td>\n      <td>107.150.23.229</td>\n      <td>Atlanta</td>\n      <td>Georgia</td>\n      <td>US</td>\n      <td>33.7525,-84.3888</td>\n      <td>AS8100 QuadraNet Enterprises LLC</td>\n      <td>30303</td>\n      <td>America/New_York</td>\n      <td>0.000000</td>\n    </tr>\n    <tr>\n      <th>54</th>\n      <td>YBHK0TgAZz3oUD47</td>\n      <td>sakirudeenk020@gmail.com</td>\n      <td>92.119.177.91</td>\n      <td>New York City</td>\n      <td>New York</td>\n      <td>US</td>\n      <td>40.7143,-74.0060</td>\n      <td>AS9009 M247 Ltd</td>\n      <td>10004</td>\n      <td>America/New_York</td>\n      <td>0.000000</td>\n    </tr>\n    <tr>\n      <th>55</th>\n      <td>YKz7pyUJbPXRbW60</td>\n      <td>tokulapeter13@gmail.com</td>\n      <td>199.66.147.3</td>\n      <td>El Campo</td>\n      <td>Texas</td>\n      <td>US</td>\n      <td>29.1966,-96.2697</td>\n      <td>AS13943 Y K Communications, LTD</td>\n      <td>77437</td>\n      <td>America/Chicago</td>\n      <td>0.000000</td>\n    </tr>\n    <tr>\n      <th>56</th>\n      <td>YLxXu7mLl2wNkw1z</td>\n      <td>frankiedoyle437@gmail.com</td>\n      <td>86.107.55.57</td>\n      <td>New York City</td>\n      <td>New York</td>\n      <td>US</td>\n      <td>40.7143,-74.0060</td>\n      <td>AS9009 M247 Ltd</td>\n      <td>10004</td>\n      <td>America/New_York</td>\n      <td>0.000000</td>\n    </tr>\n    <tr>\n      <th>83</th>\n      <td>mZB6bnc6D9y36FgC</td>\n      <td>ugochukwu.mbamalu.192718@unn.edu.ng</td>\n      <td>86.107.55.85</td>\n      <td>New York City</td>\n      <td>New York</td>\n      <td>US</td>\n      <td>40.7143,-74.0060</td>\n      <td>AS9009 M247 Ltd</td>\n      <td>10004</td>\n      <td>America/New_York</td>\n      <td>0.000000</td>\n    </tr>\n    <tr>\n      <th>...</th>\n      <td>...</td>\n      <td>...</td>\n      <td>...</td>\n      <td>...</td>\n      <td>...</td>\n      <td>...</td>\n      <td>...</td>\n      <td>...</td>\n      <td>...</td>\n      <td>...</td>\n      <td>...</td>\n    </tr>\n    <tr>\n      <th>46</th>\n      <td>Tpmax7tb29V3pRAf</td>\n      <td>alex@alexstave.com</td>\n      <td>73.242.70.58</td>\n      <td>Saint Paul</td>\n      <td>Minnesota</td>\n      <td>US</td>\n      <td>44.9372,-93.1209</td>\n      <td>AS7922 Comcast Cable Communications, LLC</td>\n      <td>55102</td>\n      <td>America/Chicago</td>\n      <td>0.666667</td>\n    </tr>\n    <tr>\n      <th>84</th>\n      <td>nw2hzC6gbfiyXUQ6</td>\n      <td>itmake636@gmail.com</td>\n      <td>191.101.61.231</td>\n      <td>Las Vegas</td>\n      <td>Nevada</td>\n      <td>US</td>\n      <td>36.1725,-115.1414</td>\n      <td>AS174 Cogent Communications</td>\n      <td>89162</td>\n      <td>America/Los_Angeles</td>\n      <td>0.750000</td>\n    </tr>\n    <tr>\n      <th>97</th>\n      <td>tnGByjBjbUzRJwyf</td>\n      <td>dave@trahans.net</td>\n      <td>191.96.227.102</td>\n      <td>New York City</td>\n      <td>New York</td>\n      <td>US</td>\n      <td>40.7143,-74.0060</td>\n      <td>AS174 Cogent Communications</td>\n      <td>10004</td>\n      <td>America/New_York</td>\n      <td>0.833333</td>\n    </tr>\n    <tr>\n      <th>89</th>\n      <td>qU9fuMYwWHtEvYSY</td>\n      <td>judegarner0@gmail.com</td>\n      <td>62.128.207.107</td>\n      <td>Glasgow</td>\n      <td>Scotland</td>\n      <td>GB</td>\n      <td>55.8651,-4.2576</td>\n      <td>AS20860 IOMART CLOUD SERVICES LIMITED</td>\n      <td>G1</td>\n      <td>Europe/London</td>\n      <td>0.833333</td>\n    </tr>\n    <tr>\n      <th>77</th>\n      <td>jcOXPqMioLJNLZ3D</td>\n      <td>johnnyldudley@gmail.com</td>\n      <td>174.105.249.50</td>\n      <td>Columbus</td>\n      <td>Ohio</td>\n      <td>US</td>\n      <td>39.9444,-82.8903</td>\n      <td>AS10796 Charter Communications Inc</td>\n      <td>43227</td>\n      <td>America/New_York</td>\n      <td>0.916667</td>\n    </tr>\n  </tbody>\n</table>\n<p>106 rows × 11 columns</p>\n</div>"
     },
     "execution_count": 35,
     "metadata": {},
     "output_type": "execute_result"
    }
   ],
   "source": [
    "xx = adat.groupby(['prolific_id','email', 'ip_addy','city', 'region', 'country', 'loc', 'org', 'postal', 'timezone']).correct.mean()#.sort_values('correct')\n",
    "yy = xx.reset_index().sort_values('correct', axis=0)\n",
    "yy"
   ],
   "metadata": {
    "collapsed": false,
    "pycharm": {
     "name": "#%%\n"
    }
   }
  },
  {
   "cell_type": "markdown",
   "source": [
    "# 2. Response Times"
   ],
   "metadata": {
    "collapsed": false,
    "pycharm": {
     "name": "#%% md\n"
    }
   }
  },
  {
   "cell_type": "code",
   "execution_count": null,
   "outputs": [],
   "source": [
    "sns.set_context('notebook', font_scale=2)\n",
    "fig, ax = plt.subplots(figsize=(15, 12))\n",
    "g = sns.violinplot(x='belief_type', y='rt_ms', hue='ascription_type', hue_order=['Thinks', 'Knows'], data=dat.loc[(dat.trial_type=='test') & (dat.correct==True)], cut=0, bw=0.25, ax=ax, inner=None, linewidth=1, saturation=1)\n",
    "g = sns.stripplot(x='belief_type', y='rt_ms', hue='ascription_type', hue_order=['Thinks', 'Knows'], data=dat.loc[(dat.trial_type=='test') & (dat.correct==True)],\n",
    "                  color='k', dodge=True, ax=ax, jitter=.2, linewidth=1, alpha=.2)\n",
    "g= sns.pointplot(x='belief_type', y='rt_ms', hue='ascription_type', hue_order=['Thinks', 'Knows'], data=dat.loc[(dat.trial_type=='test') & (dat.correct==True)], join=False, dodge=.4, capsize=.1, ax=ax, color='k',)\n",
    "\n",
    "ax.legend(g.get_legend_handles_labels()[0][:2], g.get_legend_handles_labels()[1][:2])\n",
    "g.yaxis.set_label_text(\"response time (ms)\")\n",
    "g.xaxis.set_label_text(\"Agent state\")\n",
    "ax.xaxis.labelpad = 20\n",
    "\n",
    "#fig.savefig('proposal_S1_control_result.png')"
   ],
   "metadata": {
    "collapsed": false,
    "pycharm": {
     "name": "#%%\n"
    }
   }
  },
  {
   "cell_type": "code",
   "execution_count": null,
   "outputs": [],
   "source": [
    "len(dat.loc[(dat.trial_type=='test') & (dat.correct==True)].prolific_id.unique())"
   ],
   "metadata": {
    "collapsed": false,
    "pycharm": {
     "name": "#%%\n"
    }
   }
  },
  {
   "cell_type": "markdown",
   "source": [
    "# 3. Felicity Judgements"
   ],
   "metadata": {
    "collapsed": false,
    "pycharm": {
     "name": "#%% md\n"
    }
   }
  },
  {
   "cell_type": "code",
   "execution_count": null,
   "outputs": [],
   "source": [
    "f_dat = pd.read_sql('SELECT * FROM felicities A INNER JOIN subjects B ON A.prolific_id = B.prolific_id WHERE B.completion_code=\"XXXX\"', con=conn)\n",
    "f_dat = f_dat.loc[:,~f_dat.columns.duplicated()].copy() # prolific id from both tables will be in df, remove duplicate\n",
    "# 1= \"Sounds very weird\"\n",
    "# 7 = \"Sounds very normal\"\n",
    "f_dat['Infelicity Rating'] = 8 - f_dat.felicity_rating"
   ],
   "metadata": {
    "collapsed": false,
    "pycharm": {
     "name": "#%%\n"
    }
   }
  },
  {
   "cell_type": "code",
   "execution_count": null,
   "outputs": [],
   "source": [
    "sns.set_context('paper', font_scale=2)\n",
    "fig, ax = plt.subplots(figsize=(12,12))\n",
    "g = sns.violinplot(x='fel_belief_type', y='Infelicity Rating', hue='fel_ascription_type', data=f_dat, cut=0, bw=0.25, ax=ax, inner=None, linewidth=1, saturation=1, order=['TB', 'IG', 'FB'])\n",
    "\n",
    "def jitter(values,j):\n",
    "    return values + np.random.normal(j,0.15,values.shape)\n",
    "\n",
    "g = sns.stripplot(x='fel_belief_type', y=jitter(f_dat['Infelicity Rating'], 0), hue='fel_ascription_type', data=f_dat,\n",
    "                  color='k', dodge=True, ax=ax, jitter=.45, linewidth=1.5, alpha=.1, order=['TB', 'IG', 'FB'])\n",
    "g= sns.pointplot(x='fel_belief_type', y='Infelicity Rating', hue='fel_ascription_type', data=f_dat, join=False, dodge=.4, capsize=.1, ax=ax, color='k',order=['TB', 'IG', 'FB'])\n",
    "\n",
    "ax.legend(g.get_legend_handles_labels()[0][:2], g.get_legend_handles_labels()[1][:2])"
   ],
   "metadata": {
    "collapsed": false,
    "pycharm": {
     "name": "#%%\n"
    }
   }
  },
  {
   "cell_type": "markdown",
   "source": [
    "# 4. AQ-10"
   ],
   "metadata": {
    "collapsed": false,
    "pycharm": {
     "name": "#%% md\n"
    }
   }
  },
  {
   "cell_type": "code",
   "execution_count": null,
   "outputs": [],
   "source": [
    "\n",
    "a_dat = pd.read_sql('SELECT * FROM autism_scores A INNER JOIN subjects B ON A.prolific_id = B.prolific_id WHERE B.completion_code=\"XXXX\"', con=conn)\n",
    "a_dat = a_dat.loc[:,~a_dat.columns.duplicated()].copy() # prolific id from both tables will be in df, remove duplicate\n",
    "\n",
    "#a_dat = a_dat[a_dat.prolific_id.isin(dat.prolific_id.unique()).values] # only use subjects in trial analysis\n",
    "a_dat.describe()"
   ],
   "metadata": {
    "collapsed": false,
    "pycharm": {
     "name": "#%%\n"
    }
   }
  },
  {
   "cell_type": "code",
   "execution_count": null,
   "outputs": [],
   "source": [
    "a_dat[a_dat.prolific_id.isin(dat.prolific_id.unique().tolist())]"
   ],
   "metadata": {
    "collapsed": false,
    "pycharm": {
     "name": "#%%\n"
    }
   }
  },
  {
   "cell_type": "code",
   "execution_count": null,
   "outputs": [],
   "source": [
    "## Scoring\n",
    "agree = ['AQ_rating_1', 'AQ_rating_7', 'AQ_rating_8', 'AQ_rating_10'] # score of 3 or 4 get a point\n",
    "disagree = ['AQ_rating_2','AQ_rating_3','AQ_rating_4','AQ_rating_5','AQ_rating_6','AQ_rating_9', ] # score of 1 or 2 get a point]\n",
    "a = a_dat[agree] >= 3\n",
    "b = a_dat[disagree] < 3\n",
    "a_dat['AQ_score'] = a.sum(axis=1) + b.sum(axis=1)\n",
    "a_dat = a_dat[a_dat.prolific_id.isin(dat.prolific_id.unique().tolist())]\n",
    "\n",
    "fg, ax = plt.subplots(figsize=(10, 8))\n",
    "sns.countplot(data=a_dat, x='AQ_score', ax=ax);"
   ],
   "metadata": {
    "collapsed": false,
    "pycharm": {
     "name": "#%%\n"
    }
   }
  },
  {
   "cell_type": "code",
   "execution_count": null,
   "outputs": [],
   "source": [
    "e_dat.groupby('diag').describe()"
   ],
   "metadata": {
    "collapsed": false,
    "pycharm": {
     "name": "#%%\n"
    }
   }
  },
  {
   "cell_type": "code",
   "execution_count": null,
   "outputs": [],
   "source": [
    "cdat = dat.loc[dat.correct ==True]\n",
    "for subject in dat.prolific_id.unique():\n",
    "    # calculate mean RT for belief ascription\n",
    "    a_dat.loc[a_dat.prolific_id == subject, 'avg_ThinkRT'] = cdat.loc[(cdat.prolific_id == subject) & (cdat.ascription_type == 'Thinks')].rt_ms.mean()\n",
    "    a_dat.loc[a_dat.prolific_id == subject, 'avg_KnowRT'] = cdat.loc[(cdat.prolific_id == subject) & (cdat.ascription_type == 'Knows')].rt_ms.mean()\n",
    "\n",
    "a_dat['RT_diff'] = a_dat.apply(lambda row: row['avg_ThinkRT'] - row['avg_KnowRT'], axis=1)\n"
   ],
   "metadata": {
    "collapsed": false,
    "pycharm": {
     "name": "#%%\n"
    }
   }
  },
  {
   "cell_type": "code",
   "execution_count": null,
   "outputs": [],
   "source": [
    "sns.lmplot(x='AQ_score', y='RT_diff', data=a_dat);\n"
   ],
   "metadata": {
    "collapsed": false,
    "pycharm": {
     "name": "#%%\n"
    }
   }
  },
  {
   "cell_type": "code",
   "execution_count": null,
   "outputs": [],
   "source": [],
   "metadata": {
    "collapsed": false,
    "pycharm": {
     "name": "#%%\n"
    }
   }
  }
 ],
 "metadata": {
  "kernelspec": {
   "display_name": "Python 3",
   "language": "python",
   "name": "python3"
  },
  "language_info": {
   "codemirror_mode": {
    "name": "ipython",
    "version": 2
   },
   "file_extension": ".py",
   "mimetype": "text/x-python",
   "name": "python",
   "nbconvert_exporter": "python",
   "pygments_lexer": "ipython2",
   "version": "2.7.6"
  }
 },
 "nbformat": 4,
 "nbformat_minor": 0
}