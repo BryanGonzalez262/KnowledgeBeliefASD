{
 "cells": [
  {
   "cell_type": "markdown",
   "source": [
    "# Imports"
   ],
   "metadata": {
    "collapsed": false,
    "pycharm": {
     "name": "#%% md\n"
    }
   }
  },
  {
   "cell_type": "code",
   "execution_count": null,
   "metadata": {
    "collapsed": true,
    "pycharm": {
     "name": "#%%\n"
    }
   },
   "outputs": [],
   "source": [
    "import pandas as pd\n",
    "from pymer4 import Lmer\n",
    "import warnings\n",
    "warnings.filterwarnings('ignore')\n",
    "\n",
    "dat = pd.read_csv('./Data/full_sample_clean.csv', index_col=0)\n",
    "df = dat.loc[dat.in_sample == True].reset_index(drop=True).drop('diag', axis=1)"
   ]
  },
  {
   "cell_type": "markdown",
   "source": [
    "# Felicity Judgements"
   ],
   "metadata": {
    "collapsed": false,
    "pycharm": {
     "name": "#%% md\n"
    }
   }
  },
  {
   "cell_type": "markdown",
   "source": [
    "## Within Groups - Neurotypical"
   ],
   "metadata": {
    "collapsed": false,
    "pycharm": {
     "name": "#%% md\n"
    }
   }
  },
  {
   "cell_type": "code",
   "execution_count": null,
   "outputs": [],
   "source": [
    "NT = df.loc[df.group == 'neurotypical']\n",
    "rand_fx = ' + (agent_state*ascription|item) + (agent_state|subject)'\n",
    "mod_factors = {'agent_state':NT.agent_state.unique().tolist(), 'ascription': NT.ascription.unique().tolist(), 'item':[str(x) for x in range(1,13)]}\n"
   ],
   "metadata": {
    "collapsed": false,
    "pycharm": {
     "name": "#%%\n"
    }
   }
  },
  {
   "cell_type": "markdown",
   "source": [
    "### Agent state x ascription interaction"
   ],
   "metadata": {
    "collapsed": false,
    "pycharm": {
     "name": "#%% md\n"
    }
   }
  },
  {
   "cell_type": "code",
   "execution_count": 27,
   "outputs": [
    {
     "name": "stdout",
     "output_type": "stream",
     "text": [
      "boundary (singular) fit: see help('isSingular') \n",
      "\n",
      "boundary (singular) fit: see help('isSingular') \n",
      "\n",
      "boundary (singular) fit: see help('isSingular') \n",
      "\n",
      "boundary (singular) fit: see help('isSingular') \n",
      "\n",
      "SS Type III Analysis of Variance Table with Satterthwaite approximated degrees of freedom:\n",
      "(NOTE: Model refit with orthogonal polynomial contrasts)\n"
     ]
    },
    {
     "data": {
      "text/plain": "                               SS         MS  NumDF    DenomDF     F-stat  \\\nagent_state             89.719093  44.859546      2  20.049683  20.572896   \nascription               0.075488   0.075488      1   9.323799   0.034619   \nagent_state:ascription  25.952495  12.976248      2  19.848162   5.950996   \n\n                           P-val  Sig  \nagent_state             0.000014  ***  \nascription              0.856381       \nagent_state:ascription  0.009446   **  ",
      "text/html": "<div>\n<style scoped>\n    .dataframe tbody tr th:only-of-type {\n        vertical-align: middle;\n    }\n\n    .dataframe tbody tr th {\n        vertical-align: top;\n    }\n\n    .dataframe thead th {\n        text-align: right;\n    }\n</style>\n<table border=\"1\" class=\"dataframe\">\n  <thead>\n    <tr style=\"text-align: right;\">\n      <th></th>\n      <th>SS</th>\n      <th>MS</th>\n      <th>NumDF</th>\n      <th>DenomDF</th>\n      <th>F-stat</th>\n      <th>P-val</th>\n      <th>Sig</th>\n    </tr>\n  </thead>\n  <tbody>\n    <tr>\n      <th>agent_state</th>\n      <td>89.719093</td>\n      <td>44.859546</td>\n      <td>2</td>\n      <td>20.049683</td>\n      <td>20.572896</td>\n      <td>0.000014</td>\n      <td>***</td>\n    </tr>\n    <tr>\n      <th>ascription</th>\n      <td>0.075488</td>\n      <td>0.075488</td>\n      <td>1</td>\n      <td>9.323799</td>\n      <td>0.034619</td>\n      <td>0.856381</td>\n      <td></td>\n    </tr>\n    <tr>\n      <th>agent_state:ascription</th>\n      <td>25.952495</td>\n      <td>12.976248</td>\n      <td>2</td>\n      <td>19.848162</td>\n      <td>5.950996</td>\n      <td>0.009446</td>\n      <td>**</td>\n    </tr>\n  </tbody>\n</table>\n</div>"
     },
     "execution_count": 27,
     "metadata": {},
     "output_type": "execute_result"
    }
   ],
   "source": [
    "m0 = Lmer('infelicity ~ agent_state*ascription'+rand_fx, data=NT)\n",
    "m0.fit(factors=mod_factors, summarize=False)\n",
    "m1 = Lmer('infelicity ~ agent_state + ascription'+rand_fx, data=NT)\n",
    "m1.fit(factors=mod_factors, summarize=False)\n",
    "interaction_effct = Lmer.anova(m0, m1)#.iloc[:]\n",
    "interaction_effct.iloc[:]"
   ],
   "metadata": {
    "collapsed": false,
    "pycharm": {
     "name": "#%%\n"
    }
   }
  },
  {
   "cell_type": "markdown",
   "source": [
    "### Main Effect of Agent State"
   ],
   "metadata": {
    "collapsed": false,
    "pycharm": {
     "name": "#%% md\n"
    }
   }
  },
  {
   "cell_type": "code",
   "execution_count": 28,
   "outputs": [
    {
     "name": "stdout",
     "output_type": "stream",
     "text": [
      "boundary (singular) fit: see help('isSingular') \n",
      "\n",
      "boundary (singular) fit: see help('isSingular') \n",
      "\n",
      "boundary (singular) fit: see help('isSingular') \n",
      "\n",
      "SS Type III Analysis of Variance Table with Satterthwaite approximated degrees of freedom:\n",
      "(NOTE: Model refit with orthogonal polynomial contrasts)\n"
     ]
    },
    {
     "data": {
      "text/plain": "                    SS         MS  NumDF    DenomDF     F-stat     P-val  Sig\nagent_state  83.402630  41.701315      2  22.936973  19.109389  0.000013  ***\nascription    0.361339   0.361339      1   9.067060   0.165582  0.693507     ",
      "text/html": "<div>\n<style scoped>\n    .dataframe tbody tr th:only-of-type {\n        vertical-align: middle;\n    }\n\n    .dataframe tbody tr th {\n        vertical-align: top;\n    }\n\n    .dataframe thead th {\n        text-align: right;\n    }\n</style>\n<table border=\"1\" class=\"dataframe\">\n  <thead>\n    <tr style=\"text-align: right;\">\n      <th></th>\n      <th>SS</th>\n      <th>MS</th>\n      <th>NumDF</th>\n      <th>DenomDF</th>\n      <th>F-stat</th>\n      <th>P-val</th>\n      <th>Sig</th>\n    </tr>\n  </thead>\n  <tbody>\n    <tr>\n      <th>agent_state</th>\n      <td>83.402630</td>\n      <td>41.701315</td>\n      <td>2</td>\n      <td>22.936973</td>\n      <td>19.109389</td>\n      <td>0.000013</td>\n      <td>***</td>\n    </tr>\n    <tr>\n      <th>ascription</th>\n      <td>0.361339</td>\n      <td>0.361339</td>\n      <td>1</td>\n      <td>9.067060</td>\n      <td>0.165582</td>\n      <td>0.693507</td>\n      <td></td>\n    </tr>\n  </tbody>\n</table>\n</div>"
     },
     "execution_count": 28,
     "metadata": {},
     "output_type": "execute_result"
    }
   ],
   "source": [
    "m2 = Lmer('infelicity ~ ascription'+rand_fx, data=NT)\n",
    "m2.fit(factors=mod_factors, summarize=False)\n",
    "agent_state_effect= Lmer.anova(m1,m2 )\n",
    "agent_state_effect.iloc[:]"
   ],
   "metadata": {
    "collapsed": false,
    "pycharm": {
     "name": "#%%\n"
    }
   }
  },
  {
   "cell_type": "markdown",
   "source": [
    "### Main effect of Ascription"
   ],
   "metadata": {
    "collapsed": false,
    "pycharm": {
     "name": "#%% md\n"
    }
   }
  },
  {
   "cell_type": "code",
   "execution_count": 29,
   "outputs": [
    {
     "name": "stdout",
     "output_type": "stream",
     "text": [
      "boundary (singular) fit: see help('isSingular') \n",
      "\n",
      "boundary (singular) fit: see help('isSingular') \n",
      "\n",
      "boundary (singular) fit: see help('isSingular') \n",
      "\n",
      "SS Type III Analysis of Variance Table with Satterthwaite approximated degrees of freedom:\n",
      "(NOTE: Model refit with orthogonal polynomial contrasts)\n"
     ]
    },
    {
     "data": {
      "text/plain": "                  SS        MS  NumDF   DenomDF    F-stat     P-val Sig\nascription  0.160047  0.160047      1  9.641534  0.073396  0.792167    ",
      "text/html": "<div>\n<style scoped>\n    .dataframe tbody tr th:only-of-type {\n        vertical-align: middle;\n    }\n\n    .dataframe tbody tr th {\n        vertical-align: top;\n    }\n\n    .dataframe thead th {\n        text-align: right;\n    }\n</style>\n<table border=\"1\" class=\"dataframe\">\n  <thead>\n    <tr style=\"text-align: right;\">\n      <th></th>\n      <th>SS</th>\n      <th>MS</th>\n      <th>NumDF</th>\n      <th>DenomDF</th>\n      <th>F-stat</th>\n      <th>P-val</th>\n      <th>Sig</th>\n    </tr>\n  </thead>\n  <tbody>\n    <tr>\n      <th>ascription</th>\n      <td>0.160047</td>\n      <td>0.160047</td>\n      <td>1</td>\n      <td>9.641534</td>\n      <td>0.073396</td>\n      <td>0.792167</td>\n      <td></td>\n    </tr>\n  </tbody>\n</table>\n</div>"
     },
     "execution_count": 29,
     "metadata": {},
     "output_type": "execute_result"
    }
   ],
   "source": [
    "m3 = Lmer('infelicity ~ agent_state'+rand_fx, data=NT)\n",
    "m3.fit(factors=mod_factors, summarize=False)\n",
    "ascription_effect = Lmer.anova(m2, m3)\n",
    "ascription_effect.iloc[:]"
   ],
   "metadata": {
    "collapsed": false,
    "pycharm": {
     "name": "#%%\n"
    }
   }
  },
  {
   "cell_type": "markdown",
   "source": [
    "## Within Group - Autism"
   ],
   "metadata": {
    "collapsed": false,
    "pycharm": {
     "name": "#%% md\n"
    }
   }
  },
  {
   "cell_type": "code",
   "execution_count": 30,
   "outputs": [
    {
     "ename": "KeyError",
     "evalue": "\"['diag'] not found in axis\"",
     "output_type": "error",
     "traceback": [
      "\u001B[0;31m---------------------------------------------------------------------------\u001B[0m",
      "\u001B[0;31mKeyError\u001B[0m                                  Traceback (most recent call last)",
      "\u001B[0;32m<ipython-input-30-1abb8a67438b>\u001B[0m in \u001B[0;36m<module>\u001B[0;34m\u001B[0m\n\u001B[0;32m----> 1\u001B[0;31m \u001B[0mASD\u001B[0m \u001B[0;34m=\u001B[0m  \u001B[0mdf\u001B[0m\u001B[0;34m.\u001B[0m\u001B[0mloc\u001B[0m\u001B[0;34m[\u001B[0m\u001B[0mdf\u001B[0m\u001B[0;34m.\u001B[0m\u001B[0mgroup\u001B[0m \u001B[0;34m==\u001B[0m \u001B[0;34m'autism'\u001B[0m\u001B[0;34m]\u001B[0m\u001B[0;34m.\u001B[0m\u001B[0mdrop\u001B[0m\u001B[0;34m(\u001B[0m\u001B[0;34m'diag'\u001B[0m\u001B[0;34m,\u001B[0m \u001B[0maxis\u001B[0m\u001B[0;34m=\u001B[0m\u001B[0;36m1\u001B[0m\u001B[0;34m)\u001B[0m\u001B[0;34m\u001B[0m\u001B[0;34m\u001B[0m\u001B[0m\n\u001B[0m",
      "\u001B[0;32m/Library/Frameworks/Python.framework/Versions/3.8/lib/python3.8/site-packages/pandas/util/_decorators.py\u001B[0m in \u001B[0;36mwrapper\u001B[0;34m(*args, **kwargs)\u001B[0m\n\u001B[1;32m    315\u001B[0m                     \u001B[0mstacklevel\u001B[0m\u001B[0;34m=\u001B[0m\u001B[0mfind_stack_level\u001B[0m\u001B[0;34m(\u001B[0m\u001B[0minspect\u001B[0m\u001B[0;34m.\u001B[0m\u001B[0mcurrentframe\u001B[0m\u001B[0;34m(\u001B[0m\u001B[0;34m)\u001B[0m\u001B[0;34m)\u001B[0m\u001B[0;34m,\u001B[0m\u001B[0;34m\u001B[0m\u001B[0;34m\u001B[0m\u001B[0m\n\u001B[1;32m    316\u001B[0m                 )\n\u001B[0;32m--> 317\u001B[0;31m             \u001B[0;32mreturn\u001B[0m \u001B[0mfunc\u001B[0m\u001B[0;34m(\u001B[0m\u001B[0;34m*\u001B[0m\u001B[0margs\u001B[0m\u001B[0;34m,\u001B[0m \u001B[0;34m**\u001B[0m\u001B[0mkwargs\u001B[0m\u001B[0;34m)\u001B[0m\u001B[0;34m\u001B[0m\u001B[0;34m\u001B[0m\u001B[0m\n\u001B[0m\u001B[1;32m    318\u001B[0m \u001B[0;34m\u001B[0m\u001B[0m\n\u001B[1;32m    319\u001B[0m         \u001B[0;32mreturn\u001B[0m \u001B[0mwrapper\u001B[0m\u001B[0;34m\u001B[0m\u001B[0;34m\u001B[0m\u001B[0m\n",
      "\u001B[0;32m/Library/Frameworks/Python.framework/Versions/3.8/lib/python3.8/site-packages/pandas/core/frame.py\u001B[0m in \u001B[0;36mdrop\u001B[0;34m(self, labels, axis, index, columns, level, inplace, errors)\u001B[0m\n\u001B[1;32m   5389\u001B[0m                 \u001B[0mweight\u001B[0m  \u001B[0;36m1.0\u001B[0m     \u001B[0;36m0.8\u001B[0m\u001B[0;34m\u001B[0m\u001B[0;34m\u001B[0m\u001B[0m\n\u001B[1;32m   5390\u001B[0m         \"\"\"\n\u001B[0;32m-> 5391\u001B[0;31m         return super().drop(\n\u001B[0m\u001B[1;32m   5392\u001B[0m             \u001B[0mlabels\u001B[0m\u001B[0;34m=\u001B[0m\u001B[0mlabels\u001B[0m\u001B[0;34m,\u001B[0m\u001B[0;34m\u001B[0m\u001B[0;34m\u001B[0m\u001B[0m\n\u001B[1;32m   5393\u001B[0m             \u001B[0maxis\u001B[0m\u001B[0;34m=\u001B[0m\u001B[0maxis\u001B[0m\u001B[0;34m,\u001B[0m\u001B[0;34m\u001B[0m\u001B[0;34m\u001B[0m\u001B[0m\n",
      "\u001B[0;32m/Library/Frameworks/Python.framework/Versions/3.8/lib/python3.8/site-packages/pandas/util/_decorators.py\u001B[0m in \u001B[0;36mwrapper\u001B[0;34m(*args, **kwargs)\u001B[0m\n\u001B[1;32m    315\u001B[0m                     \u001B[0mstacklevel\u001B[0m\u001B[0;34m=\u001B[0m\u001B[0mfind_stack_level\u001B[0m\u001B[0;34m(\u001B[0m\u001B[0minspect\u001B[0m\u001B[0;34m.\u001B[0m\u001B[0mcurrentframe\u001B[0m\u001B[0;34m(\u001B[0m\u001B[0;34m)\u001B[0m\u001B[0;34m)\u001B[0m\u001B[0;34m,\u001B[0m\u001B[0;34m\u001B[0m\u001B[0;34m\u001B[0m\u001B[0m\n\u001B[1;32m    316\u001B[0m                 )\n\u001B[0;32m--> 317\u001B[0;31m             \u001B[0;32mreturn\u001B[0m \u001B[0mfunc\u001B[0m\u001B[0;34m(\u001B[0m\u001B[0;34m*\u001B[0m\u001B[0margs\u001B[0m\u001B[0;34m,\u001B[0m \u001B[0;34m**\u001B[0m\u001B[0mkwargs\u001B[0m\u001B[0;34m)\u001B[0m\u001B[0;34m\u001B[0m\u001B[0;34m\u001B[0m\u001B[0m\n\u001B[0m\u001B[1;32m    318\u001B[0m \u001B[0;34m\u001B[0m\u001B[0m\n\u001B[1;32m    319\u001B[0m         \u001B[0;32mreturn\u001B[0m \u001B[0mwrapper\u001B[0m\u001B[0;34m\u001B[0m\u001B[0;34m\u001B[0m\u001B[0m\n",
      "\u001B[0;32m/Library/Frameworks/Python.framework/Versions/3.8/lib/python3.8/site-packages/pandas/core/generic.py\u001B[0m in \u001B[0;36mdrop\u001B[0;34m(self, labels, axis, index, columns, level, inplace, errors)\u001B[0m\n\u001B[1;32m   4508\u001B[0m         \u001B[0;32mfor\u001B[0m \u001B[0maxis\u001B[0m\u001B[0;34m,\u001B[0m \u001B[0mlabels\u001B[0m \u001B[0;32min\u001B[0m \u001B[0maxes\u001B[0m\u001B[0;34m.\u001B[0m\u001B[0mitems\u001B[0m\u001B[0;34m(\u001B[0m\u001B[0;34m)\u001B[0m\u001B[0;34m:\u001B[0m\u001B[0;34m\u001B[0m\u001B[0;34m\u001B[0m\u001B[0m\n\u001B[1;32m   4509\u001B[0m             \u001B[0;32mif\u001B[0m \u001B[0mlabels\u001B[0m \u001B[0;32mis\u001B[0m \u001B[0;32mnot\u001B[0m \u001B[0;32mNone\u001B[0m\u001B[0;34m:\u001B[0m\u001B[0;34m\u001B[0m\u001B[0;34m\u001B[0m\u001B[0m\n\u001B[0;32m-> 4510\u001B[0;31m                 \u001B[0mobj\u001B[0m \u001B[0;34m=\u001B[0m \u001B[0mobj\u001B[0m\u001B[0;34m.\u001B[0m\u001B[0m_drop_axis\u001B[0m\u001B[0;34m(\u001B[0m\u001B[0mlabels\u001B[0m\u001B[0;34m,\u001B[0m \u001B[0maxis\u001B[0m\u001B[0;34m,\u001B[0m \u001B[0mlevel\u001B[0m\u001B[0;34m=\u001B[0m\u001B[0mlevel\u001B[0m\u001B[0;34m,\u001B[0m \u001B[0merrors\u001B[0m\u001B[0;34m=\u001B[0m\u001B[0merrors\u001B[0m\u001B[0;34m)\u001B[0m\u001B[0;34m\u001B[0m\u001B[0;34m\u001B[0m\u001B[0m\n\u001B[0m\u001B[1;32m   4511\u001B[0m \u001B[0;34m\u001B[0m\u001B[0m\n\u001B[1;32m   4512\u001B[0m         \u001B[0;32mif\u001B[0m \u001B[0minplace\u001B[0m\u001B[0;34m:\u001B[0m\u001B[0;34m\u001B[0m\u001B[0;34m\u001B[0m\u001B[0m\n",
      "\u001B[0;32m/Library/Frameworks/Python.framework/Versions/3.8/lib/python3.8/site-packages/pandas/core/generic.py\u001B[0m in \u001B[0;36m_drop_axis\u001B[0;34m(self, labels, axis, level, errors, only_slice)\u001B[0m\n\u001B[1;32m   4549\u001B[0m                 \u001B[0mnew_axis\u001B[0m \u001B[0;34m=\u001B[0m \u001B[0maxis\u001B[0m\u001B[0;34m.\u001B[0m\u001B[0mdrop\u001B[0m\u001B[0;34m(\u001B[0m\u001B[0mlabels\u001B[0m\u001B[0;34m,\u001B[0m \u001B[0mlevel\u001B[0m\u001B[0;34m=\u001B[0m\u001B[0mlevel\u001B[0m\u001B[0;34m,\u001B[0m \u001B[0merrors\u001B[0m\u001B[0;34m=\u001B[0m\u001B[0merrors\u001B[0m\u001B[0;34m)\u001B[0m\u001B[0;34m\u001B[0m\u001B[0;34m\u001B[0m\u001B[0m\n\u001B[1;32m   4550\u001B[0m             \u001B[0;32melse\u001B[0m\u001B[0;34m:\u001B[0m\u001B[0;34m\u001B[0m\u001B[0;34m\u001B[0m\u001B[0m\n\u001B[0;32m-> 4551\u001B[0;31m                 \u001B[0mnew_axis\u001B[0m \u001B[0;34m=\u001B[0m \u001B[0maxis\u001B[0m\u001B[0;34m.\u001B[0m\u001B[0mdrop\u001B[0m\u001B[0;34m(\u001B[0m\u001B[0mlabels\u001B[0m\u001B[0;34m,\u001B[0m \u001B[0merrors\u001B[0m\u001B[0;34m=\u001B[0m\u001B[0merrors\u001B[0m\u001B[0;34m)\u001B[0m\u001B[0;34m\u001B[0m\u001B[0;34m\u001B[0m\u001B[0m\n\u001B[0m\u001B[1;32m   4552\u001B[0m             \u001B[0mindexer\u001B[0m \u001B[0;34m=\u001B[0m \u001B[0maxis\u001B[0m\u001B[0;34m.\u001B[0m\u001B[0mget_indexer\u001B[0m\u001B[0;34m(\u001B[0m\u001B[0mnew_axis\u001B[0m\u001B[0;34m)\u001B[0m\u001B[0;34m\u001B[0m\u001B[0;34m\u001B[0m\u001B[0m\n\u001B[1;32m   4553\u001B[0m \u001B[0;34m\u001B[0m\u001B[0m\n",
      "\u001B[0;32m/Library/Frameworks/Python.framework/Versions/3.8/lib/python3.8/site-packages/pandas/core/indexes/base.py\u001B[0m in \u001B[0;36mdrop\u001B[0;34m(self, labels, errors)\u001B[0m\n\u001B[1;32m   6970\u001B[0m         \u001B[0;32mif\u001B[0m \u001B[0mmask\u001B[0m\u001B[0;34m.\u001B[0m\u001B[0many\u001B[0m\u001B[0;34m(\u001B[0m\u001B[0;34m)\u001B[0m\u001B[0;34m:\u001B[0m\u001B[0;34m\u001B[0m\u001B[0;34m\u001B[0m\u001B[0m\n\u001B[1;32m   6971\u001B[0m             \u001B[0;32mif\u001B[0m \u001B[0merrors\u001B[0m \u001B[0;34m!=\u001B[0m \u001B[0;34m\"ignore\"\u001B[0m\u001B[0;34m:\u001B[0m\u001B[0;34m\u001B[0m\u001B[0;34m\u001B[0m\u001B[0m\n\u001B[0;32m-> 6972\u001B[0;31m                 \u001B[0;32mraise\u001B[0m \u001B[0mKeyError\u001B[0m\u001B[0;34m(\u001B[0m\u001B[0;34mf\"{list(labels[mask])} not found in axis\"\u001B[0m\u001B[0;34m)\u001B[0m\u001B[0;34m\u001B[0m\u001B[0;34m\u001B[0m\u001B[0m\n\u001B[0m\u001B[1;32m   6973\u001B[0m             \u001B[0mindexer\u001B[0m \u001B[0;34m=\u001B[0m \u001B[0mindexer\u001B[0m\u001B[0;34m[\u001B[0m\u001B[0;34m~\u001B[0m\u001B[0mmask\u001B[0m\u001B[0;34m]\u001B[0m\u001B[0;34m\u001B[0m\u001B[0;34m\u001B[0m\u001B[0m\n\u001B[1;32m   6974\u001B[0m         \u001B[0;32mreturn\u001B[0m \u001B[0mself\u001B[0m\u001B[0;34m.\u001B[0m\u001B[0mdelete\u001B[0m\u001B[0;34m(\u001B[0m\u001B[0mindexer\u001B[0m\u001B[0;34m)\u001B[0m\u001B[0;34m\u001B[0m\u001B[0;34m\u001B[0m\u001B[0m\n",
      "\u001B[0;31mKeyError\u001B[0m: \"['diag'] not found in axis\""
     ]
    }
   ],
   "source": [
    "ASD =  df.loc[df.group == 'autism'].drop('diag', axis=1)"
   ],
   "metadata": {
    "collapsed": false,
    "pycharm": {
     "name": "#%%\n"
    }
   }
  },
  {
   "cell_type": "markdown",
   "source": [
    "### Agent state x Ascription Interaction"
   ],
   "metadata": {
    "collapsed": false,
    "pycharm": {
     "name": "#%% md\n"
    }
   }
  },
  {
   "cell_type": "code",
   "execution_count": null,
   "outputs": [],
   "source": [
    "m0a = Lmer('infelicity ~ agent_state*ascription'+rand_fx, data=ASD)\n",
    "m0a.fit(factors=mod_factors, summarize=False)\n",
    "m1a = Lmer('infelicity ~ agent_state + ascription'+rand_fx, data=ASD)\n",
    "m1a.fit(factors=mod_factors, summarize=False)\n",
    "interaction_effct_a = Lmer.anova(m0a, m1a)#.iloc[:]\n",
    "interaction_effct_a.iloc[:]"
   ],
   "metadata": {
    "collapsed": false,
    "pycharm": {
     "name": "#%%\n"
    }
   }
  },
  {
   "cell_type": "markdown",
   "source": [
    "### Main Effect of Agent State"
   ],
   "metadata": {
    "collapsed": false,
    "pycharm": {
     "name": "#%% md\n"
    }
   }
  },
  {
   "cell_type": "code",
   "execution_count": null,
   "outputs": [],
   "source": [
    "m2a = Lmer('infelicity ~ ascription'+rand_fx, data=NT)\n",
    "m2a.fit(factors=mod_factors, summarize=False)\n",
    "agent_state_effect_a= Lmer.anova(m1a,m2a )\n",
    "agent_state_effect_a.iloc[:]"
   ],
   "metadata": {
    "collapsed": false,
    "pycharm": {
     "name": "#%%\n"
    }
   }
  },
  {
   "cell_type": "markdown",
   "source": [
    "### Main Effect of Ascription"
   ],
   "metadata": {
    "collapsed": false,
    "pycharm": {
     "name": "#%% md\n"
    }
   }
  },
  {
   "cell_type": "code",
   "execution_count": null,
   "outputs": [],
   "source": [
    "m3a = Lmer('infelicity ~ agent_state'+rand_fx, data=ASD)\n",
    "m3a.fit(factors=mod_factors, summarize=False)\n",
    "ascription_effect_a = Lmer.anova(m2a, m3a)\n",
    "ascription_effect_a.iloc[:]"
   ],
   "metadata": {
    "collapsed": false,
    "pycharm": {
     "name": "#%%\n"
    }
   }
  },
  {
   "cell_type": "markdown",
   "source": [
    "## Between Groups"
   ],
   "metadata": {
    "collapsed": false,
    "pycharm": {
     "name": "#%% md\n"
    }
   }
  },
  {
   "cell_type": "code",
   "execution_count": null,
   "outputs": [],
   "source": [
    "mod_factors = {'group':df.group.unique().tolist(), 'agent_state':df.agent_state.unique().tolist(),\n",
    "               'ascription': df.ascription.unique().tolist(), 'item':[str(x) for x in range(1,13)]}\n",
    "df = df.drop('diag', axis=1)"
   ],
   "metadata": {
    "collapsed": false,
    "pycharm": {
     "name": "#%%\n"
    }
   }
  },
  {
   "cell_type": "markdown",
   "source": [
    "### 3-way interaction effect of Group x Agent State x Ascription"
   ],
   "metadata": {
    "collapsed": false,
    "pycharm": {
     "name": "#%% md\n"
    }
   }
  },
  {
   "cell_type": "code",
   "execution_count": null,
   "outputs": [],
   "source": [
    "mb0 = Lmer('infelicity ~ group*agent_state*ascription'+rand_fx, data=df)\n",
    "mb0.fit(factors=mod_factors, summarize=False)\n",
    "mb1 = Lmer('infelicity ~ group:agent_state + group:ascription + agent_state:ascription'+rand_fx, data=df)\n",
    "mb1.fit(factors=mod_factors, summarize=False)\n",
    "three_way = Lmer.anova(mb0, mb1)\n",
    "three_way.iloc[:]"
   ],
   "metadata": {
    "collapsed": false,
    "pycharm": {
     "name": "#%%\n"
    }
   }
  },
  {
   "cell_type": "markdown",
   "source": [
    "### Interaction of Agent State x Ascription"
   ],
   "metadata": {
    "collapsed": false,
    "pycharm": {
     "name": "#%% md\n"
    }
   }
  },
  {
   "cell_type": "code",
   "execution_count": null,
   "outputs": [],
   "source": [
    "mb2 = Lmer('infelicity ~ group:agent_state + group:ascription'+rand_fx, data=df)\n",
    "mb2.fit(factors=mod_factors, summarize=False)\n",
    "agentxascrip = Lmer.anova(mb1, mb2)\n",
    "agentxascrip.iloc[:]"
   ],
   "metadata": {
    "collapsed": false,
    "pycharm": {
     "name": "#%%\n"
    }
   }
  },
  {
   "cell_type": "markdown",
   "source": [
    "### Interaction of Group x Ascription"
   ],
   "metadata": {
    "collapsed": false,
    "pycharm": {
     "name": "#%% md\n"
    }
   }
  },
  {
   "cell_type": "code",
   "execution_count": null,
   "outputs": [],
   "source": [
    "mb3 = Lmer('infelicity ~ group:agent_state + agent_state:ascription'+rand_fx, data=df)\n",
    "mb3.fit(factors=mod_factors, summarize=False)\n",
    "groupxascrip = Lmer.anova(mb1, mb3)\n",
    "groupxascrip.iloc[:]"
   ],
   "metadata": {
    "collapsed": false,
    "pycharm": {
     "name": "#%%\n"
    }
   }
  },
  {
   "cell_type": "markdown",
   "source": [
    "### Interaction of Group x Agent State\n"
   ],
   "metadata": {
    "collapsed": false,
    "pycharm": {
     "name": "#%% md\n"
    }
   }
  },
  {
   "cell_type": "code",
   "execution_count": null,
   "outputs": [],
   "source": [
    "mb4 = Lmer('infelicity ~ group:ascription + agent_state:ascription'+rand_fx, data=df)\n",
    "mb4.fit(factors=mod_factors, summarize=False)\n",
    "grpxagent = Lmer.anova(mb1, mb4)\n",
    "grpxagent.iloc[:]"
   ],
   "metadata": {
    "collapsed": false,
    "pycharm": {
     "name": "#%%\n"
    }
   }
  },
  {
   "cell_type": "markdown",
   "source": [
    "### Main Effects (post-hoc main effects for group x agent interaction?)"
   ],
   "metadata": {
    "collapsed": false,
    "pycharm": {
     "name": "#%% md\n"
    }
   }
  },
  {
   "cell_type": "markdown",
   "source": [
    "Neurotypical group"
   ],
   "metadata": {
    "collapsed": false,
    "pycharm": {
     "name": "#%% md\n"
    }
   }
  },
  {
   "cell_type": "code",
   "execution_count": null,
   "outputs": [],
   "source": [
    "mmb0 = Lmer('infelicity ~ agent_state*ascription'+rand_fx, data=df.loc[df.group=='neurotypical'])\n",
    "mmb0.fit(factors=mod_factors,summarize=False)\n",
    "mmb1 = Lmer('infelicity ~ agent_state + ascription'+rand_fx, data=df.loc[df.group=='neurotypical'])\n",
    "mmb1.fit(factors=mod_factors, summarize=False)\n",
    "agentxascrip_nt = Lmer.anova(mmb0, mmb1)\n",
    "agentxascrip_nt.iloc[:]"
   ],
   "metadata": {
    "collapsed": false,
    "pycharm": {
     "name": "#%%\n"
    }
   }
  },
  {
   "cell_type": "markdown",
   "source": [
    "### Main Effect of Agent State in Neurotypicals"
   ],
   "metadata": {
    "collapsed": false,
    "pycharm": {
     "name": "#%% md\n"
    }
   }
  },
  {
   "cell_type": "code",
   "execution_count": null,
   "outputs": [],
   "source": [
    "mmb2 - Lmer('infelicity ~ agent_state'+rand_fx)"
   ],
   "metadata": {
    "collapsed": false,
    "pycharm": {
     "name": "#%%\n"
    }
   }
  },
  {
   "cell_type": "markdown",
   "source": [],
   "metadata": {
    "collapsed": false,
    "pycharm": {
     "name": "#%% md\n"
    }
   }
  },
  {
   "cell_type": "markdown",
   "source": [
    "Autism Group"
   ],
   "metadata": {
    "collapsed": false,
    "pycharm": {
     "name": "#%% md\n"
    }
   }
  },
  {
   "cell_type": "code",
   "execution_count": null,
   "outputs": [],
   "source": [
    "mmb0a = Lmer('infelicity ~ agent_state*ascription'+rand_fx, data=df.loc[df.group=='autism'])\n",
    "mmb0a.fit(factors=mod_factors,summarize=False)\n",
    "mmb1a = Lmer('infelicity ~ agent_state + ascription'+rand_fx, data=df.loc[df.group=='autism'])\n",
    "mmb1a.fit(factors=mod_factors, summarize=False)\n",
    "felmain_fx_a = Lmer.anova(mmb0a, mmb1a)\n",
    "felmain_fx_a.iloc[:]"
   ],
   "metadata": {
    "collapsed": false,
    "pycharm": {
     "name": "#%%\n"
    }
   }
  }
 ],
 "metadata": {
  "kernelspec": {
   "display_name": "Python 3",
   "language": "python",
   "name": "python3"
  },
  "language_info": {
   "codemirror_mode": {
    "name": "ipython",
    "version": 2
   },
   "file_extension": ".py",
   "mimetype": "text/x-python",
   "name": "python",
   "nbconvert_exporter": "python",
   "pygments_lexer": "ipython2",
   "version": "2.7.6"
  }
 },
 "nbformat": 4,
 "nbformat_minor": 0
}